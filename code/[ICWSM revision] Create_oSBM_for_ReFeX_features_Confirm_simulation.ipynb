{
 "cells": [
  {
   "cell_type": "markdown",
   "metadata": {},
   "source": [
    "8/22/2020\n",
    "\n",
    "# Summary\n",
    "All related code/figures for oSBM for ICWSM revision. Code organization assumes working directory is notebook folder location. Note, this notebook pulls ReFeX generated features which happen in another script which we modify to create different recursions."
   ]
  },
  {
   "cell_type": "code",
   "execution_count": 2,
   "metadata": {},
   "outputs": [
    {
     "name": "stdout",
     "output_type": "stream",
     "text": [
      "2.7.15 |Anaconda, Inc.| (default, Oct 23 2018, 13:35:16) \n",
      "[GCC 4.2.1 Compatible Clang 4.0.1 (tags/RELEASE_401/final)]\n"
     ]
    },
    {
     "name": "stderr",
     "output_type": "stream",
     "text": [
      "/Users/kristen/anaconda3/envs/ipykernel_py2/lib/python2.7/site-packages/sklearn/ensemble/weight_boosting.py:29: DeprecationWarning: numpy.core.umath_tests is an internal NumPy module and should not be imported. It will be removed in a future NumPy release.\n",
      "  from numpy.core.umath_tests import inner1d\n"
     ]
    }
   ],
   "source": [
    "import sys\n",
    "print(sys.version)\n",
    "from __future__ import division\n",
    "import os\n",
    "#import igraph\n",
    "import numpy as np\n",
    "import pandas as pd\n",
    "from matplotlib.backends.backend_pdf import PdfPages\n",
    "from scipy.stats.kde import gaussian_kde\n",
    "from matplotlib.ticker import FixedLocator,LinearLocator,MultipleLocator, FormatStrFormatter\n",
    "# relevant python libraries\n",
    "execfile('python_libraries.py')\n",
    "# oSBM code\n",
    "from sklearn.model_selection import RandomizedSearchCV\n",
    "\n",
    "\n",
    "execfile('create_oSBM_class_specific_alternative.py')\n",
    "execfile('LINK_revised.py')\n",
    "execfile('compute_homophily.py')\n"
   ]
  },
  {
   "cell_type": "code",
   "execution_count": null,
   "metadata": {},
   "outputs": [],
   "source": []
  },
  {
   "cell_type": "markdown",
   "metadata": {},
   "source": [
    "### create 4 graph instances: noB-noO, yesB-noO, noB-yesO, yesB-yesO"
   ]
  },
  {
   "cell_type": "markdown",
   "metadata": {},
   "source": [
    "#### 1) Amherst-analog: homophily, equal classes (no ReFeX)"
   ]
  },
  {
   "cell_type": "code",
   "execution_count": 3,
   "metadata": {},
   "outputs": [
    {
     "name": "stdout",
     "output_type": "stream",
     "text": [
      "('p_in: ', 0.046200000000000005)\n",
      "('p_out: ', 0.03779999999999999)\n",
      "\n"
     ]
    }
   ],
   "source": [
    "## note have 500/1500 set-up for comparison as we change homophily\n",
    "( adj_matrix_gender, gender_y) = create_affiliation_model_temp(84,\n",
    "                                          lambda_block_parameter =1.1,\n",
    "                                          dispersion_parameter_vect = np.array([np.array([0, 0]),\n",
    "                                            np.array([0, 0])]),\n",
    "                                          class_size_vect = np.array([1000,1000]))"
   ]
  },
  {
   "cell_type": "code",
   "execution_count": 4,
   "metadata": {},
   "outputs": [],
   "source": [
    "tag = 'Amherst_analog_SBM_by_degree_within_nw'"
   ]
  },
  {
   "cell_type": "code",
   "execution_count": 5,
   "metadata": {},
   "outputs": [],
   "source": [
    "## WITHIN-NETWORK\n",
    "gender_y = np.array(map(np.int,gender_y)) ## need np.int for machine precisions reasons\n",
    "d = {'keys':range(len(gender_y)),\n",
    "    'gender_y':gender_y}\n",
    "y_df = pd.DataFrame(d)\n",
    "Gnx = nx.from_numpy_matrix(adj_matrix_gender,\n",
    "                           create_using=nx.DiGraph())\n",
    "fb100_df_tmp = []\n",
    "for j in nx.generate_edgelist(Gnx, data = False):\n",
    "    fb100_df_tmp.append(map(np.int,j.split(' ')))\n",
    "fb100_df = pd.DataFrame(fb100_df_tmp)\n",
    "fb100_df.columns = ['from','to']\n",
    "fb100_df_undirect = fb100_df.copy()\n",
    "fb100_df_undirect['to'] = fb100_df['from']\n",
    "fb100_df_undirect['from'] = fb100_df['to']\n",
    "fb100_df = fb100_df.append(fb100_df_undirect)\n",
    "fb100_df['weight'] = 1\n",
    "fb100_df.head()\n",
    "fb100_df.drop_duplicates(inplace = True)\n",
    "## save output\n",
    "fb100_df.to_csv('../../data/SBM_ICWSM_revise/train_'+tag+'.csv', header = False, index = False)\n",
    "y_df.to_csv('../../data/SBM_ICWSM_revise/train_'+tag+'_gender.csv', header = True, index = False)\n"
   ]
  },
  {
   "cell_type": "code",
   "execution_count": 6,
   "metadata": {},
   "outputs": [
    {
     "name": "stdout",
     "output_type": "stream",
     "text": [
      "instance: 0\n",
      "('p_in: ', 0.046200000000000005)\n",
      "('p_out: ', 0.03779999999999999)\n",
      "\n",
      "('p_in: ', 0.0504)\n",
      "('p_out: ', 0.0336)\n",
      "\n",
      "('p_in: ', 0.0546)\n",
      "('p_out: ', 0.0294)\n",
      "\n",
      "('p_in: ', 0.0588)\n",
      "('p_out: ', 0.0252)\n",
      "\n",
      "('p_in: ', 0.063)\n",
      "('p_out: ', 0.021)\n",
      "\n",
      "instance: 1\n",
      "('p_in: ', 0.046200000000000005)\n",
      "('p_out: ', 0.03779999999999999)\n",
      "\n",
      "('p_in: ', 0.0504)\n",
      "('p_out: ', 0.0336)\n",
      "\n",
      "('p_in: ', 0.0546)\n",
      "('p_out: ', 0.0294)\n",
      "\n",
      "('p_in: ', 0.0588)\n",
      "('p_out: ', 0.0252)\n",
      "\n",
      "('p_in: ', 0.063)\n",
      "('p_out: ', 0.021)\n",
      "\n",
      "instance: 2\n",
      "('p_in: ', 0.046200000000000005)\n",
      "('p_out: ', 0.03779999999999999)\n",
      "\n",
      "('p_in: ', 0.0504)\n",
      "('p_out: ', 0.0336)\n",
      "\n",
      "('p_in: ', 0.0546)\n",
      "('p_out: ', 0.0294)\n",
      "\n",
      "('p_in: ', 0.0588)\n",
      "('p_out: ', 0.0252)\n",
      "\n",
      "('p_in: ', 0.063)\n",
      "('p_out: ', 0.021)\n",
      "\n",
      "instance: 3\n",
      "('p_in: ', 0.046200000000000005)\n",
      "('p_out: ', 0.03779999999999999)\n",
      "\n",
      "('p_in: ', 0.0504)\n",
      "('p_out: ', 0.0336)\n",
      "\n",
      "('p_in: ', 0.0546)\n",
      "('p_out: ', 0.0294)\n",
      "\n",
      "('p_in: ', 0.0588)\n",
      "('p_out: ', 0.0252)\n",
      "\n",
      "('p_in: ', 0.063)\n",
      "('p_out: ', 0.021)\n",
      "\n",
      "instance: 4\n",
      "('p_in: ', 0.046200000000000005)\n",
      "('p_out: ', 0.03779999999999999)\n",
      "\n",
      "('p_in: ', 0.0504)\n",
      "('p_out: ', 0.0336)\n",
      "\n",
      "('p_in: ', 0.0546)\n",
      "('p_out: ', 0.0294)\n",
      "\n",
      "('p_in: ', 0.0588)\n",
      "('p_out: ', 0.0252)\n",
      "\n",
      "('p_in: ', 0.063)\n",
      "('p_out: ', 0.021)\n",
      "\n",
      "instance: 5\n",
      "('p_in: ', 0.046200000000000005)\n",
      "('p_out: ', 0.03779999999999999)\n",
      "\n",
      "('p_in: ', 0.0504)\n",
      "('p_out: ', 0.0336)\n",
      "\n",
      "('p_in: ', 0.0546)\n",
      "('p_out: ', 0.0294)\n",
      "\n",
      "('p_in: ', 0.0588)\n",
      "('p_out: ', 0.0252)\n",
      "\n",
      "('p_in: ', 0.063)\n",
      "('p_out: ', 0.021)\n",
      "\n",
      "instance: 6\n",
      "('p_in: ', 0.046200000000000005)\n",
      "('p_out: ', 0.03779999999999999)\n",
      "\n",
      "('p_in: ', 0.0504)\n",
      "('p_out: ', 0.0336)\n",
      "\n",
      "('p_in: ', 0.0546)\n",
      "('p_out: ', 0.0294)\n",
      "\n",
      "('p_in: ', 0.0588)\n",
      "('p_out: ', 0.0252)\n",
      "\n",
      "('p_in: ', 0.063)\n",
      "('p_out: ', 0.021)\n",
      "\n",
      "instance: 7\n",
      "('p_in: ', 0.046200000000000005)\n",
      "('p_out: ', 0.03779999999999999)\n",
      "\n",
      "('p_in: ', 0.0504)\n",
      "('p_out: ', 0.0336)\n",
      "\n",
      "('p_in: ', 0.0546)\n",
      "('p_out: ', 0.0294)\n",
      "\n",
      "('p_in: ', 0.0588)\n",
      "('p_out: ', 0.0252)\n",
      "\n",
      "('p_in: ', 0.063)\n",
      "('p_out: ', 0.021)\n",
      "\n",
      "instance: 8\n",
      "('p_in: ', 0.046200000000000005)\n",
      "('p_out: ', 0.03779999999999999)\n",
      "\n",
      "('p_in: ', 0.0504)\n",
      "('p_out: ', 0.0336)\n",
      "\n",
      "('p_in: ', 0.0546)\n",
      "('p_out: ', 0.0294)\n",
      "\n",
      "('p_in: ', 0.0588)\n",
      "('p_out: ', 0.0252)\n",
      "\n",
      "('p_in: ', 0.063)\n",
      "('p_out: ', 0.021)\n",
      "\n",
      "instance: 9\n",
      "('p_in: ', 0.046200000000000005)\n",
      "('p_out: ', 0.03779999999999999)\n",
      "\n",
      "('p_in: ', 0.0504)\n",
      "('p_out: ', 0.0336)\n",
      "\n",
      "('p_in: ', 0.0546)\n",
      "('p_out: ', 0.0294)\n",
      "\n",
      "('p_in: ', 0.0588)\n",
      "('p_out: ', 0.0252)\n",
      "\n",
      "('p_in: ', 0.063)\n",
      "('p_out: ', 0.021)\n",
      "\n"
     ]
    }
   ],
   "source": [
    "## Increasing Homophily/Block Structure\n",
    "## Across-Layer Set-up\n",
    "for iter_num in range(10):\n",
    "    print('instance: '+str(iter_num))\n",
    "    for block in np.array([1.1, 1.2, 1.3, 1.4, 1.5]):\n",
    "        ( adj_matrix_gender, gender_y) = create_affiliation_model_temp(84,\n",
    "                                              lambda_block_parameter =block,\n",
    "                                              dispersion_parameter_vect = np.array([np.array([0, 0]),\n",
    "                                                np.array([0, 0])]),\n",
    "                                        class_size_vect = np.array([1000,1000]))\n",
    "\n",
    "        #print('avg degree',np.mean(np.sum(adj_matrix_gender,1)))\n",
    "        #print('avg degree among Class 1',np.mean(np.sum(adj_matrix_gender[gender_y==1],1)))\n",
    "        #print('max degree among Class 1',np.max(np.array(np.sum(adj_matrix_gender[gender_y==1],1).T[0])[0]))\n",
    "\n",
    "        #print('avg degree among Class 0',np.mean(np.sum(adj_matrix_gender[gender_y==0],1)))\n",
    "        #print('max degree among Class 0',np.max(np.array(np.sum(adj_matrix_gender[gender_y==0],1).T[0])[0]))\n",
    "\n",
    "        #print('homophily', homophily_index_Jackson_alternative(adj_matrix_gender, gender_y))\n",
    "        tag = str(iter_num) + '_Amherst_analog_SBM_across_layer_' + str(block)\n",
    "\n",
    "        gender_y = np.array(map(np.int,gender_y)) ## need np.int for machine precisions reasons\n",
    "        d = {'keys':range(len(gender_y)),\n",
    "            'gender_y':gender_y}\n",
    "        y_df = pd.DataFrame(d)\n",
    "        Gnx = nx.from_numpy_matrix(adj_matrix_gender,\n",
    "                                   create_using=nx.DiGraph())\n",
    "        fb100_df_tmp = []\n",
    "        for j in nx.generate_edgelist(Gnx, data = False):\n",
    "            fb100_df_tmp.append(map(np.int,j.split(' ')))\n",
    "        fb100_df = pd.DataFrame(fb100_df_tmp)\n",
    "        fb100_df.columns = ['from','to']\n",
    "        fb100_df_undirect = fb100_df.copy()\n",
    "        fb100_df_undirect['to'] = fb100_df['from']\n",
    "        fb100_df_undirect['from'] = fb100_df['to']\n",
    "        fb100_df = fb100_df.append(fb100_df_undirect)\n",
    "        fb100_df['weight'] = 1\n",
    "        fb100_df.head()\n",
    "        fb100_df.drop_duplicates(inplace = True)\n",
    "        fb100_df.to_csv('../../data/SBM_ICWSM_revise/'+tag+'.csv', header = False, index = False)\n",
    "        y_df.to_csv('../../data/SBM_ICWSM_revise/'+tag+'_gender.csv', header = True, index = False)\n"
   ]
  },
  {
   "cell_type": "code",
   "execution_count": null,
   "metadata": {},
   "outputs": [],
   "source": []
  },
  {
   "cell_type": "code",
   "execution_count": 7,
   "metadata": {},
   "outputs": [
    {
     "name": "stdout",
     "output_type": "stream",
     "text": [
      "instance: 0\n",
      "('p_in: ', 0.046200000000000005)\n",
      "('p_out: ', 0.03499999999999999)\n",
      "\n",
      "('p_in: ', 0.0504)\n",
      "('p_out: ', 0.028)\n",
      "\n",
      "('p_in: ', 0.0546)\n",
      "('p_out: ', 0.021)\n",
      "\n",
      "('p_in: ', 0.0588)\n",
      "('p_out: ', 0.014)\n",
      "\n",
      "('p_in: ', 0.063)\n",
      "('p_out: ', 0.007)\n",
      "\n",
      "instance: 1\n",
      "('p_in: ', 0.046200000000000005)\n",
      "('p_out: ', 0.03499999999999999)\n",
      "\n",
      "('p_in: ', 0.0504)\n",
      "('p_out: ', 0.028)\n",
      "\n",
      "('p_in: ', 0.0546)\n",
      "('p_out: ', 0.021)\n",
      "\n",
      "('p_in: ', 0.0588)\n",
      "('p_out: ', 0.014)\n",
      "\n",
      "('p_in: ', 0.063)\n",
      "('p_out: ', 0.007)\n",
      "\n",
      "instance: 2\n",
      "('p_in: ', 0.046200000000000005)\n",
      "('p_out: ', 0.03499999999999999)\n",
      "\n",
      "('p_in: ', 0.0504)\n",
      "('p_out: ', 0.028)\n",
      "\n",
      "('p_in: ', 0.0546)\n",
      "('p_out: ', 0.021)\n",
      "\n",
      "('p_in: ', 0.0588)\n",
      "('p_out: ', 0.014)\n",
      "\n",
      "('p_in: ', 0.063)\n",
      "('p_out: ', 0.007)\n",
      "\n",
      "instance: 3\n",
      "('p_in: ', 0.046200000000000005)\n",
      "('p_out: ', 0.03499999999999999)\n",
      "\n",
      "('p_in: ', 0.0504)\n",
      "('p_out: ', 0.028)\n",
      "\n",
      "('p_in: ', 0.0546)\n",
      "('p_out: ', 0.021)\n",
      "\n",
      "('p_in: ', 0.0588)\n",
      "('p_out: ', 0.014)\n",
      "\n",
      "('p_in: ', 0.063)\n",
      "('p_out: ', 0.007)\n",
      "\n",
      "instance: 4\n",
      "('p_in: ', 0.046200000000000005)\n",
      "('p_out: ', 0.03499999999999999)\n",
      "\n",
      "('p_in: ', 0.0504)\n",
      "('p_out: ', 0.028)\n",
      "\n",
      "('p_in: ', 0.0546)\n",
      "('p_out: ', 0.021)\n",
      "\n",
      "('p_in: ', 0.0588)\n",
      "('p_out: ', 0.014)\n",
      "\n",
      "('p_in: ', 0.063)\n",
      "('p_out: ', 0.007)\n",
      "\n",
      "instance: 5\n",
      "('p_in: ', 0.046200000000000005)\n",
      "('p_out: ', 0.03499999999999999)\n",
      "\n",
      "('p_in: ', 0.0504)\n",
      "('p_out: ', 0.028)\n",
      "\n",
      "('p_in: ', 0.0546)\n",
      "('p_out: ', 0.021)\n",
      "\n",
      "('p_in: ', 0.0588)\n",
      "('p_out: ', 0.014)\n",
      "\n",
      "('p_in: ', 0.063)\n",
      "('p_out: ', 0.007)\n",
      "\n",
      "instance: 6\n",
      "('p_in: ', 0.046200000000000005)\n",
      "('p_out: ', 0.03499999999999999)\n",
      "\n",
      "('p_in: ', 0.0504)\n",
      "('p_out: ', 0.028)\n",
      "\n",
      "('p_in: ', 0.0546)\n",
      "('p_out: ', 0.021)\n",
      "\n",
      "('p_in: ', 0.0588)\n",
      "('p_out: ', 0.014)\n",
      "\n",
      "('p_in: ', 0.063)\n",
      "('p_out: ', 0.007)\n",
      "\n",
      "instance: 7\n",
      "('p_in: ', 0.046200000000000005)\n",
      "('p_out: ', 0.03499999999999999)\n",
      "\n",
      "('p_in: ', 0.0504)\n",
      "('p_out: ', 0.028)\n",
      "\n",
      "('p_in: ', 0.0546)\n",
      "('p_out: ', 0.021)\n",
      "\n",
      "('p_in: ', 0.0588)\n",
      "('p_out: ', 0.014)\n",
      "\n",
      "('p_in: ', 0.063)\n",
      "('p_out: ', 0.007)\n",
      "\n",
      "instance: 8\n",
      "('p_in: ', 0.046200000000000005)\n",
      "('p_out: ', 0.03499999999999999)\n",
      "\n",
      "('p_in: ', 0.0504)\n",
      "('p_out: ', 0.028)\n",
      "\n",
      "('p_in: ', 0.0546)\n",
      "('p_out: ', 0.021)\n",
      "\n",
      "('p_in: ', 0.0588)\n",
      "('p_out: ', 0.014)\n",
      "\n",
      "('p_in: ', 0.063)\n",
      "('p_out: ', 0.007)\n",
      "\n",
      "instance: 9\n",
      "('p_in: ', 0.046200000000000005)\n",
      "('p_out: ', 0.03499999999999999)\n",
      "\n",
      "('p_in: ', 0.0504)\n",
      "('p_out: ', 0.028)\n",
      "\n",
      "('p_in: ', 0.0546)\n",
      "('p_out: ', 0.021)\n",
      "\n",
      "('p_in: ', 0.0588)\n",
      "('p_out: ', 0.014)\n",
      "\n",
      "('p_in: ', 0.063)\n",
      "('p_out: ', 0.007)\n",
      "\n"
     ]
    }
   ],
   "source": [
    "## Increasing Homophily/Block Structure\n",
    "## Across-Network Set-up\n",
    "for iter_num in range(10):\n",
    "    print('instance: '+str(iter_num))\n",
    "    for block in np.array([1.1, 1.2, 1.3, 1.4, 1.5]):\n",
    "        ( adj_matrix_gender, gender_y) = create_affiliation_model_temp(84,\n",
    "                                              lambda_block_parameter =block,\n",
    "                                              dispersion_parameter_vect = np.array([np.array([0, 0]),\n",
    "                                                np.array([0, 0])]),\n",
    "                                        class_size_vect = np.array([500,1500]))\n",
    "\n",
    "        #print('avg degree',np.mean(np.sum(adj_matrix_gender,1)))\n",
    "        #print('avg degree among Class 1',np.mean(np.sum(adj_matrix_gender[gender_y==1],1)))\n",
    "        #print('max degree among Class 1',np.max(np.array(np.sum(adj_matrix_gender[gender_y==1],1).T[0])[0]))\n",
    "\n",
    "        #print('avg degree among Class 0',np.mean(np.sum(adj_matrix_gender[gender_y==0],1)))\n",
    "        #print('max degree among Class 0',np.max(np.array(np.sum(adj_matrix_gender[gender_y==0],1).T[0])[0]))\n",
    "\n",
    "        #print('homophily', homophily_index_Jackson_alternative(adj_matrix_gender, gender_y))\n",
    "        tag = str(iter_num) + '_Amherst_analog_SBM_across_network_' + str(block)\n",
    "\n",
    "        gender_y = np.array(map(np.int,gender_y)) ## need np.int for machine precisions reasons\n",
    "        d = {'keys':range(len(gender_y)),\n",
    "            'gender_y':gender_y}\n",
    "        y_df = pd.DataFrame(d)\n",
    "        Gnx = nx.from_numpy_matrix(adj_matrix_gender,\n",
    "                                   create_using=nx.DiGraph())\n",
    "        fb100_df_tmp = []\n",
    "        for j in nx.generate_edgelist(Gnx, data = False):\n",
    "            fb100_df_tmp.append(map(np.int,j.split(' ')))\n",
    "        fb100_df = pd.DataFrame(fb100_df_tmp)\n",
    "        fb100_df.columns = ['from','to']\n",
    "        fb100_df_undirect = fb100_df.copy()\n",
    "        fb100_df_undirect['to'] = fb100_df['from']\n",
    "        fb100_df_undirect['from'] = fb100_df['to']\n",
    "        fb100_df = fb100_df.append(fb100_df_undirect)\n",
    "        fb100_df['weight'] = 1\n",
    "        fb100_df.head()\n",
    "        fb100_df.drop_duplicates(inplace = True)\n",
    "        fb100_df.to_csv('../../data/SBM_ICWSM_revise/'+tag+'.csv', header = False, index = False)\n",
    "        y_df.to_csv('../../data/SBM_ICWSM_revise/'+tag+'_gender.csv', header = True, index = False)\n"
   ]
  },
  {
   "cell_type": "code",
   "execution_count": null,
   "metadata": {},
   "outputs": [],
   "source": []
  },
  {
   "cell_type": "code",
   "execution_count": null,
   "metadata": {},
   "outputs": [],
   "source": []
  },
  {
   "cell_type": "markdown",
   "metadata": {},
   "source": [
    "#### 2) Sloan-analog: slight homophily, un-equal classes (ReFeX)"
   ]
  },
  {
   "cell_type": "code",
   "execution_count": 8,
   "metadata": {},
   "outputs": [
    {
     "name": "stdout",
     "output_type": "stream",
     "text": [
      "('p_in: ', 0.046200000000000005)\n",
      "('p_out: ', 0.03499999999999999)\n",
      "\n"
     ]
    }
   ],
   "source": [
    "(adj_matrix_gender, gender_y) = create_affiliation_model_temp(84,\n",
    "                                          lambda_block_parameter =1.1,\n",
    "                                          dispersion_parameter_vect = np.array([np.array([0, 0]),\n",
    "                                            np.array([0, 0])]),\n",
    "                                          class_size_vect = np.array([500,1500]))\n",
    "\n",
    "\n",
    "tag = 'Sloan_analog_SBM_by_degree_within_nw'\n",
    "\n",
    "## WITHIN-NETWORK\n",
    "gender_y = np.array(map(np.int,gender_y)) ## need np.int for machine precisions reasons\n",
    "d = {'keys':range(len(gender_y)),\n",
    "    'gender_y':gender_y}\n",
    "y_df = pd.DataFrame(d)\n",
    "Gnx = nx.from_numpy_matrix(adj_matrix_gender,\n",
    "                           create_using=nx.DiGraph())\n",
    "fb100_df_tmp = []\n",
    "for j in nx.generate_edgelist(Gnx, data = False):\n",
    "    fb100_df_tmp.append(map(np.int,j.split(' ')))\n",
    "fb100_df = pd.DataFrame(fb100_df_tmp)\n",
    "fb100_df.columns = ['from','to']\n",
    "fb100_df_undirect = fb100_df.copy()\n",
    "fb100_df_undirect['to'] = fb100_df['from']\n",
    "fb100_df_undirect['from'] = fb100_df['to']\n",
    "fb100_df = fb100_df.append(fb100_df_undirect)\n",
    "fb100_df['weight'] = 1\n",
    "fb100_df.head()\n",
    "fb100_df.drop_duplicates(inplace = True)\n",
    "## save output\n",
    "fb100_df.to_csv('../../data/SBM_ICWSM_revise/train_'+tag+'.csv', header = False, index = False)\n",
    "y_df.to_csv('../../data/SBM_ICWSM_revise/train_'+tag+'_gender.csv', header = True, index = False)\n"
   ]
  },
  {
   "cell_type": "code",
   "execution_count": null,
   "metadata": {},
   "outputs": [],
   "source": []
  },
  {
   "cell_type": "code",
   "execution_count": 9,
   "metadata": {},
   "outputs": [
    {
     "name": "stdout",
     "output_type": "stream",
     "text": [
      "instance: 0\n",
      "('p_in: ', 0.046200000000000005)\n",
      "('p_out: ', 0.03499999999999999)\n",
      "\n",
      "('p_in: ', 0.0504)\n",
      "('p_out: ', 0.028)\n",
      "\n",
      "('p_in: ', 0.0546)\n",
      "('p_out: ', 0.021)\n",
      "\n",
      "('p_in: ', 0.0588)\n",
      "('p_out: ', 0.014)\n",
      "\n",
      "('p_in: ', 0.063)\n",
      "('p_out: ', 0.007)\n",
      "\n",
      "instance: 1\n",
      "('p_in: ', 0.046200000000000005)\n",
      "('p_out: ', 0.03499999999999999)\n",
      "\n",
      "('p_in: ', 0.0504)\n",
      "('p_out: ', 0.028)\n",
      "\n",
      "('p_in: ', 0.0546)\n",
      "('p_out: ', 0.021)\n",
      "\n",
      "('p_in: ', 0.0588)\n",
      "('p_out: ', 0.014)\n",
      "\n",
      "('p_in: ', 0.063)\n",
      "('p_out: ', 0.007)\n",
      "\n",
      "instance: 2\n",
      "('p_in: ', 0.046200000000000005)\n",
      "('p_out: ', 0.03499999999999999)\n",
      "\n",
      "('p_in: ', 0.0504)\n",
      "('p_out: ', 0.028)\n",
      "\n",
      "('p_in: ', 0.0546)\n",
      "('p_out: ', 0.021)\n",
      "\n",
      "('p_in: ', 0.0588)\n",
      "('p_out: ', 0.014)\n",
      "\n",
      "('p_in: ', 0.063)\n",
      "('p_out: ', 0.007)\n",
      "\n",
      "instance: 3\n",
      "('p_in: ', 0.046200000000000005)\n",
      "('p_out: ', 0.03499999999999999)\n",
      "\n",
      "('p_in: ', 0.0504)\n",
      "('p_out: ', 0.028)\n",
      "\n",
      "('p_in: ', 0.0546)\n",
      "('p_out: ', 0.021)\n",
      "\n",
      "('p_in: ', 0.0588)\n",
      "('p_out: ', 0.014)\n",
      "\n",
      "('p_in: ', 0.063)\n",
      "('p_out: ', 0.007)\n",
      "\n",
      "instance: 4\n",
      "('p_in: ', 0.046200000000000005)\n",
      "('p_out: ', 0.03499999999999999)\n",
      "\n",
      "('p_in: ', 0.0504)\n",
      "('p_out: ', 0.028)\n",
      "\n",
      "('p_in: ', 0.0546)\n",
      "('p_out: ', 0.021)\n",
      "\n",
      "('p_in: ', 0.0588)\n",
      "('p_out: ', 0.014)\n",
      "\n",
      "('p_in: ', 0.063)\n",
      "('p_out: ', 0.007)\n",
      "\n",
      "instance: 5\n",
      "('p_in: ', 0.046200000000000005)\n",
      "('p_out: ', 0.03499999999999999)\n",
      "\n",
      "('p_in: ', 0.0504)\n",
      "('p_out: ', 0.028)\n",
      "\n",
      "('p_in: ', 0.0546)\n",
      "('p_out: ', 0.021)\n",
      "\n",
      "('p_in: ', 0.0588)\n",
      "('p_out: ', 0.014)\n",
      "\n",
      "('p_in: ', 0.063)\n",
      "('p_out: ', 0.007)\n",
      "\n",
      "instance: 6\n",
      "('p_in: ', 0.046200000000000005)\n",
      "('p_out: ', 0.03499999999999999)\n",
      "\n",
      "('p_in: ', 0.0504)\n",
      "('p_out: ', 0.028)\n",
      "\n",
      "('p_in: ', 0.0546)\n",
      "('p_out: ', 0.021)\n",
      "\n",
      "('p_in: ', 0.0588)\n",
      "('p_out: ', 0.014)\n",
      "\n",
      "('p_in: ', 0.063)\n",
      "('p_out: ', 0.007)\n",
      "\n",
      "instance: 7\n",
      "('p_in: ', 0.046200000000000005)\n",
      "('p_out: ', 0.03499999999999999)\n",
      "\n",
      "('p_in: ', 0.0504)\n",
      "('p_out: ', 0.028)\n",
      "\n",
      "('p_in: ', 0.0546)\n",
      "('p_out: ', 0.021)\n",
      "\n",
      "('p_in: ', 0.0588)\n",
      "('p_out: ', 0.014)\n",
      "\n",
      "('p_in: ', 0.063)\n",
      "('p_out: ', 0.007)\n",
      "\n",
      "instance: 8\n",
      "('p_in: ', 0.046200000000000005)\n",
      "('p_out: ', 0.03499999999999999)\n",
      "\n",
      "('p_in: ', 0.0504)\n",
      "('p_out: ', 0.028)\n",
      "\n",
      "('p_in: ', 0.0546)\n",
      "('p_out: ', 0.021)\n",
      "\n",
      "('p_in: ', 0.0588)\n",
      "('p_out: ', 0.014)\n",
      "\n",
      "('p_in: ', 0.063)\n",
      "('p_out: ', 0.007)\n",
      "\n",
      "instance: 9\n",
      "('p_in: ', 0.046200000000000005)\n",
      "('p_out: ', 0.03499999999999999)\n",
      "\n",
      "('p_in: ', 0.0504)\n",
      "('p_out: ', 0.028)\n",
      "\n",
      "('p_in: ', 0.0546)\n",
      "('p_out: ', 0.021)\n",
      "\n",
      "('p_in: ', 0.0588)\n",
      "('p_out: ', 0.014)\n",
      "\n",
      "('p_in: ', 0.063)\n",
      "('p_out: ', 0.007)\n",
      "\n"
     ]
    }
   ],
   "source": [
    "## Increasing Homophily/Block Structure\n",
    "## Across-Layer Set-up\n",
    "for iter_num in range(10):\n",
    "    print('instance: '+str(iter_num))\n",
    "    for block in np.array([1.1, 1.2, 1.3, 1.4, 1.5]):\n",
    "        ( adj_matrix_gender, gender_y) = create_affiliation_model_temp(84,\n",
    "                                              lambda_block_parameter =block,\n",
    "                                              dispersion_parameter_vect = np.array([np.array([0, 0]),\n",
    "                                                np.array([0, 0])]),\n",
    "                                        class_size_vect = np.array([500,1500]))\n",
    "\n",
    "        tag = str(iter_num) + '_Sloan_analog_SBM_across_layer_' + str(block)\n",
    "\n",
    "        gender_y = np.array(map(np.int,gender_y)) ## need np.int for machine precisions reasons\n",
    "        d = {'keys':range(len(gender_y)),\n",
    "            'gender_y':gender_y}\n",
    "        y_df = pd.DataFrame(d)\n",
    "        Gnx = nx.from_numpy_matrix(adj_matrix_gender,\n",
    "                                   create_using=nx.DiGraph())\n",
    "        fb100_df_tmp = []\n",
    "        for j in nx.generate_edgelist(Gnx, data = False):\n",
    "            fb100_df_tmp.append(map(np.int,j.split(' ')))\n",
    "        fb100_df = pd.DataFrame(fb100_df_tmp)\n",
    "        fb100_df.columns = ['from','to']\n",
    "        fb100_df_undirect = fb100_df.copy()\n",
    "        fb100_df_undirect['to'] = fb100_df['from']\n",
    "        fb100_df_undirect['from'] = fb100_df['to']\n",
    "        fb100_df = fb100_df.append(fb100_df_undirect)\n",
    "        fb100_df['weight'] = 1\n",
    "        fb100_df.head()\n",
    "        fb100_df.drop_duplicates(inplace = True)\n",
    "        fb100_df.to_csv('../../data/SBM_ICWSM_revise/'+tag+'.csv', header = False, index = False)\n",
    "        y_df.to_csv('../../data/SBM_ICWSM_revise/'+tag+'_gender.csv', header = True, index = False)\n"
   ]
  },
  {
   "cell_type": "code",
   "execution_count": 10,
   "metadata": {},
   "outputs": [
    {
     "name": "stdout",
     "output_type": "stream",
     "text": [
      "instance: 0\n",
      "('p_in: ', 0.046200000000000005)\n",
      "('p_out: ', 0.03745)\n",
      "\n",
      "83.7335\n",
      "84.92583333333333\n",
      "81.945\n",
      "('p_in: ', 0.0504)\n",
      "('p_out: ', 0.0329)\n",
      "\n",
      "84.436\n",
      "87.085\n",
      "80.4625\n",
      "('p_in: ', 0.0546)\n",
      "('p_out: ', 0.02835)\n",
      "\n",
      "83.788\n",
      "88.46833333333333\n",
      "76.7675\n",
      "('p_in: ', 0.0588)\n",
      "('p_out: ', 0.0238)\n",
      "\n",
      "84.222\n",
      "89.74583333333334\n",
      "75.93625\n",
      "('p_in: ', 0.063)\n",
      "('p_out: ', 0.01925)\n",
      "\n",
      "83.6685\n",
      "90.75916666666667\n",
      "73.0325\n",
      "instance: 1\n",
      "('p_in: ', 0.046200000000000005)\n",
      "('p_out: ', 0.03745)\n",
      "\n",
      "83.981\n",
      "85.42916666666666\n",
      "81.80875\n",
      "('p_in: ', 0.0504)\n",
      "('p_out: ', 0.0329)\n",
      "\n",
      "83.5965\n",
      "86.2925\n",
      "79.5525\n",
      "('p_in: ', 0.0546)\n",
      "('p_out: ', 0.02835)\n",
      "\n",
      "84.0155\n",
      "88.29583333333333\n",
      "77.595\n",
      "('p_in: ', 0.0588)\n",
      "('p_out: ', 0.0238)\n",
      "\n",
      "83.449\n",
      "89.165\n",
      "74.875\n",
      "('p_in: ', 0.063)\n",
      "('p_out: ', 0.01925)\n",
      "\n",
      "83.276\n",
      "89.97833333333334\n",
      "73.2225\n",
      "instance: 2\n",
      "('p_in: ', 0.046200000000000005)\n",
      "('p_out: ', 0.03745)\n",
      "\n",
      "83.8905\n",
      "85.24333333333334\n",
      "81.86125\n",
      "('p_in: ', 0.0504)\n",
      "('p_out: ', 0.0329)\n",
      "\n",
      "84.16\n",
      "86.58416666666666\n",
      "80.52375\n",
      "('p_in: ', 0.0546)\n",
      "('p_out: ', 0.02835)\n",
      "\n",
      "83.509\n",
      "87.51166666666667\n",
      "77.505\n",
      "('p_in: ', 0.0588)\n",
      "('p_out: ', 0.0238)\n",
      "\n",
      "84.0365\n",
      "89.6725\n",
      "75.5825\n",
      "('p_in: ', 0.063)\n",
      "('p_out: ', 0.01925)\n",
      "\n",
      "83.8125\n",
      "91.145\n",
      "72.81375\n",
      "instance: 3\n",
      "('p_in: ', 0.046200000000000005)\n",
      "('p_out: ', 0.03745)\n",
      "\n",
      "84.2565\n",
      "85.56416666666667\n",
      "82.295\n",
      "('p_in: ', 0.0504)\n",
      "('p_out: ', 0.0329)\n",
      "\n",
      "84.351\n",
      "87.38166666666666\n",
      "79.805\n",
      "('p_in: ', 0.0546)\n",
      "('p_out: ', 0.02835)\n",
      "\n",
      "84.1955\n",
      "88.27833333333334\n",
      "78.07125\n",
      "('p_in: ', 0.0588)\n",
      "('p_out: ', 0.0238)\n",
      "\n",
      "83.7905\n",
      "89.45166666666667\n",
      "75.29875\n",
      "('p_in: ', 0.063)\n",
      "('p_out: ', 0.01925)\n",
      "\n",
      "83.722\n",
      "90.415\n",
      "73.6825\n",
      "instance: 4\n",
      "('p_in: ', 0.046200000000000005)\n",
      "('p_out: ', 0.03745)\n",
      "\n",
      "84.074\n",
      "85.70666666666666\n",
      "81.625\n",
      "('p_in: ', 0.0504)\n",
      "('p_out: ', 0.0329)\n",
      "\n",
      "84.187\n",
      "86.97916666666667\n",
      "79.99875\n",
      "('p_in: ', 0.0546)\n",
      "('p_out: ', 0.02835)\n",
      "\n",
      "83.542\n",
      "87.895\n",
      "77.0125\n",
      "('p_in: ', 0.0588)\n",
      "('p_out: ', 0.0238)\n",
      "\n",
      "83.807\n",
      "89.35\n",
      "75.4925\n",
      "('p_in: ', 0.063)\n",
      "('p_out: ', 0.01925)\n",
      "\n",
      "83.943\n",
      "90.94416666666666\n",
      "73.44125\n",
      "instance: 5\n",
      "('p_in: ', 0.046200000000000005)\n",
      "('p_out: ', 0.03745)\n",
      "\n",
      "83.9805\n",
      "85.23416666666667\n",
      "82.1\n",
      "('p_in: ', 0.0504)\n",
      "('p_out: ', 0.0329)\n",
      "\n",
      "83.84\n",
      "86.77916666666667\n",
      "79.43125\n",
      "('p_in: ', 0.0546)\n",
      "('p_out: ', 0.02835)\n",
      "\n",
      "84.441\n",
      "88.63\n",
      "78.1575\n",
      "('p_in: ', 0.0588)\n",
      "('p_out: ', 0.0238)\n",
      "\n",
      "83.5\n",
      "88.99\n",
      "75.265\n",
      "('p_in: ', 0.063)\n",
      "('p_out: ', 0.01925)\n",
      "\n",
      "83.6575\n",
      "90.76\n",
      "73.00375\n",
      "instance: 6\n",
      "('p_in: ', 0.046200000000000005)\n",
      "('p_out: ', 0.03745)\n",
      "\n",
      "83.591\n",
      "84.87416666666667\n",
      "81.66625\n",
      "('p_in: ', 0.0504)\n",
      "('p_out: ', 0.0329)\n",
      "\n",
      "83.553\n",
      "86.3425\n",
      "79.36875\n",
      "('p_in: ', 0.0546)\n",
      "('p_out: ', 0.02835)\n",
      "\n",
      "84.1575\n",
      "88.25416666666666\n",
      "78.0125\n",
      "('p_in: ', 0.0588)\n",
      "('p_out: ', 0.0238)\n",
      "\n",
      "84.0065\n",
      "89.89416666666666\n",
      "75.175\n",
      "('p_in: ', 0.063)\n",
      "('p_out: ', 0.01925)\n",
      "\n",
      "83.961\n",
      "91.08583333333333\n",
      "73.27375\n",
      "instance: 7\n",
      "('p_in: ', 0.046200000000000005)\n",
      "('p_out: ', 0.03745)\n",
      "\n",
      "84.0595\n",
      "85.25166666666667\n",
      "82.27125\n",
      "('p_in: ', 0.0504)\n",
      "('p_out: ', 0.0329)\n",
      "\n",
      "83.836\n",
      "86.81\n",
      "79.375\n",
      "('p_in: ', 0.0546)\n",
      "('p_out: ', 0.02835)\n",
      "\n",
      "84.3265\n",
      "88.76083333333334\n",
      "77.675\n",
      "('p_in: ', 0.0588)\n",
      "('p_out: ', 0.0238)\n",
      "\n",
      "83.581\n",
      "89.26666666666667\n",
      "75.0525\n",
      "('p_in: ', 0.063)\n",
      "('p_out: ', 0.01925)\n",
      "\n",
      "84.0815\n",
      "90.8575\n",
      "73.9175\n",
      "instance: 8\n",
      "('p_in: ', 0.046200000000000005)\n",
      "('p_out: ', 0.03745)\n",
      "\n",
      "84.395\n",
      "85.8975\n",
      "82.14125\n",
      "('p_in: ', 0.0504)\n",
      "('p_out: ', 0.0329)\n",
      "\n",
      "84.514\n",
      "87.05166666666666\n",
      "80.7075\n",
      "('p_in: ', 0.0546)\n",
      "('p_out: ', 0.02835)\n",
      "\n",
      "83.848\n",
      "88.09583333333333\n",
      "77.47625\n",
      "('p_in: ', 0.0588)\n",
      "('p_out: ', 0.0238)\n",
      "\n",
      "84.416\n",
      "90.1325\n",
      "75.84125\n",
      "('p_in: ', 0.063)\n",
      "('p_out: ', 0.01925)\n",
      "\n",
      "84.0145\n",
      "90.77333333333333\n",
      "73.87625\n",
      "instance: 9\n",
      "('p_in: ', 0.046200000000000005)\n",
      "('p_out: ', 0.03745)\n",
      "\n",
      "84.138\n",
      "85.58083333333333\n",
      "81.97375\n",
      "('p_in: ', 0.0504)\n",
      "('p_out: ', 0.0329)\n",
      "\n",
      "83.6535\n",
      "86.51333333333334\n",
      "79.36375\n",
      "('p_in: ', 0.0546)\n",
      "('p_out: ', 0.02835)\n",
      "\n",
      "83.914\n",
      "87.90666666666667\n",
      "77.925\n",
      "('p_in: ', 0.0588)\n",
      "('p_out: ', 0.0238)\n",
      "\n",
      "84.2045\n",
      "89.85583333333334\n",
      "75.7275\n",
      "('p_in: ', 0.063)\n",
      "('p_out: ', 0.01925)\n",
      "\n",
      "84.098\n",
      "91.3275\n",
      "73.25375\n"
     ]
    }
   ],
   "source": [
    "## Increasing Homophily/Block Structure\n",
    "## Across-Network Set-up\n",
    "for iter_num in range(10):\n",
    "    print('instance: '+str(iter_num))\n",
    "    for block in np.array([1.1, 1.2, 1.3, 1.4, 1.5]):\n",
    "        ( adj_matrix_gender, gender_y) = create_affiliation_model_temp(84,\n",
    "                                              lambda_block_parameter =block,\n",
    "                                              dispersion_parameter_vect = np.array([np.array([0, 0]),\n",
    "                                                np.array([0, 0])]),\n",
    "                                        class_size_vect = np.array([800,1200]))\n",
    "\n",
    "        tag = str(iter_num) + '_Sloan_analog_SBM_across_network_' + str(block)\n",
    "        \n",
    "        gender_y = np.array(map(np.int,gender_y)) ## need np.int for machine precisions reasons\n",
    "        print(np.mean(np.sum(adj_matrix_gender,1)))\n",
    "        print(np.mean(np.sum(adj_matrix_gender,1)[gender_y==1]))\n",
    "        print(np.mean(np.sum(adj_matrix_gender,1)[gender_y==0]))\n",
    "\n",
    "        d = {'keys':range(len(gender_y)),\n",
    "            'gender_y':gender_y}\n",
    "        y_df = pd.DataFrame(d)\n",
    "        Gnx = nx.from_numpy_matrix(adj_matrix_gender,\n",
    "                                   create_using=nx.DiGraph())\n",
    "        fb100_df_tmp = []\n",
    "        for j in nx.generate_edgelist(Gnx, data = False):\n",
    "            fb100_df_tmp.append(map(np.int,j.split(' ')))\n",
    "        fb100_df = pd.DataFrame(fb100_df_tmp)\n",
    "        fb100_df.columns = ['from','to']\n",
    "        fb100_df_undirect = fb100_df.copy()\n",
    "        fb100_df_undirect['to'] = fb100_df['from']\n",
    "        fb100_df_undirect['from'] = fb100_df['to']\n",
    "        fb100_df = fb100_df.append(fb100_df_undirect)\n",
    "        fb100_df['weight'] = 1\n",
    "        fb100_df.head()\n",
    "        fb100_df.drop_duplicates(inplace = True)\n",
    "        fb100_df.to_csv('../../data/SBM_ICWSM_revise/'+tag+'.csv', header = False, index = False)\n",
    "        y_df.to_csv('../../data/SBM_ICWSM_revise/'+tag+'_gender.csv', header = True, index = False)\n"
   ]
  },
  {
   "cell_type": "code",
   "execution_count": null,
   "metadata": {},
   "outputs": [],
   "source": []
  },
  {
   "cell_type": "code",
   "execution_count": null,
   "metadata": {},
   "outputs": [],
   "source": []
  },
  {
   "cell_type": "code",
   "execution_count": null,
   "metadata": {},
   "outputs": [],
   "source": []
  },
  {
   "cell_type": "code",
   "execution_count": null,
   "metadata": {},
   "outputs": [],
   "source": []
  },
  {
   "cell_type": "code",
   "execution_count": 44,
   "metadata": {},
   "outputs": [],
   "source": [
    "import glob\n",
    "tmp = glob.glob(\"../../data/SBM_ICWSM_revise/*.csv\")"
   ]
  },
  {
   "cell_type": "code",
   "execution_count": 47,
   "metadata": {},
   "outputs": [
    {
     "name": "stdout",
     "output_type": "stream",
     "text": [
      "'0_Sloan_analog_SBM_across_network_1.2.csv'\n",
      "'3_Sloan_analog_SBM_across_network_1.4.csv'\n",
      "'3_Sloan_analog_SBM_across_network_1.5.csv'\n",
      "'1_Sloan_analog_SBM_across_network_1.1.csv'\n",
      "'0_Sloan_analog_SBM_across_network_1.3.csv'\n",
      "'0_Sloan_analog_SBM_across_network_1.1.csv'\n",
      "'1_Sloan_analog_SBM_across_network_1.3.csv'\n",
      "'2_Sloan_analog_SBM_across_network_1.5.csv'\n",
      "'2_Sloan_analog_SBM_across_network_1.4.csv'\n",
      "'1_Sloan_analog_SBM_across_network_1.2.csv'\n",
      "'0_Sloan_analog_SBM_across_network_1.4.csv'\n",
      "'3_Sloan_analog_SBM_across_network_1.2.csv'\n",
      "'3_Sloan_analog_SBM_across_network_1.3.csv'\n",
      "'2_Sloan_analog_SBM_across_network_1.1.csv'\n",
      "'0_Sloan_analog_SBM_across_network_1.5.csv'\n",
      "'1_Sloan_analog_SBM_across_network_1.5.csv'\n",
      "'2_Sloan_analog_SBM_across_network_1.3.csv'\n",
      "'3_Sloan_analog_SBM_across_network_1.1.csv'\n",
      "'2_Sloan_analog_SBM_across_network_1.2.csv'\n",
      "'1_Sloan_analog_SBM_across_network_1.4.csv'\n",
      "'5_Sloan_analog_SBM_across_network_1.4.csv'\n",
      "'6_Sloan_analog_SBM_across_network_1.2.csv'\n",
      "'8_Sloan_analog_SBM_across_network_1.2.csv'\n",
      "'8_Sloan_analog_SBM_across_network_1.3.csv'\n",
      "'7_Sloan_analog_SBM_across_network_1.1.csv'\n",
      "'9_Sloan_analog_SBM_across_network_1.1.csv'\n",
      "'6_Sloan_analog_SBM_across_network_1.3.csv'\n",
      "'5_Sloan_analog_SBM_across_network_1.5.csv'\n",
      "'4_Sloan_analog_SBM_across_network_1.5.csv'\n",
      "'6_Sloan_analog_SBM_across_network_1.1.csv'\n",
      "'9_Sloan_analog_SBM_across_network_1.3.csv'\n",
      "'7_Sloan_analog_SBM_across_network_1.3.csv'\n",
      "'8_Sloan_analog_SBM_across_network_1.1.csv'\n",
      "'7_Sloan_analog_SBM_across_network_1.2.csv'\n",
      "'9_Sloan_analog_SBM_across_network_1.2.csv'\n",
      "'4_Sloan_analog_SBM_across_network_1.4.csv'\n",
      "'5_Sloan_analog_SBM_across_network_1.2.csv'\n",
      "'6_Sloan_analog_SBM_across_network_1.4.csv'\n",
      "'8_Sloan_analog_SBM_across_network_1.4.csv'\n",
      "'8_Sloan_analog_SBM_across_network_1.5.csv'\n",
      "'6_Sloan_analog_SBM_across_network_1.5.csv'\n",
      "'5_Sloan_analog_SBM_across_network_1.3.csv'\n",
      "'4_Sloan_analog_SBM_across_network_1.1.csv'\n",
      "'4_Sloan_analog_SBM_across_network_1.3.csv'\n",
      "'5_Sloan_analog_SBM_across_network_1.1.csv'\n",
      "'9_Sloan_analog_SBM_across_network_1.5.csv'\n",
      "'7_Sloan_analog_SBM_across_network_1.5.csv'\n",
      "'7_Sloan_analog_SBM_across_network_1.4.csv'\n",
      "'9_Sloan_analog_SBM_across_network_1.4.csv'\n",
      "'4_Sloan_analog_SBM_across_network_1.2.csv'\n"
     ]
    }
   ],
   "source": [
    "col = []\n",
    "for j in np.array(tmp):\n",
    "    if 'gender' not in j:\n",
    "        if 'across_network' in j:\n",
    "            if 'Sloan' in j:\n",
    "                j = re.sub('../../data/SBM_ICWSM_revise/', '', j)\n",
    "                print(\"'\"+j+\"'\")\n",
    "                col.append(j) "
   ]
  },
  {
   "cell_type": "code",
   "execution_count": 46,
   "metadata": {},
   "outputs": [
    {
     "data": {
      "text/plain": [
       "['0_Sloan_analog_SBM_across_network_1.2.csv',\n",
       " '3_Amherst_analog_SBM_across_network_1.2.csv',\n",
       " '3_Sloan_analog_SBM_across_network_1.4.csv',\n",
       " '4_Amherst_analog_SBM_across_network_1.5.csv',\n",
       " '2_Amherst_analog_SBM_across_network_1.1.csv',\n",
       " '4_Amherst_analog_SBM_across_network_1.4.csv',\n",
       " '3_Sloan_analog_SBM_across_network_1.5.csv',\n",
       " '1_Sloan_analog_SBM_across_network_1.1.csv',\n",
       " '3_Amherst_analog_SBM_across_network_1.3.csv',\n",
       " '0_Sloan_analog_SBM_across_network_1.3.csv',\n",
       " '0_Sloan_analog_SBM_across_network_1.1.csv',\n",
       " '3_Amherst_analog_SBM_across_network_1.1.csv',\n",
       " '1_Sloan_analog_SBM_across_network_1.3.csv',\n",
       " '2_Sloan_analog_SBM_across_network_1.5.csv',\n",
       " '5_Amherst_analog_SBM_across_network_1.4.csv',\n",
       " '2_Amherst_analog_SBM_across_network_1.3.csv',\n",
       " '2_Amherst_analog_SBM_across_network_1.2.csv',\n",
       " '5_Amherst_analog_SBM_across_network_1.5.csv',\n",
       " '2_Sloan_analog_SBM_across_network_1.4.csv',\n",
       " '1_Sloan_analog_SBM_across_network_1.2.csv',\n",
       " '0_Sloan_analog_SBM_across_network_1.4.csv',\n",
       " '3_Amherst_analog_SBM_across_network_1.4.csv',\n",
       " '5_Amherst_analog_SBM_across_network_1.1.csv',\n",
       " '3_Sloan_analog_SBM_across_network_1.2.csv',\n",
       " '4_Amherst_analog_SBM_across_network_1.3.csv',\n",
       " '4_Amherst_analog_SBM_across_network_1.2.csv',\n",
       " '3_Sloan_analog_SBM_across_network_1.3.csv',\n",
       " '2_Sloan_analog_SBM_across_network_1.1.csv',\n",
       " '3_Amherst_analog_SBM_across_network_1.5.csv',\n",
       " '0_Sloan_analog_SBM_across_network_1.5.csv',\n",
       " '1_Sloan_analog_SBM_across_network_1.5.csv',\n",
       " '5_Amherst_analog_SBM_across_network_1.2.csv',\n",
       " '2_Sloan_analog_SBM_across_network_1.3.csv',\n",
       " '3_Sloan_analog_SBM_across_network_1.1.csv',\n",
       " '2_Amherst_analog_SBM_across_network_1.5.csv',\n",
       " '2_Amherst_analog_SBM_across_network_1.4.csv',\n",
       " '4_Amherst_analog_SBM_across_network_1.1.csv',\n",
       " '2_Sloan_analog_SBM_across_network_1.2.csv',\n",
       " '5_Amherst_analog_SBM_across_network_1.3.csv',\n",
       " '1_Sloan_analog_SBM_across_network_1.4.csv',\n",
       " '5_Sloan_analog_SBM_across_network_1.4.csv',\n",
       " '6_Sloan_analog_SBM_across_network_1.2.csv',\n",
       " '8_Sloan_analog_SBM_across_network_1.2.csv',\n",
       " '8_Sloan_analog_SBM_across_network_1.3.csv',\n",
       " '7_Sloan_analog_SBM_across_network_1.1.csv',\n",
       " '9_Sloan_analog_SBM_across_network_1.1.csv',\n",
       " '6_Sloan_analog_SBM_across_network_1.3.csv',\n",
       " '5_Sloan_analog_SBM_across_network_1.5.csv',\n",
       " '4_Sloan_analog_SBM_across_network_1.5.csv',\n",
       " '6_Sloan_analog_SBM_across_network_1.1.csv',\n",
       " '9_Sloan_analog_SBM_across_network_1.3.csv',\n",
       " '7_Sloan_analog_SBM_across_network_1.3.csv',\n",
       " '8_Sloan_analog_SBM_across_network_1.1.csv',\n",
       " '7_Sloan_analog_SBM_across_network_1.2.csv',\n",
       " '9_Sloan_analog_SBM_across_network_1.2.csv',\n",
       " '4_Sloan_analog_SBM_across_network_1.4.csv',\n",
       " '5_Sloan_analog_SBM_across_network_1.2.csv',\n",
       " '6_Sloan_analog_SBM_across_network_1.4.csv',\n",
       " '8_Sloan_analog_SBM_across_network_1.4.csv',\n",
       " '8_Sloan_analog_SBM_across_network_1.5.csv',\n",
       " '6_Sloan_analog_SBM_across_network_1.5.csv',\n",
       " '5_Sloan_analog_SBM_across_network_1.3.csv',\n",
       " '4_Sloan_analog_SBM_across_network_1.1.csv',\n",
       " '4_Sloan_analog_SBM_across_network_1.3.csv',\n",
       " '5_Sloan_analog_SBM_across_network_1.1.csv',\n",
       " '9_Sloan_analog_SBM_across_network_1.5.csv',\n",
       " '7_Sloan_analog_SBM_across_network_1.5.csv',\n",
       " '7_Sloan_analog_SBM_across_network_1.4.csv',\n",
       " '9_Sloan_analog_SBM_across_network_1.4.csv',\n",
       " '4_Sloan_analog_SBM_across_network_1.2.csv',\n",
       " '1_Amherst_analog_SBM_across_network_1.2.csv',\n",
       " '6_Amherst_analog_SBM_across_network_1.5.csv',\n",
       " '0_Amherst_analog_SBM_across_network_1.1.csv',\n",
       " '6_Amherst_analog_SBM_across_network_1.4.csv',\n",
       " '1_Amherst_analog_SBM_across_network_1.3.csv',\n",
       " '1_Amherst_analog_SBM_across_network_1.1.csv',\n",
       " '7_Amherst_analog_SBM_across_network_1.4.csv',\n",
       " '0_Amherst_analog_SBM_across_network_1.3.csv',\n",
       " '0_Amherst_analog_SBM_across_network_1.2.csv',\n",
       " '7_Amherst_analog_SBM_across_network_1.5.csv',\n",
       " '1_Amherst_analog_SBM_across_network_1.4.csv',\n",
       " '7_Amherst_analog_SBM_across_network_1.1.csv',\n",
       " '6_Amherst_analog_SBM_across_network_1.3.csv',\n",
       " '6_Amherst_analog_SBM_across_network_1.2.csv',\n",
       " '1_Amherst_analog_SBM_across_network_1.5.csv',\n",
       " '7_Amherst_analog_SBM_across_network_1.2.csv',\n",
       " '0_Amherst_analog_SBM_across_network_1.5.csv',\n",
       " '0_Amherst_analog_SBM_across_network_1.4.csv',\n",
       " '6_Amherst_analog_SBM_across_network_1.1.csv',\n",
       " '7_Amherst_analog_SBM_across_network_1.3.csv',\n",
       " '9_Amherst_analog_SBM_across_network_1.4.csv',\n",
       " '9_Amherst_analog_SBM_across_network_1.5.csv',\n",
       " '8_Amherst_analog_SBM_across_network_1.5.csv',\n",
       " '8_Amherst_analog_SBM_across_network_1.4.csv',\n",
       " '9_Amherst_analog_SBM_across_network_1.2.csv',\n",
       " '9_Amherst_analog_SBM_across_network_1.3.csv',\n",
       " '8_Amherst_analog_SBM_across_network_1.1.csv',\n",
       " '8_Amherst_analog_SBM_across_network_1.3.csv',\n",
       " '9_Amherst_analog_SBM_across_network_1.1.csv',\n",
       " '8_Amherst_analog_SBM_across_network_1.2.csv']"
      ]
     },
     "execution_count": 46,
     "metadata": {},
     "output_type": "execute_result"
    }
   ],
   "source": [
    "col"
   ]
  },
  {
   "cell_type": "code",
   "execution_count": null,
   "metadata": {},
   "outputs": [],
   "source": []
  },
  {
   "cell_type": "code",
   "execution_count": null,
   "metadata": {},
   "outputs": [],
   "source": []
  },
  {
   "cell_type": "code",
   "execution_count": null,
   "metadata": {},
   "outputs": [],
   "source": []
  },
  {
   "cell_type": "code",
   "execution_count": null,
   "metadata": {},
   "outputs": [],
   "source": []
  },
  {
   "cell_type": "code",
   "execution_count": null,
   "metadata": {},
   "outputs": [],
   "source": []
  },
  {
   "cell_type": "markdown",
   "metadata": {},
   "source": [
    "# [Ignore Below - OLD] Within Network"
   ]
  },
  {
   "cell_type": "code",
   "execution_count": 66,
   "metadata": {},
   "outputs": [],
   "source": [
    "## 8/21/2018 - set up logforest model\n",
    "from sklearn.ensemble import BaggingClassifier\n",
    "from sklearn.metrics import f1_score\n",
    "from sklearn.metrics import confusion_matrix\n",
    "from sklearn.preprocessing import MinMaxScaler\n",
    "scaler = MinMaxScaler(feature_range=(0,1))\n",
    "\n",
    "\n",
    "percent_initially_unlabelled = [0.95,0.9,0.8,0.7,0.6,0.5]#,0.4,0.3,0.2,0.1,0.05]\n",
    "percent_initially_labelled = np.subtract(1, percent_initially_unlabelled)\n"
   ]
  },
  {
   "cell_type": "code",
   "execution_count": 28,
   "metadata": {},
   "outputs": [],
   "source": [
    "## SKIP to FULL - only\n",
    "x3 = pd.read_csv('../../code/refex-rolx-master-3/SBM-data/out_union_0.5SBM_SBM1.csv-featureValues.csv', \n",
    "                                  header = -1)\n",
    "\n",
    "df_train = pd.DataFrame({'keys':np.array(map(np.int,x3[0]))})\n",
    "x3 = x3.loc[:,1::] #drop IDs column\n",
    "scaler.fit(x3) #transform each feature on [0,1]-scale\n",
    "x3 = scaler.transform(x3)\n",
    "y_train_y = pd.read_csv('../../data/SBM/SBM1_gender.csv')\n",
    "\n",
    "y3 = df_train.merge(y_train_y[['keys','gender_y']], ## will be in same order as features\n",
    "        how = 'left',\n",
    "        on = 'keys')"
   ]
  },
  {
   "cell_type": "code",
   "execution_count": null,
   "metadata": {},
   "outputs": [],
   "source": []
  },
  {
   "cell_type": "code",
   "execution_count": null,
   "metadata": {},
   "outputs": [],
   "source": []
  },
  {
   "cell_type": "code",
   "execution_count": 8,
   "metadata": {},
   "outputs": [],
   "source": [
    "x1 = pd.read_csv('../../code/refex-rolx-master-1/SBM-data/out_union_0.5SBM_SBM1.csv-featureValues.csv', \n",
    "                                  header = -1)\n",
    "\n",
    "df_train = pd.DataFrame({'keys':np.array(map(np.int,x1[0]))})\n",
    "x1 = x1.loc[:,1::] #drop IDs column\n",
    "scaler.fit(x1) #transform each feature on [0,1]-scale\n",
    "x1 = scaler.transform(x1)\n",
    "y_train_y = pd.read_csv('../../data/SBM/SBM1_gender.csv')\n",
    "y1 = df_train.merge(y_train_y[['keys','gender_y']],\n",
    "        how = 'left',\n",
    "        on = 'keys')\n",
    "\n"
   ]
  },
  {
   "cell_type": "code",
   "execution_count": 9,
   "metadata": {},
   "outputs": [
    {
     "name": "stdout",
     "output_type": "stream",
     "text": [
      "   keys\n",
      "0  1411\n",
      "1  1410\n",
      "2  1415\n",
      "3   941\n",
      "4  1414\n"
     ]
    }
   ],
   "source": [
    "x2 = pd.read_csv('../../code/refex-rolx-master-2/SBM-data/out_union_0.5SBM_SBM1.csv-featureValues.csv', \n",
    "                                  header = -1)\n",
    "\n",
    "df_train = pd.DataFrame({'keys':np.array(map(np.int,x2[0]))})\n",
    "print(df_train.head())\n",
    "x2 = x2.loc[:,1::] #drop IDs column\n",
    "scaler.fit(x2) #transform each feature on [0,1]-scale\n",
    "x2 = scaler.transform(x2)\n",
    "y_train_y = pd.read_csv('../../data/SBM/SBM1_gender.csv')\n",
    "y2 = df_train.merge(y_train_y[['keys','gender_y']],\n",
    "        how = 'left',\n",
    "        on = 'keys')"
   ]
  },
  {
   "cell_type": "code",
   "execution_count": 68,
   "metadata": {},
   "outputs": [
    {
     "name": "stdout",
     "output_type": "stream",
     "text": [
      "   keys\n",
      "0  1462\n",
      "1  1461\n",
      "2  1460\n",
      "3  1459\n",
      "4  1458\n"
     ]
    }
   ],
   "source": [
    "xall = pd.read_csv('../../code/refex-rolx-master/SBM_by_degree_test/out_union_0.5SBM_train_SBM_by_degree_within_nw.csv-featureValues.csv',\n",
    "                  header = -1)\n",
    "df_train = pd.DataFrame({'keys':np.array(map(np.int,xall[0]))})\n",
    "print(df_train.head())\n",
    "xall = xall.loc[:,1::] #drop IDs column\n",
    "scaler.fit(xall) #transform each feature on [0,1]-scale\n",
    "xall = scaler.transform(xall)\n",
    "\n"
   ]
  },
  {
   "cell_type": "code",
   "execution_count": 69,
   "metadata": {},
   "outputs": [
    {
     "data": {
      "text/plain": [
       "0"
      ]
     },
     "execution_count": 69,
     "metadata": {},
     "output_type": "execute_result"
    }
   ],
   "source": [
    "np.sum(np.sum(np.isnan(xall)+0,1))"
   ]
  },
  {
   "cell_type": "code",
   "execution_count": 70,
   "metadata": {},
   "outputs": [],
   "source": [
    "y_train_y = pd.read_csv('../../data/SBM_by_degree_test/train_SBM_by_degree_within_nw_gender.csv')\n",
    "yall = df_train.merge(y_train_y[['keys','gender_y']],\n",
    "        how = 'left',\n",
    "        on = 'keys')"
   ]
  },
  {
   "cell_type": "code",
   "execution_count": 71,
   "metadata": {},
   "outputs": [
    {
     "data": {
      "text/plain": [
       "0"
      ]
     },
     "execution_count": 71,
     "metadata": {},
     "output_type": "execute_result"
    }
   ],
   "source": [
    "np.sum(np.isnan(yall.gender_y)+0)"
   ]
  },
  {
   "cell_type": "code",
   "execution_count": null,
   "metadata": {},
   "outputs": [],
   "source": []
  },
  {
   "cell_type": "code",
   "execution_count": null,
   "metadata": {},
   "outputs": [],
   "source": []
  },
  {
   "cell_type": "code",
   "execution_count": null,
   "metadata": {},
   "outputs": [],
   "source": []
  },
  {
   "cell_type": "code",
   "execution_count": null,
   "metadata": {},
   "outputs": [],
   "source": []
  },
  {
   "cell_type": "code",
   "execution_count": 72,
   "metadata": {},
   "outputs": [],
   "source": [
    "max_depth = [3, 5, 10]\n",
    "max_depth.append(None)\n",
    "min_samples_leaf = [1,5]#[0.05, 0.1, 0.2]\n",
    "min_samples_split = [2,5] #[2, 3, 4, 5, 10]\n",
    "n_estimators = [50, 100, 1000]#150]\n",
    "max_features = ['auto', 0.25, 0.5, 0.75]\n",
    "random_grid = {'max_depth': max_depth,\n",
    "                'min_samples_leaf': min_samples_leaf,\n",
    "                'max_features': max_features,\n",
    "                'n_estimators': n_estimators,\n",
    "                'min_samples_split': min_samples_split\n",
    "                }\n",
    "\n",
    "clf = sklearn.ensemble.RandomForestClassifier(class_weight = 'balanced_subsample')\n",
    "model1 = RandomizedSearchCV(estimator = clf,\n",
    "                           param_distributions = random_grid,\n",
    "                           cv = 3, verbose=0, n_iter = 20,\n",
    "                           n_jobs = 2)\n",
    "\n",
    "model2 = RandomizedSearchCV(estimator = clf,\n",
    "                            param_distributions = random_grid,\n",
    "                            cv = 3, verbose=0,n_iter = 20,\n",
    "                            n_jobs = 2)\n",
    "model3 = RandomizedSearchCV(estimator = clf,\n",
    "                            param_distributions = random_grid,\n",
    "                            cv = 3, verbose=0,n_iter = 20,\n",
    "                            n_jobs = 2)\n",
    "modelall = RandomizedSearchCV(estimator = clf,\n",
    "                            param_distributions = random_grid,\n",
    "                            cv = 3, verbose=0,n_iter = 20,\n",
    "                            n_jobs = 2)"
   ]
  },
  {
   "cell_type": "code",
   "execution_count": null,
   "metadata": {},
   "outputs": [],
   "source": []
  },
  {
   "cell_type": "code",
   "execution_count": null,
   "metadata": {},
   "outputs": [],
   "source": []
  },
  {
   "cell_type": "code",
   "execution_count": 13,
   "metadata": {},
   "outputs": [
    {
     "name": "stderr",
     "output_type": "stream",
     "text": [
      "/Users/kristen/anaconda3/envs/ipykernel_py2/lib/python2.7/site-packages/sklearn/cross_validation.py:44: DeprecationWarning: This module was deprecated in version 0.18 in favor of the model_selection module into which all the refactored classes and functions are moved. Also note that the interface of the new CV iterators are different from that of this module. This module will be removed in 0.20.\n",
      "  \"This module will be removed in 0.20.\", DeprecationWarning)\n"
     ]
    }
   ],
   "source": [
    "from sklearn import cross_validation"
   ]
  },
  {
   "cell_type": "code",
   "execution_count": 55,
   "metadata": {},
   "outputs": [
    {
     "ename": "NameError",
     "evalue": "name 'y3' is not defined",
     "output_type": "error",
     "traceback": [
      "\u001b[0;31m---------------------------------------------------------------------------\u001b[0m",
      "\u001b[0;31mNameError\u001b[0m                                 Traceback (most recent call last)",
      "\u001b[0;32m<ipython-input-55-233b33ef712f>\u001b[0m in \u001b[0;36m<module>\u001b[0;34m()\u001b[0m\n\u001b[1;32m      1\u001b[0m (mean_accuracy_x3, se_accuracy_x3, \n\u001b[1;32m      2\u001b[0m      \u001b[0mmean_micro_auc_x3\u001b[0m\u001b[0;34m,\u001b[0m\u001b[0mse_micro_auc_x3\u001b[0m\u001b[0;34m,\u001b[0m \u001b[0mmean_wt_auc_x3_lbfgs\u001b[0m\u001b[0;34m,\u001b[0m\u001b[0mse_wt_auc_x3\u001b[0m\u001b[0;34m)\u001b[0m\u001b[0;34m=\u001b[0m \u001b[0mLINK\u001b[0m\u001b[0;34m(\u001b[0m\u001b[0mpercent_initially_unlabelled\u001b[0m\u001b[0;34m,\u001b[0m \u001b[0;31m## note: mean_se_model assumes a vector of x% initially labeled\u001b[0m\u001b[0;34m\u001b[0m\u001b[0m\n\u001b[0;32m----> 3\u001b[0;31m                                                                   \u001b[0mnp\u001b[0m\u001b[0;34m.\u001b[0m\u001b[0marray\u001b[0m\u001b[0;34m(\u001b[0m\u001b[0my3\u001b[0m\u001b[0;34m.\u001b[0m\u001b[0mgender_y\u001b[0m\u001b[0;34m)\u001b[0m\u001b[0;34m,\u001b[0m \u001b[0;31m## gender labels\u001b[0m\u001b[0;34m\u001b[0m\u001b[0m\n\u001b[0m\u001b[1;32m      4\u001b[0m                                                                   \u001b[0mnp\u001b[0m\u001b[0;34m.\u001b[0m\u001b[0mmatrix\u001b[0m\u001b[0;34m(\u001b[0m\u001b[0mx3\u001b[0m\u001b[0;34m)\u001b[0m\u001b[0;34m,\u001b[0m \u001b[0;31m## adjacency matrix\u001b[0m\u001b[0;34m\u001b[0m\u001b[0m\n\u001b[1;32m      5\u001b[0m                                                                   clf = model3,num_iter=25)\n",
      "\u001b[0;31mNameError\u001b[0m: name 'y3' is not defined"
     ]
    }
   ],
   "source": [
    "(mean_accuracy_x3, se_accuracy_x3, \n",
    "     mean_micro_auc_x3,se_micro_auc_x3, mean_wt_auc_x3_lbfgs,se_wt_auc_x3)= LINK(percent_initially_unlabelled, ## note: mean_se_model assumes a vector of x% initially labeled\n",
    "                                                                  np.array(y3.gender_y), ## gender labels \n",
    "                                                                  np.matrix(x3), ## adjacency matrix\n",
    "                                                                  clf = model3,num_iter=25)"
   ]
  },
  {
   "cell_type": "code",
   "execution_count": null,
   "metadata": {},
   "outputs": [],
   "source": [
    "(mean_accuracy_x1, se_accuracy_x1, \n",
    "     mean_micro_auc_x1,se_micro_auc_x1, mean_wt_auc_x1_lbfgs,se_wt_auc_x1)= LINK(percent_initially_unlabelled, ## note: mean_se_model assumes a vector of x% initially labeled\n",
    "                                                                  np.array(y1.gender_y), ## gender labels \n",
    "                                                                  np.matrix(x1), ## adjacency matrix\n",
    "                                                                  clf = model1,num_iter=25)\n",
    "    "
   ]
  },
  {
   "cell_type": "code",
   "execution_count": null,
   "metadata": {},
   "outputs": [],
   "source": [
    "mean_wt_auc_x1_lbfgs"
   ]
  },
  {
   "cell_type": "code",
   "execution_count": null,
   "metadata": {},
   "outputs": [],
   "source": []
  },
  {
   "cell_type": "code",
   "execution_count": null,
   "metadata": {},
   "outputs": [],
   "source": [
    "(mean_accuracy_x2, se_accuracy_x2, \n",
    "     mean_micro_auc_x2,se_micro_auc_x2, mean_wt_auc_x2_lbfgs,se_wt_auc_x2)= LINK(percent_initially_unlabelled, ## note: mean_se_model assumes a vector of x% initially labeled\n",
    "                                                                  np.array(y2.gender_y), ## gender labels \n",
    "                                                                  np.matrix(x2), ## adjacency matrix\n",
    "                                                                  clf = model2,num_iter=25)"
   ]
  },
  {
   "cell_type": "code",
   "execution_count": 73,
   "metadata": {},
   "outputs": [
    {
     "name": "stdout",
     "output_type": "stream",
     "text": [
      "0.95\n",
      "0.9\n",
      "0.8\n",
      "0.7\n",
      "0.6\n",
      "0.5\n"
     ]
    }
   ],
   "source": [
    "(mean_accuracy_xall, se_accuracy_xall, \n",
    "     mean_micro_auc_xall,se_micro_auc_xall, mean_wt_auc_xall_lbfgs,se_wt_auc_xall)= LINK(percent_initially_unlabelled, ## note: mean_se_model assumes a vector of x% initially labeled\n",
    "                                                                  np.array(yall.gender_y), ## gender labels \n",
    "                                                                  np.matrix(xall), ## adjacency matrix\n",
    "                                                                  clf = modelall,\n",
    "                                                                num_iter=1)\n"
   ]
  },
  {
   "cell_type": "code",
   "execution_count": 74,
   "metadata": {},
   "outputs": [
    {
     "data": {
      "text/plain": [
       "[0.4940458778216567,\n",
       " 0.4877858156185989,\n",
       " 0.49355311492674203,\n",
       " 0.50859167549408,\n",
       " 0.4874841659629317,\n",
       " 0.4782454693903688]"
      ]
     },
     "execution_count": 74,
     "metadata": {},
     "output_type": "execute_result"
    }
   ],
   "source": [
    "mean_wt_auc_xall_lbfgs"
   ]
  },
  {
   "cell_type": "code",
   "execution_count": 75,
   "metadata": {},
   "outputs": [
    {
     "data": {
      "text/plain": [
       "[0.0, 0.0, 0.0, 0.0, 0.0, 0.0]"
      ]
     },
     "execution_count": 75,
     "metadata": {},
     "output_type": "execute_result"
    }
   ],
   "source": [
    "se_wt_auc_xall"
   ]
  },
  {
   "cell_type": "code",
   "execution_count": null,
   "metadata": {},
   "outputs": [],
   "source": []
  },
  {
   "cell_type": "code",
   "execution_count": null,
   "metadata": {},
   "outputs": [],
   "source": []
  },
  {
   "cell_type": "markdown",
   "metadata": {},
   "source": [
    "### Testing only\n",
    "6/5\n",
    "\n",
    "Label-Dependence\n",
    "* start w/ more homophily, test on less homophily\n",
    "* start w/ less homophily, test on more homophily\n",
    "\n",
    "Label-Independence\n",
    "\n",
    "* start out on more degree difference\n",
    "* start out on low degree difference\n",
    "\n",
    "Across-layer = same nodes different edges, Across-network = different nodes, same edge"
   ]
  },
  {
   "cell_type": "code",
   "execution_count": 112,
   "metadata": {},
   "outputs": [],
   "source": [
    "## TRAIN\n",
    "edges = pd.read_csv('../../data/SBM_by_degree_test/train_SBM_by_degree_within_nw.csv', header = -1)\n",
    "df = pd.crosstab(edges[0], edges[1])\n",
    "idx = df.columns.union(df.index)\n",
    "df = df.reindex(index = idx, columns=idx, fill_value=0)\n"
   ]
  },
  {
   "cell_type": "code",
   "execution_count": 113,
   "metadata": {},
   "outputs": [],
   "source": [
    "yall = pd.read_csv('../../data/SBM_by_degree_test/train_SBM_by_degree_within_nw_gender.csv')\n",
    "#yall = df.merge(y_train_y[['keys','gender_y']],\n",
    "#        how = 'left',\n",
    " #       on = 'keys')"
   ]
  },
  {
   "cell_type": "code",
   "execution_count": null,
   "metadata": {},
   "outputs": [],
   "source": []
  },
  {
   "cell_type": "code",
   "execution_count": 114,
   "metadata": {},
   "outputs": [],
   "source": [
    "## TEST\n",
    "edges_test = pd.read_csv('../../data/SBM_by_degree_test/SBM_by_degree_within_nw_0.25.csv', header = -1)\n",
    "df_test = pd.crosstab(edges_test[0], edges_test[1])\n",
    "idx_test = df_test.columns.union(df_test.index)\n",
    "df_test = df_test.reindex(index = idx_test, columns=idx_test, fill_value=0)\n",
    "\n",
    "yall_test = pd.read_csv('../../data/SBM_by_degree_test/SBM_by_degree_within_nw_1.3_gender.csv')\n",
    "#yall_test = df_train.merge(y_train_y_test[['keys','gender_y']],\n",
    "#        how = 'left',\n",
    "#        on = 'keys'"
   ]
  },
  {
   "cell_type": "code",
   "execution_count": 115,
   "metadata": {},
   "outputs": [],
   "source": [
    "clf = linear_model.LogisticRegression(penalty='l2',\n",
    "                                   solver='lbfgs',\n",
    "                                    C=10e20)"
   ]
  },
  {
   "cell_type": "code",
   "execution_count": 116,
   "metadata": {},
   "outputs": [
    {
     "data": {
      "text/plain": [
       "LogisticRegression(C=1e+21, class_weight=None, dual=False, fit_intercept=True,\n",
       "          intercept_scaling=1, max_iter=100, multi_class='ovr', n_jobs=1,\n",
       "          penalty='l2', random_state=None, solver='lbfgs', tol=0.0001,\n",
       "          verbose=0, warm_start=False)"
      ]
     },
     "execution_count": 116,
     "metadata": {},
     "output_type": "execute_result"
    }
   ],
   "source": [
    "clf.fit(np.matrix(df), np.array(yall.gender_y))"
   ]
  },
  {
   "cell_type": "code",
   "execution_count": 117,
   "metadata": {},
   "outputs": [],
   "source": [
    "prob = clf.predict_proba(np.matrix(df_test))"
   ]
  },
  {
   "cell_type": "code",
   "execution_count": 118,
   "metadata": {},
   "outputs": [
    {
     "data": {
      "text/plain": [
       "0.47598399999999996"
      ]
     },
     "execution_count": 118,
     "metadata": {},
     "output_type": "execute_result"
    }
   ],
   "source": [
    "metrics.roc_auc_score(label_binarize(yall_test.gender_y,np.unique(yall_test.gender_y)),\n",
    "                                                prob[:,1],average='weighted')"
   ]
  },
  {
   "cell_type": "code",
   "execution_count": null,
   "metadata": {},
   "outputs": [],
   "source": []
  },
  {
   "cell_type": "code",
   "execution_count": null,
   "metadata": {},
   "outputs": [],
   "source": []
  },
  {
   "cell_type": "code",
   "execution_count": null,
   "metadata": {},
   "outputs": [],
   "source": []
  },
  {
   "cell_type": "code",
   "execution_count": 101,
   "metadata": {},
   "outputs": [
    {
     "name": "stdout",
     "output_type": "stream",
     "text": [
      "1  0     1     2     3     4     5     6     7     8     9     ...   1990  \\\n",
      "0                                                              ...          \n",
      "0     0     0     0     0     0     0     1     0     0     0  ...      0   \n",
      "1     0     0     0     0     0     0     0     0     0     0  ...      0   \n",
      "2     0     0     1     0     0     0     0     0     0     0  ...      0   \n",
      "3     0     0     0     0     0     0     0     0     0     0  ...      0   \n",
      "4     0     0     0     0     0     0     0     0     0     0  ...      0   \n",
      "\n",
      "1  1991  1992  1993  1994  1995  1996  1997  1998  1999  \n",
      "0                                                        \n",
      "0     0     0     0     0     0     0     0     0     0  \n",
      "1     0     0     0     0     0     0     0     0     0  \n",
      "2     0     1     0     0     0     0     0     0     0  \n",
      "3     0     0     0     1     0     0     0     0     0  \n",
      "4     0     0     0     0     0     0     0     0     0  \n",
      "\n",
      "[5 rows x 2000 columns]\n"
     ]
    }
   ],
   "source": [
    "## LINK set-up\n",
    "edges = pd.read_csv('../../data/SBM_by_degree_test/train_SBM_by_degree_within_nw.csv', header = -1)\n",
    "edges.head()\n",
    "df = pd.crosstab(edges[0], edges[1])\n",
    "print df.head()\n",
    "idx = df.columns.union(df.index)\n",
    "df = df.reindex(index = idx, columns=idx, fill_value=0)\n"
   ]
  },
  {
   "cell_type": "code",
   "execution_count": 102,
   "metadata": {},
   "outputs": [
    {
     "data": {
      "text/plain": [
       "84.2675"
      ]
     },
     "execution_count": 102,
     "metadata": {},
     "output_type": "execute_result"
    }
   ],
   "source": [
    "np.mean(np.sum(df,1))\n"
   ]
  },
  {
   "cell_type": "code",
   "execution_count": 103,
   "metadata": {},
   "outputs": [
    {
     "name": "stdout",
     "output_type": "stream",
     "text": [
      "0.95\n",
      "0.9\n",
      "0.8\n",
      "0.7\n",
      "0.6\n",
      "0.5\n"
     ]
    }
   ],
   "source": [
    "(mean_accuracy_LINK_RM, se_accuracy_LINK_RM, \n",
    "     mean_micro_auc_LINK_RM,se_micro_auc_LINK_RM, mean_wt_LINK_RM,se_wt_LINK_RM)= LINK(percent_initially_unlabelled, ## note: mean_se_model assumes a vector of x% initially labeled\n",
    "                                                                  np.array(y_train_y.gender_y), ## gender labels \n",
    "                                                                  np.matrix(df), ## adjacency matrix\n",
    "                                                clf = linear_model.LogisticRegression(penalty='l2',\n",
    "                                                                           solver='lbfgs',\n",
    "                                                                            C=10e20),num_iter=25, \n",
    "                                                                cv_setup = None)\n"
   ]
  },
  {
   "cell_type": "code",
   "execution_count": 104,
   "metadata": {},
   "outputs": [
    {
     "data": {
      "text/plain": [
       "[0.5999029257096109,\n",
       " 0.6328745662225199,\n",
       " 0.6770281643718066,\n",
       " 0.7029523202380207,\n",
       " 0.7225002998977642,\n",
       " 0.7361616997648768]"
      ]
     },
     "execution_count": 104,
     "metadata": {},
     "output_type": "execute_result"
    }
   ],
   "source": [
    "mean_wt_LINK_RM"
   ]
  },
  {
   "cell_type": "code",
   "execution_count": 105,
   "metadata": {},
   "outputs": [
    {
     "data": {
      "text/plain": [
       "[0.010588228211729559,\n",
       " 0.014989180111656312,\n",
       " 0.012864642942736468,\n",
       " 0.010734263147438283,\n",
       " 0.01152422659938269,\n",
       " 0.012732891720706756]"
      ]
     },
     "execution_count": 105,
     "metadata": {},
     "output_type": "execute_result"
    }
   ],
   "source": [
    "se_wt_LINK_RM"
   ]
  },
  {
   "cell_type": "code",
   "execution_count": null,
   "metadata": {},
   "outputs": [],
   "source": []
  },
  {
   "cell_type": "code",
   "execution_count": null,
   "metadata": {},
   "outputs": [],
   "source": []
  },
  {
   "cell_type": "markdown",
   "metadata": {
    "collapsed": true
   },
   "source": [
    "### node2vec needs added in"
   ]
  },
  {
   "cell_type": "code",
   "execution_count": null,
   "metadata": {},
   "outputs": [],
   "source": [
    "n2v_RM = pd.read_csv('../../code/node2vec/emb/SBM.emb',\n",
    "                      skiprows=1,\n",
    "                    header = None,\n",
    "                      sep=' ')\n",
    "n2v_RM.head()"
   ]
  },
  {
   "cell_type": "code",
   "execution_count": null,
   "metadata": {},
   "outputs": [],
   "source": [
    "tmp = pd.DataFrame(n2v_RM[0])\n",
    "tmp.columns = ['keys']\n",
    "\n",
    "y_labels = tmp.merge(y_train_y[['keys','gender_y']],\n",
    "              left_on = 'keys',\n",
    "              right_on = 'keys',\n",
    "              how = 'left')\n",
    "np.sum(y_labels['keys']!=n2v_RM[0])"
   ]
  },
  {
   "cell_type": "code",
   "execution_count": null,
   "metadata": {},
   "outputs": [],
   "source": [
    "n2v_RM =n2v_RM[~y_labels.gender_y.isna()]\n",
    "y_labels =y_labels[~y_labels.gender_y.isna()]"
   ]
  },
  {
   "cell_type": "code",
   "execution_count": null,
   "metadata": {},
   "outputs": [],
   "source": [
    "n2v_RM.drop(0, axis =1, inplace = True)"
   ]
  },
  {
   "cell_type": "code",
   "execution_count": null,
   "metadata": {},
   "outputs": [],
   "source": [
    "## Random Forest Model\n",
    "(mean_accuracy_node2vec, se_accuracy_node2vec, \n",
    " mean_micro_auc_node2vec,se_micro_auc_node2vec, mean_wt_node2vec_C,se_wt_node2vec)= LINK(percent_initially_unlabelled, ## note: mean_se_model assumes a vector of x% initially labeled\n",
    "                                                              np.array(y_labels.gender_y).astype(np.int), ## gender labels \n",
    "                                                              np.matrix(n2v_RM), ## adjacency matrix\n",
    "                                                       clf = modelall,\n",
    "                                                                num_iter=25, \n",
    "                                                                     cv_setup = 'stratified')\n",
    "\n",
    "\n",
    "\n",
    "\n"
   ]
  },
  {
   "cell_type": "code",
   "execution_count": 350,
   "metadata": {},
   "outputs": [
    {
     "data": {
      "image/png": "[encoded data removed]",
      "text/plain": [
       "<Figure size 360x288 with 1 Axes>"
      ]
     },
     "metadata": {
      "needs_background": "light"
     },
     "output_type": "display_data"
    }
   ],
   "source": [
    "from matplotlib.backends.backend_pdf import PdfPages\n",
    "\n",
    "alpha_empirical = 0.4\n",
    "\n",
    "%matplotlib inline\n",
    "nbins = 45\n",
    "f, (ax1) = plt.subplots(1, 1, \n",
    "                    sharey=False, sharex=False,\n",
    "                figsize=(5,4))#(5, 4))\n",
    "\n",
    "plt.setp(ax1, xticks=[0,25,50,75,100])\n",
    "#plt.setp(ax1, xticks=[ 0. ,  1.5,  3. ,  4.5,  6. ,  7.5,  9. , 10.5, 12. , 13.5, 15. ], \n",
    "#         xticklabels=school_names)#subset_schools_new)\n",
    "#plt.setp(ax1.get_xticklabels(), \n",
    "#         rotation=90, size = 10)\n",
    "\n",
    "ax1.set_xticks([0,25,50,75,100])\n",
    "ax1.minorticks_on()\n",
    "ax1.tick_params('both', length=4, width=1, which='major', left=1, bottom=1, top=0, right=0)\n",
    "\n",
    "w = 1.5\n",
    "width = 0.15\n",
    "#ax1.errorbar(percent_initially_labelled*100, mean_wt_auc_x1_lbfgs,\n",
    "#            yerr=se_wt_auc_x1, fmt='--o', capthick=2,\n",
    "#            alpha=1, elinewidth=3, color='deepskyblue')\n",
    "\n",
    "#ax1.errorbar(percent_initially_labelled*100, mean_wt_auc_x2_lbfgs,\n",
    "#    yerr=se_wt_auc_x2, fmt='--o', capthick=2,\n",
    "#    alpha=1, elinewidth=3, color='blue')\n",
    "#ax1.errorbar(percent_initially_labelled*100, mean_wt_auc_x3_lbfgs,\n",
    "#    yerr=se_wt_auc_x3, fmt='--o', capthick=2,\n",
    "#    alpha=1, elinewidth=3, color='darkblue')\n",
    "ax1.errorbar(percent_initially_labelled*100, mean_wt_auc_xall_lbfgs,\n",
    "    yerr=se_wt_auc_xall, fmt='--o', capthick=2,\n",
    "    alpha=1, elinewidth=3, color='black')\n",
    "ax1.errorbar(percent_initially_labelled*100, mean_wt_LINK_RM,\n",
    "    yerr=se_wt_LINK_RM, fmt='--o', capthick=2,\n",
    "    alpha=1, elinewidth=3, color='gray')\n",
    "#ax1.errorbar(percent_initially_labelled*100, mean_wt_node2vec_C,\n",
    "#    yerr=se_wt_node2vec, fmt='--o', capthick=2,\n",
    "#    alpha=1, elinewidth=3, color='red')\n",
    "\n",
    "\n",
    "ax1.annotate('ReFeX 1x', xy=(3, 0.4), \n",
    "         color='deepskyblue', alpha=1, size=10)\n",
    "ax1.annotate('ReFeX 2x', xy=(3, 0.35), \n",
    "         color='blue', alpha=1, size=10)\n",
    "ax1.annotate('ReFeX 3x', xy=(3, 0.30), \n",
    "         color='darkblue', alpha=1, size=10)\n",
    "ax1.annotate('ReFeX max', xy=(3, 0.25), \n",
    "        color='black', alpha=1, size=10)\n",
    "ax1.annotate('LINK', xy=(3, 0.2), \n",
    "         color='gray', alpha=1, size=10)\n",
    "ax1.annotate('node2vec', xy=(3, 0.15), \n",
    "         color='red', alpha=1, size=10)\n",
    "\n",
    "\n",
    "ax1.set_ylabel('AUC', size=13)\n",
    "ax1.set_xlabel('Percent of Nodes Initially Labeled', size=13)\n",
    "ax1.set_ylim(0,1.05)\n",
    "plt.yticks(np.arange(0,1.1,0.1))\n",
    "ax1.spines[\"right\"].set_visible(False)\n",
    "ax1.spines[\"top\"].set_visible(False)\n",
    "ax1.set_xlim(-1,100)\n",
    "plt.title('SBM (Strong Homophily)',fontsize=14)\n",
    "#plt.show()\n",
    "plt.tight_layout()\n",
    "#pp = PdfPages('../figs/SBM_instance_within_AUC_final.pdf')\n",
    "#pp.savefig()\n",
    "#pp.close()"
   ]
  },
  {
   "cell_type": "code",
   "execution_count": null,
   "metadata": {},
   "outputs": [],
   "source": []
  },
  {
   "cell_type": "code",
   "execution_count": null,
   "metadata": {},
   "outputs": [],
   "source": []
  },
  {
   "cell_type": "code",
   "execution_count": null,
   "metadata": {},
   "outputs": [],
   "source": []
  },
  {
   "cell_type": "code",
   "execution_count": null,
   "metadata": {},
   "outputs": [],
   "source": []
  },
  {
   "cell_type": "markdown",
   "metadata": {},
   "source": [
    "## Set-up as Across-Network Problem"
   ]
  },
  {
   "cell_type": "code",
   "execution_count": 21,
   "metadata": {},
   "outputs": [],
   "source": [
    "x3_test = pd.read_csv('../../code/refex-rolx-master-3/SBM-data/out_union_0.5SBM_SBM2.csv-featureValues.csv', \n",
    "                                  header = -1)\n",
    "\n",
    "df_test = pd.DataFrame({'keys':np.array(map(np.int,x3_test[0]))})\n",
    "x3_test = x3_test.loc[:,1::] #drop IDs column\n",
    "scaler.fit(x3_test) #transform each feature on [0,1]-scale\n",
    "x3_test = scaler.transform(x3_test)\n",
    "y_test_y = pd.read_csv('../../data/SBM/SBM2_gender.csv')\n",
    "\n",
    "y3_test = df_test.merge(y_test_y[['keys','gender_y']], ## will be in same order as features\n",
    "        how = 'left',\n",
    "        on = 'keys')"
   ]
  },
  {
   "cell_type": "code",
   "execution_count": 39,
   "metadata": {},
   "outputs": [],
   "source": [
    "x2_test = pd.read_csv('../../code/refex-rolx-master-2/SBM-data/out_union_0.5SBM_SBM2.csv-featureValues.csv', \n",
    "                                  header = -1)\n",
    "\n",
    "df_test = pd.DataFrame({'keys':np.array(map(np.int,x2_test[0]))})\n",
    "x2_test = x2_test.loc[:,1::] #drop IDs column\n",
    "scaler.fit(x2_test) #transform each feature on [0,1]-scale\n",
    "x2_test = scaler.transform(x2_test)\n",
    "y_test_y = pd.read_csv('../../data/SBM/SBM2_gender.csv')\n",
    "\n",
    "y2_test = df_test.merge(y_test_y[['keys','gender_y']], ## will be in same order as features\n",
    "        how = 'left',\n",
    "        on = 'keys')"
   ]
  },
  {
   "cell_type": "code",
   "execution_count": 195,
   "metadata": {},
   "outputs": [
    {
     "name": "stdout",
     "output_type": "stream",
     "text": [
      "      keys\n",
      "1995   259\n",
      "1996   254\n",
      "1997   253\n",
      "1998   256\n",
      "1999   255\n"
     ]
    }
   ],
   "source": [
    "x1_test = pd.read_csv('../../code/refex-rolx-master-1/SBM-data/out_union_0.5SBM_SBM2.csv-featureValues.csv', \n",
    "                                  header = -1)\n",
    "\n",
    "df_test = pd.DataFrame({'keys':np.array(map(np.int,x1_test[0]))})\n",
    "print(df_test.tail())\n",
    "\n",
    "\n",
    "x1_test = x1_test.loc[:,1::] #drop IDs column\n",
    "scaler.fit(x1_test) #transform each feature on [0,1]-scale\n",
    "x1_test = scaler.transform(x1_test)\n",
    "y_test_y = pd.read_csv('../../data/SBM/SBM2_gender.csv')\n",
    "\n",
    "y1_test = df_test.merge(y_test_y[['keys','gender_y']], ## will be in same order as features\n",
    "        how = 'left',\n",
    "        on = 'keys')"
   ]
  },
  {
   "cell_type": "code",
   "execution_count": null,
   "metadata": {},
   "outputs": [],
   "source": []
  },
  {
   "cell_type": "markdown",
   "metadata": {},
   "source": [
    "### 6/13/2020 - Across-Network\n",
    "testing-only here"
   ]
  },
  {
   "cell_type": "code",
   "execution_count": 120,
   "metadata": {},
   "outputs": [],
   "source": [
    "# set-up to vary training percent, same set of test samples\n",
    "# 1) LI -- vary degree keep %, or vary % of males\n",
    "#\n",
    "\n",
    "### QUESTION -- why for same train/test is AUC != 1"
   ]
  },
  {
   "cell_type": "code",
   "execution_count": null,
   "metadata": {},
   "outputs": [],
   "source": []
  },
  {
   "cell_type": "code",
   "execution_count": 121,
   "metadata": {},
   "outputs": [],
   "source": [
    "## TRAINING\n",
    "## ReFeX\n",
    "xall = pd.read_csv('../../code/refex-rolx-master/SBM_by_degree_test/out_union_0.5SBM_train_SBM_by_degree_within_nw.csv-featureValues.csv',\n",
    "                  header = -1)\n",
    "df_train = pd.DataFrame({'keys':np.array(map(np.int,xall[0]))})\n",
    "xall = xall.loc[:,1::] #drop IDs column\n",
    "scaler.fit(xall) #transform each feature on [0,1]-scale\n",
    "xall = scaler.transform(xall)\n",
    "\n",
    "y_train_y = pd.read_csv('../../data/SBM_by_degree_test/train_SBM_by_degree_within_nw_gender.csv')\n",
    "yall = df_train.merge(y_train_y[['keys','gender_y']],\n",
    "        how = 'left',\n",
    "        on = 'keys')"
   ]
  },
  {
   "cell_type": "code",
   "execution_count": null,
   "metadata": {},
   "outputs": [],
   "source": []
  },
  {
   "cell_type": "code",
   "execution_count": null,
   "metadata": {},
   "outputs": [],
   "source": []
  },
  {
   "cell_type": "code",
   "execution_count": 154,
   "metadata": {},
   "outputs": [
    {
     "name": "stdout",
     "output_type": "stream",
     "text": [
      "      keys\n",
      "1995  1444\n",
      "1996  1443\n",
      "1997  1442\n",
      "1998  1441\n",
      "1999  1449\n"
     ]
    }
   ],
   "source": [
    "## TESTING\n",
    "#across-network setting\n",
    "x_test = pd.read_csv('../../code/refex-rolx-master/SBM_by_degree_test/out_union_0.5SBM_SBM_by_degree_across_nw_0.25.csv-featureValues.csv', \n",
    "                                  header = -1)\n",
    "\n",
    "df_test = pd.DataFrame({'keys':np.array(map(np.int,x_test[0]))})\n",
    "print(df_test.tail())\n",
    "x_test = x_test.loc[:,1::] #drop IDs column\n",
    "scaler.fit(x_test) #transform each feature on [0,1]-scale\n",
    "x_test = scaler.transform(x_test)\n",
    "y_test_y = pd.read_csv('../../data/SBM_by_degree_test/SBM_by_degree_across_nw_0.25_gender.csv')\n",
    "\n",
    "y_test = df_test.merge(y_test_y[['keys','gender_y']], ## will be in same order as features\n",
    "        how = 'left',\n",
    "        on = 'keys')"
   ]
  },
  {
   "cell_type": "code",
   "execution_count": 137,
   "metadata": {},
   "outputs": [],
   "source": [
    "max_depth = [3, 5,10,50]\n",
    "max_depth.append(None)\n",
    "min_samples_leaf = [1,5,10]#[0.05, 0.1, 0.2]\n",
    "min_samples_split = [2,5,10] #[2, 3, 4, 5, 10]\n",
    "n_estimators = [50, 100, 1000]#150]\n",
    "max_features = ['auto', 0.25, 0.5, 0.75]\n",
    "random_grid = {'max_depth': max_depth,\n",
    "                'min_samples_leaf': min_samples_leaf,\n",
    "                'max_features': max_features,\n",
    "                'n_estimators': n_estimators,\n",
    "                'min_samples_split': min_samples_split\n",
    "                }\n",
    "\n",
    "clf = sklearn.ensemble.RandomForestClassifier(class_weight = 'balanced_subsample')\n",
    "model = RandomizedSearchCV(estimator = clf,\n",
    "                           param_distributions = random_grid,\n",
    "                           cv = 3, verbose=0,\n",
    "                           n_jobs = 2, n_iter = 30)"
   ]
  },
  {
   "cell_type": "code",
   "execution_count": 142,
   "metadata": {},
   "outputs": [
    {
     "data": {
      "text/plain": [
       "RandomizedSearchCV(cv=3, error_score='raise',\n",
       "          estimator=RandomForestClassifier(bootstrap=True, class_weight='balanced_subsample',\n",
       "            criterion='gini', max_depth=None, max_features='auto',\n",
       "            max_leaf_nodes=None, min_impurity_split=1e-07,\n",
       "            min_samples_leaf=1, min_samples_split=2,\n",
       "            min_weight_fraction_leaf=0.0, n_estimators=10, n_jobs=1,\n",
       "            oob_score=False, random_state=None, verbose=0,\n",
       "            warm_start=False),\n",
       "          fit_params={}, iid=True, n_iter=30, n_jobs=2,\n",
       "          param_distributions={'max_features': ['auto', 0.25, 0.5, 0.75], 'n_estimators': [50, 100, 1000], 'min_samples_split': [2, 5, 10], 'max_depth': [3, 5, 10, 50, None], 'min_samples_leaf': [1, 5, 10]},\n",
       "          pre_dispatch='2*n_jobs', random_state=None, refit=True,\n",
       "          return_train_score=True, scoring=None, verbose=0)"
      ]
     },
     "execution_count": 142,
     "metadata": {},
     "output_type": "execute_result"
    }
   ],
   "source": [
    "model.fit(xall,\n",
    "    yall.gender_y)\n"
   ]
  },
  {
   "cell_type": "code",
   "execution_count": 155,
   "metadata": {},
   "outputs": [
    {
     "name": "stdout",
     "output_type": "stream",
     "text": [
      "0.8106726666666666\n"
     ]
    }
   ],
   "source": [
    "## ROC-AUC\n",
    "y_predict_refex = model.predict_proba(x_test)[:,1]\n",
    "print(metrics.roc_auc_score(label_binarize(y_test.gender_y,np.unique(y_test.gender_y)),\n",
    "                                                y_predict_refex,average='weighted'))\n",
    " \n"
   ]
  },
  {
   "cell_type": "code",
   "execution_count": null,
   "metadata": {},
   "outputs": [],
   "source": []
  },
  {
   "cell_type": "code",
   "execution_count": 156,
   "metadata": {},
   "outputs": [],
   "source": [
    "from sklearn.metrics import precision_recall_curve\n",
    "from sklearn.metrics import f1_score\n",
    "from sklearn.metrics import auc\n",
    "precision, recall, thresholds = precision_recall_curve(label_binarize(y_test.gender_y,np.unique(y_test.gender_y)), \n",
    "                                                       y_predict_refex)"
   ]
  },
  {
   "cell_type": "code",
   "execution_count": 157,
   "metadata": {},
   "outputs": [
    {
     "data": {
      "text/plain": [
       "0.5497483585995779"
      ]
     },
     "execution_count": 157,
     "metadata": {},
     "output_type": "execute_result"
    }
   ],
   "source": [
    "auc_output = auc(recall, precision)\n",
    "auc_output"
   ]
  },
  {
   "cell_type": "code",
   "execution_count": null,
   "metadata": {},
   "outputs": [],
   "source": []
  },
  {
   "cell_type": "code",
   "execution_count": null,
   "metadata": {},
   "outputs": [],
   "source": []
  },
  {
   "cell_type": "code",
   "execution_count": 99,
   "metadata": {},
   "outputs": [
    {
     "data": {
      "text/plain": [
       "0.512756695624049"
      ]
     },
     "execution_count": 99,
     "metadata": {},
     "output_type": "execute_result"
    }
   ],
   "source": [
    "## Precision/Recall\n",
    "from sklearn import metrics\n",
    "from sklearn.metrics import precision_recall_curve\n",
    "#fpr, tpr, thresholds = metrics.roc_curve(label_binarize(y_test.gender_y,np.unique(y_test.gender_y)), \n",
    "#                                                    y_predict_refex)\n",
    "\n",
    "precision, recall, thresholds = precision_recall_curve(\n",
    "                label_binarize(y_test.gender_y,np.unique(y_test.gender_y)), y_predict_refex)\n",
    "metrics.auc(recall, precision)"
   ]
  },
  {
   "cell_type": "code",
   "execution_count": null,
   "metadata": {},
   "outputs": [],
   "source": []
  },
  {
   "cell_type": "code",
   "execution_count": null,
   "metadata": {},
   "outputs": [],
   "source": []
  },
  {
   "cell_type": "code",
   "execution_count": null,
   "metadata": {},
   "outputs": [],
   "source": []
  },
  {
   "cell_type": "code",
   "execution_count": null,
   "metadata": {},
   "outputs": [],
   "source": []
  },
  {
   "cell_type": "code",
   "execution_count": null,
   "metadata": {},
   "outputs": [],
   "source": [
    "## max for across-network: "
   ]
  },
  {
   "cell_type": "code",
   "execution_count": null,
   "metadata": {},
   "outputs": [],
   "source": [
    "## max for across-layer: 0.85, 0.77"
   ]
  },
  {
   "cell_type": "code",
   "execution_count": 85,
   "metadata": {},
   "outputs": [],
   "source": [
    "#250 -- 0.738, 0.48\n",
    "#500 -- 0.63, 0.52\n",
    "#1k  -- 0.51, 0.53\n",
    "#imbalanced classed, balanced classes"
   ]
  },
  {
   "cell_type": "code",
   "execution_count": null,
   "metadata": {},
   "outputs": [],
   "source": []
  },
  {
   "cell_type": "code",
   "execution_count": null,
   "metadata": {},
   "outputs": [],
   "source": []
  },
  {
   "cell_type": "code",
   "execution_count": null,
   "metadata": {},
   "outputs": [],
   "source": []
  },
  {
   "cell_type": "code",
   "execution_count": null,
   "metadata": {},
   "outputs": [],
   "source": []
  },
  {
   "cell_type": "code",
   "execution_count": null,
   "metadata": {},
   "outputs": [],
   "source": []
  },
  {
   "cell_type": "code",
   "execution_count": 27,
   "metadata": {},
   "outputs": [
    {
     "name": "stdout",
     "output_type": "stream",
     "text": [
      "0.531038\n"
     ]
    }
   ],
   "source": [
    "y_predict_refex = model.predict(x3_test)\n",
    "\n",
    "y_predict_refex = model.predict_proba(x3_test)[:,1]\n",
    "\n",
    "print(metrics.roc_auc_score(label_binarize(y3_test.gender_y,np.unique(y3_test.gender_y)),\n",
    "                                                            y_predict_refex,average='weighted'))\n"
   ]
  },
  {
   "cell_type": "code",
   "execution_count": 28,
   "metadata": {},
   "outputs": [],
   "source": [
    "y3_auc = metrics.roc_auc_score(label_binarize(y3_test.gender_y,np.unique(y3_test.gender_y)),\n",
    "                                                            y_predict_refex,average='weighted')"
   ]
  },
  {
   "cell_type": "code",
   "execution_count": 42,
   "metadata": {},
   "outputs": [
    {
     "name": "stdout",
     "output_type": "stream",
     "text": [
      "0.5222955\n"
     ]
    },
    {
     "ename": "TypeError",
     "evalue": "roc_auc_score() takes at least 2 arguments (1 given)",
     "output_type": "error",
     "traceback": [
      "\u001b[0;31m---------------------------------------------------------------------------\u001b[0m",
      "\u001b[0;31mTypeError\u001b[0m                                 Traceback (most recent call last)",
      "\u001b[0;32m<ipython-input-42-d45e5f6dea6a>\u001b[0m in \u001b[0;36m<module>\u001b[0;34m()\u001b[0m\n\u001b[1;32m      9\u001b[0m \u001b[0;34m\u001b[0m\u001b[0m\n\u001b[1;32m     10\u001b[0m y2_auc = metrics.roc_auc_score(metrics.roc_auc_score(label_binarize(y2_test.gender_y,np.unique(y2_test.gender_y)),\n\u001b[0;32m---> 11\u001b[0;31m                                                             y_predict_refex,average='weighted'))\n\u001b[0m",
      "\u001b[0;31mTypeError\u001b[0m: roc_auc_score() takes at least 2 arguments (1 given)"
     ]
    }
   ],
   "source": [
    "model.fit(x2,\n",
    "    y2.gender_y)\n"
   ]
  },
  {
   "cell_type": "code",
   "execution_count": 44,
   "metadata": {},
   "outputs": [
    {
     "name": "stdout",
     "output_type": "stream",
     "text": [
      "0.5222955\n"
     ]
    }
   ],
   "source": [
    "y_predict_refex = model.predict_proba(x2_test)[:,1]\n",
    "\n",
    "print(metrics.roc_auc_score(label_binarize(y2_test.gender_y,np.unique(y2_test.gender_y)),\n",
    "                                                            y_predict_refex,average='weighted'))\n",
    "\n",
    "y2_auc = metrics.roc_auc_score(label_binarize(y2_test.gender_y,np.unique(y2_test.gender_y)),\n",
    "                                                            y_predict_refex,average='weighted')"
   ]
  },
  {
   "cell_type": "code",
   "execution_count": 45,
   "metadata": {},
   "outputs": [
    {
     "name": "stdout",
     "output_type": "stream",
     "text": [
      "0.509936\n"
     ]
    }
   ],
   "source": [
    "model.fit(x1,\n",
    "    y1.gender_y)\n",
    "\n",
    "\n",
    "y_predict_refex = model.predict_proba(x1_test)[:,1]\n",
    "\n",
    "print(metrics.roc_auc_score(label_binarize(y1_test.gender_y,np.unique(y1_test.gender_y)),\n",
    "                                                            y_predict_refex,average='weighted'))\n",
    "\n",
    "y1_auc = metrics.roc_auc_score(label_binarize(y1_test.gender_y,np.unique(y1_test.gender_y)),\n",
    "                                                            y_predict_refex,average='weighted')"
   ]
  },
  {
   "cell_type": "code",
   "execution_count": 157,
   "metadata": {},
   "outputs": [],
   "source": [
    "model.fit(xall,\n",
    "    yall.gender_y)\n",
    "\n",
    "\n",
    "y_predict_refex = model.predict_proba(x_test)[:,1]\n"
   ]
  },
  {
   "cell_type": "code",
   "execution_count": 158,
   "metadata": {},
   "outputs": [
    {
     "name": "stdout",
     "output_type": "stream",
     "text": [
      "0.827958\n"
     ]
    }
   ],
   "source": [
    "## across-layer\n",
    "print(metrics.roc_auc_score(label_binarize(y_test.gender_y,np.unique(y_test.gender_y)),\n",
    "                                                            y_predict_refex,average='weighted'))\n",
    "\n"
   ]
  },
  {
   "cell_type": "code",
   "execution_count": null,
   "metadata": {},
   "outputs": [],
   "source": []
  },
  {
   "cell_type": "code",
   "execution_count": null,
   "metadata": {},
   "outputs": [],
   "source": []
  },
  {
   "cell_type": "code",
   "execution_count": null,
   "metadata": {},
   "outputs": [],
   "source": []
  },
  {
   "cell_type": "code",
   "execution_count": 63,
   "metadata": {},
   "outputs": [
    {
     "name": "stdout",
     "output_type": "stream",
     "text": [
      "0.6212449999999999\n"
     ]
    }
   ],
   "source": [
    "## across-network\n",
    "print(metrics.roc_auc_score(label_binarize(y_test.gender_y,np.unique(y_test.gender_y)),\n",
    "                                                            y_predict_refex,average='weighted'))\n",
    "\n",
    "#y_auc = metrics.roc_auc_score(label_binarize(y_test.gender_y,np.unique(y_test.gender_y)),\n",
    "#                                                            y_predict_refex,average='weighted')"
   ]
  },
  {
   "cell_type": "code",
   "execution_count": null,
   "metadata": {},
   "outputs": [],
   "source": []
  },
  {
   "cell_type": "code",
   "execution_count": null,
   "metadata": {},
   "outputs": [],
   "source": []
  },
  {
   "cell_type": "code",
   "execution_count": null,
   "metadata": {},
   "outputs": [],
   "source": []
  },
  {
   "cell_type": "code",
   "execution_count": null,
   "metadata": {},
   "outputs": [],
   "source": []
  },
  {
   "cell_type": "code",
   "execution_count": 62,
   "metadata": {},
   "outputs": [
    {
     "data": {
      "image/png": "[encoded data removed]",
      "text/plain": [
       "<Figure size 288x216 with 1 Axes>"
      ]
     },
     "metadata": {
      "needs_background": "light"
     },
     "output_type": "display_data"
    }
   ],
   "source": [
    "from matplotlib.backends.backend_pdf import PdfPages\n",
    "\n",
    "alpha_empirical = 0.4\n",
    "\n",
    "%matplotlib inline\n",
    "nbins = 45\n",
    "f, (ax1) = plt.subplots(1, 1, \n",
    "                             sharey=False, sharex=False,\n",
    "                            figsize=(4, 3))\n",
    "#plt.setp(ax1, xticks=[ 0. ,  1.5,  3. ,  4.5,  6. ,  7.5,  9. , 10.5, 12. , 13.5, 15. ], \n",
    "#         xticklabels=x_labels)\n",
    "#plt.setp(ax1.get_xticklabels(), rotation=90)\n",
    "\n",
    "#ax1.set_xticks([0,0.25, 0.5, 0.75, 1])\n",
    "ax1.minorticks_on()\n",
    "ax1.tick_params('both', length=4, width=1, which='major', left=1, bottom=1, top=0, right=0)\n",
    "plt.axhline(0.5, color='gray', linestyle='--', alpha = 0.5)\n",
    "\n",
    "\n",
    "w = 0.5\n",
    "width = 0.03\n",
    "ax1.bar(0.2,0.5, color = 'red', #alpha = 0.5,\n",
    "        #align = 'right',\n",
    "       width = width, edgecolor = 'white')\n",
    "\n",
    "ax1.bar(-0.2,y1_auc, color = 'deepskyblue',# alpha = 0.5,\n",
    "       # align = 'center',\n",
    "       width = width, edgecolor = 'white')\n",
    "ax1.bar(-0.1,y1_auc, color = 'blue', #alpha = 0.5,\n",
    "       # align = 'center',\n",
    "       width = width, edgecolor = 'white')\n",
    "ax1.bar(0,y3_auc, color = 'darkblue', #alpha = 0.5,\n",
    "       # align = 'center',\n",
    "       width = width, edgecolor = 'white')\n",
    "ax1.bar(0.1,y_auc, color = 'black', #alpha = 0.5,\n",
    "       # align = 'center',\n",
    "       width = width, edgecolor = 'white')\n",
    "ax1.set_ylabel('AUC')\n",
    "#ax1.set_xlabel(np.array(range(len(acc_generic)))*w,\n",
    "#           x_labels[0:11],\n",
    "#          rotation = 90)\n",
    "ax1.set_xlim(-1,1)\n",
    "ax1.set_ylim(0,1.1)\n",
    "plt.yticks(np.arange(0,1.1,0.1))\n",
    "ax1.spines[\"right\"].set_visible(False)\n",
    "ax1.spines[\"top\"].set_visible(False)\n",
    "\n",
    "\n",
    "ax1.annotate('ReFeX 1x', xy=(-0.9,1.08), \n",
    "                 color='deepskyblue', alpha=1, size=7)\n",
    "ax1.annotate('ReFeX 2x', xy=(-0.9,1.08-0.04), \n",
    "                 color='blue', alpha=1, size=7)\n",
    "ax1.annotate('ReFeX 3x', xy=(-0.9,1.08-0.04*2), \n",
    "                 color='darkblue', alpha=1, size=7)\n",
    "ax1.annotate('ReFeX max', xy=(-0.9,1.08-0.04*3), \n",
    "                 color='black', alpha=1, size=7)\n",
    "ax1.annotate('Baseline', xy=(-0.55,1.08), \n",
    "                 color='red', alpha=1, size=7)\n",
    "\n",
    "plt.title('SBM (Strong Homophily)')\n",
    "#plt.show()\n",
    "\n",
    "plt.tight_layout()\n",
    "plt.axhline(0.5, color='gray', linestyle='--', alpha = 0.5)\n",
    "plt.tight_layout()\n",
    "pp = PdfPages('../figs/SBM_instance_across_AUC_final.pdf')\n",
    "pp.savefig()\n",
    "pp.close()"
   ]
  },
  {
   "cell_type": "code",
   "execution_count": null,
   "metadata": {},
   "outputs": [],
   "source": []
  },
  {
   "cell_type": "code",
   "execution_count": null,
   "metadata": {},
   "outputs": [],
   "source": []
  },
  {
   "cell_type": "code",
   "execution_count": null,
   "metadata": {},
   "outputs": [],
   "source": []
  },
  {
   "cell_type": "code",
   "execution_count": null,
   "metadata": {},
   "outputs": [],
   "source": []
  },
  {
   "cell_type": "code",
   "execution_count": null,
   "metadata": {},
   "outputs": [],
   "source": []
  },
  {
   "cell_type": "code",
   "execution_count": null,
   "metadata": {},
   "outputs": [],
   "source": []
  },
  {
   "cell_type": "code",
   "execution_count": null,
   "metadata": {},
   "outputs": [],
   "source": []
  }
 ],
 "metadata": {
  "kernelspec": {
   "display_name": "Python 2",
   "language": "python",
   "name": "python2"
  },
  "language_info": {
   "codemirror_mode": {
    "name": "ipython",
    "version": 2
   },
   "file_extension": ".py",
   "mimetype": "text/x-python",
   "name": "python",
   "nbconvert_exporter": "python",
   "pygments_lexer": "ipython2",
   "version": "2.7.15"
  }
 },
 "nbformat": 4,
 "nbformat_minor": 1
}
