{
 "cells": [
  {
   "cell_type": "markdown",
   "metadata": {},
   "source": [
    "\n",
    "# Summary\n",
    "All related code/figures for oSBM. Code organization assumes working directory is notebook folder location. Note, this notebook pulls ReFeX generated features which happen in another script which we modify to create different recursions."
   ]
  },
  {
   "cell_type": "code",
   "execution_count": 1,
   "metadata": {},
   "outputs": [
    {
     "name": "stdout",
     "output_type": "stream",
     "text": [
      "2.7.15 |Anaconda, Inc.| (default, Oct 23 2018, 13:35:16) \n",
      "[GCC 4.2.1 Compatible Clang 4.0.1 (tags/RELEASE_401/final)]\n"
     ]
    },
    {
     "name": "stderr",
     "output_type": "stream",
     "text": [
      "/Users/kristen/anaconda3/envs/ipykernel_py2/lib/python2.7/site-packages/sklearn/ensemble/weight_boosting.py:29: DeprecationWarning: numpy.core.umath_tests is an internal NumPy module and should not be imported. It will be removed in a future NumPy release.\n",
      "  from numpy.core.umath_tests import inner1d\n"
     ]
    }
   ],
   "source": [
    "import sys\n",
    "print(sys.version)\n",
    "from __future__ import division\n",
    "import os\n",
    "#import igraph\n",
    "import numpy as np\n",
    "import pandas as pd\n",
    "from matplotlib.backends.backend_pdf import PdfPages\n",
    "from scipy.stats.kde import gaussian_kde\n",
    "from matplotlib.ticker import FixedLocator,LinearLocator,MultipleLocator, FormatStrFormatter\n",
    "# relevant python libraries\n",
    "execfile('./functions/python_libraries.py')\n",
    "# oSBM code\n",
    "from sklearn.model_selection import RandomizedSearchCV\n",
    "\n",
    "\n",
    "execfile('./functions/create_oSBM_class_specific_alternative.py')\n",
    "execfile('./functions/LINK.py')\n",
    "execfile('./functions/compute_homophily.py')"
   ]
  },
  {
   "cell_type": "markdown",
   "metadata": {},
   "source": [
    "### create 4 graph instances: noB-noO, yesB-noO, noB-yesO, yesB-yesO"
   ]
  },
  {
   "cell_type": "code",
   "execution_count": 2,
   "metadata": {},
   "outputs": [],
   "source": [
    "disp_val = 0.004"
   ]
  },
  {
   "cell_type": "code",
   "execution_count": 3,
   "metadata": {},
   "outputs": [
    {
     "name": "stdout",
     "output_type": "stream",
     "text": [
      "('p_in: ', 0.0504)\n",
      "('p_out: ', 0.0336)\n",
      "\n"
     ]
    }
   ],
   "source": [
    "( adj_matrix_gender, gender_y) = create_affiliation_model_temp(84,\n",
    "                                          lambda_block_parameter =1.2,\n",
    "                                          dispersion_parameter_vect = np.array([np.array([0, 0]),\n",
    "                                            np.array([0, 0])]),\n",
    "                                          class_size_vect = np.array([1000,1000]))"
   ]
  },
  {
   "cell_type": "code",
   "execution_count": 4,
   "metadata": {},
   "outputs": [],
   "source": [
    "tag = 'SBM2_new'"
   ]
  },
  {
   "cell_type": "code",
   "execution_count": 5,
   "metadata": {},
   "outputs": [],
   "source": [
    "gender_y = np.array(map(np.int,gender_y)) ## need np.int for machine precisions reasons\n",
    "d = {'keys':range(len(gender_y)),\n",
    "    'gender_y':gender_y}\n",
    "y_df = pd.DataFrame(d)\n",
    "Gnx = nx.from_numpy_matrix(adj_matrix_gender,\n",
    "                           create_using=nx.DiGraph())\n",
    "fb100_df_tmp = []\n",
    "for j in nx.generate_edgelist(Gnx, data = False):\n",
    "    fb100_df_tmp.append(map(np.int,j.split(' ')))\n",
    "fb100_df = pd.DataFrame(fb100_df_tmp)\n",
    "fb100_df.columns = ['from','to']\n",
    "fb100_df_undirect = fb100_df.copy()\n",
    "fb100_df_undirect['to'] = fb100_df['from']\n",
    "fb100_df_undirect['from'] = fb100_df['to']\n",
    "fb100_df = fb100_df.append(fb100_df_undirect)\n",
    "fb100_df['weight'] = 1\n",
    "fb100_df.head()\n",
    "fb100_df.drop_duplicates(inplace = True)\n",
    "## save output\n",
    "#fb100_df.to_csv('../../data/SBM/'+tag+'.csv', header = False, index = False)\n",
    "#y_df.to_csv('../../data/SBM/'+tag+'_gender.csv', header = True, index = False)\n"
   ]
  },
  {
   "cell_type": "markdown",
   "metadata": {},
   "source": [
    "### Within Network"
   ]
  },
  {
   "cell_type": "code",
   "execution_count": 6,
   "metadata": {},
   "outputs": [],
   "source": [
    "## 8/21/2018 - set up logforest model\n",
    "from sklearn.ensemble import BaggingClassifier\n",
    "from sklearn.metrics import f1_score\n",
    "from sklearn.metrics import confusion_matrix\n",
    "from sklearn.preprocessing import MinMaxScaler\n",
    "scaler = MinMaxScaler(feature_range=(0,1))\n",
    "\n",
    "\n",
    "percent_initially_unlabelled = [0.95,0.9,0.8,0.7,0.6,0.5,0.4,0.3,0.2,0.1,0.05]\n",
    "percent_initially_labelled = np.subtract(1, percent_initially_unlabelled)\n"
   ]
  },
  {
   "cell_type": "code",
   "execution_count": 7,
   "metadata": {},
   "outputs": [],
   "source": [
    "x3 = pd.read_csv('../../code/refex-rolx-master-3/SBM-data/out_union_0.5SBM_SBM1.csv-featureValues.csv', \n",
    "                                  header = -1)\n",
    "\n",
    "df_train = pd.DataFrame({'keys':np.array(map(np.int,x3[0]))})\n",
    "x3 = x3.loc[:,1::] #drop IDs column\n",
    "scaler.fit(x3) #transform each feature on [0,1]-scale\n",
    "x3 = scaler.transform(x3)\n",
    "y_train_y = pd.read_csv('../../data/SBM/SBM1_gender.csv')\n",
    "\n",
    "y3 = df_train.merge(y_train_y[['keys','gender_y']], ## will be in same order as features\n",
    "        how = 'left',\n",
    "        on = 'keys')"
   ]
  },
  {
   "cell_type": "code",
   "execution_count": null,
   "metadata": {},
   "outputs": [],
   "source": []
  },
  {
   "cell_type": "code",
   "execution_count": null,
   "metadata": {},
   "outputs": [],
   "source": []
  },
  {
   "cell_type": "code",
   "execution_count": 8,
   "metadata": {},
   "outputs": [],
   "source": [
    "x1 = pd.read_csv('../../code/refex-rolx-master-1/SBM-data/out_union_0.5SBM_SBM1.csv-featureValues.csv', \n",
    "                                  header = -1)\n",
    "\n",
    "df_train = pd.DataFrame({'keys':np.array(map(np.int,x1[0]))})\n",
    "x1 = x1.loc[:,1::] #drop IDs column\n",
    "scaler.fit(x1) #transform each feature on [0,1]-scale\n",
    "x1 = scaler.transform(x1)\n",
    "y_train_y = pd.read_csv('../../data/SBM/SBM1_gender.csv')\n",
    "y1 = df_train.merge(y_train_y[['keys','gender_y']],\n",
    "        how = 'left',\n",
    "        on = 'keys')\n",
    "\n"
   ]
  },
  {
   "cell_type": "code",
   "execution_count": 9,
   "metadata": {},
   "outputs": [
    {
     "name": "stdout",
     "output_type": "stream",
     "text": [
      "   keys\n",
      "0  1411\n",
      "1  1410\n",
      "2  1415\n",
      "3   941\n",
      "4  1414\n"
     ]
    }
   ],
   "source": [
    "x2 = pd.read_csv('../../code/refex-rolx-master-2/SBM-data/out_union_0.5SBM_SBM1.csv-featureValues.csv', \n",
    "                                  header = -1)\n",
    "\n",
    "df_train = pd.DataFrame({'keys':np.array(map(np.int,x2[0]))})\n",
    "print(df_train.head())\n",
    "x2 = x2.loc[:,1::] #drop IDs column\n",
    "scaler.fit(x2) #transform each feature on [0,1]-scale\n",
    "x2 = scaler.transform(x2)\n",
    "y_train_y = pd.read_csv('../../data/SBM/SBM1_gender.csv')\n",
    "y2 = df_train.merge(y_train_y[['keys','gender_y']],\n",
    "        how = 'left',\n",
    "        on = 'keys')"
   ]
  },
  {
   "cell_type": "code",
   "execution_count": 10,
   "metadata": {},
   "outputs": [
    {
     "name": "stdout",
     "output_type": "stream",
     "text": [
      "   keys\n",
      "0  1411\n",
      "1  1410\n",
      "2  1415\n",
      "3   941\n",
      "4  1414\n"
     ]
    }
   ],
   "source": [
    "xall = pd.read_csv('../../code/refex-rolx-master/SBM-data/out_union_0.5SBM_SBM1.csv-featureValues.csv',\n",
    "                  header = -1)\n",
    "df_train = pd.DataFrame({'keys':np.array(map(np.int,xall[0]))})\n",
    "print(df_train.head())\n",
    "xall = xall.loc[:,1::] #drop IDs column\n",
    "scaler.fit(xall) #transform each feature on [0,1]-scale\n",
    "xall = scaler.transform(xall)\n",
    "\n"
   ]
  },
  {
   "cell_type": "code",
   "execution_count": 11,
   "metadata": {},
   "outputs": [],
   "source": [
    "y_train_y = pd.read_csv('../../data/SBM/SBM1_gender.csv')\n",
    "yall = df_train.merge(y_train_y[['keys','gender_y']],\n",
    "        how = 'left',\n",
    "        on = 'keys')"
   ]
  },
  {
   "cell_type": "code",
   "execution_count": null,
   "metadata": {},
   "outputs": [],
   "source": []
  },
  {
   "cell_type": "code",
   "execution_count": 12,
   "metadata": {},
   "outputs": [],
   "source": [
    "max_depth = [3, 5, 10]\n",
    "max_depth.append(None)\n",
    "min_samples_leaf = [1,5]#[0.05, 0.1, 0.2]\n",
    "min_samples_split = [2,5] #[2, 3, 4, 5, 10]\n",
    "n_estimators = [50, 100, 1000]#150]\n",
    "max_features = ['auto', 0.25, 0.5, 0.75]\n",
    "random_grid = {'max_depth': max_depth,\n",
    "                'min_samples_leaf': min_samples_leaf,\n",
    "                'max_features': max_features,\n",
    "                'n_estimators': n_estimators,\n",
    "                'min_samples_split': min_samples_split\n",
    "                }\n",
    "\n",
    "clf = sklearn.ensemble.RandomForestClassifier(class_weight = 'balanced_subsample')\n",
    "model1 = RandomizedSearchCV(estimator = clf,\n",
    "                           param_distributions = random_grid,\n",
    "                           cv = 3, verbose=0, n_iter = 75,\n",
    "                           n_jobs = 2)\n",
    "\n",
    "model2 = RandomizedSearchCV(estimator = clf,\n",
    "                            param_distributions = random_grid,\n",
    "                            cv = 3, verbose=0,n_iter = 75,\n",
    "                            n_jobs = 2)\n",
    "model3 = RandomizedSearchCV(estimator = clf,\n",
    "                            param_distributions = random_grid,\n",
    "                            cv = 3, verbose=0,n_iter = 75,\n",
    "                            n_jobs = 2)\n",
    "modelall = RandomizedSearchCV(estimator = clf,\n",
    "                            param_distributions = random_grid,\n",
    "                            cv = 3, verbose=0,n_iter = 75,\n",
    "                            n_jobs = 2)"
   ]
  },
  {
   "cell_type": "code",
   "execution_count": null,
   "metadata": {},
   "outputs": [],
   "source": []
  },
  {
   "cell_type": "code",
   "execution_count": null,
   "metadata": {},
   "outputs": [],
   "source": []
  },
  {
   "cell_type": "code",
   "execution_count": 13,
   "metadata": {},
   "outputs": [
    {
     "name": "stderr",
     "output_type": "stream",
     "text": [
      "/Users/kristen/anaconda3/envs/ipykernel_py2/lib/python2.7/site-packages/sklearn/cross_validation.py:44: DeprecationWarning: This module was deprecated in version 0.18 in favor of the model_selection module into which all the refactored classes and functions are moved. Also note that the interface of the new CV iterators are different from that of this module. This module will be removed in 0.20.\n",
      "  \"This module will be removed in 0.20.\", DeprecationWarning)\n"
     ]
    }
   ],
   "source": [
    "from sklearn import cross_validation"
   ]
  },
  {
   "cell_type": "code",
   "execution_count": 14,
   "metadata": {},
   "outputs": [
    {
     "name": "stdout",
     "output_type": "stream",
     "text": [
      "0.95\n"
     ]
    },
    {
     "ename": "KeyboardInterrupt",
     "evalue": "",
     "output_type": "error",
     "traceback": [
      "\u001b[0;31m---------------------------------------------------------------------------\u001b[0m",
      "\u001b[0;31mKeyboardInterrupt\u001b[0m                         Traceback (most recent call last)",
      "\u001b[0;32m<ipython-input-14-233b33ef712f>\u001b[0m in \u001b[0;36m<module>\u001b[0;34m()\u001b[0m\n\u001b[1;32m      3\u001b[0m                                                                   \u001b[0mnp\u001b[0m\u001b[0;34m.\u001b[0m\u001b[0marray\u001b[0m\u001b[0;34m(\u001b[0m\u001b[0my3\u001b[0m\u001b[0;34m.\u001b[0m\u001b[0mgender_y\u001b[0m\u001b[0;34m)\u001b[0m\u001b[0;34m,\u001b[0m \u001b[0;31m## gender labels\u001b[0m\u001b[0;34m\u001b[0m\u001b[0m\n\u001b[1;32m      4\u001b[0m                                                                   \u001b[0mnp\u001b[0m\u001b[0;34m.\u001b[0m\u001b[0mmatrix\u001b[0m\u001b[0;34m(\u001b[0m\u001b[0mx3\u001b[0m\u001b[0;34m)\u001b[0m\u001b[0;34m,\u001b[0m \u001b[0;31m## adjacency matrix\u001b[0m\u001b[0;34m\u001b[0m\u001b[0m\n\u001b[0;32m----> 5\u001b[0;31m                                                                   clf = model3,num_iter=25)\n\u001b[0m",
      "\u001b[0;32m/Users/kristen/Dropbox/monophily_extension/nw_structure_LI_LD/code/functions/LINK.py\u001b[0m in \u001b[0;36mLINK\u001b[0;34m(num_unlabeled, membership_y, feature_x, clf, num_iter, cv_setup)\u001b[0m\n\u001b[1;32m     32\u001b[0m             \u001b[0;31m#if k==0:\u001b[0m\u001b[0;34m\u001b[0m\u001b[0;34m\u001b[0m\u001b[0m\n\u001b[1;32m     33\u001b[0m             \u001b[0;31m#print train\u001b[0m\u001b[0;34m\u001b[0m\u001b[0;34m\u001b[0m\u001b[0m\n\u001b[0;32m---> 34\u001b[0;31m             \u001b[0mclf\u001b[0m\u001b[0;34m.\u001b[0m\u001b[0mfit\u001b[0m\u001b[0;34m(\u001b[0m\u001b[0mfeature_x\u001b[0m\u001b[0;34m[\u001b[0m\u001b[0mtrain\u001b[0m\u001b[0;34m]\u001b[0m\u001b[0;34m,\u001b[0m \u001b[0mnp\u001b[0m\u001b[0;34m.\u001b[0m\u001b[0mravel\u001b[0m\u001b[0;34m(\u001b[0m\u001b[0mmembership_y\u001b[0m\u001b[0;34m[\u001b[0m\u001b[0mtrain\u001b[0m\u001b[0;34m]\u001b[0m\u001b[0;34m)\u001b[0m\u001b[0;34m)\u001b[0m\u001b[0;34m\u001b[0m\u001b[0m\n\u001b[0m\u001b[1;32m     35\u001b[0m             \u001b[0mpred\u001b[0m \u001b[0;34m=\u001b[0m \u001b[0mclf\u001b[0m\u001b[0;34m.\u001b[0m\u001b[0mpredict\u001b[0m\u001b[0;34m(\u001b[0m\u001b[0mfeature_x\u001b[0m\u001b[0;34m[\u001b[0m\u001b[0mtest\u001b[0m\u001b[0;34m]\u001b[0m\u001b[0;34m)\u001b[0m\u001b[0;34m\u001b[0m\u001b[0m\n\u001b[1;32m     36\u001b[0m             \u001b[0mprob\u001b[0m \u001b[0;34m=\u001b[0m \u001b[0mclf\u001b[0m\u001b[0;34m.\u001b[0m\u001b[0mpredict_proba\u001b[0m\u001b[0;34m(\u001b[0m\u001b[0mfeature_x\u001b[0m\u001b[0;34m[\u001b[0m\u001b[0mtest\u001b[0m\u001b[0;34m]\u001b[0m\u001b[0;34m)\u001b[0m\u001b[0;34m\u001b[0m\u001b[0m\n",
      "\u001b[0;32m/Users/kristen/anaconda3/envs/ipykernel_py2/lib/python2.7/site-packages/sklearn/model_selection/_search.pyc\u001b[0m in \u001b[0;36mfit\u001b[0;34m(self, X, y, groups)\u001b[0m\n\u001b[1;32m   1188\u001b[0m                                           \u001b[0mself\u001b[0m\u001b[0;34m.\u001b[0m\u001b[0mn_iter\u001b[0m\u001b[0;34m,\u001b[0m\u001b[0;34m\u001b[0m\u001b[0m\n\u001b[1;32m   1189\u001b[0m                                           random_state=self.random_state)\n\u001b[0;32m-> 1190\u001b[0;31m         \u001b[0;32mreturn\u001b[0m \u001b[0mself\u001b[0m\u001b[0;34m.\u001b[0m\u001b[0m_fit\u001b[0m\u001b[0;34m(\u001b[0m\u001b[0mX\u001b[0m\u001b[0;34m,\u001b[0m \u001b[0my\u001b[0m\u001b[0;34m,\u001b[0m \u001b[0mgroups\u001b[0m\u001b[0;34m,\u001b[0m \u001b[0msampled_params\u001b[0m\u001b[0;34m)\u001b[0m\u001b[0;34m\u001b[0m\u001b[0m\n\u001b[0m",
      "\u001b[0;32m/Users/kristen/anaconda3/envs/ipykernel_py2/lib/python2.7/site-packages/sklearn/model_selection/_search.pyc\u001b[0m in \u001b[0;36m_fit\u001b[0;34m(self, X, y, groups, parameter_iterable)\u001b[0m\n\u001b[1;32m    562\u001b[0m                                   \u001b[0mreturn_times\u001b[0m\u001b[0;34m=\u001b[0m\u001b[0mTrue\u001b[0m\u001b[0;34m,\u001b[0m \u001b[0mreturn_parameters\u001b[0m\u001b[0;34m=\u001b[0m\u001b[0mTrue\u001b[0m\u001b[0;34m,\u001b[0m\u001b[0;34m\u001b[0m\u001b[0m\n\u001b[1;32m    563\u001b[0m                                   error_score=self.error_score)\n\u001b[0;32m--> 564\u001b[0;31m           \u001b[0;32mfor\u001b[0m \u001b[0mparameters\u001b[0m \u001b[0;32min\u001b[0m \u001b[0mparameter_iterable\u001b[0m\u001b[0;34m\u001b[0m\u001b[0m\n\u001b[0m\u001b[1;32m    565\u001b[0m           for train, test in cv_iter)\n\u001b[1;32m    566\u001b[0m \u001b[0;34m\u001b[0m\u001b[0m\n",
      "\u001b[0;32m/Users/kristen/anaconda3/envs/ipykernel_py2/lib/python2.7/site-packages/sklearn/externals/joblib/parallel.pyc\u001b[0m in \u001b[0;36m__call__\u001b[0;34m(self, iterable)\u001b[0m\n\u001b[1;32m    766\u001b[0m                 \u001b[0;31m# consumption.\u001b[0m\u001b[0;34m\u001b[0m\u001b[0;34m\u001b[0m\u001b[0m\n\u001b[1;32m    767\u001b[0m                 \u001b[0mself\u001b[0m\u001b[0;34m.\u001b[0m\u001b[0m_iterating\u001b[0m \u001b[0;34m=\u001b[0m \u001b[0mFalse\u001b[0m\u001b[0;34m\u001b[0m\u001b[0m\n\u001b[0;32m--> 768\u001b[0;31m             \u001b[0mself\u001b[0m\u001b[0;34m.\u001b[0m\u001b[0mretrieve\u001b[0m\u001b[0;34m(\u001b[0m\u001b[0;34m)\u001b[0m\u001b[0;34m\u001b[0m\u001b[0m\n\u001b[0m\u001b[1;32m    769\u001b[0m             \u001b[0;31m# Make sure that we get a last message telling us we are done\u001b[0m\u001b[0;34m\u001b[0m\u001b[0;34m\u001b[0m\u001b[0m\n\u001b[1;32m    770\u001b[0m             \u001b[0melapsed_time\u001b[0m \u001b[0;34m=\u001b[0m \u001b[0mtime\u001b[0m\u001b[0;34m.\u001b[0m\u001b[0mtime\u001b[0m\u001b[0;34m(\u001b[0m\u001b[0;34m)\u001b[0m \u001b[0;34m-\u001b[0m \u001b[0mself\u001b[0m\u001b[0;34m.\u001b[0m\u001b[0m_start_time\u001b[0m\u001b[0;34m\u001b[0m\u001b[0m\n",
      "\u001b[0;32m/Users/kristen/anaconda3/envs/ipykernel_py2/lib/python2.7/site-packages/sklearn/externals/joblib/parallel.pyc\u001b[0m in \u001b[0;36mretrieve\u001b[0;34m(self)\u001b[0m\n\u001b[1;32m    717\u001b[0m                     \u001b[0mensure_ready\u001b[0m \u001b[0;34m=\u001b[0m \u001b[0mself\u001b[0m\u001b[0;34m.\u001b[0m\u001b[0m_managed_backend\u001b[0m\u001b[0;34m\u001b[0m\u001b[0m\n\u001b[1;32m    718\u001b[0m                     \u001b[0mbackend\u001b[0m\u001b[0;34m.\u001b[0m\u001b[0mabort_everything\u001b[0m\u001b[0;34m(\u001b[0m\u001b[0mensure_ready\u001b[0m\u001b[0;34m=\u001b[0m\u001b[0mensure_ready\u001b[0m\u001b[0;34m)\u001b[0m\u001b[0;34m\u001b[0m\u001b[0m\n\u001b[0;32m--> 719\u001b[0;31m                 \u001b[0;32mraise\u001b[0m \u001b[0mexception\u001b[0m\u001b[0;34m\u001b[0m\u001b[0m\n\u001b[0m\u001b[1;32m    720\u001b[0m \u001b[0;34m\u001b[0m\u001b[0m\n\u001b[1;32m    721\u001b[0m     \u001b[0;32mdef\u001b[0m \u001b[0m__call__\u001b[0m\u001b[0;34m(\u001b[0m\u001b[0mself\u001b[0m\u001b[0;34m,\u001b[0m \u001b[0miterable\u001b[0m\u001b[0;34m)\u001b[0m\u001b[0;34m:\u001b[0m\u001b[0;34m\u001b[0m\u001b[0m\n",
      "\u001b[0;31mKeyboardInterrupt\u001b[0m: "
     ]
    }
   ],
   "source": [
    "(mean_accuracy_x3, se_accuracy_x3, \n",
    "     mean_micro_auc_x3,se_micro_auc_x3, mean_wt_auc_x3_lbfgs,se_wt_auc_x3)= LINK(percent_initially_unlabelled, ## note: mean_se_model assumes a vector of x% initially labeled\n",
    "                                                                  np.array(y3.gender_y), ## gender labels \n",
    "                                                                  np.matrix(x3), ## adjacency matrix\n",
    "                                                                  clf = model3,num_iter=25)"
   ]
  },
  {
   "cell_type": "code",
   "execution_count": null,
   "metadata": {},
   "outputs": [],
   "source": [
    "(mean_accuracy_x1, se_accuracy_x1, \n",
    "     mean_micro_auc_x1,se_micro_auc_x1, mean_wt_auc_x1_lbfgs,se_wt_auc_x1)= LINK(percent_initially_unlabelled, ## note: mean_se_model assumes a vector of x% initially labeled\n",
    "                                                                  np.array(y1.gender_y), ## gender labels \n",
    "                                                                  np.matrix(x1), ## adjacency matrix\n",
    "                                                                  clf = model1,num_iter=25)\n",
    "    "
   ]
  },
  {
   "cell_type": "code",
   "execution_count": null,
   "metadata": {},
   "outputs": [],
   "source": [
    "mean_wt_auc_x1_lbfgs"
   ]
  },
  {
   "cell_type": "code",
   "execution_count": null,
   "metadata": {},
   "outputs": [],
   "source": []
  },
  {
   "cell_type": "code",
   "execution_count": null,
   "metadata": {},
   "outputs": [],
   "source": [
    "(mean_accuracy_x2, se_accuracy_x2, \n",
    "     mean_micro_auc_x2,se_micro_auc_x2, mean_wt_auc_x2_lbfgs,se_wt_auc_x2)= LINK(percent_initially_unlabelled, ## note: mean_se_model assumes a vector of x% initially labeled\n",
    "                                                                  np.array(y2.gender_y), ## gender labels \n",
    "                                                                  np.matrix(x2), ## adjacency matrix\n",
    "                                                                  clf = model2,num_iter=25)"
   ]
  },
  {
   "cell_type": "code",
   "execution_count": null,
   "metadata": {},
   "outputs": [],
   "source": [
    "(mean_accuracy_xall, se_accuracy_xall, \n",
    "     mean_micro_auc_xall,se_micro_auc_xall, mean_wt_auc_xall_lbfgs,se_wt_auc_xall)= LINK(percent_initially_unlabelled, ## note: mean_se_model assumes a vector of x% initially labeled\n",
    "                                                                  np.array(yall.gender_y), ## gender labels \n",
    "                                                                  np.matrix(xall), ## adjacency matrix\n",
    "                                                                  clf = modelall,\n",
    "                                                                num_iter=25)\n"
   ]
  },
  {
   "cell_type": "code",
   "execution_count": null,
   "metadata": {},
   "outputs": [],
   "source": [
    "## LINK set-up\n",
    "edges = pd.read_csv('../../data/SBM/SBM1.csv', header = -1)\n",
    "edges.head()\n",
    "df = pd.crosstab(edges[0], edges[1])\n",
    "print df.head()\n",
    "idx = df.columns.union(df.index)\n",
    "df = df.reindex(index = idx, columns=idx, fill_value=0)\n"
   ]
  },
  {
   "cell_type": "code",
   "execution_count": null,
   "metadata": {},
   "outputs": [],
   "source": [
    "(mean_accuracy_LINK_RM, se_accuracy_LINK_RM, \n",
    "     mean_micro_auc_LINK_RM,se_micro_auc_LINK_RM, mean_wt_LINK_RM,se_wt_LINK_RM)= LINK(percent_initially_unlabelled, ## note: mean_se_model assumes a vector of x% initially labeled\n",
    "                                                                  np.array(y_train_y.gender_y), ## gender labels \n",
    "                                                                  np.matrix(df), ## adjacency matrix\n",
    "                                                clf = linear_model.LogisticRegression(penalty='l2',\n",
    "                                                                           solver='lbfgs',\n",
    "                                                                            C=10e20),num_iter=25, \n",
    "                                                                cv_setup = None)\n"
   ]
  },
  {
   "cell_type": "markdown",
   "metadata": {
    "collapsed": true
   },
   "source": [
    "### node2vec needs added in"
   ]
  },
  {
   "cell_type": "code",
   "execution_count": null,
   "metadata": {},
   "outputs": [],
   "source": [
    "n2v_RM = pd.read_csv('../../code/node2vec/emb/SBM.emb',\n",
    "                      skiprows=1,\n",
    "                    header = None,\n",
    "                      sep=' ')\n",
    "n2v_RM.head()"
   ]
  },
  {
   "cell_type": "code",
   "execution_count": null,
   "metadata": {},
   "outputs": [],
   "source": [
    "tmp = pd.DataFrame(n2v_RM[0])\n",
    "tmp.columns = ['keys']\n",
    "\n",
    "y_labels = tmp.merge(y_train_y[['keys','gender_y']],\n",
    "              left_on = 'keys',\n",
    "              right_on = 'keys',\n",
    "              how = 'left')\n",
    "np.sum(y_labels['keys']!=n2v_RM[0])"
   ]
  },
  {
   "cell_type": "code",
   "execution_count": null,
   "metadata": {},
   "outputs": [],
   "source": [
    "n2v_RM =n2v_RM[~y_labels.gender_y.isna()]\n",
    "y_labels =y_labels[~y_labels.gender_y.isna()]"
   ]
  },
  {
   "cell_type": "code",
   "execution_count": null,
   "metadata": {},
   "outputs": [],
   "source": [
    "n2v_RM.drop(0, axis =1, inplace = True)"
   ]
  },
  {
   "cell_type": "code",
   "execution_count": null,
   "metadata": {},
   "outputs": [],
   "source": [
    "## Random Forest Model\n",
    "(mean_accuracy_node2vec, se_accuracy_node2vec, \n",
    " mean_micro_auc_node2vec,se_micro_auc_node2vec, mean_wt_node2vec_C,se_wt_node2vec)= LINK(percent_initially_unlabelled, ## note: mean_se_model assumes a vector of x% initially labeled\n",
    "                                                              np.array(y_labels.gender_y).astype(np.int), ## gender labels \n",
    "                                                              np.matrix(n2v_RM), ## adjacency matrix\n",
    "                                                       clf = modelall,\n",
    "                                                                num_iter=25, \n",
    "                                                                     cv_setup = 'stratified')\n",
    "\n",
    "\n",
    "\n",
    "\n"
   ]
  },
  {
   "cell_type": "code",
   "execution_count": null,
   "metadata": {},
   "outputs": [],
   "source": [
    "from matplotlib.backends.backend_pdf import PdfPages\n",
    "\n",
    "alpha_empirical = 0.4\n",
    "\n",
    "%matplotlib inline\n",
    "nbins = 45\n",
    "f, (ax1) = plt.subplots(1, 1, \n",
    "                    sharey=False, sharex=False,\n",
    "                figsize=(5,4))#(5, 4))\n",
    "\n",
    "plt.setp(ax1, xticks=[0,25,50,75,100])\n",
    "#plt.setp(ax1, xticks=[ 0. ,  1.5,  3. ,  4.5,  6. ,  7.5,  9. , 10.5, 12. , 13.5, 15. ], \n",
    "#         xticklabels=school_names)#subset_schools_new)\n",
    "#plt.setp(ax1.get_xticklabels(), \n",
    "#         rotation=90, size = 10)\n",
    "\n",
    "ax1.set_xticks([0,25,50,75,100])\n",
    "ax1.minorticks_on()\n",
    "ax1.tick_params('both', length=4, width=1, which='major', left=1, bottom=1, top=0, right=0)\n",
    "\n",
    "w = 1.5\n",
    "width = 0.15\n",
    "ax1.errorbar(percent_initially_labelled*100, mean_wt_auc_x1_lbfgs,\n",
    "            yerr=se_wt_auc_x1, fmt='--o', capthick=2,\n",
    "            alpha=1, elinewidth=3, color='deepskyblue')\n",
    "\n",
    "ax1.errorbar(percent_initially_labelled*100, mean_wt_auc_x2_lbfgs,\n",
    "    yerr=se_wt_auc_x2, fmt='--o', capthick=2,\n",
    "    alpha=1, elinewidth=3, color='blue')\n",
    "ax1.errorbar(percent_initially_labelled*100, mean_wt_auc_x3_lbfgs,\n",
    "    yerr=se_wt_auc_x3, fmt='--o', capthick=2,\n",
    "    alpha=1, elinewidth=3, color='darkblue')\n",
    "ax1.errorbar(percent_initially_labelled*100, mean_wt_auc_xall_lbfgs,\n",
    "    yerr=se_wt_auc_xall, fmt='--o', capthick=2,\n",
    "    alpha=1, elinewidth=3, color='black')\n",
    "ax1.errorbar(percent_initially_labelled*100, mean_wt_LINK_RM,\n",
    "    yerr=se_wt_LINK_RM, fmt='--o', capthick=2,\n",
    "    alpha=1, elinewidth=3, color='gray')\n",
    "ax1.errorbar(percent_initially_labelled*100, mean_wt_node2vec_C,\n",
    "    yerr=se_wt_node2vec, fmt='--o', capthick=2,\n",
    "    alpha=1, elinewidth=3, color='red')\n",
    "\n",
    "\n",
    "ax1.annotate('ReFeX 1x', xy=(3, 0.4), \n",
    "         color='deepskyblue', alpha=1, size=10)\n",
    "ax1.annotate('ReFeX 2x', xy=(3, 0.35), \n",
    "         color='blue', alpha=1, size=10)\n",
    "ax1.annotate('ReFeX 3x', xy=(3, 0.30), \n",
    "         color='darkblue', alpha=1, size=10)\n",
    "ax1.annotate('ReFeX max', xy=(3, 0.25), \n",
    "        color='black', alpha=1, size=10)\n",
    "ax1.annotate('LINK', xy=(3, 0.2), \n",
    "         color='gray', alpha=1, size=10)\n",
    "ax1.annotate('node2vec', xy=(3, 0.15), \n",
    "         color='red', alpha=1, size=10)\n",
    "\n",
    "\n",
    "ax1.set_ylabel('AUC', size=13)\n",
    "ax1.set_xlabel('Percent of Nodes Initially Labeled', size=13)\n",
    "ax1.set_ylim(0,1.05)\n",
    "plt.yticks(np.arange(0,1.1,0.1))\n",
    "ax1.spines[\"right\"].set_visible(False)\n",
    "ax1.spines[\"top\"].set_visible(False)\n",
    "ax1.set_xlim(-1,100)\n",
    "plt.title('SBM (Strong Homophily)',fontsize=14)\n",
    "#plt.show()\n",
    "plt.tight_layout()\n",
    "pp = PdfPages('../figs/SBM_instance_within_AUC_final.pdf')\n",
    "pp.savefig()\n",
    "pp.close()"
   ]
  },
  {
   "cell_type": "code",
   "execution_count": null,
   "metadata": {},
   "outputs": [],
   "source": []
  },
  {
   "cell_type": "code",
   "execution_count": null,
   "metadata": {},
   "outputs": [],
   "source": []
  },
  {
   "cell_type": "code",
   "execution_count": null,
   "metadata": {},
   "outputs": [],
   "source": []
  },
  {
   "cell_type": "markdown",
   "metadata": {},
   "source": [
    "## Set-up as Across-Network Problem"
   ]
  },
  {
   "cell_type": "code",
   "execution_count": 21,
   "metadata": {},
   "outputs": [],
   "source": [
    "x3_test = pd.read_csv('../../code/refex-rolx-master-3/SBM-data/out_union_0.5SBM_SBM2.csv-featureValues.csv', \n",
    "                                  header = -1)\n",
    "\n",
    "df_test = pd.DataFrame({'keys':np.array(map(np.int,x3_test[0]))})\n",
    "x3_test = x3_test.loc[:,1::] #drop IDs column\n",
    "scaler.fit(x3_test) #transform each feature on [0,1]-scale\n",
    "x3_test = scaler.transform(x3_test)\n",
    "y_test_y = pd.read_csv('../../data/SBM/SBM2_gender.csv')\n",
    "\n",
    "y3_test = df_test.merge(y_test_y[['keys','gender_y']], ## will be in same order as features\n",
    "        how = 'left',\n",
    "        on = 'keys')"
   ]
  },
  {
   "cell_type": "code",
   "execution_count": 39,
   "metadata": {},
   "outputs": [],
   "source": [
    "x2_test = pd.read_csv('../../code/refex-rolx-master-2/SBM-data/out_union_0.5SBM_SBM2.csv-featureValues.csv', \n",
    "                                  header = -1)\n",
    "\n",
    "df_test = pd.DataFrame({'keys':np.array(map(np.int,x2_test[0]))})\n",
    "x2_test = x2_test.loc[:,1::] #drop IDs column\n",
    "scaler.fit(x2_test) #transform each feature on [0,1]-scale\n",
    "x2_test = scaler.transform(x2_test)\n",
    "y_test_y = pd.read_csv('../../data/SBM/SBM2_gender.csv')\n",
    "\n",
    "y2_test = df_test.merge(y_test_y[['keys','gender_y']], ## will be in same order as features\n",
    "        how = 'left',\n",
    "        on = 'keys')"
   ]
  },
  {
   "cell_type": "code",
   "execution_count": 195,
   "metadata": {},
   "outputs": [
    {
     "name": "stdout",
     "output_type": "stream",
     "text": [
      "      keys\n",
      "1995   259\n",
      "1996   254\n",
      "1997   253\n",
      "1998   256\n",
      "1999   255\n"
     ]
    }
   ],
   "source": [
    "x1_test = pd.read_csv('../../code/refex-rolx-master-1/SBM-data/out_union_0.5SBM_SBM2.csv-featureValues.csv', \n",
    "                                  header = -1)\n",
    "\n",
    "df_test = pd.DataFrame({'keys':np.array(map(np.int,x1_test[0]))})\n",
    "print(df_test.tail())\n",
    "\n",
    "\n",
    "x1_test = x1_test.loc[:,1::] #drop IDs column\n",
    "scaler.fit(x1_test) #transform each feature on [0,1]-scale\n",
    "x1_test = scaler.transform(x1_test)\n",
    "y_test_y = pd.read_csv('../../data/SBM/SBM2_gender.csv')\n",
    "\n",
    "y1_test = df_test.merge(y_test_y[['keys','gender_y']], ## will be in same order as features\n",
    "        how = 'left',\n",
    "        on = 'keys')"
   ]
  },
  {
   "cell_type": "code",
   "execution_count": 196,
   "metadata": {},
   "outputs": [
    {
     "name": "stdout",
     "output_type": "stream",
     "text": [
      "      keys\n",
      "1995   259\n",
      "1996   254\n",
      "1997   253\n",
      "1998   256\n",
      "1999   255\n"
     ]
    }
   ],
   "source": [
    "x_test = pd.read_csv('../../code/refex-rolx-master/SBM-data/out_union_0.5SBM_SBM2.csv-featureValues.csv', \n",
    "                                  header = -1)\n",
    "\n",
    "df_test = pd.DataFrame({'keys':np.array(map(np.int,x_test[0]))})\n",
    "print(df_test.tail())\n",
    "x_test = x_test.loc[:,1::] #drop IDs column\n",
    "scaler.fit(x_test) #transform each feature on [0,1]-scale\n",
    "x_test = scaler.transform(x_test)\n",
    "y_test_y = pd.read_csv('../../data/SBM/SBM2_gender.csv')\n",
    "\n",
    "y_test = df_test.merge(y_test_y[['keys','gender_y']], ## will be in same order as features\n",
    "        how = 'left',\n",
    "        on = 'keys')"
   ]
  },
  {
   "cell_type": "code",
   "execution_count": 47,
   "metadata": {},
   "outputs": [
    {
     "data": {
      "text/plain": [
       "array([[0. , 0.1, 0. , ..., 0. , 0. , 0.1],\n",
       "       [0. , 0. , 0. , ..., 0. , 0. , 0. ],\n",
       "       [0. , 0. , 0. , ..., 0. , 0.2, 0.1],\n",
       "       ...,\n",
       "       [0. , 0. , 0. , ..., 0. , 0. , 0. ],\n",
       "       [0. , 0.2, 0. , ..., 0. , 0.3, 0.2],\n",
       "       [0. , 0.1, 0. , ..., 0. , 0.1, 0.1]])"
      ]
     },
     "execution_count": 47,
     "metadata": {},
     "output_type": "execute_result"
    }
   ],
   "source": [
    "x_test"
   ]
  },
  {
   "cell_type": "code",
   "execution_count": null,
   "metadata": {},
   "outputs": [],
   "source": []
  },
  {
   "cell_type": "code",
   "execution_count": null,
   "metadata": {},
   "outputs": [],
   "source": []
  },
  {
   "cell_type": "code",
   "execution_count": null,
   "metadata": {},
   "outputs": [],
   "source": []
  },
  {
   "cell_type": "code",
   "execution_count": 26,
   "metadata": {},
   "outputs": [
    {
     "data": {
      "text/plain": [
       "RandomizedSearchCV(cv=3, error_score='raise',\n",
       "          estimator=RandomForestClassifier(bootstrap=True, class_weight='balanced_subsample',\n",
       "            criterion='gini', max_depth=None, max_features='auto',\n",
       "            max_leaf_nodes=None, min_impurity_split=1e-07,\n",
       "            min_samples_leaf=1, min_samples_split=2,\n",
       "            min_weight_fraction_leaf=0.0, n_estimators=10, n_jobs=1,\n",
       "            oob_score=False, random_state=None, verbose=0,\n",
       "            warm_start=False),\n",
       "          fit_params={}, iid=True, n_iter=100, n_jobs=2,\n",
       "          param_distributions={'max_features': ['auto', 0.25, 0.5, 0.75], 'n_estimators': [50, 100, 150], 'min_samples_split': [2, 3, 4, 5, 10], 'max_depth': [3, 5, 10, None], 'min_samples_leaf': [0.05, 0.1, 0.2]},\n",
       "          pre_dispatch='2*n_jobs', random_state=None, refit=True,\n",
       "          return_train_score=True, scoring=None, verbose=0)"
      ]
     },
     "execution_count": 26,
     "metadata": {},
     "output_type": "execute_result"
    }
   ],
   "source": [
    "max_depth = [3, 5, 10]\n",
    "max_depth.append(None)\n",
    "min_samples_leaf = [0.05, 0.1, 0.2]\n",
    "min_samples_split = [2, 3, 4, 5, 10]\n",
    "n_estimators = [50, 100, 150]\n",
    "max_features = ['auto', 0.25, 0.5, 0.75]\n",
    "random_grid = {'max_depth': max_depth,\n",
    "                'min_samples_leaf': min_samples_leaf,\n",
    "                'max_features': max_features,\n",
    "                'n_estimators': n_estimators,\n",
    "                'min_samples_split': min_samples_split\n",
    "                }\n",
    "\n",
    "clf = sklearn.ensemble.RandomForestClassifier(class_weight = 'balanced_subsample')\n",
    "model = RandomizedSearchCV(estimator = clf,\n",
    "                           param_distributions = random_grid,\n",
    "                           cv = 3, verbose=0,\n",
    "                           n_jobs = 2, n_iter = 100)\n",
    "model.fit(x3,\n",
    "    y3.gender_y)\n"
   ]
  },
  {
   "cell_type": "code",
   "execution_count": 27,
   "metadata": {},
   "outputs": [
    {
     "name": "stdout",
     "output_type": "stream",
     "text": [
      "0.531038\n"
     ]
    }
   ],
   "source": [
    "y_predict_refex = model.predict(x3_test)\n",
    "\n",
    "y_predict_refex = model.predict_proba(x3_test)[:,1]\n",
    "\n",
    "print(metrics.roc_auc_score(label_binarize(y3_test.gender_y,np.unique(y3_test.gender_y)),\n",
    "                                                            y_predict_refex,average='weighted'))\n"
   ]
  },
  {
   "cell_type": "code",
   "execution_count": 28,
   "metadata": {},
   "outputs": [],
   "source": [
    "y3_auc = metrics.roc_auc_score(label_binarize(y3_test.gender_y,np.unique(y3_test.gender_y)),\n",
    "                                                            y_predict_refex,average='weighted')"
   ]
  },
  {
   "cell_type": "code",
   "execution_count": 42,
   "metadata": {},
   "outputs": [
    {
     "name": "stdout",
     "output_type": "stream",
     "text": [
      "0.5222955\n"
     ]
    },
    {
     "ename": "TypeError",
     "evalue": "roc_auc_score() takes at least 2 arguments (1 given)",
     "output_type": "error",
     "traceback": [
      "\u001b[0;31m---------------------------------------------------------------------------\u001b[0m",
      "\u001b[0;31mTypeError\u001b[0m                                 Traceback (most recent call last)",
      "\u001b[0;32m<ipython-input-42-d45e5f6dea6a>\u001b[0m in \u001b[0;36m<module>\u001b[0;34m()\u001b[0m\n\u001b[1;32m      9\u001b[0m \u001b[0;34m\u001b[0m\u001b[0m\n\u001b[1;32m     10\u001b[0m y2_auc = metrics.roc_auc_score(metrics.roc_auc_score(label_binarize(y2_test.gender_y,np.unique(y2_test.gender_y)),\n\u001b[0;32m---> 11\u001b[0;31m                                                             y_predict_refex,average='weighted'))\n\u001b[0m",
      "\u001b[0;31mTypeError\u001b[0m: roc_auc_score() takes at least 2 arguments (1 given)"
     ]
    }
   ],
   "source": [
    "model.fit(x2,\n",
    "    y2.gender_y)\n"
   ]
  },
  {
   "cell_type": "code",
   "execution_count": 44,
   "metadata": {},
   "outputs": [
    {
     "name": "stdout",
     "output_type": "stream",
     "text": [
      "0.5222955\n"
     ]
    }
   ],
   "source": [
    "y_predict_refex = model.predict_proba(x2_test)[:,1]\n",
    "\n",
    "print(metrics.roc_auc_score(label_binarize(y2_test.gender_y,np.unique(y2_test.gender_y)),\n",
    "                                                            y_predict_refex,average='weighted'))\n",
    "\n",
    "y2_auc = metrics.roc_auc_score(label_binarize(y2_test.gender_y,np.unique(y2_test.gender_y)),\n",
    "                                                            y_predict_refex,average='weighted')"
   ]
  },
  {
   "cell_type": "code",
   "execution_count": 45,
   "metadata": {},
   "outputs": [
    {
     "name": "stdout",
     "output_type": "stream",
     "text": [
      "0.509936\n"
     ]
    }
   ],
   "source": [
    "model.fit(x1,\n",
    "    y1.gender_y)\n",
    "\n",
    "\n",
    "y_predict_refex = model.predict_proba(x1_test)[:,1]\n",
    "\n",
    "print(metrics.roc_auc_score(label_binarize(y1_test.gender_y,np.unique(y1_test.gender_y)),\n",
    "                                                            y_predict_refex,average='weighted'))\n",
    "\n",
    "y1_auc = metrics.roc_auc_score(label_binarize(y1_test.gender_y,np.unique(y1_test.gender_y)),\n",
    "                                                            y_predict_refex,average='weighted')"
   ]
  },
  {
   "cell_type": "code",
   "execution_count": 48,
   "metadata": {},
   "outputs": [
    {
     "name": "stdout",
     "output_type": "stream",
     "text": [
      "0.5321374999999999\n"
     ]
    }
   ],
   "source": [
    "model.fit(xall,\n",
    "    yall.gender_y)\n",
    "\n",
    "\n",
    "y_predict_refex = model.predict_proba(x_test)[:,1]\n",
    "\n",
    "print(metrics.roc_auc_score(label_binarize(y_test.gender_y,np.unique(y_test.gender_y)),\n",
    "                                                            y_predict_refex,average='weighted'))\n",
    "\n",
    "y_auc = metrics.roc_auc_score(label_binarize(y_test.gender_y,np.unique(y_test.gender_y)),\n",
    "                                                            y_predict_refex,average='weighted')"
   ]
  },
  {
   "cell_type": "code",
   "execution_count": null,
   "metadata": {},
   "outputs": [],
   "source": []
  },
  {
   "cell_type": "code",
   "execution_count": null,
   "metadata": {},
   "outputs": [],
   "source": []
  },
  {
   "cell_type": "code",
   "execution_count": null,
   "metadata": {},
   "outputs": [],
   "source": []
  },
  {
   "cell_type": "code",
   "execution_count": 62,
   "metadata": {},
   "outputs": [
    {
     "data": {
      "image/png": "[encoded data removed]",
      "text/plain": [
       "<Figure size 288x216 with 1 Axes>"
      ]
     },
     "metadata": {
      "needs_background": "light"
     },
     "output_type": "display_data"
    }
   ],
   "source": [
    "from matplotlib.backends.backend_pdf import PdfPages\n",
    "\n",
    "alpha_empirical = 0.4\n",
    "\n",
    "%matplotlib inline\n",
    "nbins = 45\n",
    "f, (ax1) = plt.subplots(1, 1, \n",
    "                             sharey=False, sharex=False,\n",
    "                            figsize=(4, 3))\n",
    "#plt.setp(ax1, xticks=[ 0. ,  1.5,  3. ,  4.5,  6. ,  7.5,  9. , 10.5, 12. , 13.5, 15. ], \n",
    "#         xticklabels=x_labels)\n",
    "#plt.setp(ax1.get_xticklabels(), rotation=90)\n",
    "\n",
    "#ax1.set_xticks([0,0.25, 0.5, 0.75, 1])\n",
    "ax1.minorticks_on()\n",
    "ax1.tick_params('both', length=4, width=1, which='major', left=1, bottom=1, top=0, right=0)\n",
    "plt.axhline(0.5, color='gray', linestyle='--', alpha = 0.5)\n",
    "\n",
    "\n",
    "w = 0.5\n",
    "width = 0.03\n",
    "ax1.bar(0.2,0.5, color = 'red', #alpha = 0.5,\n",
    "        #align = 'right',\n",
    "       width = width, edgecolor = 'white')\n",
    "\n",
    "ax1.bar(-0.2,y1_auc, color = 'deepskyblue',# alpha = 0.5,\n",
    "       # align = 'center',\n",
    "       width = width, edgecolor = 'white')\n",
    "ax1.bar(-0.1,y1_auc, color = 'blue', #alpha = 0.5,\n",
    "       # align = 'center',\n",
    "       width = width, edgecolor = 'white')\n",
    "ax1.bar(0,y3_auc, color = 'darkblue', #alpha = 0.5,\n",
    "       # align = 'center',\n",
    "       width = width, edgecolor = 'white')\n",
    "ax1.bar(0.1,y_auc, color = 'black', #alpha = 0.5,\n",
    "       # align = 'center',\n",
    "       width = width, edgecolor = 'white')\n",
    "ax1.set_ylabel('AUC')\n",
    "#ax1.set_xlabel(np.array(range(len(acc_generic)))*w,\n",
    "#           x_labels[0:11],\n",
    "#          rotation = 90)\n",
    "ax1.set_xlim(-1,1)\n",
    "ax1.set_ylim(0,1.1)\n",
    "plt.yticks(np.arange(0,1.1,0.1))\n",
    "ax1.spines[\"right\"].set_visible(False)\n",
    "ax1.spines[\"top\"].set_visible(False)\n",
    "\n",
    "\n",
    "ax1.annotate('ReFeX 1x', xy=(-0.9,1.08), \n",
    "                 color='deepskyblue', alpha=1, size=7)\n",
    "ax1.annotate('ReFeX 2x', xy=(-0.9,1.08-0.04), \n",
    "                 color='blue', alpha=1, size=7)\n",
    "ax1.annotate('ReFeX 3x', xy=(-0.9,1.08-0.04*2), \n",
    "                 color='darkblue', alpha=1, size=7)\n",
    "ax1.annotate('ReFeX max', xy=(-0.9,1.08-0.04*3), \n",
    "                 color='black', alpha=1, size=7)\n",
    "ax1.annotate('Baseline', xy=(-0.55,1.08), \n",
    "                 color='red', alpha=1, size=7)\n",
    "\n",
    "plt.title('SBM (Strong Homophily)')\n",
    "#plt.show()\n",
    "\n",
    "plt.tight_layout()\n",
    "plt.axhline(0.5, color='gray', linestyle='--', alpha = 0.5)\n",
    "plt.tight_layout()\n",
    "pp = PdfPages('../figs/SBM_instance_across_AUC_final.pdf')\n",
    "pp.savefig()\n",
    "pp.close()"
   ]
  },
  {
   "cell_type": "code",
   "execution_count": null,
   "metadata": {},
   "outputs": [],
   "source": []
  },
  {
   "cell_type": "code",
   "execution_count": null,
   "metadata": {},
   "outputs": [],
   "source": []
  },
  {
   "cell_type": "code",
   "execution_count": null,
   "metadata": {},
   "outputs": [],
   "source": []
  },
  {
   "cell_type": "code",
   "execution_count": null,
   "metadata": {},
   "outputs": [],
   "source": []
  },
  {
   "cell_type": "code",
   "execution_count": null,
   "metadata": {},
   "outputs": [],
   "source": []
  },
  {
   "cell_type": "code",
   "execution_count": null,
   "metadata": {},
   "outputs": [],
   "source": []
  },
  {
   "cell_type": "code",
   "execution_count": null,
   "metadata": {},
   "outputs": [],
   "source": []
  }
 ],
 "metadata": {
  "kernelspec": {
   "display_name": "Python 2",
   "language": "python",
   "name": "python2"
  },
  "language_info": {
   "codemirror_mode": {
    "name": "ipython",
    "version": 2
   },
   "file_extension": ".py",
   "mimetype": "text/x-python",
   "name": "python",
   "nbconvert_exporter": "python",
   "pygments_lexer": "ipython2",
   "version": "2.7.15"
  }
 },
 "nbformat": 4,
 "nbformat_minor": 1
}
