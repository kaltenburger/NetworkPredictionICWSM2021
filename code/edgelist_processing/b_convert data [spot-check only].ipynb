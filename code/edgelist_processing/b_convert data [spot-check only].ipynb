{
 "cells": [
  {
   "cell_type": "code",
   "execution_count": 1,
   "metadata": {
    "collapsed": false
   },
   "outputs": [
    {
     "name": "stderr",
     "output_type": "stream",
     "text": [
      "/usr/local/lib/python2.7/site-packages/matplotlib/__init__.py:872: UserWarning: axes.color_cycle is deprecated and replaced with axes.prop_cycle; please use the latter.\n",
      "  warnings.warn(self.msg_depr % (key, alt_key))\n",
      "/Users/kristen/anaconda/lib/python2.7/site-packages/statsmodels/compat/pandas.py:56: FutureWarning: The pandas.core.datetools module is deprecated and will be removed in a future version. Please use the pandas.tseries module instead.\n",
      "  from pandas.core import datetools\n",
      "/Users/kristen/anaconda/lib/python2.7/site-packages/sklearn/cross_validation.py:41: DeprecationWarning: This module was deprecated in version 0.18 in favor of the model_selection module into which all the refactored classes and functions are moved. Also note that the interface of the new CV iterators are different from that of this module. This module will be removed in 0.20.\n",
      "  \"This module will be removed in 0.20.\", DeprecationWarning)\n"
     ]
    }
   ],
   "source": [
    "from __future__ import division\n",
    "import os\n",
    "import os\n",
    "import itertools\n",
    "from matplotlib.backends.backend_pdf import PdfPages\n",
    "from sklearn.model_selection import KFold\n",
    "from sklearn.model_selection import RandomizedSearchCV\n",
    "import scipy\n",
    "folder_directory =os.getcwd()\n",
    "exec(open('../../../code/functions/python_libraries.py').read())"
   ]
  },
  {
   "cell_type": "markdown",
   "metadata": {},
   "source": [
    "### Data"
   ]
  },
  {
   "cell_type": "code",
   "execution_count": 2,
   "metadata": {
    "collapsed": false
   },
   "outputs": [
    {
     "name": "stdout",
     "output_type": "stream",
     "text": [
      "104\n"
     ]
    }
   ],
   "source": [
    "mac_x_id = pd.read_csv('./mac_to_id.csv',dtype={'mac': object})\n",
    "mac_x_id = mac_x_id.loc[~mac_x_id.mac_clean.isnull()] ## we remove those without mac addresses (id's 104, 105)\n",
    "print len(mac_x_id)\n",
    "bt_nw = pd.read_csv('./bluetooth_nw.csv')\n",
    "grad_y = pd.read_csv('./my_affil.csv') ## however, id=105 has survey data"
   ]
  },
  {
   "cell_type": "markdown",
   "metadata": {},
   "source": [
    "#### subset to units we have survey data"
   ]
  },
  {
   "cell_type": "code",
   "execution_count": 3,
   "metadata": {
    "collapsed": false
   },
   "outputs": [
    {
     "name": "stdout",
     "output_type": "stream",
     "text": [
      "[  0   1   2   3   4   5   6   7   8   9  10  11  12  13  14  15  16  17\n",
      "  18  19  20  21  22  23  24  25  26  27  28  29  30  31  32  33  34  35\n",
      "  36  37  38  39  40  41  42  43  44  45  46  47  48  49  50  51  52  53\n",
      "  54  55  56  57  58  59  60  61  62  63  64  65  66  67  68  69  70  71\n",
      "  72  73  74  75  76  77  78  79  80  81  82  83  84  85  86  87  88  89\n",
      "  90  91  92  93  94  95  96  97  98  99 100 101 102 103]\n",
      "\n",
      "[  2   3   4   5   6   7   8   9  10  11  12  13  14  15  16  18  19  20\n",
      "  21  22  24  25  26  27  28  29  30  31  32  34  35  36  37  39  40  41\n",
      "  42  43  45  47  48  49  51  52  53  54  55  56  57  59  60  61  62  64\n",
      "  65  66  67  68  69  70  71  72  73  74  75  76  77  78  79  80  81  82\n",
      "  83  84  85  86  87  88  89  90  91  92  93  94  95  96  97  98  99 100\n",
      " 101 102 103 105]\n",
      "\n",
      "93\n",
      "93\n"
     ]
    }
   ],
   "source": [
    "## really should be 93 -- but to get 94, we'll keep id=105 since we have survey data, \n",
    "## but note that id=105 will not be a node in the network because we don't have unit's mac address\n",
    "ids_subset = np.unique(mac_x_id.id)\n",
    "print ids_subset\n",
    "print ''\n",
    "ids_survey_complete = np.unique(grad_y.id[~grad_y.affil_clean.isnull()])\n",
    "print ids_survey_complete\n",
    "print ''\n",
    "print len(ids_subset[np.in1d(ids_subset, ids_survey_complete)])\n",
    "print len(ids_survey_complete[np.in1d(ids_survey_complete, ids_subset)])"
   ]
  },
  {
   "cell_type": "code",
   "execution_count": 4,
   "metadata": {
    "collapsed": false
   },
   "outputs": [
    {
     "name": "stdout",
     "output_type": "stream",
     "text": [
      "94\n",
      "94\n"
     ]
    }
   ],
   "source": [
    "## so instead -- we use this set of IDs.\n",
    "mac_x_id = pd.read_csv('./mac_to_id.csv',dtype={'mac': object})\n",
    "ids_subset = np.unique(mac_x_id.id)\n",
    "ids_survey_complete = np.unique(grad_y.id[~grad_y.affil_clean.isnull()])\n",
    "print len(ids_subset[np.in1d(ids_subset, ids_survey_complete)])\n",
    "print len(ids_survey_complete[np.in1d(ids_survey_complete, ids_subset)])"
   ]
  },
  {
   "cell_type": "code",
   "execution_count": 5,
   "metadata": {
    "collapsed": false
   },
   "outputs": [
    {
     "data": {
      "text/plain": [
       "94"
      ]
     },
     "execution_count": 5,
     "metadata": {},
     "output_type": "execute_result"
    }
   ],
   "source": [
    "mac_x_id = mac_x_id.loc[np.in1d(mac_x_id.id, ids_survey_complete)]\n",
    "len(mac_x_id)"
   ]
  },
  {
   "cell_type": "code",
   "execution_count": 6,
   "metadata": {
    "collapsed": true
   },
   "outputs": [],
   "source": [
    "grad_y = grad_y[~grad_y.affil_clean.isnull()]"
   ]
  },
  {
   "cell_type": "code",
   "execution_count": 7,
   "metadata": {
    "collapsed": false
   },
   "outputs": [
    {
     "data": {
      "text/html": [
       "<div>\n",
       "<style>\n",
       "    .dataframe thead tr:only-child th {\n",
       "        text-align: right;\n",
       "    }\n",
       "\n",
       "    .dataframe thead th {\n",
       "        text-align: left;\n",
       "    }\n",
       "\n",
       "    .dataframe tbody tr th {\n",
       "        vertical-align: top;\n",
       "    }\n",
       "</style>\n",
       "<table border=\"1\" class=\"dataframe\">\n",
       "  <thead>\n",
       "    <tr style=\"text-align: right;\">\n",
       "      <th></th>\n",
       "      <th>from_mac</th>\n",
       "      <th>time</th>\n",
       "      <th>to_mac</th>\n",
       "    </tr>\n",
       "  </thead>\n",
       "  <tbody>\n",
       "    <tr>\n",
       "      <th>0</th>\n",
       "      <td>1</td>\n",
       "      <td>732338.706736</td>\n",
       "      <td>6.196498e+10</td>\n",
       "    </tr>\n",
       "    <tr>\n",
       "      <th>1</th>\n",
       "      <td>1</td>\n",
       "      <td>732338.706736</td>\n",
       "      <td>5.830200e+10</td>\n",
       "    </tr>\n",
       "    <tr>\n",
       "      <th>2</th>\n",
       "      <td>1</td>\n",
       "      <td>732338.710880</td>\n",
       "      <td>5.830200e+10</td>\n",
       "    </tr>\n",
       "    <tr>\n",
       "      <th>3</th>\n",
       "      <td>1</td>\n",
       "      <td>732338.710880</td>\n",
       "      <td>4.545268e+10</td>\n",
       "    </tr>\n",
       "    <tr>\n",
       "      <th>4</th>\n",
       "      <td>1</td>\n",
       "      <td>732338.710880</td>\n",
       "      <td>6.197357e+11</td>\n",
       "    </tr>\n",
       "  </tbody>\n",
       "</table>\n",
       "</div>"
      ],
      "text/plain": [
       "   from_mac           time        to_mac\n",
       "0         1  732338.706736  6.196498e+10\n",
       "1         1  732338.706736  5.830200e+10\n",
       "2         1  732338.710880  5.830200e+10\n",
       "3         1  732338.710880  4.545268e+10\n",
       "4         1  732338.710880  6.197357e+11"
      ]
     },
     "execution_count": 7,
     "metadata": {},
     "output_type": "execute_result"
    }
   ],
   "source": [
    "bt_nw.head()"
   ]
  },
  {
   "cell_type": "code",
   "execution_count": 8,
   "metadata": {
    "collapsed": false
   },
   "outputs": [
    {
     "name": "stdout",
     "output_type": "stream",
     "text": [
      "734625\n"
     ]
    }
   ],
   "source": [
    "bt_nw = bt_nw.loc[np.in1d(bt_nw.from_mac, mac_x_id.id)]\n",
    "bt_nw = bt_nw.loc[np.in1d(bt_nw.to_mac, mac_x_id.mac_clean)]\n",
    "print len(bt_nw)"
   ]
  },
  {
   "cell_type": "code",
   "execution_count": 9,
   "metadata": {
    "collapsed": false
   },
   "outputs": [
    {
     "data": {
      "text/html": [
       "<div>\n",
       "<style>\n",
       "    .dataframe thead tr:only-child th {\n",
       "        text-align: right;\n",
       "    }\n",
       "\n",
       "    .dataframe thead th {\n",
       "        text-align: left;\n",
       "    }\n",
       "\n",
       "    .dataframe tbody tr th {\n",
       "        vertical-align: top;\n",
       "    }\n",
       "</style>\n",
       "<table border=\"1\" class=\"dataframe\">\n",
       "  <thead>\n",
       "    <tr style=\"text-align: right;\">\n",
       "      <th></th>\n",
       "      <th>id</th>\n",
       "      <th>mac</th>\n",
       "      <th>mac_clean</th>\n",
       "    </tr>\n",
       "  </thead>\n",
       "  <tbody>\n",
       "    <tr>\n",
       "      <th>2</th>\n",
       "      <td>2</td>\n",
       "      <td>[[6.19610249e+10]]</td>\n",
       "      <td>6.196102e+10</td>\n",
       "    </tr>\n",
       "    <tr>\n",
       "      <th>3</th>\n",
       "      <td>3</td>\n",
       "      <td>[[6.19610249e+10]]</td>\n",
       "      <td>6.196102e+10</td>\n",
       "    </tr>\n",
       "    <tr>\n",
       "      <th>4</th>\n",
       "      <td>4</td>\n",
       "      <td>[[6.19610249e+10]]</td>\n",
       "      <td>6.196102e+10</td>\n",
       "    </tr>\n",
       "    <tr>\n",
       "      <th>5</th>\n",
       "      <td>5</td>\n",
       "      <td>[[6.1961025e+10]]</td>\n",
       "      <td>6.196102e+10</td>\n",
       "    </tr>\n",
       "    <tr>\n",
       "      <th>6</th>\n",
       "      <td>6</td>\n",
       "      <td>[[6.19610249e+10]]</td>\n",
       "      <td>6.196102e+10</td>\n",
       "    </tr>\n",
       "  </tbody>\n",
       "</table>\n",
       "</div>"
      ],
      "text/plain": [
       "   id                 mac     mac_clean\n",
       "2   2  [[6.19610249e+10]]  6.196102e+10\n",
       "3   3  [[6.19610249e+10]]  6.196102e+10\n",
       "4   4  [[6.19610249e+10]]  6.196102e+10\n",
       "5   5   [[6.1961025e+10]]  6.196102e+10\n",
       "6   6  [[6.19610249e+10]]  6.196102e+10"
      ]
     },
     "execution_count": 9,
     "metadata": {},
     "output_type": "execute_result"
    }
   ],
   "source": [
    "mac_x_id.head()"
   ]
  },
  {
   "cell_type": "code",
   "execution_count": 10,
   "metadata": {
    "collapsed": false
   },
   "outputs": [
    {
     "data": {
      "text/html": [
       "<div>\n",
       "<style>\n",
       "    .dataframe thead tr:only-child th {\n",
       "        text-align: right;\n",
       "    }\n",
       "\n",
       "    .dataframe thead th {\n",
       "        text-align: left;\n",
       "    }\n",
       "\n",
       "    .dataframe tbody tr th {\n",
       "        vertical-align: top;\n",
       "    }\n",
       "</style>\n",
       "<table border=\"1\" class=\"dataframe\">\n",
       "  <thead>\n",
       "    <tr style=\"text-align: right;\">\n",
       "      <th></th>\n",
       "      <th>affil</th>\n",
       "      <th>id</th>\n",
       "      <th>affil_clean</th>\n",
       "    </tr>\n",
       "  </thead>\n",
       "  <tbody>\n",
       "    <tr>\n",
       "      <th>2</th>\n",
       "      <td>[[array([u'1styeargrad '], dtype='&lt;U12')]]</td>\n",
       "      <td>2</td>\n",
       "      <td>1styeargrad</td>\n",
       "    </tr>\n",
       "    <tr>\n",
       "      <th>3</th>\n",
       "      <td>[[array([u'mlgrad'], dtype='&lt;U6')]]</td>\n",
       "      <td>3</td>\n",
       "      <td>mlgrad</td>\n",
       "    </tr>\n",
       "    <tr>\n",
       "      <th>4</th>\n",
       "      <td>[[array([u'mlgrad'], dtype='&lt;U6')]]</td>\n",
       "      <td>4</td>\n",
       "      <td>mlgrad</td>\n",
       "    </tr>\n",
       "    <tr>\n",
       "      <th>5</th>\n",
       "      <td>[[array([u'mlgrad'], dtype='&lt;U6')]]</td>\n",
       "      <td>5</td>\n",
       "      <td>mlgrad</td>\n",
       "    </tr>\n",
       "    <tr>\n",
       "      <th>6</th>\n",
       "      <td>[[array([u'grad'], dtype='&lt;U4')]]</td>\n",
       "      <td>6</td>\n",
       "      <td>grad</td>\n",
       "    </tr>\n",
       "  </tbody>\n",
       "</table>\n",
       "</div>"
      ],
      "text/plain": [
       "                                        affil  id   affil_clean\n",
       "2  [[array([u'1styeargrad '], dtype='<U12')]]   2  1styeargrad \n",
       "3         [[array([u'mlgrad'], dtype='<U6')]]   3        mlgrad\n",
       "4         [[array([u'mlgrad'], dtype='<U6')]]   4        mlgrad\n",
       "5         [[array([u'mlgrad'], dtype='<U6')]]   5        mlgrad\n",
       "6           [[array([u'grad'], dtype='<U4')]]   6          grad"
      ]
     },
     "execution_count": 10,
     "metadata": {},
     "output_type": "execute_result"
    }
   ],
   "source": [
    "grad_y.head()"
   ]
  },
  {
   "cell_type": "code",
   "execution_count": 11,
   "metadata": {
    "collapsed": false
   },
   "outputs": [
    {
     "data": {
      "text/plain": [
       "'mlgrad'"
      ]
     },
     "execution_count": 11,
     "metadata": {},
     "output_type": "execute_result"
    }
   ],
   "source": [
    "grad_y.affil_clean[3]"
   ]
  },
  {
   "cell_type": "code",
   "execution_count": 12,
   "metadata": {
    "collapsed": false
   },
   "outputs": [
    {
     "data": {
      "text/html": [
       "<div>\n",
       "<style>\n",
       "    .dataframe thead tr:only-child th {\n",
       "        text-align: right;\n",
       "    }\n",
       "\n",
       "    .dataframe thead th {\n",
       "        text-align: left;\n",
       "    }\n",
       "\n",
       "    .dataframe tbody tr th {\n",
       "        vertical-align: top;\n",
       "    }\n",
       "</style>\n",
       "<table border=\"1\" class=\"dataframe\">\n",
       "  <thead>\n",
       "    <tr style=\"text-align: right;\">\n",
       "      <th></th>\n",
       "      <th>from_mac_id</th>\n",
       "      <th>time</th>\n",
       "      <th>to_mac</th>\n",
       "    </tr>\n",
       "  </thead>\n",
       "  <tbody>\n",
       "    <tr>\n",
       "      <th>398</th>\n",
       "      <td>2</td>\n",
       "      <td>731947.842546</td>\n",
       "      <td>6.196494e+10</td>\n",
       "    </tr>\n",
       "    <tr>\n",
       "      <th>401</th>\n",
       "      <td>2</td>\n",
       "      <td>731947.881007</td>\n",
       "      <td>6.196102e+10</td>\n",
       "    </tr>\n",
       "    <tr>\n",
       "      <th>402</th>\n",
       "      <td>2</td>\n",
       "      <td>731947.885266</td>\n",
       "      <td>6.196095e+10</td>\n",
       "    </tr>\n",
       "    <tr>\n",
       "      <th>403</th>\n",
       "      <td>2</td>\n",
       "      <td>731947.888009</td>\n",
       "      <td>6.196102e+10</td>\n",
       "    </tr>\n",
       "    <tr>\n",
       "      <th>404</th>\n",
       "      <td>2</td>\n",
       "      <td>731947.889641</td>\n",
       "      <td>6.196102e+10</td>\n",
       "    </tr>\n",
       "  </tbody>\n",
       "</table>\n",
       "</div>"
      ],
      "text/plain": [
       "     from_mac_id           time        to_mac\n",
       "398            2  731947.842546  6.196494e+10\n",
       "401            2  731947.881007  6.196102e+10\n",
       "402            2  731947.885266  6.196095e+10\n",
       "403            2  731947.888009  6.196102e+10\n",
       "404            2  731947.889641  6.196102e+10"
      ]
     },
     "execution_count": 12,
     "metadata": {},
     "output_type": "execute_result"
    }
   ],
   "source": [
    "bt_nw.columns = ['from_mac_id','time','to_mac']\n",
    "bt_nw.head()"
   ]
  },
  {
   "cell_type": "code",
   "execution_count": 13,
   "metadata": {
    "collapsed": false
   },
   "outputs": [
    {
     "name": "stdout",
     "output_type": "stream",
     "text": [
      "0\n",
      "0\n",
      "88\n"
     ]
    }
   ],
   "source": [
    "print np.sum(bt_nw.from_mac_id.isnull())\n",
    "print np.sum(bt_nw.to_mac.isnull())\n",
    "print len(np.unique(bt_nw.from_mac_id))"
   ]
  },
  {
   "cell_type": "code",
   "execution_count": 14,
   "metadata": {
    "collapsed": false
   },
   "outputs": [],
   "source": [
    "## merge in from_mac\n",
    "bt_nw = bt_nw.merge(mac_x_id[['id','mac_clean']],\n",
    "           left_on = 'from_mac_id',\n",
    "           right_on = 'id',\n",
    "           how = 'left')\n",
    "\n",
    "bt_nw.drop('id', axis = 1, inplace = True)"
   ]
  },
  {
   "cell_type": "code",
   "execution_count": 15,
   "metadata": {
    "collapsed": false
   },
   "outputs": [
    {
     "data": {
      "text/html": [
       "<div>\n",
       "<style>\n",
       "    .dataframe thead tr:only-child th {\n",
       "        text-align: right;\n",
       "    }\n",
       "\n",
       "    .dataframe thead th {\n",
       "        text-align: left;\n",
       "    }\n",
       "\n",
       "    .dataframe tbody tr th {\n",
       "        vertical-align: top;\n",
       "    }\n",
       "</style>\n",
       "<table border=\"1\" class=\"dataframe\">\n",
       "  <thead>\n",
       "    <tr style=\"text-align: right;\">\n",
       "      <th></th>\n",
       "      <th>from_mac_id</th>\n",
       "      <th>time</th>\n",
       "      <th>to_mac</th>\n",
       "      <th>mac_clean</th>\n",
       "    </tr>\n",
       "  </thead>\n",
       "  <tbody>\n",
       "    <tr>\n",
       "      <th>0</th>\n",
       "      <td>2</td>\n",
       "      <td>731947.842546</td>\n",
       "      <td>6.196494e+10</td>\n",
       "      <td>6.196102e+10</td>\n",
       "    </tr>\n",
       "    <tr>\n",
       "      <th>1</th>\n",
       "      <td>2</td>\n",
       "      <td>731947.881007</td>\n",
       "      <td>6.196102e+10</td>\n",
       "      <td>6.196102e+10</td>\n",
       "    </tr>\n",
       "    <tr>\n",
       "      <th>2</th>\n",
       "      <td>2</td>\n",
       "      <td>731947.885266</td>\n",
       "      <td>6.196095e+10</td>\n",
       "      <td>6.196102e+10</td>\n",
       "    </tr>\n",
       "    <tr>\n",
       "      <th>3</th>\n",
       "      <td>2</td>\n",
       "      <td>731947.888009</td>\n",
       "      <td>6.196102e+10</td>\n",
       "      <td>6.196102e+10</td>\n",
       "    </tr>\n",
       "    <tr>\n",
       "      <th>4</th>\n",
       "      <td>2</td>\n",
       "      <td>731947.889641</td>\n",
       "      <td>6.196102e+10</td>\n",
       "      <td>6.196102e+10</td>\n",
       "    </tr>\n",
       "  </tbody>\n",
       "</table>\n",
       "</div>"
      ],
      "text/plain": [
       "   from_mac_id           time        to_mac     mac_clean\n",
       "0            2  731947.842546  6.196494e+10  6.196102e+10\n",
       "1            2  731947.881007  6.196102e+10  6.196102e+10\n",
       "2            2  731947.885266  6.196095e+10  6.196102e+10\n",
       "3            2  731947.888009  6.196102e+10  6.196102e+10\n",
       "4            2  731947.889641  6.196102e+10  6.196102e+10"
      ]
     },
     "execution_count": 15,
     "metadata": {},
     "output_type": "execute_result"
    }
   ],
   "source": [
    "bt_nw.head()"
   ]
  },
  {
   "cell_type": "markdown",
   "metadata": {},
   "source": [
    "#### making note id=105 is odd -- because it'll have out-degree, but no in-degree because we can't merge in based on mac-address"
   ]
  },
  {
   "cell_type": "code",
   "execution_count": 16,
   "metadata": {
    "collapsed": false
   },
   "outputs": [
    {
     "name": "stdout",
     "output_type": "stream",
     "text": [
      "1695\n",
      "1695\n",
      "0\n",
      "[  2   3   4   5   6   7   8   9  10  11  12  13  14  15  16  18  19  20\n",
      "  21  22  24  25  26  27  28  29  30  31  32  34  35  36  37  39  40  41\n",
      "  43  45  48  49  51  52  53  54  55  56  57  59  60  61  62  64  66  67\n",
      "  68  69  70  72  73  74  75  76  77  78  80  81  82  83  84  85  86  87\n",
      "  88  89  90  92  93  94  95  96  97  98  99 100 101 102 103 105]\n"
     ]
    }
   ],
   "source": [
    "print np.sum(bt_nw.mac_clean.isnull())\n",
    "print np.sum(bt_nw.from_mac_id==105)\n",
    "print np.sum(bt_nw.from_mac_id.isnull())\n",
    "print np.unique(bt_nw.from_mac_id)"
   ]
  },
  {
   "cell_type": "code",
   "execution_count": 17,
   "metadata": {
    "collapsed": false
   },
   "outputs": [
    {
     "data": {
      "text/html": [
       "<div>\n",
       "<style>\n",
       "    .dataframe thead tr:only-child th {\n",
       "        text-align: right;\n",
       "    }\n",
       "\n",
       "    .dataframe thead th {\n",
       "        text-align: left;\n",
       "    }\n",
       "\n",
       "    .dataframe tbody tr th {\n",
       "        vertical-align: top;\n",
       "    }\n",
       "</style>\n",
       "<table border=\"1\" class=\"dataframe\">\n",
       "  <thead>\n",
       "    <tr style=\"text-align: right;\">\n",
       "      <th></th>\n",
       "      <th>from_mac_id</th>\n",
       "      <th>time</th>\n",
       "      <th>to_mac</th>\n",
       "      <th>from_mac</th>\n",
       "    </tr>\n",
       "  </thead>\n",
       "  <tbody>\n",
       "    <tr>\n",
       "      <th>0</th>\n",
       "      <td>2</td>\n",
       "      <td>731947.842546</td>\n",
       "      <td>6.196494e+10</td>\n",
       "      <td>6.196102e+10</td>\n",
       "    </tr>\n",
       "    <tr>\n",
       "      <th>1</th>\n",
       "      <td>2</td>\n",
       "      <td>731947.881007</td>\n",
       "      <td>6.196102e+10</td>\n",
       "      <td>6.196102e+10</td>\n",
       "    </tr>\n",
       "    <tr>\n",
       "      <th>2</th>\n",
       "      <td>2</td>\n",
       "      <td>731947.885266</td>\n",
       "      <td>6.196095e+10</td>\n",
       "      <td>6.196102e+10</td>\n",
       "    </tr>\n",
       "    <tr>\n",
       "      <th>3</th>\n",
       "      <td>2</td>\n",
       "      <td>731947.888009</td>\n",
       "      <td>6.196102e+10</td>\n",
       "      <td>6.196102e+10</td>\n",
       "    </tr>\n",
       "    <tr>\n",
       "      <th>4</th>\n",
       "      <td>2</td>\n",
       "      <td>731947.889641</td>\n",
       "      <td>6.196102e+10</td>\n",
       "      <td>6.196102e+10</td>\n",
       "    </tr>\n",
       "  </tbody>\n",
       "</table>\n",
       "</div>"
      ],
      "text/plain": [
       "   from_mac_id           time        to_mac      from_mac\n",
       "0            2  731947.842546  6.196494e+10  6.196102e+10\n",
       "1            2  731947.881007  6.196102e+10  6.196102e+10\n",
       "2            2  731947.885266  6.196095e+10  6.196102e+10\n",
       "3            2  731947.888009  6.196102e+10  6.196102e+10\n",
       "4            2  731947.889641  6.196102e+10  6.196102e+10"
      ]
     },
     "execution_count": 17,
     "metadata": {},
     "output_type": "execute_result"
    }
   ],
   "source": [
    "bt_nw.rename(columns={\"mac_clean\": \"from_mac\"}, inplace = True)\n",
    "bt_nw.head()"
   ]
  },
  {
   "cell_type": "code",
   "execution_count": 18,
   "metadata": {
    "collapsed": false
   },
   "outputs": [
    {
     "data": {
      "text/html": [
       "<div>\n",
       "<style>\n",
       "    .dataframe thead tr:only-child th {\n",
       "        text-align: right;\n",
       "    }\n",
       "\n",
       "    .dataframe thead th {\n",
       "        text-align: left;\n",
       "    }\n",
       "\n",
       "    .dataframe tbody tr th {\n",
       "        vertical-align: top;\n",
       "    }\n",
       "</style>\n",
       "<table border=\"1\" class=\"dataframe\">\n",
       "  <thead>\n",
       "    <tr style=\"text-align: right;\">\n",
       "      <th></th>\n",
       "      <th>from_mac_id</th>\n",
       "      <th>time</th>\n",
       "      <th>to_mac</th>\n",
       "      <th>from_mac</th>\n",
       "      <th>id</th>\n",
       "      <th>mac_clean</th>\n",
       "    </tr>\n",
       "  </thead>\n",
       "  <tbody>\n",
       "    <tr>\n",
       "      <th>0</th>\n",
       "      <td>2</td>\n",
       "      <td>731947.842546</td>\n",
       "      <td>6.196494e+10</td>\n",
       "      <td>6.196102e+10</td>\n",
       "      <td>62</td>\n",
       "      <td>6.196494e+10</td>\n",
       "    </tr>\n",
       "    <tr>\n",
       "      <th>1</th>\n",
       "      <td>2</td>\n",
       "      <td>731947.881007</td>\n",
       "      <td>6.196102e+10</td>\n",
       "      <td>6.196102e+10</td>\n",
       "      <td>3</td>\n",
       "      <td>6.196102e+10</td>\n",
       "    </tr>\n",
       "    <tr>\n",
       "      <th>2</th>\n",
       "      <td>2</td>\n",
       "      <td>731947.885266</td>\n",
       "      <td>6.196095e+10</td>\n",
       "      <td>6.196102e+10</td>\n",
       "      <td>28</td>\n",
       "      <td>6.196095e+10</td>\n",
       "    </tr>\n",
       "    <tr>\n",
       "      <th>3</th>\n",
       "      <td>2</td>\n",
       "      <td>731947.888009</td>\n",
       "      <td>6.196102e+10</td>\n",
       "      <td>6.196102e+10</td>\n",
       "      <td>18</td>\n",
       "      <td>6.196102e+10</td>\n",
       "    </tr>\n",
       "    <tr>\n",
       "      <th>4</th>\n",
       "      <td>2</td>\n",
       "      <td>731947.889641</td>\n",
       "      <td>6.196102e+10</td>\n",
       "      <td>6.196102e+10</td>\n",
       "      <td>18</td>\n",
       "      <td>6.196102e+10</td>\n",
       "    </tr>\n",
       "  </tbody>\n",
       "</table>\n",
       "</div>"
      ],
      "text/plain": [
       "   from_mac_id           time        to_mac      from_mac  id     mac_clean\n",
       "0            2  731947.842546  6.196494e+10  6.196102e+10  62  6.196494e+10\n",
       "1            2  731947.881007  6.196102e+10  6.196102e+10   3  6.196102e+10\n",
       "2            2  731947.885266  6.196095e+10  6.196102e+10  28  6.196095e+10\n",
       "3            2  731947.888009  6.196102e+10  6.196102e+10  18  6.196102e+10\n",
       "4            2  731947.889641  6.196102e+10  6.196102e+10  18  6.196102e+10"
      ]
     },
     "execution_count": 18,
     "metadata": {},
     "output_type": "execute_result"
    }
   ],
   "source": [
    "bt_nw = bt_nw.merge(mac_x_id[['id','mac_clean']],\n",
    "           left_on = 'to_mac',\n",
    "           right_on = 'mac_clean',\n",
    "           how = 'left')\n",
    "bt_nw.head()\n"
   ]
  },
  {
   "cell_type": "code",
   "execution_count": 19,
   "metadata": {
    "collapsed": false
   },
   "outputs": [
    {
     "data": {
      "text/html": [
       "<div>\n",
       "<style>\n",
       "    .dataframe thead tr:only-child th {\n",
       "        text-align: right;\n",
       "    }\n",
       "\n",
       "    .dataframe thead th {\n",
       "        text-align: left;\n",
       "    }\n",
       "\n",
       "    .dataframe tbody tr th {\n",
       "        vertical-align: top;\n",
       "    }\n",
       "</style>\n",
       "<table border=\"1\" class=\"dataframe\">\n",
       "  <thead>\n",
       "    <tr style=\"text-align: right;\">\n",
       "      <th></th>\n",
       "      <th>from_mac_id</th>\n",
       "      <th>time</th>\n",
       "      <th>to_mac</th>\n",
       "      <th>from_mac</th>\n",
       "      <th>id</th>\n",
       "    </tr>\n",
       "  </thead>\n",
       "  <tbody>\n",
       "    <tr>\n",
       "      <th>0</th>\n",
       "      <td>2</td>\n",
       "      <td>731947.842546</td>\n",
       "      <td>6.196494e+10</td>\n",
       "      <td>6.196102e+10</td>\n",
       "      <td>62</td>\n",
       "    </tr>\n",
       "    <tr>\n",
       "      <th>1</th>\n",
       "      <td>2</td>\n",
       "      <td>731947.881007</td>\n",
       "      <td>6.196102e+10</td>\n",
       "      <td>6.196102e+10</td>\n",
       "      <td>3</td>\n",
       "    </tr>\n",
       "    <tr>\n",
       "      <th>2</th>\n",
       "      <td>2</td>\n",
       "      <td>731947.885266</td>\n",
       "      <td>6.196095e+10</td>\n",
       "      <td>6.196102e+10</td>\n",
       "      <td>28</td>\n",
       "    </tr>\n",
       "    <tr>\n",
       "      <th>3</th>\n",
       "      <td>2</td>\n",
       "      <td>731947.888009</td>\n",
       "      <td>6.196102e+10</td>\n",
       "      <td>6.196102e+10</td>\n",
       "      <td>18</td>\n",
       "    </tr>\n",
       "    <tr>\n",
       "      <th>4</th>\n",
       "      <td>2</td>\n",
       "      <td>731947.889641</td>\n",
       "      <td>6.196102e+10</td>\n",
       "      <td>6.196102e+10</td>\n",
       "      <td>18</td>\n",
       "    </tr>\n",
       "  </tbody>\n",
       "</table>\n",
       "</div>"
      ],
      "text/plain": [
       "   from_mac_id           time        to_mac      from_mac  id\n",
       "0            2  731947.842546  6.196494e+10  6.196102e+10  62\n",
       "1            2  731947.881007  6.196102e+10  6.196102e+10   3\n",
       "2            2  731947.885266  6.196095e+10  6.196102e+10  28\n",
       "3            2  731947.888009  6.196102e+10  6.196102e+10  18\n",
       "4            2  731947.889641  6.196102e+10  6.196102e+10  18"
      ]
     },
     "execution_count": 19,
     "metadata": {},
     "output_type": "execute_result"
    }
   ],
   "source": [
    "bt_nw.drop('mac_clean', axis = 1, inplace = True)\n",
    "bt_nw.head()"
   ]
  },
  {
   "cell_type": "code",
   "execution_count": 20,
   "metadata": {
    "collapsed": false
   },
   "outputs": [
    {
     "data": {
      "text/html": [
       "<div>\n",
       "<style>\n",
       "    .dataframe thead tr:only-child th {\n",
       "        text-align: right;\n",
       "    }\n",
       "\n",
       "    .dataframe thead th {\n",
       "        text-align: left;\n",
       "    }\n",
       "\n",
       "    .dataframe tbody tr th {\n",
       "        vertical-align: top;\n",
       "    }\n",
       "</style>\n",
       "<table border=\"1\" class=\"dataframe\">\n",
       "  <thead>\n",
       "    <tr style=\"text-align: right;\">\n",
       "      <th></th>\n",
       "      <th>from_mac_id</th>\n",
       "      <th>time</th>\n",
       "      <th>to_mac</th>\n",
       "      <th>from_mac</th>\n",
       "      <th>to_mac_id</th>\n",
       "    </tr>\n",
       "  </thead>\n",
       "  <tbody>\n",
       "    <tr>\n",
       "      <th>0</th>\n",
       "      <td>2</td>\n",
       "      <td>731947.842546</td>\n",
       "      <td>6.196494e+10</td>\n",
       "      <td>6.196102e+10</td>\n",
       "      <td>62</td>\n",
       "    </tr>\n",
       "    <tr>\n",
       "      <th>1</th>\n",
       "      <td>2</td>\n",
       "      <td>731947.881007</td>\n",
       "      <td>6.196102e+10</td>\n",
       "      <td>6.196102e+10</td>\n",
       "      <td>3</td>\n",
       "    </tr>\n",
       "    <tr>\n",
       "      <th>2</th>\n",
       "      <td>2</td>\n",
       "      <td>731947.885266</td>\n",
       "      <td>6.196095e+10</td>\n",
       "      <td>6.196102e+10</td>\n",
       "      <td>28</td>\n",
       "    </tr>\n",
       "    <tr>\n",
       "      <th>3</th>\n",
       "      <td>2</td>\n",
       "      <td>731947.888009</td>\n",
       "      <td>6.196102e+10</td>\n",
       "      <td>6.196102e+10</td>\n",
       "      <td>18</td>\n",
       "    </tr>\n",
       "    <tr>\n",
       "      <th>4</th>\n",
       "      <td>2</td>\n",
       "      <td>731947.889641</td>\n",
       "      <td>6.196102e+10</td>\n",
       "      <td>6.196102e+10</td>\n",
       "      <td>18</td>\n",
       "    </tr>\n",
       "  </tbody>\n",
       "</table>\n",
       "</div>"
      ],
      "text/plain": [
       "   from_mac_id           time        to_mac      from_mac  to_mac_id\n",
       "0            2  731947.842546  6.196494e+10  6.196102e+10         62\n",
       "1            2  731947.881007  6.196102e+10  6.196102e+10          3\n",
       "2            2  731947.885266  6.196095e+10  6.196102e+10         28\n",
       "3            2  731947.888009  6.196102e+10  6.196102e+10         18\n",
       "4            2  731947.889641  6.196102e+10  6.196102e+10         18"
      ]
     },
     "execution_count": 20,
     "metadata": {},
     "output_type": "execute_result"
    }
   ],
   "source": [
    "bt_nw.rename(columns={\"id\": \"to_mac_id\"}, inplace = True)\n",
    "bt_nw.head()"
   ]
  },
  {
   "cell_type": "code",
   "execution_count": 21,
   "metadata": {
    "collapsed": false
   },
   "outputs": [
    {
     "name": "stdout",
     "output_type": "stream",
     "text": [
      "1782\n",
      "88\n",
      "91\n",
      "0\n",
      "0\n",
      "93\n",
      "[  2   3   4   5   6   7   8   9  10  11  12  13  14  15  16  18  19  20\n",
      "  21  22  24  25  26  27  28  29  30  31  32  34  35  36  37  39  40  41\n",
      "  42  43  45  47  48  49  51  52  53  54  55  56  57  59  60  61  62  64\n",
      "  65  66  67  68  69  70  71  72  73  74  75  76  77  78  80  81  82  83\n",
      "  84  85  86  87  88  89  90  91  92  93  94  95  96  97  98  99 100 101\n",
      " 102 103 105]\n"
     ]
    }
   ],
   "source": [
    "print len(np.unique(bt_nw.from_mac))\n",
    "print len(np.unique(bt_nw.from_mac_id))\n",
    "print len(np.unique(bt_nw.to_mac_id))\n",
    "print np.sum(bt_nw.from_mac_id.isnull())\n",
    "print np.sum(bt_nw.to_mac_id.isnull())\n",
    "\n",
    "## how many unique ids are ever in a nw?\n",
    "print len(np.unique(np.concatenate((np.unique(bt_nw.from_mac_id), np.unique(bt_nw.to_mac_id)))))\n",
    "print np.unique(np.concatenate((np.unique(bt_nw.from_mac_id), np.unique(bt_nw.to_mac_id))))"
   ]
  },
  {
   "cell_type": "markdown",
   "metadata": {},
   "source": [
    "### finally, check we only have individuals in study"
   ]
  },
  {
   "cell_type": "code",
   "execution_count": 22,
   "metadata": {
    "collapsed": false
   },
   "outputs": [
    {
     "name": "stdout",
     "output_type": "stream",
     "text": [
      "1695\n",
      "1695\n"
     ]
    }
   ],
   "source": [
    "print np.sum(bt_nw.from_mac.isnull())\n",
    "print np.sum(bt_nw.from_mac_id==105)"
   ]
  },
  {
   "cell_type": "code",
   "execution_count": 23,
   "metadata": {
    "collapsed": false
   },
   "outputs": [
    {
     "name": "stdout",
     "output_type": "stream",
     "text": [
      "0\n"
     ]
    }
   ],
   "source": [
    "print np.sum(bt_nw.to_mac.isnull())"
   ]
  },
  {
   "cell_type": "code",
   "execution_count": null,
   "metadata": {
    "collapsed": true
   },
   "outputs": [],
   "source": []
  },
  {
   "cell_type": "markdown",
   "metadata": {},
   "source": [
    "## Convert time and get baseline counts of grad students in each month train/test"
   ]
  },
  {
   "cell_type": "code",
   "execution_count": 24,
   "metadata": {
    "collapsed": false
   },
   "outputs": [
    {
     "data": {
      "text/html": [
       "<div>\n",
       "<style>\n",
       "    .dataframe thead tr:only-child th {\n",
       "        text-align: right;\n",
       "    }\n",
       "\n",
       "    .dataframe thead th {\n",
       "        text-align: left;\n",
       "    }\n",
       "\n",
       "    .dataframe tbody tr th {\n",
       "        vertical-align: top;\n",
       "    }\n",
       "</style>\n",
       "<table border=\"1\" class=\"dataframe\">\n",
       "  <thead>\n",
       "    <tr style=\"text-align: right;\">\n",
       "      <th></th>\n",
       "      <th>from_mac_id</th>\n",
       "      <th>time</th>\n",
       "      <th>to_mac</th>\n",
       "      <th>from_mac</th>\n",
       "      <th>to_mac_id</th>\n",
       "    </tr>\n",
       "  </thead>\n",
       "  <tbody>\n",
       "    <tr>\n",
       "      <th>0</th>\n",
       "      <td>2</td>\n",
       "      <td>731947.842546</td>\n",
       "      <td>6.196494e+10</td>\n",
       "      <td>6.196102e+10</td>\n",
       "      <td>62</td>\n",
       "    </tr>\n",
       "    <tr>\n",
       "      <th>1</th>\n",
       "      <td>2</td>\n",
       "      <td>731947.881007</td>\n",
       "      <td>6.196102e+10</td>\n",
       "      <td>6.196102e+10</td>\n",
       "      <td>3</td>\n",
       "    </tr>\n",
       "    <tr>\n",
       "      <th>2</th>\n",
       "      <td>2</td>\n",
       "      <td>731947.885266</td>\n",
       "      <td>6.196095e+10</td>\n",
       "      <td>6.196102e+10</td>\n",
       "      <td>28</td>\n",
       "    </tr>\n",
       "    <tr>\n",
       "      <th>3</th>\n",
       "      <td>2</td>\n",
       "      <td>731947.888009</td>\n",
       "      <td>6.196102e+10</td>\n",
       "      <td>6.196102e+10</td>\n",
       "      <td>18</td>\n",
       "    </tr>\n",
       "    <tr>\n",
       "      <th>4</th>\n",
       "      <td>2</td>\n",
       "      <td>731947.889641</td>\n",
       "      <td>6.196102e+10</td>\n",
       "      <td>6.196102e+10</td>\n",
       "      <td>18</td>\n",
       "    </tr>\n",
       "  </tbody>\n",
       "</table>\n",
       "</div>"
      ],
      "text/plain": [
       "   from_mac_id           time        to_mac      from_mac  to_mac_id\n",
       "0            2  731947.842546  6.196494e+10  6.196102e+10         62\n",
       "1            2  731947.881007  6.196102e+10  6.196102e+10          3\n",
       "2            2  731947.885266  6.196095e+10  6.196102e+10         28\n",
       "3            2  731947.888009  6.196102e+10  6.196102e+10         18\n",
       "4            2  731947.889641  6.196102e+10  6.196102e+10         18"
      ]
     },
     "execution_count": 24,
     "metadata": {},
     "output_type": "execute_result"
    }
   ],
   "source": [
    "bt_nw.head()"
   ]
  },
  {
   "cell_type": "code",
   "execution_count": 25,
   "metadata": {
    "collapsed": false
   },
   "outputs": [
    {
     "name": "stdout",
     "output_type": "stream",
     "text": [
      "731947.1689467594\n",
      "732507.737025463\n"
     ]
    }
   ],
   "source": [
    "bt_nw.time[0]\n",
    "print np.min(bt_nw.time)\n",
    "print np.max(bt_nw.time)\n",
    "\n"
   ]
  },
  {
   "cell_type": "code",
   "execution_count": 26,
   "metadata": {
    "collapsed": false
   },
   "outputs": [],
   "source": [
    "from datetime import datetime, timedelta\n",
    "\n",
    "## https://jeremykun.com/2014/01/21/realitymining-a-case-study-in-the-woes-of-data-processing/\n",
    "def convertDatetime(dt):\n",
    "    return datetime.fromordinal(int(dt)) + timedelta(days=dt%1) - timedelta(days=366) - timedelta(hours=5)\n"
   ]
  },
  {
   "cell_type": "code",
   "execution_count": 27,
   "metadata": {
    "collapsed": false
   },
   "outputs": [
    {
     "name": "stdout",
     "output_type": "stream",
     "text": [
      "2004-01-01 16:14:47.000007\n",
      "1\n",
      "2004\n"
     ]
    }
   ],
   "source": [
    "j = 2\n",
    "print convertDatetime(bt_nw.time[j])\n",
    "print convertDatetime(bt_nw.time[j]).month\n",
    "#print convertDatetime(bt_nw.time[j]).day\n",
    "print convertDatetime(bt_nw.time[j]).year"
   ]
  },
  {
   "cell_type": "code",
   "execution_count": 28,
   "metadata": {
    "collapsed": false
   },
   "outputs": [],
   "source": [
    "tmp = map(convertDatetime, bt_nw.time)"
   ]
  },
  {
   "cell_type": "code",
   "execution_count": 29,
   "metadata": {
    "collapsed": false
   },
   "outputs": [],
   "source": [
    "month = []\n",
    "year = []\n",
    "for j in range(len(tmp)):\n",
    "    month.append(tmp[j].month)\n",
    "    year.append(tmp[j].year)"
   ]
  },
  {
   "cell_type": "code",
   "execution_count": 30,
   "metadata": {
    "collapsed": false
   },
   "outputs": [
    {
     "data": {
      "text/html": [
       "<div>\n",
       "<style>\n",
       "    .dataframe thead tr:only-child th {\n",
       "        text-align: right;\n",
       "    }\n",
       "\n",
       "    .dataframe thead th {\n",
       "        text-align: left;\n",
       "    }\n",
       "\n",
       "    .dataframe tbody tr th {\n",
       "        vertical-align: top;\n",
       "    }\n",
       "</style>\n",
       "<table border=\"1\" class=\"dataframe\">\n",
       "  <thead>\n",
       "    <tr style=\"text-align: right;\">\n",
       "      <th></th>\n",
       "      <th>from_mac_id</th>\n",
       "      <th>time</th>\n",
       "      <th>to_mac</th>\n",
       "      <th>from_mac</th>\n",
       "      <th>to_mac_id</th>\n",
       "      <th>month</th>\n",
       "      <th>year</th>\n",
       "    </tr>\n",
       "  </thead>\n",
       "  <tbody>\n",
       "    <tr>\n",
       "      <th>0</th>\n",
       "      <td>2</td>\n",
       "      <td>731947.842546</td>\n",
       "      <td>6.196494e+10</td>\n",
       "      <td>6.196102e+10</td>\n",
       "      <td>62</td>\n",
       "      <td>1</td>\n",
       "      <td>2004</td>\n",
       "    </tr>\n",
       "    <tr>\n",
       "      <th>1</th>\n",
       "      <td>2</td>\n",
       "      <td>731947.881007</td>\n",
       "      <td>6.196102e+10</td>\n",
       "      <td>6.196102e+10</td>\n",
       "      <td>3</td>\n",
       "      <td>1</td>\n",
       "      <td>2004</td>\n",
       "    </tr>\n",
       "    <tr>\n",
       "      <th>2</th>\n",
       "      <td>2</td>\n",
       "      <td>731947.885266</td>\n",
       "      <td>6.196095e+10</td>\n",
       "      <td>6.196102e+10</td>\n",
       "      <td>28</td>\n",
       "      <td>1</td>\n",
       "      <td>2004</td>\n",
       "    </tr>\n",
       "    <tr>\n",
       "      <th>3</th>\n",
       "      <td>2</td>\n",
       "      <td>731947.888009</td>\n",
       "      <td>6.196102e+10</td>\n",
       "      <td>6.196102e+10</td>\n",
       "      <td>18</td>\n",
       "      <td>1</td>\n",
       "      <td>2004</td>\n",
       "    </tr>\n",
       "    <tr>\n",
       "      <th>4</th>\n",
       "      <td>2</td>\n",
       "      <td>731947.889641</td>\n",
       "      <td>6.196102e+10</td>\n",
       "      <td>6.196102e+10</td>\n",
       "      <td>18</td>\n",
       "      <td>1</td>\n",
       "      <td>2004</td>\n",
       "    </tr>\n",
       "  </tbody>\n",
       "</table>\n",
       "</div>"
      ],
      "text/plain": [
       "   from_mac_id           time        to_mac      from_mac  to_mac_id  month  \\\n",
       "0            2  731947.842546  6.196494e+10  6.196102e+10         62      1   \n",
       "1            2  731947.881007  6.196102e+10  6.196102e+10          3      1   \n",
       "2            2  731947.885266  6.196095e+10  6.196102e+10         28      1   \n",
       "3            2  731947.888009  6.196102e+10  6.196102e+10         18      1   \n",
       "4            2  731947.889641  6.196102e+10  6.196102e+10         18      1   \n",
       "\n",
       "   year  \n",
       "0  2004  \n",
       "1  2004  \n",
       "2  2004  \n",
       "3  2004  \n",
       "4  2004  "
      ]
     },
     "execution_count": 30,
     "metadata": {},
     "output_type": "execute_result"
    }
   ],
   "source": [
    "bt_nw['month'] = month\n",
    "bt_nw['year'] = year\n",
    "bt_nw.head()"
   ]
  },
  {
   "cell_type": "code",
   "execution_count": 31,
   "metadata": {
    "collapsed": false
   },
   "outputs": [
    {
     "data": {
      "text/html": [
       "<div>\n",
       "<style>\n",
       "    .dataframe thead tr:only-child th {\n",
       "        text-align: right;\n",
       "    }\n",
       "\n",
       "    .dataframe thead th {\n",
       "        text-align: left;\n",
       "    }\n",
       "\n",
       "    .dataframe tbody tr th {\n",
       "        vertical-align: top;\n",
       "    }\n",
       "</style>\n",
       "<table border=\"1\" class=\"dataframe\">\n",
       "  <thead>\n",
       "    <tr style=\"text-align: right;\">\n",
       "      <th></th>\n",
       "      <th>from_mac_id</th>\n",
       "      <th>time</th>\n",
       "      <th>to_mac</th>\n",
       "      <th>from_mac</th>\n",
       "      <th>to_mac_id</th>\n",
       "      <th>month</th>\n",
       "      <th>year</th>\n",
       "    </tr>\n",
       "  </thead>\n",
       "  <tbody>\n",
       "    <tr>\n",
       "      <th>734620</th>\n",
       "      <td>105</td>\n",
       "      <td>732366.667558</td>\n",
       "      <td>6.196498e+10</td>\n",
       "      <td>NaN</td>\n",
       "      <td>52</td>\n",
       "      <td>2</td>\n",
       "      <td>2005</td>\n",
       "    </tr>\n",
       "    <tr>\n",
       "      <th>734621</th>\n",
       "      <td>105</td>\n",
       "      <td>732366.678843</td>\n",
       "      <td>6.196498e+10</td>\n",
       "      <td>NaN</td>\n",
       "      <td>52</td>\n",
       "      <td>2</td>\n",
       "      <td>2005</td>\n",
       "    </tr>\n",
       "    <tr>\n",
       "      <th>734622</th>\n",
       "      <td>105</td>\n",
       "      <td>732366.682465</td>\n",
       "      <td>6.196498e+10</td>\n",
       "      <td>NaN</td>\n",
       "      <td>52</td>\n",
       "      <td>2</td>\n",
       "      <td>2005</td>\n",
       "    </tr>\n",
       "    <tr>\n",
       "      <th>734623</th>\n",
       "      <td>105</td>\n",
       "      <td>732366.719618</td>\n",
       "      <td>6.196494e+10</td>\n",
       "      <td>NaN</td>\n",
       "      <td>62</td>\n",
       "      <td>2</td>\n",
       "      <td>2005</td>\n",
       "    </tr>\n",
       "    <tr>\n",
       "      <th>734624</th>\n",
       "      <td>105</td>\n",
       "      <td>732366.734236</td>\n",
       "      <td>6.196494e+10</td>\n",
       "      <td>NaN</td>\n",
       "      <td>62</td>\n",
       "      <td>2</td>\n",
       "      <td>2005</td>\n",
       "    </tr>\n",
       "  </tbody>\n",
       "</table>\n",
       "</div>"
      ],
      "text/plain": [
       "        from_mac_id           time        to_mac  from_mac  to_mac_id  month  \\\n",
       "734620          105  732366.667558  6.196498e+10       NaN         52      2   \n",
       "734621          105  732366.678843  6.196498e+10       NaN         52      2   \n",
       "734622          105  732366.682465  6.196498e+10       NaN         52      2   \n",
       "734623          105  732366.719618  6.196494e+10       NaN         62      2   \n",
       "734624          105  732366.734236  6.196494e+10       NaN         62      2   \n",
       "\n",
       "        year  \n",
       "734620  2005  \n",
       "734621  2005  \n",
       "734622  2005  \n",
       "734623  2005  \n",
       "734624  2005  "
      ]
     },
     "execution_count": 31,
     "metadata": {},
     "output_type": "execute_result"
    }
   ],
   "source": [
    "bt_nw.tail()"
   ]
  },
  {
   "cell_type": "code",
   "execution_count": null,
   "metadata": {
    "collapsed": true
   },
   "outputs": [],
   "source": []
  },
  {
   "cell_type": "code",
   "execution_count": 32,
   "metadata": {
    "collapsed": false
   },
   "outputs": [
    {
     "data": {
      "text/html": [
       "<div>\n",
       "<style>\n",
       "    .dataframe thead tr:only-child th {\n",
       "        text-align: right;\n",
       "    }\n",
       "\n",
       "    .dataframe thead th {\n",
       "        text-align: left;\n",
       "    }\n",
       "\n",
       "    .dataframe tbody tr th {\n",
       "        vertical-align: top;\n",
       "    }\n",
       "</style>\n",
       "<table border=\"1\" class=\"dataframe\">\n",
       "  <thead>\n",
       "    <tr style=\"text-align: right;\">\n",
       "      <th></th>\n",
       "      <th>from_mac_id</th>\n",
       "      <th>time</th>\n",
       "      <th>to_mac</th>\n",
       "      <th>from_mac</th>\n",
       "      <th>to_mac_id</th>\n",
       "      <th>month</th>\n",
       "      <th>year</th>\n",
       "    </tr>\n",
       "  </thead>\n",
       "  <tbody>\n",
       "    <tr>\n",
       "      <th>0</th>\n",
       "      <td>2</td>\n",
       "      <td>731947.842546</td>\n",
       "      <td>6.196494e+10</td>\n",
       "      <td>6.196102e+10</td>\n",
       "      <td>62</td>\n",
       "      <td>1</td>\n",
       "      <td>2004</td>\n",
       "    </tr>\n",
       "    <tr>\n",
       "      <th>1</th>\n",
       "      <td>2</td>\n",
       "      <td>731947.881007</td>\n",
       "      <td>6.196102e+10</td>\n",
       "      <td>6.196102e+10</td>\n",
       "      <td>3</td>\n",
       "      <td>1</td>\n",
       "      <td>2004</td>\n",
       "    </tr>\n",
       "    <tr>\n",
       "      <th>2</th>\n",
       "      <td>2</td>\n",
       "      <td>731947.885266</td>\n",
       "      <td>6.196095e+10</td>\n",
       "      <td>6.196102e+10</td>\n",
       "      <td>28</td>\n",
       "      <td>1</td>\n",
       "      <td>2004</td>\n",
       "    </tr>\n",
       "    <tr>\n",
       "      <th>3</th>\n",
       "      <td>2</td>\n",
       "      <td>731947.888009</td>\n",
       "      <td>6.196102e+10</td>\n",
       "      <td>6.196102e+10</td>\n",
       "      <td>18</td>\n",
       "      <td>1</td>\n",
       "      <td>2004</td>\n",
       "    </tr>\n",
       "    <tr>\n",
       "      <th>4</th>\n",
       "      <td>2</td>\n",
       "      <td>731947.889641</td>\n",
       "      <td>6.196102e+10</td>\n",
       "      <td>6.196102e+10</td>\n",
       "      <td>18</td>\n",
       "      <td>1</td>\n",
       "      <td>2004</td>\n",
       "    </tr>\n",
       "  </tbody>\n",
       "</table>\n",
       "</div>"
      ],
      "text/plain": [
       "   from_mac_id           time        to_mac      from_mac  to_mac_id  month  \\\n",
       "0            2  731947.842546  6.196494e+10  6.196102e+10         62      1   \n",
       "1            2  731947.881007  6.196102e+10  6.196102e+10          3      1   \n",
       "2            2  731947.885266  6.196095e+10  6.196102e+10         28      1   \n",
       "3            2  731947.888009  6.196102e+10  6.196102e+10         18      1   \n",
       "4            2  731947.889641  6.196102e+10  6.196102e+10         18      1   \n",
       "\n",
       "   year  \n",
       "0  2004  \n",
       "1  2004  \n",
       "2  2004  \n",
       "3  2004  \n",
       "4  2004  "
      ]
     },
     "execution_count": 32,
     "metadata": {},
     "output_type": "execute_result"
    }
   ],
   "source": [
    "bt_nw.head()"
   ]
  },
  {
   "cell_type": "markdown",
   "metadata": {},
   "source": [
    "#### make undirected"
   ]
  },
  {
   "cell_type": "code",
   "execution_count": 33,
   "metadata": {
    "collapsed": true
   },
   "outputs": [],
   "source": [
    "#bt_nw_undirected = bt_nw.copy()\n",
    "#bt_nw_undirected.from_mac_id = bt_nw.to_mac_id\n",
    "#bt_nw_undirected.to_mac_id = bt_nw.from_mac_id\n",
    "\n"
   ]
  },
  {
   "cell_type": "code",
   "execution_count": 34,
   "metadata": {
    "collapsed": false
   },
   "outputs": [],
   "source": [
    "#bt_nw = bt_nw.append(bt_nw_undirected)"
   ]
  },
  {
   "cell_type": "code",
   "execution_count": 35,
   "metadata": {
    "collapsed": true
   },
   "outputs": [],
   "source": [
    "#bt_nw.drop_duplicates(inplace = True)"
   ]
  },
  {
   "cell_type": "markdown",
   "metadata": {},
   "source": [
    "## Merge in class attribute for from_mac_id"
   ]
  },
  {
   "cell_type": "code",
   "execution_count": 83,
   "metadata": {
    "collapsed": true
   },
   "outputs": [],
   "source": [
    "bt_nw_y = bt_nw.merge(grad_y[['id','affil_clean']],\n",
    "                     left_on = 'from_mac_id',\n",
    "                     right_on = 'id',\n",
    "                     how = 'left')"
   ]
  },
  {
   "cell_type": "code",
   "execution_count": 84,
   "metadata": {
    "collapsed": false
   },
   "outputs": [
    {
     "data": {
      "text/html": [
       "<div>\n",
       "<style>\n",
       "    .dataframe thead tr:only-child th {\n",
       "        text-align: right;\n",
       "    }\n",
       "\n",
       "    .dataframe thead th {\n",
       "        text-align: left;\n",
       "    }\n",
       "\n",
       "    .dataframe tbody tr th {\n",
       "        vertical-align: top;\n",
       "    }\n",
       "</style>\n",
       "<table border=\"1\" class=\"dataframe\">\n",
       "  <thead>\n",
       "    <tr style=\"text-align: right;\">\n",
       "      <th></th>\n",
       "      <th>from_mac_id</th>\n",
       "      <th>time</th>\n",
       "      <th>to_mac</th>\n",
       "      <th>from_mac</th>\n",
       "      <th>to_mac_id</th>\n",
       "      <th>month</th>\n",
       "      <th>year</th>\n",
       "      <th>id</th>\n",
       "      <th>affil_clean</th>\n",
       "    </tr>\n",
       "  </thead>\n",
       "  <tbody>\n",
       "    <tr>\n",
       "      <th>0</th>\n",
       "      <td>2</td>\n",
       "      <td>731947.842546</td>\n",
       "      <td>6.196494e+10</td>\n",
       "      <td>6.196102e+10</td>\n",
       "      <td>62</td>\n",
       "      <td>1</td>\n",
       "      <td>2004</td>\n",
       "      <td>2</td>\n",
       "      <td>1styeargrad</td>\n",
       "    </tr>\n",
       "    <tr>\n",
       "      <th>1</th>\n",
       "      <td>2</td>\n",
       "      <td>731947.881007</td>\n",
       "      <td>6.196102e+10</td>\n",
       "      <td>6.196102e+10</td>\n",
       "      <td>3</td>\n",
       "      <td>1</td>\n",
       "      <td>2004</td>\n",
       "      <td>2</td>\n",
       "      <td>1styeargrad</td>\n",
       "    </tr>\n",
       "    <tr>\n",
       "      <th>2</th>\n",
       "      <td>2</td>\n",
       "      <td>731947.885266</td>\n",
       "      <td>6.196095e+10</td>\n",
       "      <td>6.196102e+10</td>\n",
       "      <td>28</td>\n",
       "      <td>1</td>\n",
       "      <td>2004</td>\n",
       "      <td>2</td>\n",
       "      <td>1styeargrad</td>\n",
       "    </tr>\n",
       "    <tr>\n",
       "      <th>3</th>\n",
       "      <td>2</td>\n",
       "      <td>731947.888009</td>\n",
       "      <td>6.196102e+10</td>\n",
       "      <td>6.196102e+10</td>\n",
       "      <td>18</td>\n",
       "      <td>1</td>\n",
       "      <td>2004</td>\n",
       "      <td>2</td>\n",
       "      <td>1styeargrad</td>\n",
       "    </tr>\n",
       "    <tr>\n",
       "      <th>4</th>\n",
       "      <td>2</td>\n",
       "      <td>731947.889641</td>\n",
       "      <td>6.196102e+10</td>\n",
       "      <td>6.196102e+10</td>\n",
       "      <td>18</td>\n",
       "      <td>1</td>\n",
       "      <td>2004</td>\n",
       "      <td>2</td>\n",
       "      <td>1styeargrad</td>\n",
       "    </tr>\n",
       "  </tbody>\n",
       "</table>\n",
       "</div>"
      ],
      "text/plain": [
       "   from_mac_id           time        to_mac      from_mac  to_mac_id  month  \\\n",
       "0            2  731947.842546  6.196494e+10  6.196102e+10         62      1   \n",
       "1            2  731947.881007  6.196102e+10  6.196102e+10          3      1   \n",
       "2            2  731947.885266  6.196095e+10  6.196102e+10         28      1   \n",
       "3            2  731947.888009  6.196102e+10  6.196102e+10         18      1   \n",
       "4            2  731947.889641  6.196102e+10  6.196102e+10         18      1   \n",
       "\n",
       "   year  id   affil_clean  \n",
       "0  2004   2  1styeargrad   \n",
       "1  2004   2  1styeargrad   \n",
       "2  2004   2  1styeargrad   \n",
       "3  2004   2  1styeargrad   \n",
       "4  2004   2  1styeargrad   "
      ]
     },
     "execution_count": 84,
     "metadata": {},
     "output_type": "execute_result"
    }
   ],
   "source": [
    "bt_nw_y.head()"
   ]
  },
  {
   "cell_type": "code",
   "execution_count": 146,
   "metadata": {
    "collapsed": false
   },
   "outputs": [
    {
     "name": "stdout",
     "output_type": "stream",
     "text": [
      "['1styeargrad ' 'grad' 'mlfrosh' 'mlgrad' 'mlstaff' 'mlurop' 'professor'\n",
      " 'sloan' 'sloan_2']\n",
      "0\n",
      "[0 1]\n",
      "3\n"
     ]
    }
   ],
   "source": [
    "print np.unique(bt_nw_y.affil_clean)\n",
    "print np.sum(bt_nw_y.affil_clean.isnull())\n",
    "\n",
    "## readme\n",
    "#The subject’s affiliation:\n",
    "#'mlgrad’ – Media Lab Graduate Student (not a first year)\n",
    "#'1styeargrad’ – Media Lab First Year Graduate Student\n",
    "#'mlfrosh’ – Media Lab First Year Undergraduate Student\n",
    "#‘mlstaff’ – Media Lab Staff\n",
    "#‘mlurop’ – Media Lab Undergraduate\n",
    "#‘professor’ – Media Lab Professor\n",
    "\n",
    "\n",
    "## from RolX paper: http://www.eliassi.org/papers/henderson-kdd2012.pdf\n",
    "#\"The first set of experiments involves a binary classification task where we\n",
    "#try to predict whether a given subject is a business school\n",
    "#student or not. The second set is similar, where we try\n",
    "#to predict whether a subject is a graduate student in the\n",
    "#Media Lab or not.\"\n",
    "\n",
    "#print np.mean(bt_nw_y.affil_clean=='mlgrad')\n",
    "#bt_nw_y['y'] = (bt_nw_y.affil_clean=='mlgrad')+0\n",
    "bt_nw_y['y'] = ((bt_nw_y.affil_clean=='mlgrad') | (bt_nw_y.affil_clean=='1styeargrad '))+0\n",
    "print np.unique(bt_nw_y.y)\n",
    "print np.sum(grad_y.affil_clean=='grad')"
   ]
  },
  {
   "cell_type": "code",
   "execution_count": 86,
   "metadata": {
    "collapsed": false
   },
   "outputs": [
    {
     "name": "stdout",
     "output_type": "stream",
     "text": [
      "        month  year\n",
      "0           1  2004\n",
      "656         8  2004\n",
      "1972        9  2004\n",
      "3648       11  2004\n",
      "6632       12  2004\n",
      "15640       1  2005\n",
      "16222       7  2004\n",
      "64805      10  2004\n",
      "76319       2  2005\n",
      "78021       3  2005\n",
      "82906       4  2005\n",
      "88475       5  2005\n",
      "265648      6  2005\n",
      "468495      7  2005\n",
      "468807      3  2004\n",
      "704756     12  2003\n"
     ]
    }
   ],
   "source": [
    "print bt_nw_y[['month','year']].drop_duplicates()"
   ]
  },
  {
   "cell_type": "code",
   "execution_count": 87,
   "metadata": {
    "collapsed": false
   },
   "outputs": [
    {
     "data": {
      "text/html": [
       "<div>\n",
       "<style>\n",
       "    .dataframe thead tr:only-child th {\n",
       "        text-align: right;\n",
       "    }\n",
       "\n",
       "    .dataframe thead th {\n",
       "        text-align: left;\n",
       "    }\n",
       "\n",
       "    .dataframe tbody tr th {\n",
       "        vertical-align: top;\n",
       "    }\n",
       "</style>\n",
       "<table border=\"1\" class=\"dataframe\">\n",
       "  <thead>\n",
       "    <tr style=\"text-align: right;\">\n",
       "      <th></th>\n",
       "      <th>from_mac_id</th>\n",
       "      <th>time</th>\n",
       "      <th>to_mac</th>\n",
       "      <th>from_mac</th>\n",
       "      <th>to_mac_id</th>\n",
       "      <th>month</th>\n",
       "      <th>year</th>\n",
       "      <th>id</th>\n",
       "      <th>affil_clean</th>\n",
       "      <th>y</th>\n",
       "    </tr>\n",
       "  </thead>\n",
       "  <tbody>\n",
       "    <tr>\n",
       "      <th>0</th>\n",
       "      <td>2</td>\n",
       "      <td>731947.842546</td>\n",
       "      <td>6.196494e+10</td>\n",
       "      <td>6.196102e+10</td>\n",
       "      <td>62</td>\n",
       "      <td>1</td>\n",
       "      <td>2004</td>\n",
       "      <td>2</td>\n",
       "      <td>1styeargrad</td>\n",
       "      <td>1</td>\n",
       "    </tr>\n",
       "    <tr>\n",
       "      <th>1</th>\n",
       "      <td>2</td>\n",
       "      <td>731947.881007</td>\n",
       "      <td>6.196102e+10</td>\n",
       "      <td>6.196102e+10</td>\n",
       "      <td>3</td>\n",
       "      <td>1</td>\n",
       "      <td>2004</td>\n",
       "      <td>2</td>\n",
       "      <td>1styeargrad</td>\n",
       "      <td>1</td>\n",
       "    </tr>\n",
       "    <tr>\n",
       "      <th>2</th>\n",
       "      <td>2</td>\n",
       "      <td>731947.885266</td>\n",
       "      <td>6.196095e+10</td>\n",
       "      <td>6.196102e+10</td>\n",
       "      <td>28</td>\n",
       "      <td>1</td>\n",
       "      <td>2004</td>\n",
       "      <td>2</td>\n",
       "      <td>1styeargrad</td>\n",
       "      <td>1</td>\n",
       "    </tr>\n",
       "    <tr>\n",
       "      <th>3</th>\n",
       "      <td>2</td>\n",
       "      <td>731947.888009</td>\n",
       "      <td>6.196102e+10</td>\n",
       "      <td>6.196102e+10</td>\n",
       "      <td>18</td>\n",
       "      <td>1</td>\n",
       "      <td>2004</td>\n",
       "      <td>2</td>\n",
       "      <td>1styeargrad</td>\n",
       "      <td>1</td>\n",
       "    </tr>\n",
       "    <tr>\n",
       "      <th>4</th>\n",
       "      <td>2</td>\n",
       "      <td>731947.889641</td>\n",
       "      <td>6.196102e+10</td>\n",
       "      <td>6.196102e+10</td>\n",
       "      <td>18</td>\n",
       "      <td>1</td>\n",
       "      <td>2004</td>\n",
       "      <td>2</td>\n",
       "      <td>1styeargrad</td>\n",
       "      <td>1</td>\n",
       "    </tr>\n",
       "  </tbody>\n",
       "</table>\n",
       "</div>"
      ],
      "text/plain": [
       "   from_mac_id           time        to_mac      from_mac  to_mac_id  month  \\\n",
       "0            2  731947.842546  6.196494e+10  6.196102e+10         62      1   \n",
       "1            2  731947.881007  6.196102e+10  6.196102e+10          3      1   \n",
       "2            2  731947.885266  6.196095e+10  6.196102e+10         28      1   \n",
       "3            2  731947.888009  6.196102e+10  6.196102e+10         18      1   \n",
       "4            2  731947.889641  6.196102e+10  6.196102e+10         18      1   \n",
       "\n",
       "   year  id   affil_clean  y  \n",
       "0  2004   2  1styeargrad   1  \n",
       "1  2004   2  1styeargrad   1  \n",
       "2  2004   2  1styeargrad   1  \n",
       "3  2004   2  1styeargrad   1  \n",
       "4  2004   2  1styeargrad   1  "
      ]
     },
     "execution_count": 87,
     "metadata": {},
     "output_type": "execute_result"
    }
   ],
   "source": [
    "bt_nw_y.head()"
   ]
  },
  {
   "cell_type": "markdown",
   "metadata": {},
   "source": [
    "## Baseline Classifier\n",
    "\"The Baseline is a classifier that\n",
    "learns to always predict the majority class of the training set\n",
    "on the test set.\""
   ]
  },
  {
   "cell_type": "code",
   "execution_count": 88,
   "metadata": {
    "collapsed": false
   },
   "outputs": [
    {
     "data": {
      "text/html": [
       "<div>\n",
       "<style>\n",
       "    .dataframe thead tr:only-child th {\n",
       "        text-align: right;\n",
       "    }\n",
       "\n",
       "    .dataframe thead th {\n",
       "        text-align: left;\n",
       "    }\n",
       "\n",
       "    .dataframe tbody tr th {\n",
       "        vertical-align: top;\n",
       "    }\n",
       "</style>\n",
       "<table border=\"1\" class=\"dataframe\">\n",
       "  <thead>\n",
       "    <tr style=\"text-align: right;\">\n",
       "      <th></th>\n",
       "      <th>month</th>\n",
       "      <th>year</th>\n",
       "    </tr>\n",
       "  </thead>\n",
       "  <tbody>\n",
       "    <tr>\n",
       "      <th>16222</th>\n",
       "      <td>7</td>\n",
       "      <td>2004</td>\n",
       "    </tr>\n",
       "    <tr>\n",
       "      <th>656</th>\n",
       "      <td>8</td>\n",
       "      <td>2004</td>\n",
       "    </tr>\n",
       "    <tr>\n",
       "      <th>1972</th>\n",
       "      <td>9</td>\n",
       "      <td>2004</td>\n",
       "    </tr>\n",
       "    <tr>\n",
       "      <th>64805</th>\n",
       "      <td>10</td>\n",
       "      <td>2004</td>\n",
       "    </tr>\n",
       "    <tr>\n",
       "      <th>3648</th>\n",
       "      <td>11</td>\n",
       "      <td>2004</td>\n",
       "    </tr>\n",
       "    <tr>\n",
       "      <th>6632</th>\n",
       "      <td>12</td>\n",
       "      <td>2004</td>\n",
       "    </tr>\n",
       "    <tr>\n",
       "      <th>15640</th>\n",
       "      <td>1</td>\n",
       "      <td>2005</td>\n",
       "    </tr>\n",
       "    <tr>\n",
       "      <th>76319</th>\n",
       "      <td>2</td>\n",
       "      <td>2005</td>\n",
       "    </tr>\n",
       "    <tr>\n",
       "      <th>78021</th>\n",
       "      <td>3</td>\n",
       "      <td>2005</td>\n",
       "    </tr>\n",
       "    <tr>\n",
       "      <th>82906</th>\n",
       "      <td>4</td>\n",
       "      <td>2005</td>\n",
       "    </tr>\n",
       "    <tr>\n",
       "      <th>88475</th>\n",
       "      <td>5</td>\n",
       "      <td>2005</td>\n",
       "    </tr>\n",
       "    <tr>\n",
       "      <th>265648</th>\n",
       "      <td>6</td>\n",
       "      <td>2005</td>\n",
       "    </tr>\n",
       "  </tbody>\n",
       "</table>\n",
       "</div>"
      ],
      "text/plain": [
       "        month  year\n",
       "16222       7  2004\n",
       "656         8  2004\n",
       "1972        9  2004\n",
       "64805      10  2004\n",
       "3648       11  2004\n",
       "6632       12  2004\n",
       "15640       1  2005\n",
       "76319       2  2005\n",
       "78021       3  2005\n",
       "82906       4  2005\n",
       "88475       5  2005\n",
       "265648      6  2005"
      ]
     },
     "execution_count": 88,
     "metadata": {},
     "output_type": "execute_result"
    }
   ],
   "source": [
    "month_yr_train_test = bt_nw_y[['month','year']].drop_duplicates().sort_values(['year','month'])[3:15]\n",
    "month_yr_train_test"
   ]
  },
  {
   "cell_type": "code",
   "execution_count": 90,
   "metadata": {
    "collapsed": true
   },
   "outputs": [],
   "source": [
    "from sklearn.metrics import f1_score"
   ]
  },
  {
   "cell_type": "code",
   "execution_count": 133,
   "metadata": {
    "collapsed": false
   },
   "outputs": [
    {
     "name": "stdout",
     "output_type": "stream",
     "text": [
      "['1styeargrad ' 'grad' 'mlfrosh' 'mlgrad' 'mlstaff' 'mlurop' 'professor'\n",
      " 'sloan' 'sloan_2']\n",
      "26\n",
      "1\n"
     ]
    }
   ],
   "source": [
    "print np.unique(bt_nw_y.affil_clean)\n",
    "print np.sum(grad_y.affil_clean=='sloan')\n",
    "print np.sum(grad_y.affil_clean=='sloan_2')"
   ]
  },
  {
   "cell_type": "code",
   "execution_count": 151,
   "metadata": {
    "collapsed": false
   },
   "outputs": [
    {
     "name": "stdout",
     "output_type": "stream",
     "text": [
      "train-month/year:  7   2004\n",
      "proportion train-grad-student 0.4\n",
      "num nodes (train):  30\n",
      "test-month/year:  8   2004\n",
      "proportion test-grad-student 0.5333333333333333\n",
      "num nodes (test):  45\n",
      "\n",
      "train-month/year:  8   2004\n",
      "proportion train-grad-student 0.4666666666666667\n",
      "num nodes (train):  45\n",
      "test-month/year:  9   2004\n",
      "proportion test-grad-student 0.5617977528089888\n",
      "num nodes (test):  89\n",
      "\n",
      "train-month/year:  9   2004\n",
      "proportion train-grad-student 0.5393258426966292\n",
      "num nodes (train):  89\n",
      "test-month/year:  10   2004\n",
      "proportion test-grad-student 0.573170731707317\n",
      "num nodes (test):  82\n",
      "\n",
      "train-month/year:  10   2004\n",
      "proportion train-grad-student 0.5365853658536586\n",
      "num nodes (train):  82\n",
      "test-month/year:  11   2004\n",
      "proportion test-grad-student 0.550561797752809\n",
      "num nodes (test):  89\n",
      "\n",
      "train-month/year:  11   2004\n",
      "proportion train-grad-student 0.5280898876404494\n",
      "num nodes (train):  89\n",
      "test-month/year:  12   2004\n",
      "proportion test-grad-student 0.5444444444444444\n",
      "num nodes (test):  90\n",
      "\n",
      "train-month/year:  12   2004\n",
      "proportion train-grad-student 0.5222222222222223\n",
      "num nodes (train):  90\n",
      "test-month/year:  1   2005\n",
      "proportion test-grad-student 0.5681818181818182\n",
      "num nodes (test):  88\n",
      "\n",
      "train-month/year:  1   2005\n",
      "proportion train-grad-student 0.5340909090909091\n",
      "num nodes (train):  88\n",
      "test-month/year:  2   2005\n",
      "proportion test-grad-student 0.5679012345679012\n",
      "num nodes (test):  81\n",
      "\n",
      "train-month/year:  2   2005\n",
      "proportion train-grad-student 0.5432098765432098\n",
      "num nodes (train):  81\n",
      "test-month/year:  3   2005\n",
      "proportion test-grad-student 0.5822784810126582\n",
      "num nodes (test):  79\n",
      "\n",
      "train-month/year:  3   2005\n",
      "proportion train-grad-student 0.5569620253164557\n",
      "num nodes (train):  79\n",
      "test-month/year:  4   2005\n",
      "proportion test-grad-student 0.5753424657534246\n",
      "num nodes (test):  73\n",
      "\n",
      "train-month/year:  4   2005\n",
      "proportion train-grad-student 0.5616438356164384\n",
      "num nodes (train):  73\n",
      "test-month/year:  5   2005\n",
      "proportion test-grad-student 0.5555555555555556\n",
      "num nodes (test):  63\n",
      "\n",
      "train-month/year:  5   2005\n",
      "proportion train-grad-student 0.5396825396825397\n",
      "num nodes (train):  63\n",
      "test-month/year:  6   2005\n",
      "proportion test-grad-student 0.7380952380952381\n",
      "num nodes (test):  42\n",
      "\n"
     ]
    }
   ],
   "source": [
    "acc_macro = []\n",
    "acc_micro = []\n",
    "acc_wtd = []\n",
    "acc_generic = []\n",
    "for j in range(len(month_yr_train_test)-1):\n",
    "    m_train = month_yr_train_test.iloc[j]['month']\n",
    "    yr_train = month_yr_train_test.iloc[j]['year']\n",
    "\n",
    "\n",
    "    m_test = month_yr_train_test.iloc[j+1]['month']\n",
    "    yr_test = month_yr_train_test.iloc[j+1]['year']\n",
    "    \n",
    "    \n",
    "    bt_nw_y_train = bt_nw_y[(bt_nw_y.month==m_train) & (bt_nw_y.year==yr_train)]\n",
    "    bt_nw_y_test = bt_nw_y[(bt_nw_y.month==m_test) & (bt_nw_y.year==yr_test)]\n",
    "\n",
    "    ## get unique node id's if node is from- or to- in training month\n",
    "    gender_train = pd.DataFrame({'id':np.unique(np.concatenate((bt_nw_y_train.from_mac_id, bt_nw_y_train.to_mac_id)))})\n",
    "    gender_train = gender_train.merge(grad_y[['id','affil_clean']],\n",
    "                      on='id',\n",
    "                      how = 'left')\n",
    "    #gender_train['y'] = (gender_train.affil_clean=='mlgrad')+0\n",
    "    #gender_train['y'] = ((gender_train.affil_clean=='mlgrad') | (gender_train.affil_clean=='1styeargrad '))+0\n",
    "    #gender_train['y'] = (gender_train.affil_clean=='1styeargrad ')+0\n",
    "    gender_train['y'] = ((gender_train.affil_clean=='mlgrad') | \n",
    "                         (gender_train.affil_clean=='1styeargrad ') | \n",
    "                         (gender_train.affil_clean=='grad '))+0\n",
    "    \n",
    "    \n",
    "    \n",
    "    ## business\n",
    "    #gender_train['y'] = ((gender_train.affil_clean=='sloan') | (gender_train.affil_clean=='sloan_2'))+0\n",
    "    \n",
    "    ## get unique node id's if node is from- or to- in testing month\n",
    "    gender_test = pd.DataFrame({'id':np.unique(np.concatenate((bt_nw_y_test.from_mac_id, bt_nw_y_test.to_mac_id)))})\n",
    "    gender_test = gender_test.merge(grad_y[['id','affil_clean']],\n",
    "                      on='id',\n",
    "                      how = 'left')\n",
    "    #gender_test['y'] = (gender_test.affil_clean=='mlgrad')+0\n",
    "    #gender_test['y'] = ((gender_test.affil_clean=='mlgrad') | (gender_test.affil_clean=='1styeargrad '))+0\n",
    "    #gender_test['y'] = (gender_test.affil_clean=='1styeargrad ')+0\n",
    "    gender_test['y'] = ((gender_test.affil_clean=='mlgrad') | \n",
    "                        (gender_test.affil_clean=='1styeargrad ') |\n",
    "                       (gender_test.affil_clean== 'grad'))+0\n",
    "    \n",
    "    ## business\n",
    "    #gender_test['y'] = ((gender_test.affil_clean=='sloan') | (gender_test.affil_clean=='sloan_2'))+0\n",
    "\n",
    "    # get majority label in training data\n",
    "    num1 = np.sum(gender_train.y==1)\n",
    "    num0 = np.sum(gender_train.y==0)\n",
    "    \n",
    "    ## sanity check\n",
    "    print 'train-month/year: ', m_train, ' ', yr_train\n",
    "    print 'proportion train-grad-student', np.mean(gender_train.y==1)\n",
    "    print 'num nodes (train): ', len(np.unique(gender_train.id))\n",
    "    print 'test-month/year: ', m_test, ' ', yr_test\n",
    "    print 'proportion test-grad-student', np.mean(gender_test.y==1)\n",
    "    print 'num nodes (test): ', len(np.unique(gender_test.id))\n",
    "\n",
    "\n",
    "    print ''\n",
    "\n",
    "    if num1 > num0:\n",
    "        label = 1\n",
    "    else:\n",
    "        label = 0\n",
    "        \n",
    "    y_predict = np.repeat(label,len(gender_test))\n",
    "    y_true = np.array(gender_test.y)\n",
    "    \n",
    "    acc_generic.append(np.mean(y_true == y_predict))\n",
    "    acc_macro.append(f1_score(y_true, y_predict, average='macro')  )\n",
    "    acc_micro.append( f1_score(y_true, y_predict, average='micro')  )\n",
    "    acc_wtd.append( f1_score(y_true, y_predict, average='weighted')  )\n"
   ]
  },
  {
   "cell_type": "code",
   "execution_count": 152,
   "metadata": {
    "collapsed": false
   },
   "outputs": [
    {
     "name": "stdout",
     "output_type": "stream",
     "text": [
      "[False False False False False False False False False False False]\n",
      "[0.4666666666666667, 0.43820224719101125, 0.573170731707317, 0.550561797752809, 0.5444444444444444, 0.5681818181818182, 0.5679012345679012, 0.5822784810126582, 0.5753424657534246, 0.5555555555555556, 0.7380952380952381]\n",
      "\n",
      "[0.4666666666666667, 0.43820224719101125, 0.573170731707317, 0.550561797752809, 0.5444444444444444, 0.5681818181818182, 0.5679012345679012, 0.5822784810126582, 0.5753424657534246, 0.5555555555555556, 0.7380952380952381]\n"
     ]
    }
   ],
   "source": [
    "print np.array(acc_generic)!=np.array(acc_micro)\n",
    "print acc_generic\n",
    "print ''\n",
    "print acc_micro"
   ]
  },
  {
   "cell_type": "code",
   "execution_count": 153,
   "metadata": {
    "collapsed": false
   },
   "outputs": [
    {
     "data": {
      "image/png": "[encoded data removed]",
      "text/plain": [
       "<matplotlib.figure.Figure at 0x1176e4550>"
      ]
     },
     "metadata": {},
     "output_type": "display_data"
    }
   ],
   "source": [
    "%matplotlib inline\n",
    "plt.bar(range(len(acc_generic)),acc_generic, color = 'red', alpha = 0.5,align = 'center')\n",
    "plt.ylabel('Accuracy - general')\n",
    "plt.xticks(range(len(acc_generic)),\n",
    "           np.array(month_yr_train_test.month.astype(str) +'-' + month_yr_train_test.year.astype(str) )[0:11],\n",
    "          rotation = 90)\n",
    "plt.xlim(-0.5,10.5)\n",
    "plt.ylim(0,1)\n",
    "plt.yticks(np.arange(0,1,0.1))\n",
    "plt.grid(True, which = 'major')\n",
    "plt.show()"
   ]
  },
  {
   "cell_type": "code",
   "execution_count": null,
   "metadata": {
    "collapsed": true
   },
   "outputs": [],
   "source": []
  },
  {
   "cell_type": "code",
   "execution_count": null,
   "metadata": {
    "collapsed": true
   },
   "outputs": [],
   "source": []
  },
  {
   "cell_type": "code",
   "execution_count": null,
   "metadata": {
    "collapsed": true
   },
   "outputs": [],
   "source": []
  },
  {
   "cell_type": "markdown",
   "metadata": {},
   "source": [
    "### other accuracy metrics"
   ]
  },
  {
   "cell_type": "code",
   "execution_count": 138,
   "metadata": {
    "collapsed": false
   },
   "outputs": [
    {
     "data": {
      "image/png": "[encoded data removed]",
      "text/plain": [
       "<matplotlib.figure.Figure at 0x1178140d0>"
      ]
     },
     "metadata": {},
     "output_type": "display_data"
    }
   ],
   "source": [
    "%matplotlib inline\n",
    "plt.bar(range(len(acc_micro)),acc_micro, color = 'red', alpha = 0.5,align = 'center')\n",
    "plt.xticks(range(len(acc_macro)),\n",
    "           np.array(month_yr_train_test.month.astype(str) +'-' + month_yr_train_test.year.astype(str) )[0:11],\n",
    "          rotation = 90)\n",
    "plt.ylabel('Accuracy - micro')\n",
    "plt.xlim(-0.5,10.5)\n",
    "plt.ylim(0,1)\n",
    "plt.show()"
   ]
  },
  {
   "cell_type": "code",
   "execution_count": 141,
   "metadata": {
    "collapsed": false
   },
   "outputs": [
    {
     "data": {
      "image/png": "[encoded data removed]",
      "text/plain": [
       "<matplotlib.figure.Figure at 0x117b79810>"
      ]
     },
     "metadata": {},
     "output_type": "display_data"
    }
   ],
   "source": [
    "%matplotlib inline\n",
    "plt.bar(range(len(acc_macro)),acc_macro, color = 'red', alpha = 0.5,align = 'center')\n",
    "plt.ylabel('Accuracy - macro')\n",
    "plt.xticks(range(len(acc_macro)),\n",
    "           np.array(month_yr_train_test.month.astype(str) +'-' + month_yr_train_test.year.astype(str) )[0:11],\n",
    "          rotation = 90)\n",
    "plt.xlim(-0.5,10.5)\n",
    "plt.ylim(0,1)\n",
    "plt.show()"
   ]
  },
  {
   "cell_type": "code",
   "execution_count": 142,
   "metadata": {
    "collapsed": false
   },
   "outputs": [
    {
     "data": {
      "image/png": "[encoded data removed]",
      "text/plain": [
       "<matplotlib.figure.Figure at 0x11783bbd0>"
      ]
     },
     "metadata": {},
     "output_type": "display_data"
    }
   ],
   "source": [
    "%matplotlib inline\n",
    "plt.bar(range(len(acc_wtd)),acc_wtd, color = 'red', alpha = 0.5,align = 'center')\n",
    "plt.xticks(range(len(acc_macro)),\n",
    "           np.array(month_yr_train_test.month.astype(str) +'-' + month_yr_train_test.year.astype(str) )[0:11],\n",
    "          rotation = 90)\n",
    "plt.ylabel('Accuracy - wtd')\n",
    "plt.xlim(-0.5,10.5)\n",
    "plt.ylim(0,1)\n",
    "plt.show()"
   ]
  },
  {
   "cell_type": "code",
   "execution_count": null,
   "metadata": {
    "collapsed": true
   },
   "outputs": [],
   "source": []
  },
  {
   "cell_type": "code",
   "execution_count": 143,
   "metadata": {
    "collapsed": false
   },
   "outputs": [
    {
     "data": {
      "text/html": [
       "<div>\n",
       "<style>\n",
       "    .dataframe thead tr:only-child th {\n",
       "        text-align: right;\n",
       "    }\n",
       "\n",
       "    .dataframe thead th {\n",
       "        text-align: left;\n",
       "    }\n",
       "\n",
       "    .dataframe tbody tr th {\n",
       "        vertical-align: top;\n",
       "    }\n",
       "</style>\n",
       "<table border=\"1\" class=\"dataframe\">\n",
       "  <thead>\n",
       "    <tr style=\"text-align: right;\">\n",
       "      <th></th>\n",
       "      <th>from_mac_id</th>\n",
       "      <th>time</th>\n",
       "      <th>to_mac</th>\n",
       "      <th>from_mac</th>\n",
       "      <th>to_mac_id</th>\n",
       "      <th>month</th>\n",
       "      <th>year</th>\n",
       "      <th>id</th>\n",
       "      <th>affil_clean</th>\n",
       "      <th>y</th>\n",
       "    </tr>\n",
       "  </thead>\n",
       "  <tbody>\n",
       "    <tr>\n",
       "      <th>0</th>\n",
       "      <td>2</td>\n",
       "      <td>731947.842546</td>\n",
       "      <td>6.196494e+10</td>\n",
       "      <td>6.196102e+10</td>\n",
       "      <td>62</td>\n",
       "      <td>1</td>\n",
       "      <td>2004</td>\n",
       "      <td>2</td>\n",
       "      <td>1styeargrad</td>\n",
       "      <td>1</td>\n",
       "    </tr>\n",
       "    <tr>\n",
       "      <th>1</th>\n",
       "      <td>2</td>\n",
       "      <td>731947.881007</td>\n",
       "      <td>6.196102e+10</td>\n",
       "      <td>6.196102e+10</td>\n",
       "      <td>3</td>\n",
       "      <td>1</td>\n",
       "      <td>2004</td>\n",
       "      <td>2</td>\n",
       "      <td>1styeargrad</td>\n",
       "      <td>1</td>\n",
       "    </tr>\n",
       "    <tr>\n",
       "      <th>2</th>\n",
       "      <td>2</td>\n",
       "      <td>731947.885266</td>\n",
       "      <td>6.196095e+10</td>\n",
       "      <td>6.196102e+10</td>\n",
       "      <td>28</td>\n",
       "      <td>1</td>\n",
       "      <td>2004</td>\n",
       "      <td>2</td>\n",
       "      <td>1styeargrad</td>\n",
       "      <td>1</td>\n",
       "    </tr>\n",
       "    <tr>\n",
       "      <th>3</th>\n",
       "      <td>2</td>\n",
       "      <td>731947.888009</td>\n",
       "      <td>6.196102e+10</td>\n",
       "      <td>6.196102e+10</td>\n",
       "      <td>18</td>\n",
       "      <td>1</td>\n",
       "      <td>2004</td>\n",
       "      <td>2</td>\n",
       "      <td>1styeargrad</td>\n",
       "      <td>1</td>\n",
       "    </tr>\n",
       "    <tr>\n",
       "      <th>4</th>\n",
       "      <td>2</td>\n",
       "      <td>731947.889641</td>\n",
       "      <td>6.196102e+10</td>\n",
       "      <td>6.196102e+10</td>\n",
       "      <td>18</td>\n",
       "      <td>1</td>\n",
       "      <td>2004</td>\n",
       "      <td>2</td>\n",
       "      <td>1styeargrad</td>\n",
       "      <td>1</td>\n",
       "    </tr>\n",
       "  </tbody>\n",
       "</table>\n",
       "</div>"
      ],
      "text/plain": [
       "   from_mac_id           time        to_mac      from_mac  to_mac_id  month  \\\n",
       "0            2  731947.842546  6.196494e+10  6.196102e+10         62      1   \n",
       "1            2  731947.881007  6.196102e+10  6.196102e+10          3      1   \n",
       "2            2  731947.885266  6.196095e+10  6.196102e+10         28      1   \n",
       "3            2  731947.888009  6.196102e+10  6.196102e+10         18      1   \n",
       "4            2  731947.889641  6.196102e+10  6.196102e+10         18      1   \n",
       "\n",
       "   year  id   affil_clean  y  \n",
       "0  2004   2  1styeargrad   1  \n",
       "1  2004   2  1styeargrad   1  \n",
       "2  2004   2  1styeargrad   1  \n",
       "3  2004   2  1styeargrad   1  \n",
       "4  2004   2  1styeargrad   1  "
      ]
     },
     "execution_count": 143,
     "metadata": {},
     "output_type": "execute_result"
    }
   ],
   "source": [
    "bt_nw_y.head()"
   ]
  }
 ],
 "metadata": {
  "kernelspec": {
   "display_name": "Python 2",
   "language": "python",
   "name": "python2"
  },
  "language_info": {
   "codemirror_mode": {
    "name": "ipython",
    "version": 2
   },
   "file_extension": ".py",
   "mimetype": "text/x-python",
   "name": "python",
   "nbconvert_exporter": "python",
   "pygments_lexer": "ipython2",
   "version": "2.7.14"
  }
 },
 "nbformat": 4,
 "nbformat_minor": 2
}
