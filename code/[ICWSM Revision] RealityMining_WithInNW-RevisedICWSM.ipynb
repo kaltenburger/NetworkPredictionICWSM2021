{
 "cells": [
  {
   "cell_type": "markdown",
   "metadata": {},
   "source": [
    "9/12/2020\n",
    "## [ICWSM Revision]\n",
    "Sloan/Reality Mining prediction -- within-network. ReFeX=RF, LINK=LogReg (unregularize), and node2vec (unregularize)."
   ]
  },
  {
   "cell_type": "code",
   "execution_count": 1,
   "metadata": {},
   "outputs": [
    {
     "name": "stderr",
     "output_type": "stream",
     "text": [
      "/Users/kristen/anaconda3/envs/ipykernel_py2/lib/python2.7/site-packages/sklearn/ensemble/weight_boosting.py:29: DeprecationWarning: numpy.core.umath_tests is an internal NumPy module and should not be imported. It will be removed in a future NumPy release.\n",
      "  from numpy.core.umath_tests import inner1d\n"
     ]
    },
    {
     "data": {
      "text/plain": [
       "{'divide': 'warn', 'invalid': 'warn', 'over': 'warn', 'under': 'ignore'}"
      ]
     },
     "execution_count": 1,
     "metadata": {},
     "output_type": "execute_result"
    }
   ],
   "source": [
    "from __future__ import division\n",
    "import os\n",
    "import os\n",
    "import itertools\n",
    "from datetime import datetime, timedelta\n",
    "from sklearn.model_selection import RandomizedSearchCV\n",
    "\n",
    "\n",
    "folder_directory =os.getcwd()\n",
    "os.chdir(folder_directory)\n",
    "execfile('./functions/python_libraries.py')\n",
    "execfile('./functions/parsing.py')  # Sam Way's Code\n",
    "execfile('./functions/mixing.py')   # Sam Way's Code\n",
    "execfile('./functions/create_adjacency_matrix.py')\n",
    "execfile('./functions/LINK.py')\n",
    "\n",
    "\n",
    "np.seterr(divide='ignore', invalid='ignore')"
   ]
  },
  {
   "cell_type": "code",
   "execution_count": 2,
   "metadata": {},
   "outputs": [],
   "source": [
    "from __future__ import division\n",
    "from sklearn.preprocessing import label_binarize\n",
    "from sklearn import metrics\n",
    "from sklearn.metrics import precision_recall_curve\n",
    "\n",
    "#LINK-Logistic Regression [Zheleva, Getoor, 2009] uses labelled nodes to fit a regularized logistic regression model\n",
    "#(Supplementary Note 2.2) that interprets rows of the adjacency matrix as sparse binary feature vectors,\n",
    "#performing classification based on these features. The trained model is then applied to the feature vectors\n",
    "#(adjacency matrix rows) of unlabelled nodes, which are scored based on the probability\n",
    "# estimates from themodel.\n",
    "\n",
    "def LINK(num_unlabeled, membership_y, feature_x, clf, num_iter, cv_setup=None):\n",
    "    class_labels = np.sort(np.unique(np.array(membership_y))) #unique label IDs\n",
    "    mean_accuracy = []\n",
    "    se_accuracy = []\n",
    "    mean_micro_auc = []\n",
    "    se_micro_auc = []\n",
    "    mean_wt_auc = []\n",
    "    se_wt_auc = []\n",
    "    mean_auc_under_pr_curve = []\n",
    "    se_auc_under_pr_curve = []\n",
    "    for i in range(len(num_unlabeled)):\n",
    "        print(num_unlabeled[i])\n",
    "        if cv_setup=='stratified':\n",
    "            k_fold = cross_validation.StratifiedShuffleSplit((membership_y), n_iter=num_iter,\n",
    "                                               test_size=num_unlabeled[i],\n",
    "                                               random_state=0)\n",
    "        else:\n",
    "            k_fold = cross_validation.ShuffleSplit(len(membership_y), n_iter=num_iter,\n",
    "                                                         test_size=num_unlabeled[i],\n",
    "                                                         random_state=0)\n",
    "        accuracy = []\n",
    "        micro_auc = []\n",
    "        wt_auc = []\n",
    "        auc_under_pr_curve = []\n",
    "        for k, (train, test) in enumerate(k_fold):\n",
    "            #if k==0:\n",
    "            #print train\n",
    "            clf.fit(feature_x[train], np.ravel(membership_y[train]))\n",
    "            pred = clf.predict(feature_x[test])\n",
    "            prob = clf.predict_proba(feature_x[test])\n",
    "            #accuracy.append(metrics.accuracy_score(membership_y[test], pred,  normalize = True))\n",
    "            labeled_data = np.copy(np.array(membership_y))\n",
    "            ground_truth_testing = np.array(labeled_data)[test]\n",
    "            labeled_data[test]=np.max(class_labels)+1 # ignore testing labels -- don't have access as part of training -- want to assing test label outside of possible training labels\n",
    "            \n",
    "            accuracy_score_benchmark = np.mean(np.array(labeled_data)[train] == np.max(class_labels))\n",
    "\n",
    "            # auc scores\n",
    "            if len(np.unique(membership_y))>2:\n",
    "                micro_auc.append(metrics.roc_auc_score(label_binarize(membership_y[test],np.unique(membership_y)), prob,  average = 'micro'))\n",
    "                wt_auc.append(metrics.roc_auc_score(label_binarize(membership_y[test],np.unique(membership_y)), prob,\n",
    "                                                                                                                             average = 'weighted'))\n",
    "            else:\n",
    "                micro_auc.append(metrics.roc_auc_score(label_binarize(membership_y[test],np.unique(membership_y)),\n",
    "                                                                        prob[:,1],average='micro'))\n",
    "                wt_auc.append(metrics.roc_auc_score(label_binarize(membership_y[test],np.unique(membership_y)),\n",
    "                                                                            prob[:,1],average='weighted'))\n",
    "\n",
    "                y_true = label_binarize(membership_y[test],np.unique(membership_y))\n",
    "                y_pred = np.array(((prob[:,1]) >accuracy_score_benchmark)+0)\n",
    "                accuracy.append(f1_score(y_true, y_pred, average='macro'))#, pos_label=1) )\n",
    "                tn, fp, fn, tp = confusion_matrix(label_binarize(membership_y[test],np.unique(membership_y)),\n",
    "                                                  ((prob[:,1]) >accuracy_score_benchmark)+0).ravel()\n",
    "                precision, recall, thresholds = precision_recall_curve(\n",
    "                        label_binarize(membership_y[test],np.unique(membership_y)), y_pred)\n",
    "                auc_under_pr_curve.append(metrics.auc(recall, precision))\n",
    "                    #accuracy.append((tn/(fp+tn)*0.5 + tp/(tp+fn))*0.5)\n",
    "\n",
    "        mean_accuracy.append(np.mean(accuracy))\n",
    "        se_accuracy.append(np.std(accuracy))\n",
    "        mean_micro_auc.append(np.mean(micro_auc))\n",
    "        se_micro_auc.append(np.std(micro_auc))\n",
    "        mean_wt_auc.append(np.mean(wt_auc))\n",
    "        se_wt_auc.append(np.std(wt_auc))\n",
    "        \n",
    "        mean_auc_under_pr_curve.append(np.mean(auc_under_pr_curve))\n",
    "        se_auc_under_pr_curve.append(np.std(auc_under_pr_curve))\n",
    "    return(mean_accuracy, se_accuracy, mean_micro_auc,se_micro_auc, mean_wt_auc,se_wt_auc, mean_auc_under_pr_curve,\n",
    "          se_auc_under_pr_curve)\n"
   ]
  },
  {
   "cell_type": "code",
   "execution_count": null,
   "metadata": {},
   "outputs": [],
   "source": []
  },
  {
   "cell_type": "code",
   "execution_count": 3,
   "metadata": {},
   "outputs": [],
   "source": [
    "## set-up LINK to compare -- is this just an easy prediction problem?\n",
    "edges = pd.read_csv('../../data/RealityMining/convert_bluetooth_nw/by_month/all_months_years.csv',\n",
    "                   header = -1)\n",
    "edges.head()\n",
    "edges.drop(edges.columns[2], axis=1, inplace=True)\n",
    "#nx.from_edgelist"
   ]
  },
  {
   "cell_type": "code",
   "execution_count": 4,
   "metadata": {},
   "outputs": [
    {
     "name": "stdout",
     "output_type": "stream",
     "text": [
      "93\n"
     ]
    }
   ],
   "source": [
    "#edges.head()\n",
    "df = pd.crosstab(edges[0], edges[1])\n",
    "idx = df.columns.union(df.index)\n",
    "df = df.reindex(index = idx, columns=idx, fill_value=0)\n",
    "#print np.sum(np.matrix(df),1)\n",
    "print len(df)"
   ]
  },
  {
   "cell_type": "code",
   "execution_count": 5,
   "metadata": {},
   "outputs": [
    {
     "data": {
      "text/plain": [
       "1"
      ]
     },
     "execution_count": 5,
     "metadata": {},
     "output_type": "execute_result"
    }
   ],
   "source": [
    "G = nx.from_numpy_matrix(np.matrix(df))\n",
    "nx.number_connected_components(G)"
   ]
  },
  {
   "cell_type": "code",
   "execution_count": 6,
   "metadata": {},
   "outputs": [],
   "source": [
    "y = pd.read_csv('../../data/RealityMining/convert_bluetooth_nw/by_month/labels.csv')\n",
    "\n",
    "class_type = 'sloan' # mlgrad sloan\n",
    "\n",
    "if class_type =='sloan':\n",
    "    y['y']=((y.affil_clean=='sloan') | (y.affil_clean=='sloan_2'))+0\n",
    "if class_type == 'mlgrad':\n",
    "    y['y']=((y.affil_clean=='mlgrad') | (y.affil_clean=='1styeargrad') | (y.affil_clean=='grad '))+0\n",
    "\n",
    "  "
   ]
  },
  {
   "cell_type": "code",
   "execution_count": 7,
   "metadata": {},
   "outputs": [
    {
     "data": {
      "text/plain": [
       "array([0, 0, 0, 0, 0, 0, 0, 0, 0, 0, 0, 1, 0, 0, 0, 0, 0, 0, 0, 0, 0, 0,\n",
       "       0, 0, 0, 0, 0, 0, 0, 0, 0, 0, 0, 0, 0, 1, 0, 1, 1, 1, 1, 0, 1, 0,\n",
       "       1, 1, 1, 1, 0, 0, 1, 0, 0, 0, 1, 0, 0, 0, 1, 0, 1, 0, 1, 0, 1, 1,\n",
       "       0, 0, 1, 0, 0, 1, 0, 1, 0, 0, 1, 0, 0, 0, 1, 0, 1, 0, 1, 1, 0, 0,\n",
       "       0, 0, 0, 0, 0])"
      ]
     },
     "execution_count": 7,
     "metadata": {},
     "output_type": "execute_result"
    }
   ],
   "source": [
    "y_labels = pd.DataFrame({'key':np.unique(np.concatenate((np.array(edges[0]),np.array(edges[1]))))})\n",
    "y_labels = y_labels.merge(y[['id','y']],\n",
    "              left_on = 'key',\n",
    "              right_on = 'id',\n",
    "              how = 'left')\n",
    "np.array(y_labels.y)"
   ]
  },
  {
   "cell_type": "code",
   "execution_count": 8,
   "metadata": {},
   "outputs": [
    {
     "data": {
      "text/plain": [
       "0.27956989247311825"
      ]
     },
     "execution_count": 8,
     "metadata": {},
     "output_type": "execute_result"
    }
   ],
   "source": [
    "np.mean(y_labels.y)"
   ]
  },
  {
   "cell_type": "code",
   "execution_count": null,
   "metadata": {},
   "outputs": [],
   "source": []
  },
  {
   "cell_type": "code",
   "execution_count": 9,
   "metadata": {},
   "outputs": [],
   "source": [
    "## break out by year -- exploration only\n",
    "edges = pd.read_csv('../../data/RealityMining/convert_bluetooth_nw/by_month/10_2004.csv',\n",
    "                   header = -1)\n",
    "edges.head()\n",
    "edges.drop(edges.columns[2], axis=1, inplace=True)\n",
    "df = pd.crosstab(edges[0], edges[1])\n",
    "idx = df.columns.union(df.index)\n",
    "df = df.reindex(index = idx, columns=idx, fill_value=0)\n",
    "G = nx.from_numpy_matrix(np.matrix(df))\n",
    "y_labels = pd.DataFrame({'key':np.unique(np.concatenate((np.array(edges[0]),np.array(edges[1]))))})\n",
    "y_labels = y_labels.merge(y[['id','y']],\n",
    "              left_on = 'key',\n",
    "              right_on = 'id',\n",
    "              how = 'left')\n"
   ]
  },
  {
   "cell_type": "code",
   "execution_count": 10,
   "metadata": {},
   "outputs": [],
   "source": [
    "np.sum(df,1).head()\n",
    "degree = np.sum(df,1)\n",
    "degree = pd.DataFrame(degree).reset_index()\n",
    "degree.columns = ['key', 'degree']"
   ]
  },
  {
   "cell_type": "code",
   "execution_count": 11,
   "metadata": {},
   "outputs": [],
   "source": [
    "edges_y = pd.read_csv('../../data/RealityMining/convert_bluetooth_nw/by_month/11_2004.csv',\n",
    "                   header = -1)\n",
    "edges_y.drop(edges_y.columns[2], axis=1, inplace=True)\n",
    "df_y = pd.crosstab(edges_y[0], edges_y[1])\n",
    "idx_y = df_y.columns.union(df_y.index)\n",
    "df_y = df_y.reindex(index = idx_y, columns=idx_y, fill_value=0)"
   ]
  },
  {
   "cell_type": "code",
   "execution_count": 12,
   "metadata": {},
   "outputs": [],
   "source": [
    "degree_y = np.sum(df_y,1)\n",
    "degree_y = pd.DataFrame(degree_y).reset_index()\n",
    "degree_y.columns = ['key', 'degree']"
   ]
  },
  {
   "cell_type": "code",
   "execution_count": 13,
   "metadata": {},
   "outputs": [],
   "source": [
    "from sklearn.metrics import f1_score\n",
    "from sklearn.metrics import confusion_matrix"
   ]
  },
  {
   "cell_type": "code",
   "execution_count": 14,
   "metadata": {},
   "outputs": [],
   "source": [
    "percent_initially_unlabelled = [0.9,0.8,0.7,0.6,0.5,0.4,0.3,0.2,0.1,0.05]\n",
    "percent_initially_labelled = np.subtract(1, percent_initially_unlabelled)"
   ]
  },
  {
   "cell_type": "code",
   "execution_count": 39,
   "metadata": {},
   "outputs": [
    {
     "data": {
      "text/plain": [
       "array([0.1 , 0.2 , 0.3 , 0.4 , 0.5 , 0.6 , 0.7 , 0.8 , 0.9 , 0.95])"
      ]
     },
     "execution_count": 39,
     "metadata": {},
     "output_type": "execute_result"
    }
   ],
   "source": [
    "percent_initially_labelled"
   ]
  },
  {
   "cell_type": "code",
   "execution_count": 15,
   "metadata": {},
   "outputs": [],
   "source": [
    "from sklearn.linear_model import LogisticRegressionCV\n",
    "\n",
    "\n",
    "C_vals = [10**x for x in range(-10,100)]\n",
    "model = linear_model.LogisticRegressionCV(\n",
    "                                           Cs = C_vals,\n",
    "                                           penalty='l2',\n",
    "                                            solver='lbfgs',\n",
    "                                           cv =2, max_iter = 1000)"
   ]
  },
  {
   "cell_type": "code",
   "execution_count": 16,
   "metadata": {},
   "outputs": [
    {
     "name": "stderr",
     "output_type": "stream",
     "text": [
      "/Users/kristen/anaconda3/envs/ipykernel_py2/lib/python2.7/site-packages/sklearn/cross_validation.py:44: DeprecationWarning: This module was deprecated in version 0.18 in favor of the model_selection module into which all the refactored classes and functions are moved. Also note that the interface of the new CV iterators are different from that of this module. This module will be removed in 0.20.\n",
      "  \"This module will be removed in 0.20.\", DeprecationWarning)\n"
     ]
    }
   ],
   "source": [
    "import sklearn\n",
    "sklearn.__version__\n",
    "from sklearn import cross_validation, datasets, linear_model\n",
    "\n",
    "n_iter = 25"
   ]
  },
  {
   "cell_type": "code",
   "execution_count": 17,
   "metadata": {},
   "outputs": [
    {
     "data": {
      "text/plain": [
       "(82, 82)"
      ]
     },
     "execution_count": 17,
     "metadata": {},
     "output_type": "execute_result"
    }
   ],
   "source": [
    "np.shape(df)"
   ]
  },
  {
   "cell_type": "code",
   "execution_count": 18,
   "metadata": {},
   "outputs": [
    {
     "data": {
      "text/plain": [
       "8.200000000000001"
      ]
     },
     "execution_count": 18,
     "metadata": {},
     "output_type": "execute_result"
    }
   ],
   "source": [
    "82*0.1"
   ]
  },
  {
   "cell_type": "code",
   "execution_count": 19,
   "metadata": {},
   "outputs": [
    {
     "name": "stdout",
     "output_type": "stream",
     "text": [
      "0.9\n"
     ]
    },
    {
     "name": "stderr",
     "output_type": "stream",
     "text": [
      "/Users/kristen/anaconda3/envs/ipykernel_py2/lib/python2.7/site-packages/sklearn/metrics/classification.py:1113: UndefinedMetricWarning: F-score is ill-defined and being set to 0.0 in labels with no predicted samples.\n",
      "  'precision', 'predicted', average, warn_for)\n"
     ]
    },
    {
     "name": "stdout",
     "output_type": "stream",
     "text": [
      "0.8\n",
      "0.7\n",
      "0.6\n",
      "0.5\n",
      "0.4\n",
      "0.3\n",
      "0.2\n",
      "0.1\n",
      "0.05\n"
     ]
    }
   ],
   "source": [
    "(mean_accuracy_LINK_RM, se_accuracy_LINK_RM, \n",
    " mean_micro_auc_LINK_RM,se_micro_auc_LINK_RM, mean_wt_LINK_RM,se_wt_LINK_RM,\n",
    "mean_auc_pr_curve, se_auc_pr_curve)= LINK(percent_initially_unlabelled, ## note: mean_se_model assumes a vector of x% initially labeled\n",
    "                                                              np.array(y_labels.y), ## gender labels \n",
    "                                                              np.matrix(df), ## adjacency matrix\n",
    "                                                             clf = model,\n",
    "                                                            num_iter=n_iter, \n",
    "                                                            cv_setup = 'stratified')\n"
   ]
  },
  {
   "cell_type": "code",
   "execution_count": 20,
   "metadata": {},
   "outputs": [],
   "source": [
    "from sklearn.preprocessing import MinMaxScaler\n",
    "scaler = MinMaxScaler(feature_range=(0,1))\n"
   ]
  },
  {
   "cell_type": "code",
   "execution_count": 21,
   "metadata": {},
   "outputs": [
    {
     "data": {
      "text/plain": [
       "[0.9919137466307277,\n",
       " 0.9974468085106384,\n",
       " 0.9979166666666667,\n",
       " 0.9978571428571429,\n",
       " 0.9982445141065831,\n",
       " 0.9988888888888888,\n",
       " 0.9987301587301587,\n",
       " 0.9986666666666667,\n",
       " 1.0,\n",
       " 1.0]"
      ]
     },
     "execution_count": 21,
     "metadata": {},
     "output_type": "execute_result"
    }
   ],
   "source": [
    "mean_wt_LINK_RM"
   ]
  },
  {
   "cell_type": "code",
   "execution_count": 22,
   "metadata": {},
   "outputs": [],
   "source": [
    "y = pd.read_csv('../../data/RealityMining/convert_bluetooth_nw/by_month/labels.csv')\n",
    "\n",
    "\n",
    "if class_type =='sloan':\n",
    "    y['y']=((y.affil_clean=='sloan') | (y.affil_clean=='sloan_2'))+0\n",
    "if class_type == 'mlgrad':\n",
    "    y['y']=((y.affil_clean=='mlgrad') | (y.affil_clean=='1styeargrad') | (y.affil_clean=='grad '))+0\n",
    "\n",
    "    \n",
    "x1= pd.read_csv('../../code/refex-rolx-master-1/RM-data/out_0.50_RealityMining_all_months_years.csv-featureValues.csv', header = -1)\n",
    "x2= pd.read_csv('../../code/refex-rolx-master-2/RM-data/out_0.50_RealityMining_all_months_years.csv-featureValues.csv', header = -1)\n",
    "x3= pd.read_csv('../../code/refex-rolx-master-3/RM-data/out_0.50_RealityMining_all_months_years.csv-featureValues.csv', header = -1)\n",
    "xall= pd.read_csv('../../code/refex-rolx-master/RM-data/out_0.50_RealityMining_all_months_years.csv-featureValues.csv', header = -1)\n",
    "\n",
    "#1x\n",
    "df1 = pd.DataFrame({'id':np.array(map(np.int,x1[0]))})\n",
    "\n",
    "y_label1 = df1.merge(y[['id','y']],\n",
    "            how = 'left',\n",
    "            on = 'id')\n",
    "x1= x1.loc[:,1::]\n",
    "scaler.fit(x1) #transform each feature on [0,1]-scale\n",
    "x1 = scaler.transform(x1)\n",
    "\n",
    "\n",
    "#2x\n",
    "df2 = pd.DataFrame({'id':np.array(map(np.int,x2[0]))})\n",
    "\n",
    "y_label2 = df2.merge(y[['id','y']],\n",
    "            how = 'left',\n",
    "            on = 'id')\n",
    "x2= x2.loc[:,1::]\n",
    "scaler.fit(x2) #transform each feature on [0,1]-scale\n",
    "x2 = scaler.transform(x2)\n",
    "\n",
    "\n",
    "\n",
    "\n",
    "#3x\n",
    "df3 = pd.DataFrame({'id':np.array(map(np.int,x3[0]))})\n",
    "\n",
    "y_label3 = df3.merge(y[['id','y']],\n",
    "            how = 'left',\n",
    "            on = 'id')\n",
    "x3= x3.loc[:,1::]\n",
    "scaler.fit(x3) #transform each feature on [0,1]-scale\n",
    "x3 = scaler.transform(x3)\n",
    "\n",
    "\n",
    "\n",
    "#all\n",
    "dfall = pd.DataFrame({'id':np.array(map(np.int,xall[0]))})\n",
    "\n",
    "y_labelall = dfall.merge(y[['id','y']],\n",
    "            how = 'left',\n",
    "            on = 'id')\n",
    "xall= xall.loc[:,1::]\n",
    "scaler.fit(xall) #transform each feature on [0,1]-scale\n",
    "xall = scaler.transform(xall)\n"
   ]
  },
  {
   "cell_type": "code",
   "execution_count": 23,
   "metadata": {},
   "outputs": [],
   "source": [
    "from sklearn.metrics import f1_score\n",
    "from sklearn.metrics import confusion_matrix\n",
    "from sklearn.model_selection import RandomizedSearchCV\n"
   ]
  },
  {
   "cell_type": "code",
   "execution_count": null,
   "metadata": {},
   "outputs": [],
   "source": []
  },
  {
   "cell_type": "code",
   "execution_count": 24,
   "metadata": {},
   "outputs": [],
   "source": [
    "from sklearn.linear_model import LogisticRegressionCV\n",
    "\n",
    "\n",
    "C_vals = [10**x for x in range(-10,100)]\n",
    "model1 = linear_model.LogisticRegressionCV(\n",
    "                                           Cs = C_vals,\n",
    "                                           penalty='l2',\n",
    "                                            solver='lbfgs',\n",
    "                                           cv = 2, max_iter = 1000)\n",
    "model2 = linear_model.LogisticRegressionCV(\n",
    "                                           Cs = C_vals,\n",
    "                                           penalty='l2',\n",
    "                                            solver='lbfgs',\n",
    "                                           cv = 2, max_iter = 1000)\n",
    "\n",
    "model3 = linear_model.LogisticRegressionCV(\n",
    "                                           Cs = C_vals,\n",
    "                                           penalty='l2',\n",
    "                                            solver='lbfgs',\n",
    "                                           cv = 2, max_iter = 1000)\n",
    "\n",
    "modelall = linear_model.LogisticRegressionCV(\n",
    "                                           Cs = C_vals,\n",
    "                                           penalty='l2',\n",
    "                                            solver='lbfgs',\n",
    "                                           cv = 2, max_iter = 1000)\n"
   ]
  },
  {
   "cell_type": "code",
   "execution_count": 25,
   "metadata": {},
   "outputs": [
    {
     "data": {
      "text/html": [
       "<div>\n",
       "<style>\n",
       "    .dataframe thead tr:only-child th {\n",
       "        text-align: right;\n",
       "    }\n",
       "\n",
       "    .dataframe thead th {\n",
       "        text-align: left;\n",
       "    }\n",
       "\n",
       "    .dataframe tbody tr th {\n",
       "        vertical-align: top;\n",
       "    }\n",
       "</style>\n",
       "<table border=\"1\" class=\"dataframe\">\n",
       "  <thead>\n",
       "    <tr style=\"text-align: right;\">\n",
       "      <th></th>\n",
       "      <th>0</th>\n",
       "      <th>1</th>\n",
       "      <th>2</th>\n",
       "      <th>3</th>\n",
       "      <th>4</th>\n",
       "      <th>5</th>\n",
       "      <th>6</th>\n",
       "      <th>7</th>\n",
       "      <th>8</th>\n",
       "      <th>9</th>\n",
       "      <th>...</th>\n",
       "      <th>119</th>\n",
       "      <th>120</th>\n",
       "      <th>121</th>\n",
       "      <th>122</th>\n",
       "      <th>123</th>\n",
       "      <th>124</th>\n",
       "      <th>125</th>\n",
       "      <th>126</th>\n",
       "      <th>127</th>\n",
       "      <th>128</th>\n",
       "    </tr>\n",
       "  </thead>\n",
       "  <tbody>\n",
       "    <tr>\n",
       "      <th>0</th>\n",
       "      <td>100</td>\n",
       "      <td>0.136207</td>\n",
       "      <td>-0.085100</td>\n",
       "      <td>0.027711</td>\n",
       "      <td>-0.058467</td>\n",
       "      <td>-0.018517</td>\n",
       "      <td>0.090901</td>\n",
       "      <td>0.046466</td>\n",
       "      <td>0.026082</td>\n",
       "      <td>0.041344</td>\n",
       "      <td>...</td>\n",
       "      <td>0.107775</td>\n",
       "      <td>-0.035662</td>\n",
       "      <td>-0.087083</td>\n",
       "      <td>-0.029418</td>\n",
       "      <td>-0.118273</td>\n",
       "      <td>-0.067824</td>\n",
       "      <td>0.001471</td>\n",
       "      <td>0.095207</td>\n",
       "      <td>-0.163948</td>\n",
       "      <td>-0.223055</td>\n",
       "    </tr>\n",
       "    <tr>\n",
       "      <th>1</th>\n",
       "      <td>3</td>\n",
       "      <td>0.132249</td>\n",
       "      <td>-0.078536</td>\n",
       "      <td>0.022701</td>\n",
       "      <td>-0.050319</td>\n",
       "      <td>-0.018928</td>\n",
       "      <td>0.083171</td>\n",
       "      <td>0.043562</td>\n",
       "      <td>0.022488</td>\n",
       "      <td>0.036000</td>\n",
       "      <td>...</td>\n",
       "      <td>0.098503</td>\n",
       "      <td>-0.033239</td>\n",
       "      <td>-0.081079</td>\n",
       "      <td>-0.026492</td>\n",
       "      <td>-0.112709</td>\n",
       "      <td>-0.067217</td>\n",
       "      <td>0.006711</td>\n",
       "      <td>0.094674</td>\n",
       "      <td>-0.163911</td>\n",
       "      <td>-0.211333</td>\n",
       "    </tr>\n",
       "    <tr>\n",
       "      <th>2</th>\n",
       "      <td>7</td>\n",
       "      <td>0.136785</td>\n",
       "      <td>-0.080742</td>\n",
       "      <td>0.017946</td>\n",
       "      <td>-0.052969</td>\n",
       "      <td>-0.012840</td>\n",
       "      <td>0.089094</td>\n",
       "      <td>0.044227</td>\n",
       "      <td>0.027157</td>\n",
       "      <td>0.043876</td>\n",
       "      <td>...</td>\n",
       "      <td>0.101755</td>\n",
       "      <td>-0.037051</td>\n",
       "      <td>-0.082570</td>\n",
       "      <td>-0.028697</td>\n",
       "      <td>-0.108793</td>\n",
       "      <td>-0.065152</td>\n",
       "      <td>0.003769</td>\n",
       "      <td>0.093828</td>\n",
       "      <td>-0.157694</td>\n",
       "      <td>-0.212824</td>\n",
       "    </tr>\n",
       "    <tr>\n",
       "      <th>3</th>\n",
       "      <td>22</td>\n",
       "      <td>0.133923</td>\n",
       "      <td>-0.081681</td>\n",
       "      <td>0.022322</td>\n",
       "      <td>-0.054405</td>\n",
       "      <td>-0.013386</td>\n",
       "      <td>0.087281</td>\n",
       "      <td>0.040759</td>\n",
       "      <td>0.023713</td>\n",
       "      <td>0.041753</td>\n",
       "      <td>...</td>\n",
       "      <td>0.097982</td>\n",
       "      <td>-0.040126</td>\n",
       "      <td>-0.078636</td>\n",
       "      <td>-0.030004</td>\n",
       "      <td>-0.107275</td>\n",
       "      <td>-0.066228</td>\n",
       "      <td>-0.001584</td>\n",
       "      <td>0.096266</td>\n",
       "      <td>-0.155454</td>\n",
       "      <td>-0.212905</td>\n",
       "    </tr>\n",
       "    <tr>\n",
       "      <th>4</th>\n",
       "      <td>24</td>\n",
       "      <td>0.134223</td>\n",
       "      <td>-0.079952</td>\n",
       "      <td>0.019743</td>\n",
       "      <td>-0.048476</td>\n",
       "      <td>-0.012420</td>\n",
       "      <td>0.086209</td>\n",
       "      <td>0.038777</td>\n",
       "      <td>0.025724</td>\n",
       "      <td>0.039649</td>\n",
       "      <td>...</td>\n",
       "      <td>0.095069</td>\n",
       "      <td>-0.035510</td>\n",
       "      <td>-0.081300</td>\n",
       "      <td>-0.025945</td>\n",
       "      <td>-0.112942</td>\n",
       "      <td>-0.062278</td>\n",
       "      <td>0.005179</td>\n",
       "      <td>0.088536</td>\n",
       "      <td>-0.157139</td>\n",
       "      <td>-0.205110</td>\n",
       "    </tr>\n",
       "  </tbody>\n",
       "</table>\n",
       "<p>5 rows × 129 columns</p>\n",
       "</div>"
      ],
      "text/plain": [
       "   0         1         2         3         4         5         6         7    \\\n",
       "0  100  0.136207 -0.085100  0.027711 -0.058467 -0.018517  0.090901  0.046466   \n",
       "1    3  0.132249 -0.078536  0.022701 -0.050319 -0.018928  0.083171  0.043562   \n",
       "2    7  0.136785 -0.080742  0.017946 -0.052969 -0.012840  0.089094  0.044227   \n",
       "3   22  0.133923 -0.081681  0.022322 -0.054405 -0.013386  0.087281  0.040759   \n",
       "4   24  0.134223 -0.079952  0.019743 -0.048476 -0.012420  0.086209  0.038777   \n",
       "\n",
       "        8         9      ...          119       120       121       122  \\\n",
       "0  0.026082  0.041344    ...     0.107775 -0.035662 -0.087083 -0.029418   \n",
       "1  0.022488  0.036000    ...     0.098503 -0.033239 -0.081079 -0.026492   \n",
       "2  0.027157  0.043876    ...     0.101755 -0.037051 -0.082570 -0.028697   \n",
       "3  0.023713  0.041753    ...     0.097982 -0.040126 -0.078636 -0.030004   \n",
       "4  0.025724  0.039649    ...     0.095069 -0.035510 -0.081300 -0.025945   \n",
       "\n",
       "        123       124       125       126       127       128  \n",
       "0 -0.118273 -0.067824  0.001471  0.095207 -0.163948 -0.223055  \n",
       "1 -0.112709 -0.067217  0.006711  0.094674 -0.163911 -0.211333  \n",
       "2 -0.108793 -0.065152  0.003769  0.093828 -0.157694 -0.212824  \n",
       "3 -0.107275 -0.066228 -0.001584  0.096266 -0.155454 -0.212905  \n",
       "4 -0.112942 -0.062278  0.005179  0.088536 -0.157139 -0.205110  \n",
       "\n",
       "[5 rows x 129 columns]"
      ]
     },
     "execution_count": 25,
     "metadata": {},
     "output_type": "execute_result"
    }
   ],
   "source": [
    "## node2vec\n",
    "n2v_RM = pd.read_csv('../../code/node2vec/emb/RM.emb',\n",
    "                      skiprows=1,\n",
    "                    header = None,\n",
    "                      sep=' ')\n",
    "n2v_RM.head()"
   ]
  },
  {
   "cell_type": "code",
   "execution_count": null,
   "metadata": {},
   "outputs": [],
   "source": []
  },
  {
   "cell_type": "code",
   "execution_count": 26,
   "metadata": {},
   "outputs": [
    {
     "data": {
      "text/plain": [
       "0"
      ]
     },
     "execution_count": 26,
     "metadata": {},
     "output_type": "execute_result"
    }
   ],
   "source": [
    "tmp = pd.DataFrame(n2v_RM[0])\n",
    "tmp.columns = ['keys']\n",
    "\n",
    "y_labels = tmp.merge(y[['id','y']],\n",
    "              left_on = 'keys',\n",
    "              right_on = 'id',\n",
    "              how = 'left')\n",
    "np.sum(y_labels['keys']!=n2v_RM[0])"
   ]
  },
  {
   "cell_type": "code",
   "execution_count": 27,
   "metadata": {},
   "outputs": [],
   "source": [
    "n2v_RM.drop(0, axis =1, inplace = True)"
   ]
  },
  {
   "cell_type": "code",
   "execution_count": 28,
   "metadata": {},
   "outputs": [],
   "source": [
    "n2v_RM =n2v_RM[~np.isnan(y_labels.y)]\n",
    "y_labels =y_labels[~np.isnan(y_labels.y)]\n",
    "n_iter = 25\n"
   ]
  },
  {
   "cell_type": "code",
   "execution_count": 29,
   "metadata": {},
   "outputs": [
    {
     "data": {
      "text/plain": [
       "(93, 5)"
      ]
     },
     "execution_count": 29,
     "metadata": {},
     "output_type": "execute_result"
    }
   ],
   "source": [
    "np.shape(x1)"
   ]
  },
  {
   "cell_type": "code",
   "execution_count": 30,
   "metadata": {},
   "outputs": [
    {
     "data": {
      "text/plain": [
       "(93, 5)"
      ]
     },
     "execution_count": 30,
     "metadata": {},
     "output_type": "execute_result"
    }
   ],
   "source": [
    "np.shape(x1)"
   ]
  },
  {
   "cell_type": "code",
   "execution_count": 31,
   "metadata": {},
   "outputs": [
    {
     "data": {
      "text/plain": [
       "(93, 3)"
      ]
     },
     "execution_count": 31,
     "metadata": {},
     "output_type": "execute_result"
    }
   ],
   "source": [
    "np.shape(y_labels)"
   ]
  },
  {
   "cell_type": "code",
   "execution_count": 32,
   "metadata": {},
   "outputs": [
    {
     "name": "stdout",
     "output_type": "stream",
     "text": [
      "0.9\n",
      "0.8\n",
      "0.7\n",
      "0.6\n",
      "0.5\n",
      "0.4\n",
      "0.3\n",
      "0.2\n",
      "0.1\n",
      "0.05\n"
     ]
    }
   ],
   "source": [
    "(mean_accuracy_x1, se_accuracy_x1, \n",
    " mean_micro_auc_x1,se_micro_auc_x1, mean_wt_auc_x1_lbfgs,se_wt_auc_x1,\n",
    "mean_pr_auc, se_pr_auc)= LINK(percent_initially_unlabelled, ## note: mean_se_model assumes a vector of x% initially labeled\n",
    "                                                              np.array(y_label1.y), ## gender labels \n",
    "                                                              np.matrix(x1), ## adjacency matrix\n",
    "                                                              clf = model1,\n",
    "                              num_iter=n_iter,\n",
    "                              cv_setup = 'stratified')"
   ]
  },
  {
   "cell_type": "code",
   "execution_count": 33,
   "metadata": {},
   "outputs": [
    {
     "data": {
      "text/plain": [
       "[0.691176051318603,\n",
       " 0.764973544973545,\n",
       " 0.7527083333333334,\n",
       " 0.8025937499999999,\n",
       " 0.7921719457013574,\n",
       " 0.7585858585858586,\n",
       " 0.783875,\n",
       " 0.7685714285714286,\n",
       " 0.7333333333333333,\n",
       " 0.735]"
      ]
     },
     "execution_count": 33,
     "metadata": {},
     "output_type": "execute_result"
    }
   ],
   "source": [
    "mean_wt_auc_x1_lbfgs"
   ]
  },
  {
   "cell_type": "code",
   "execution_count": null,
   "metadata": {},
   "outputs": [],
   "source": []
  },
  {
   "cell_type": "code",
   "execution_count": null,
   "metadata": {},
   "outputs": [],
   "source": []
  },
  {
   "cell_type": "code",
   "execution_count": null,
   "metadata": {},
   "outputs": [],
   "source": []
  },
  {
   "cell_type": "code",
   "execution_count": 34,
   "metadata": {},
   "outputs": [
    {
     "name": "stdout",
     "output_type": "stream",
     "text": [
      "0.9\n",
      "0.8\n",
      "0.7\n",
      "0.6\n",
      "0.5\n",
      "0.4\n",
      "0.3\n",
      "0.2\n",
      "0.1\n",
      "0.05\n"
     ]
    }
   ],
   "source": [
    "(mean_accuracy_x2, se_accuracy_x2, \n",
    " mean_micro_auc_x2,se_micro_auc_x2, mean_wt_auc_x2_lbfgs,se_wt_auc_x2,\n",
    "mean_pr_auc, se_pr_auc)= LINK(percent_initially_unlabelled, ## note: mean_se_model assumes a vector of x% initially labeled\n",
    "                                                              np.array(y_label2.y), ## gender labels \n",
    "                                                              np.matrix(x2), ## adjacency matrix\n",
    "                                                              clf = model2,num_iter=n_iter, cv_setup = 'stratified')"
   ]
  },
  {
   "cell_type": "code",
   "execution_count": 35,
   "metadata": {},
   "outputs": [
    {
     "name": "stdout",
     "output_type": "stream",
     "text": [
      "0.9\n",
      "0.8\n",
      "0.7\n",
      "0.6\n",
      "0.5\n",
      "0.4\n",
      "0.3\n",
      "0.2\n",
      "0.1\n",
      "0.05\n"
     ]
    }
   ],
   "source": [
    "(mean_accuracy_x3, se_accuracy_x3, \n",
    " mean_micro_auc_x3,se_micro_auc_x3, mean_wt_auc_x3_lbfgs,se_wt_auc_x3,\n",
    "mean_pr_auc, se_pr_auc)= LINK(percent_initially_unlabelled, ## note: mean_se_model assumes a vector of x% initially labeled\n",
    "                                                              np.array(y_label3.y), ## gender labels \n",
    "                                                              np.matrix(x3), ## adjacency matrix\n",
    "                                                              clf = model3,num_iter=n_iter, cv_setup = 'stratified')"
   ]
  },
  {
   "cell_type": "code",
   "execution_count": 36,
   "metadata": {},
   "outputs": [
    {
     "name": "stdout",
     "output_type": "stream",
     "text": [
      "0.9\n",
      "0.8\n",
      "0.7\n",
      "0.6\n",
      "0.5\n",
      "0.4\n",
      "0.3\n",
      "0.2\n",
      "0.1\n",
      "0.05\n"
     ]
    }
   ],
   "source": [
    "(mean_accuracy_xall, se_accuracy_xall, \n",
    " mean_micro_auc_xall,se_micro_auc_xall, mean_wt_auc_xall_lbfgs,se_wt_auc_xall,\n",
    "mean_pr_auc, se_pr_auc)= LINK(percent_initially_unlabelled, ## note: mean_se_model assumes a vector of x% initially labeled\n",
    "                                                              np.array(y_labelall.y), ## gender labels \n",
    "                                                              np.matrix(xall), ## adjacency matrix\n",
    "                                                              clf = modelall,num_iter=n_iter, cv_setup = 'stratified')"
   ]
  },
  {
   "cell_type": "code",
   "execution_count": null,
   "metadata": {},
   "outputs": [],
   "source": []
  },
  {
   "cell_type": "code",
   "execution_count": null,
   "metadata": {},
   "outputs": [],
   "source": []
  },
  {
   "cell_type": "code",
   "execution_count": 37,
   "metadata": {},
   "outputs": [],
   "source": [
    "df_results = pd.DataFrame({'mean_wt_auc_x1_lbfgs': mean_wt_auc_x1_lbfgs,\n",
    "                            'se_wt_auc_x1': se_wt_auc_x1,\n",
    "                            'mean_wt_auc_x2_lbfgs': mean_wt_auc_x2_lbfgs,\n",
    "                            'se_wt_auc_x2': se_wt_auc_x2,\n",
    "                            'mean_wt_auc_x3_lbfgs': mean_wt_auc_x3_lbfgs,\n",
    "                            'se_wt_auc_x3': se_wt_auc_x3,\n",
    "                            'mean_wt_auc_xall_lbfgs': mean_wt_auc_xall_lbfgs,\n",
    "                            'se_wt_auc_xall': se_wt_auc_xall,\n",
    "                           'mean_wt_LINK_RM':mean_wt_LINK_RM,\n",
    "                           'se_wt_LINK_RM': se_wt_LINK_RM,\n",
    "                           #'mean_wt_node2vec':mean_wt_node2vec_C_LRCV,\n",
    "                           #'se_wt_node2vec':se_wt_node2vec_LRCV\n",
    "                            })\n",
    "df_results.to_csv('NEWRMesultsICWSMRevision.csv',sep=',', index = False)"
   ]
  },
  {
   "cell_type": "code",
   "execution_count": 38,
   "metadata": {},
   "outputs": [
    {
     "data": {
      "image/png": "[encoded data removed]",
      "text/plain": [
       "<Figure size 288x216 with 1 Axes>"
      ]
     },
     "metadata": {
      "needs_background": "light"
     },
     "output_type": "display_data"
    }
   ],
   "source": [
    "from matplotlib.backends.backend_pdf import PdfPages\n",
    "\n",
    "alpha_empirical = 0.4\n",
    "\n",
    "%matplotlib inline\n",
    "nbins = 45\n",
    "f, (ax1) = plt.subplots(1, 1, \n",
    "                    sharey=False, sharex=False,\n",
    "                figsize=(4,3))\n",
    "\n",
    "plt.setp(ax1, xticks=[0,25,50,75,100])\n",
    "\n",
    "\n",
    "ax1.set_xticks([0,25,50,75,100])\n",
    "ax1.minorticks_on()\n",
    "ax1.tick_params('both', length=4, width=1, which='major', left=1, bottom=1, top=0, right=0, labelsize = 13)\n",
    "\n",
    "w = 1.5\n",
    "width = 0.15\n",
    "ax1.errorbar(percent_initially_labelled*100, df_results.mean_wt_auc_x1_lbfgs,\n",
    "            yerr=df_results.se_wt_auc_x1, fmt='--o', capthick=2,\n",
    "            alpha=1, elinewidth=3, color='deepskyblue')\n",
    "\n",
    "ax1.errorbar(percent_initially_labelled*100, df_results.mean_wt_auc_x2_lbfgs,\n",
    "    yerr=df_results.se_wt_auc_x2, fmt='--o', capthick=2,\n",
    "    alpha=1, elinewidth=3, color='blue')\n",
    "ax1.errorbar(percent_initially_labelled*100, df_results.mean_wt_auc_x3_lbfgs,\n",
    "    yerr=df_results.se_wt_auc_x3, fmt='--o', capthick=2,\n",
    "    alpha=1, elinewidth=3, color='darkblue')\n",
    "ax1.errorbar(percent_initially_labelled*100, df_results.mean_wt_auc_xall_lbfgs,\n",
    "    yerr=df_results.se_wt_auc_xall, fmt='--o', capthick=2,\n",
    "    alpha=1, elinewidth=3, color='black')\n",
    "ax1.errorbar(percent_initially_labelled*100, df_results.mean_wt_LINK_RM,\n",
    "    yerr=df_results.se_wt_LINK_RM, fmt='--o', capthick=2,\n",
    "    alpha=1, elinewidth=3, color='gray')\n",
    "\n",
    "#ax1.errorbar(percent_initially_labelled*100, df_results.mean_wt_node2vec,\n",
    "#    yerr=df_results.se_wt_node2vec, fmt='--o', capthick=2,\n",
    "#    alpha=1, elinewidth=3, color='red')\n",
    "\n",
    "\n",
    "\n",
    "ax1.annotate('ReFeX 1x', xy=(3, 0.44), \n",
    "         color='deepskyblue', alpha=1, size=13)\n",
    "ax1.annotate('ReFeX 2x', xy=(3, 0.36), \n",
    "         color='blue', alpha=1, size=13)\n",
    "ax1.annotate('ReFeX 3x', xy=(3, 0.28), \n",
    "         color='darkblue', alpha=1, size=13)\n",
    "ax1.annotate('ReFeX max', xy=(3, 0.2), \n",
    "         color='black', alpha=1, size=13)\n",
    "ax1.annotate('LINK', xy=(3, 0.12), \n",
    "         color='gray', alpha=1, size=13)\n",
    "#ax1.annotate('node2vec', xy=(3, 0.15), \n",
    "#         color='red', alpha=1, size=10)\n",
    "\n",
    "\n",
    "## UPDATE HERE\n",
    "#ax.set_xticklabels(x_ticks, rotation=0, fontsize=8)\n",
    "#ax.set_yticklabels(y_ticks, rotation=0, fontsize=8)\n",
    "\n",
    "\n",
    "ax1.set_ylabel('AUC', size=13)\n",
    "ax1.set_xlabel('Percent of Nodes Initially Labeled', size=13)\n",
    "\n",
    "\n",
    "#ax1.set_xlim(-1,np.max(np.array(range(len(acc_generic)))*w)+1)\n",
    "ax1.set_ylim(0,1.02)\n",
    "plt.yticks(np.arange(0,1.02,0.1))\n",
    "ax1.spines[\"right\"].set_visible(False)\n",
    "ax1.spines[\"top\"].set_visible(False)\n",
    "ax1.set_xlim(-1,100)\n",
    "plt.axhline(0.5, color='gray', linestyle='--', alpha = 0.5)\n",
    "\n",
    "plt.title('Sloan (RealityMining)',fontsize=13)\n",
    "plt.tight_layout()\n",
    "#plt.show()\n",
    "\n",
    "#figs-ICWSM-revision"
   ]
  },
  {
   "cell_type": "code",
   "execution_count": null,
   "metadata": {},
   "outputs": [],
   "source": []
  }
 ],
 "metadata": {
  "kernelspec": {
   "display_name": "Python 2",
   "language": "python",
   "name": "python2"
  },
  "language_info": {
   "codemirror_mode": {
    "name": "ipython",
    "version": 2
   },
   "file_extension": ".py",
   "mimetype": "text/x-python",
   "name": "python",
   "nbconvert_exporter": "python",
   "pygments_lexer": "ipython2",
   "version": "2.7.15"
  }
 },
 "nbformat": 4,
 "nbformat_minor": 4
}
