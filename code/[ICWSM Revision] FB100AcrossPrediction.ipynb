{
 "cells": [
  {
   "cell_type": "markdown",
   "metadata": {},
   "source": [
    "9/12/2020"
   ]
  },
  {
   "cell_type": "code",
   "execution_count": 31,
   "metadata": {
    "jupyter": {
     "outputs_hidden": true
    }
   },
   "outputs": [
    {
     "data": {
      "text/plain": [
       "{'divide': 'ignore', 'invalid': 'ignore', 'over': 'warn', 'under': 'ignore'}"
      ]
     },
     "execution_count": 31,
     "metadata": {},
     "output_type": "execute_result"
    }
   ],
   "source": [
    "from __future__ import division\n",
    "import os\n",
    "import re\n",
    "import itertools\n",
    "from datetime import datetime, timedelta\n",
    "from sklearn import preprocessing\n",
    "\n",
    "execfile('./functions/python_libraries.py')\n",
    "execfile('./functions/LINK.py')\n",
    "execfile('./functions/parsing.py')  # Sam Way's Code\n",
    "execfile('./functions/mixing.py')   # Sam Way's Code\n",
    "execfile('./functions/create_adjacency_matrix.py')\n",
    "np.seterr(divide='ignore', invalid='ignore')"
   ]
  },
  {
   "cell_type": "code",
   "execution_count": 32,
   "metadata": {},
   "outputs": [],
   "source": [
    "y_predict_type = 'gender' # gender"
   ]
  },
  {
   "cell_type": "code",
   "execution_count": 33,
   "metadata": {},
   "outputs": [],
   "source": [
    "## 8/21/2018 - set up logforest model\n",
    "from sklearn.ensemble import BaggingClassifier\n",
    "from sklearn.metrics import f1_score\n",
    "from sklearn.metrics import confusion_matrix\n",
    "from sklearn.preprocessing import MinMaxScaler\n",
    "scaler = MinMaxScaler(feature_range=(0,1))\n",
    "\n",
    "\n",
    "percent_initially_unlabelled = [0.95,0.9,0.8,0.7,0.6,0.5,0.4,0.3,0.2,0.1,0.05]\n",
    "percent_initially_labelled = np.subtract(1, percent_initially_unlabelled)\n"
   ]
  },
  {
   "cell_type": "code",
   "execution_count": 34,
   "metadata": {},
   "outputs": [],
   "source": [
    "school = 'Amherst41.csv' "
   ]
  },
  {
   "cell_type": "code",
   "execution_count": null,
   "metadata": {},
   "outputs": [],
   "source": []
  },
  {
   "cell_type": "markdown",
   "metadata": {},
   "source": [
    "### Same Train School -- compare with different Test Schools (1x, 2x, 3x, max)"
   ]
  },
  {
   "cell_type": "code",
   "execution_count": 35,
   "metadata": {},
   "outputs": [],
   "source": [
    "C_vals = [10**x for x in range(-10,100)]\n",
    "model1 = linear_model.LogisticRegressionCV(\n",
    "                            Cs = C_vals,\n",
    "                            penalty='l2',\n",
    "                            solver='lbfgs',\n",
    "                            cv = 5, max_iter = 1000)\n",
    "\n",
    "model2 = linear_model.LogisticRegressionCV(\n",
    "                            Cs = C_vals,\n",
    "                            penalty='l2',\n",
    "                            solver='lbfgs',\n",
    "                            cv = 5, max_iter = 1000)\n",
    "\n",
    "\n",
    "model3 = linear_model.LogisticRegressionCV(\n",
    "                            Cs = C_vals,\n",
    "                            penalty='l2',\n",
    "                            solver='lbfgs',\n",
    "                            cv = 5, max_iter = 1000)"
   ]
  },
  {
   "cell_type": "code",
   "execution_count": 36,
   "metadata": {},
   "outputs": [],
   "source": [
    "subset_schools = np.array(['Amherst41.csv',\n",
    "                           'American75.csv',\n",
    "                        'Berkeley13.csv',\n",
    "                        'Brown11.csv',\n",
    "                        'Carnegie49.csv',\n",
    "                        'Columbia2.csv',\n",
    "                        'Dartmouth6.csv',\n",
    "                        'Emory27.csv',\n",
    "                        'FSU53.csv',\n",
    "                        'Georgetown15.csv',\n",
    "                        'Mich67.csv',\n",
    "                        'Michigan23.csv',\n",
    "                        'MIT8.csv'])"
   ]
  },
  {
   "cell_type": "code",
   "execution_count": 37,
   "metadata": {},
   "outputs": [],
   "source": [
    "## tempo only\n",
    "import numpy as np"
   ]
  },
  {
   "cell_type": "code",
   "execution_count": 38,
   "metadata": {},
   "outputs": [
    {
     "name": "stdout",
     "output_type": "stream",
     "text": [
      "0.8287735940448652\n",
      "0.0020142453439970153\n"
     ]
    }
   ],
   "source": [
    "# 10-fold\n",
    "x10 = np.array([0.8987340300624266, 0.8391710551299488, 0.7953987979679382, 0.8430383278501761, 0.7675257592138354])\n",
    "print(np.mean(x10))\n",
    "print(np.var(x10))"
   ]
  },
  {
   "cell_type": "code",
   "execution_count": 39,
   "metadata": {},
   "outputs": [
    {
     "name": "stdout",
     "output_type": "stream",
     "text": [
      "0.7927099196707781\n",
      "0.00213569842075523\n"
     ]
    }
   ],
   "source": [
    "#5-fold\n",
    "x5 = np.array([0.7565478197184409, 0.7623022285255926, 0.8137664058776346, 0.8744880126170742, 0.7564451316151484])\n",
    "print(np.mean(x5))\n",
    "print(np.var(x5))"
   ]
  },
  {
   "cell_type": "code",
   "execution_count": 40,
   "metadata": {},
   "outputs": [
    {
     "name": "stdout",
     "output_type": "stream",
     "text": [
      "0.8690033053944193\n",
      "0.004004819933574742\n"
     ]
    }
   ],
   "source": [
    "# 3-fold\n",
    "x3 = np.array([0.9004235399882974, 0.915481878456036, 0.9278703262381668, 0.8456694683081263, 0.7555713139814697])\n",
    "print(np.mean(x3))\n",
    "print(np.var(x3))"
   ]
  },
  {
   "cell_type": "code",
   "execution_count": null,
   "metadata": {},
   "outputs": [],
   "source": []
  },
  {
   "cell_type": "code",
   "execution_count": null,
   "metadata": {},
   "outputs": [],
   "source": []
  },
  {
   "cell_type": "code",
   "execution_count": 41,
   "metadata": {},
   "outputs": [
    {
     "data": {
      "text/plain": [
       "LogisticRegressionCV(Cs=[1e-10, 1e-09, 1e-08, 1e-07, 1e-06, 1e-05, 0.0001, 0.001, 0.01, 0.1, 1, 10, 100, 1000, 10000, 100000, 1000000, 10000000, 100000000, 1000000000, 10000000000, 100000000000, 1000000000000, 10000000000000, 100000000000000, 1000000000000000, 10000000000000000, 100000000000000000, 1000000000000000000, ...00000000000000000000000000000000000000000000000000000000000000000000000000000000000000000000000000L],\n",
       "           class_weight=None, cv=5, dual=False, fit_intercept=True,\n",
       "           intercept_scaling=1.0, max_iter=1000, multi_class='ovr',\n",
       "           n_jobs=1, penalty='l2', random_state=None, refit=True,\n",
       "           scoring=None, solver='lbfgs', tol=0.0001, verbose=0)"
      ]
     },
     "execution_count": 41,
     "metadata": {},
     "output_type": "execute_result"
    }
   ],
   "source": [
    "train_school = 'Amherst41.csv' #'Amherst41.csv' 'MIT8.csv'\n",
    "\n",
    "## train\n",
    "\n",
    "## 3x\n",
    "x_train = pd.read_csv('../../code/refex-rolx-master-3/FB-data/out_union_0.50_FB_'+train_school+'-featureValues.csv', \n",
    "                      header = -1)\n",
    "df_train = pd.DataFrame({'keys':np.array(map(np.int,x_train[0]))})\n",
    "x_train = x_train.loc[:,1::] #drop IDs column\n",
    "scaler.fit(x_train) #transform each feature on [0,1]-scale\n",
    "x_train = scaler.transform(x_train)\n",
    "y_train_y = pd.read_csv('../../data/FB100edges/'+re.sub('\\\\.csv','',train_school) + '_gender.csv')\n",
    "y_train = df_train.merge(y_train_y[['keys','gender_y']],\n",
    "        how = 'left',\n",
    "        on = 'keys')\n",
    "x_train_m = pd.DataFrame(np.matrix(x_train))\n",
    "\n",
    "model3.fit(x_train_m,\n",
    "      y_train.gender_y)\n",
    "\n",
    "\n",
    "\n",
    "## 2x\n",
    "x_train = pd.read_csv('../../code/refex-rolx-master-2/FB-data/out_union_0.50_FB_'+train_school+'-featureValues.csv', \n",
    "                      header = -1)\n",
    "df_train = pd.DataFrame({'keys':np.array(map(np.int,x_train[0]))})\n",
    "x_train = x_train.loc[:,1::] #drop IDs column\n",
    "scaler.fit(x_train) #transform each feature on [0,1]-scale\n",
    "x_train = scaler.transform(x_train)\n",
    "y_train_y = pd.read_csv('../../data/FB100edges/'+re.sub('\\\\.csv','',train_school) + '_gender.csv')\n",
    "y_train = df_train.merge(y_train_y[['keys','gender_y']],\n",
    "        how = 'left',\n",
    "        on = 'keys')\n",
    "x_train_m = pd.DataFrame(np.matrix(x_train))\n",
    "\n",
    "model2.fit(x_train_m,\n",
    "      y_train.gender_y)\n",
    "\n",
    "## 1x\n",
    "x_train = pd.read_csv('../../code/refex-rolx-master-1/FB-data/out_union_0.50_FB_'+train_school+'-featureValues.csv', \n",
    "                      header = -1)\n",
    "df_train = pd.DataFrame({'keys':np.array(map(np.int,x_train[0]))})\n",
    "x_train = x_train.loc[:,1::] #drop IDs column\n",
    "scaler.fit(x_train) #transform each feature on [0,1]-scale\n",
    "x_train = scaler.transform(x_train)\n",
    "y_train_y = pd.read_csv('../../data/FB100edges/'+re.sub('\\\\.csv','',train_school) + '_gender.csv')\n",
    "y_train = df_train.merge(y_train_y[['keys','gender_y']],\n",
    "        how = 'left',\n",
    "        on = 'keys')\n",
    "x_train_m = pd.DataFrame(np.matrix(x_train))\n",
    "\n",
    "model1.fit(x_train_m,\n",
    "      y_train.gender_y)\n",
    "\n"
   ]
  },
  {
   "cell_type": "code",
   "execution_count": 42,
   "metadata": {},
   "outputs": [
    {
     "data": {
      "text/plain": [
       "LogisticRegressionCV(Cs=[1e-10, 1e-09, 1e-08, 1e-07, 1e-06, 1e-05, 0.0001, 0.001, 0.01, 0.1, 1, 10, 100, 1000, 10000, 100000, 1000000, 10000000, 100000000, 1000000000, 10000000000, 100000000000, 1000000000000, 10000000000000, 100000000000000, 1000000000000000, 10000000000000000, 100000000000000000, 1000000000000000000, ...00000000000000000000000000000000000000000000000000000000000000000000000000000000000000000000000000L],\n",
       "           class_weight=None, cv=5, dual=False, fit_intercept=True,\n",
       "           intercept_scaling=1.0, max_iter=1000, multi_class='ovr',\n",
       "           n_jobs=1, penalty='l2', random_state=None, refit=True,\n",
       "           scoring=None, solver='lbfgs', tol=0.0001, verbose=0)"
      ]
     },
     "execution_count": 42,
     "metadata": {},
     "output_type": "execute_result"
    }
   ],
   "source": [
    "model = linear_model.LogisticRegressionCV(\n",
    "                            Cs = C_vals,\n",
    "                            penalty='l2',\n",
    "                            solver='lbfgs',\n",
    "                            #class_weight='balanced',\n",
    "                            cv = 5, max_iter = 1000)\n",
    "\n",
    "## all\n",
    "x_train = pd.read_csv('../../code/refex-rolx-master/FB-data/out_union_0.50_FB_'+train_school+'-featureValues.csv', \n",
    "                      header = -1)\n",
    "df_train = pd.DataFrame({'keys':np.array(map(np.int,x_train[0]))})\n",
    "x_train = x_train.loc[:,1::] #drop IDs column\n",
    "scaler.fit(x_train) #transform each feature on [0,1]-scale\n",
    "x_train = scaler.transform(x_train)\n",
    "y_train_y = pd.read_csv('../../data/FB100edges/'+re.sub('\\\\.csv','',train_school) + '_gender.csv')\n",
    "y_train = df_train.merge(y_train_y[['keys','gender_y']],\n",
    "        how = 'left',\n",
    "        on = 'keys')\n",
    "x_train_m = pd.DataFrame(np.matrix(x_train))\n",
    "\n",
    "\n",
    "model.fit(x_train_m,\n",
    "      y_train.gender_y)\n"
   ]
  },
  {
   "cell_type": "code",
   "execution_count": 43,
   "metadata": {},
   "outputs": [
    {
     "name": "stdout",
     "output_type": "stream",
     "text": [
      "0.622762786327022\n"
     ]
    }
   ],
   "source": [
    "test_school = 'Amherst41.csv'\n",
    "x_test = pd.read_csv('../../code/refex-rolx-master/FB-data/out_union_0.50_FB_'+test_school+'-featureValues.csv', \n",
    "                     header = -1)\n",
    "df_test = pd.DataFrame({'keys':np.array(map(np.int,x_test[0]))})#np.sort(np.unique(np.concatenate((test[0], test[1]))))})\n",
    "x_test = x_test.loc[:,1::] #drop IDs column\n",
    "scaler.fit(x_test) #transform each feature on [0,1]-scale\n",
    "x_test = scaler.transform(x_test)\n",
    "y_test_y = pd.read_csv('../../data/FB100edges/'+re.sub('\\\\.csv','',test_school) + '_gender.csv')\n",
    "x_train_names = pd.read_csv('../../code/refex-rolx-master/FB-data/union_unique_featureNames.csv')\n",
    "x_test_names = pd.read_csv('../../code/refex-rolx-master/FB-data/union_unique_featureNames.csv')\n",
    "y_test = df_test.merge(y_test_y[['keys','gender_y']],\n",
    "    how = 'left',\n",
    "    on = 'keys')\n",
    "x_test_m = pd.DataFrame(np.matrix(x_test))\n",
    "\n",
    "    \n",
    "#model.predict_proba(x_test_m)[:,1]\n",
    "y_predict_refex = model.predict_proba(x_test_m)[:,1]\n",
    "print(metrics.roc_auc_score(label_binarize(y_test.gender_y,np.unique(y_test.gender_y)),\n",
    "                                         y_predict_refex,average='weighted'))\n",
    "   "
   ]
  },
  {
   "cell_type": "code",
   "execution_count": null,
   "metadata": {},
   "outputs": [],
   "source": []
  },
  {
   "cell_type": "code",
   "execution_count": null,
   "metadata": {},
   "outputs": [],
   "source": []
  },
  {
   "cell_type": "code",
   "execution_count": 44,
   "metadata": {},
   "outputs": [
    {
     "name": "stdout",
     "output_type": "stream",
     "text": [
      "train school:  Amherst41.csv\n",
      "test school:  Amherst41.csv\n",
      "\n",
      "train school:  Amherst41.csv\n",
      "test school:  American75.csv\n",
      "\n",
      "train school:  Amherst41.csv\n",
      "test school:  Berkeley13.csv\n",
      "\n",
      "train school:  Amherst41.csv\n",
      "test school:  Brown11.csv\n",
      "\n",
      "train school:  Amherst41.csv\n",
      "test school:  Carnegie49.csv\n",
      "\n",
      "train school:  Amherst41.csv\n",
      "test school:  Columbia2.csv\n",
      "\n",
      "train school:  Amherst41.csv\n",
      "test school:  Dartmouth6.csv\n",
      "\n",
      "train school:  Amherst41.csv\n",
      "test school:  Emory27.csv\n",
      "\n",
      "train school:  Amherst41.csv\n",
      "test school:  FSU53.csv\n",
      "\n",
      "train school:  Amherst41.csv\n",
      "test school:  Georgetown15.csv\n",
      "\n",
      "train school:  Amherst41.csv\n",
      "test school:  Mich67.csv\n",
      "\n",
      "train school:  Amherst41.csv\n",
      "test school:  Michigan23.csv\n",
      "\n",
      "train school:  Amherst41.csv\n",
      "test school:  MIT8.csv\n",
      "\n"
     ]
    }
   ],
   "source": [
    "test_school_array = []\n",
    "\n",
    "accuracy_record1 = []\n",
    "auc_record1 = []\n",
    "\n",
    "accuracy_record2 = []\n",
    "auc_record2 = []\n",
    "\n",
    "accuracy_record3 = []\n",
    "auc_record3 = []\n",
    "\n",
    "accuracy_record = []\n",
    "auc_record = []\n",
    "\n",
    "accuracy_record_baseline = []\n",
    "auc_record_baseline = []\n",
    "\n",
    "for test_school in subset_schools:\n",
    "    print 'train school: ', train_school\n",
    "    print 'test school: ', test_school\n",
    "    print ''\n",
    "    test_school_array.append(test_school)\n",
    "\n",
    "    ## all\n",
    "    x_test = pd.read_csv('../../code/refex-rolx-master/FB-data/out_union_0.50_FB_'+test_school+'-featureValues.csv', \n",
    "                         header = -1)\n",
    "    df_test = pd.DataFrame({'keys':np.array(map(np.int,x_test[0]))})#np.sort(np.unique(np.concatenate((test[0], test[1]))))})\n",
    "    x_test = x_test.loc[:,1::] #drop IDs column\n",
    "    scaler.fit(x_test) #transform each feature on [0,1]-scale\n",
    "    x_test = scaler.transform(x_test)\n",
    "    y_test_y = pd.read_csv('../../data/FB100edges/'+re.sub('\\\\.csv','',test_school) + '_gender.csv')\n",
    "    x_train_names = pd.read_csv('../../code/refex-rolx-master/FB-data/union_unique_featureNames.csv')\n",
    "    x_test_names = pd.read_csv('../../code/refex-rolx-master/FB-data/union_unique_featureNames.csv')\n",
    "    y_test = df_test.merge(y_test_y[['keys','gender_y']],\n",
    "        how = 'left',\n",
    "        on = 'keys')\n",
    "    x_test_m = pd.DataFrame(np.matrix(x_test))\n",
    "\n",
    "    #all\n",
    "    y_predict_refex = model.predict(x_test_m)\n",
    "    accuracy_record.append(np.mean(np.array(y_test.gender_y) == np.array(y_predict_refex)))\n",
    "    y_predict_refex = model.predict_proba(x_test_m)[:,1]\n",
    "    auc_record.append(metrics.roc_auc_score(label_binarize(y_test.gender_y,np.unique(y_test.gender_y)),\n",
    "                                         y_predict_refex,average='weighted'))\n",
    "    \n",
    "\n",
    "    \n",
    "    #baseline\n",
    "    num1 = np.sum(y_train.gender_y==np.max(y_train.gender_y))\n",
    "    num0 = np.sum(y_train.gender_y==np.min(y_train.gender_y))\n",
    "    if num1 > num0:\n",
    "        label = 1\n",
    "    else:\n",
    "        label = 0\n",
    "\n",
    "\n",
    "    y_predict = np.repeat(label,len(y_test))\n",
    "    y_true = np.array(y_test.gender_y)\n",
    "\n",
    "    accuracy_record_baseline.append(np.mean(y_true == y_predict))\n",
    "    auc_record_baseline.append(metrics.roc_auc_score(label_binarize(y_true,np.unique(y_true)),\n",
    "                                                                        y_predict,average='weighted'))\n",
    "    \n",
    "    ## 1x\n",
    "    x_test = pd.read_csv('../../code/refex-rolx-master-1/FB-data/out_union_0.50_FB_'+test_school+'-featureValues.csv', \n",
    "                         header = -1)\n",
    "    df_test = pd.DataFrame({'keys':np.array(map(np.int,x_test[0]))})#np.sort(np.unique(np.concatenate((test[0], test[1]))))})\n",
    "    x_test = x_test.loc[:,1::] #drop IDs column\n",
    "    scaler.fit(x_test) #transform each feature on [0,1]-scale\n",
    "    x_test = scaler.transform(x_test)\n",
    "    y_test_y = pd.read_csv('../../data/FB100edges/'+re.sub('\\\\.csv','',test_school) + '_gender.csv')\n",
    "    x_train_names = pd.read_csv('../../code/refex-rolx-master-1/FB-data/union_unique_featureNames.csv')\n",
    "    x_test_names = pd.read_csv('../../code/refex-rolx-master-1/FB-data/union_unique_featureNames.csv')\n",
    "    y_test1 = df_test.merge(y_test_y[['keys','gender_y']],\n",
    "        how = 'left',\n",
    "        on = 'keys')\n",
    "    x_test_m1 = pd.DataFrame(np.matrix(x_test))\n",
    "\n",
    "    #1x\n",
    "    y_predict_refex1 = model1.predict(x_test_m1)\n",
    "    accuracy_record1.append(np.mean(np.array(y_test1.gender_y) == np.array(y_predict_refex)))\n",
    "    y_predict_refex = model1.predict_proba(x_test_m1)[:,1]\n",
    "    auc_record1.append(metrics.roc_auc_score(label_binarize(y_test1.gender_y,np.unique(y_test1.gender_y)),\n",
    "                                         y_predict_refex,average='weighted'))\n",
    "    \n",
    "    ## 2x\n",
    "    x_test = pd.read_csv('../../code/refex-rolx-master-2/FB-data/out_union_0.50_FB_'+test_school+'-featureValues.csv', \n",
    "                         header = -1)\n",
    "    df_test = pd.DataFrame({'keys':np.array(map(np.int,x_test[0]))})#np.sort(np.unique(np.concatenate((test[0], test[1]))))})\n",
    "    x_test = x_test.loc[:,1::] #drop IDs column\n",
    "    scaler.fit(x_test) #transform each feature on [0,1]-scale\n",
    "    x_test = scaler.transform(x_test)\n",
    "    y_test_y = pd.read_csv('../../data/FB100edges/'+re.sub('\\\\.csv','',test_school) + '_gender.csv')\n",
    "    x_train_names = pd.read_csv('../../code/refex-rolx-master-2/FB-data/union_unique_featureNames.csv')\n",
    "    x_test_names = pd.read_csv('../../code/refex-rolx-master-2/FB-data/union_unique_featureNames.csv')\n",
    "    y_test2 = df_test.merge(y_test_y[['keys','gender_y']],\n",
    "        how = 'left',\n",
    "        on = 'keys')\n",
    "    x_test_m2 = pd.DataFrame(np.matrix(x_test))\n",
    "\n",
    "    #2x\n",
    "    y_predict_refex2= model2.predict(x_test_m2)\n",
    "    accuracy_record2.append(np.mean(np.array(y_test2.gender_y) == np.array(y_predict_refex)))\n",
    "    y_predict_refex = model2.predict_proba(x_test_m2)[:,1]\n",
    "    auc_record2.append(metrics.roc_auc_score(label_binarize(y_test2.gender_y,np.unique(y_test2.gender_y)),\n",
    "                                         y_predict_refex,average='weighted'))\n",
    "\n",
    "    \n",
    "    # 3x\n",
    "    x_test = pd.read_csv('../../code/refex-rolx-master-3/FB-data/out_union_0.50_FB_'+test_school+'-featureValues.csv', \n",
    "                         header = -1)\n",
    "    df_test = pd.DataFrame({'keys':np.array(map(np.int,x_test[0]))})#np.sort(np.unique(np.concatenate((test[0], test[1]))))})\n",
    "    x_test = x_test.loc[:,1::] #drop IDs column\n",
    "    scaler.fit(x_test) #transform each feature on [0,1]-scale\n",
    "    x_test = scaler.transform(x_test)\n",
    "    y_test_y = pd.read_csv('../../data/FB100edges/'+re.sub('\\\\.csv','',test_school) + '_gender.csv')\n",
    "    x_train_names = pd.read_csv('../../code/refex-rolx-master-3/FB-data/union_unique_featureNames.csv')\n",
    "    x_test_names = pd.read_csv('../../code/refex-rolx-master-3/FB-data/union_unique_featureNames.csv')\n",
    "    y_test3 = df_test.merge(y_test_y[['keys','gender_y']],\n",
    "        how = 'left',\n",
    "        on = 'keys')\n",
    "    x_test_m3 = pd.DataFrame(np.matrix(x_test))\n",
    "\n",
    "    # 3x\n",
    "    y_predict_refex3= model3.predict(x_test_m3)\n",
    "    accuracy_record3.append(np.mean(np.array(y_test3.gender_y) == np.array(y_predict_refex)))\n",
    "    y_predict_refex = model3.predict_proba(x_test_m3)[:,1]\n",
    "    auc_record3.append(metrics.roc_auc_score(label_binarize(y_test3.gender_y,np.unique(y_test3.gender_y)),\n",
    "                                         y_predict_refex,average='weighted'))\n"
   ]
  },
  {
   "cell_type": "code",
   "execution_count": 45,
   "metadata": {},
   "outputs": [],
   "source": [
    "subset_schools_new = [w.replace('.csv','') for w in subset_schools]"
   ]
  },
  {
   "cell_type": "code",
   "execution_count": null,
   "metadata": {},
   "outputs": [],
   "source": []
  },
  {
   "cell_type": "code",
   "execution_count": 46,
   "metadata": {},
   "outputs": [
    {
     "data": {
      "text/plain": [
       "['Amherst41',\n",
       " 'American75',\n",
       " 'Berkeley13',\n",
       " 'Brown11',\n",
       " 'Carnegie49',\n",
       " 'Columbia2',\n",
       " 'Dartmouth6',\n",
       " 'Emory27',\n",
       " 'FSU53',\n",
       " 'Georgetown15',\n",
       " 'Mich67',\n",
       " 'Michigan23',\n",
       " 'MIT8']"
      ]
     },
     "execution_count": 46,
     "metadata": {},
     "output_type": "execute_result"
    }
   ],
   "source": [
    "subset_schools_new"
   ]
  },
  {
   "cell_type": "code",
   "execution_count": 47,
   "metadata": {},
   "outputs": [
    {
     "data": {
      "text/plain": [
       "13"
      ]
     },
     "execution_count": 47,
     "metadata": {},
     "output_type": "execute_result"
    }
   ],
   "source": [
    "school_names = ['Amherst',\n",
    "               'American',\n",
    "               'Berkeley',\n",
    "                'Brown',\n",
    "               'Carnegie',\n",
    "               'Columbia',\n",
    "               'Dartmouth',\n",
    "               'Emory',\n",
    "               'FSU',\n",
    "               'Georgetown',\n",
    "               'Mich',\n",
    "               'Michigan',\n",
    "               'MIT']\n",
    "len(school_names)"
   ]
  },
  {
   "cell_type": "code",
   "execution_count": 48,
   "metadata": {},
   "outputs": [
    {
     "data": {
      "text/plain": [
       "[0.622762786327022,\n",
       " 0.47683274763227296,\n",
       " 0.4967348733434654,\n",
       " 0.5077012594456716,\n",
       " 0.48738203615399855,\n",
       " 0.5054593268075317,\n",
       " 0.49402122445630803,\n",
       " 0.47837109069257516,\n",
       " 0.5020266368170387,\n",
       " 0.5041618103016282,\n",
       " 0.5455358613652765,\n",
       " 0.5150467664324749,\n",
       " 0.4806578114882532]"
      ]
     },
     "execution_count": 48,
     "metadata": {},
     "output_type": "execute_result"
    }
   ],
   "source": [
    "auc_record"
   ]
  },
  {
   "cell_type": "code",
   "execution_count": 49,
   "metadata": {},
   "outputs": [
    {
     "data": {
      "text/plain": [
       "['American',\n",
       " 'Berkeley',\n",
       " 'Brown',\n",
       " 'Carnegie',\n",
       " 'Columbia',\n",
       " 'Dartmouth',\n",
       " 'Emory',\n",
       " 'FSU',\n",
       " 'Georgetown',\n",
       " 'Mich',\n",
       " 'Michigan',\n",
       " 'MIT']"
      ]
     },
     "execution_count": 49,
     "metadata": {},
     "output_type": "execute_result"
    }
   ],
   "source": [
    "school_names[1::]"
   ]
  },
  {
   "cell_type": "code",
   "execution_count": 50,
   "metadata": {},
   "outputs": [
    {
     "data": {
      "image/png": "[encoded data removed]",
      "text/plain": [
       "<Figure size 288x216 with 1 Axes>"
      ]
     },
     "metadata": {
      "needs_background": "light"
     },
     "output_type": "display_data"
    }
   ],
   "source": [
    "from matplotlib.backends.backend_pdf import PdfPages\n",
    "\n",
    "alpha_empirical = 0.4\n",
    "\n",
    "%matplotlib inline\n",
    "nbins = 45\n",
    "f, (ax1) = plt.subplots(1, 1, \n",
    "                    sharey=False, sharex=False,\n",
    "                figsize=(4,3))#\n",
    "plt.setp(ax1, xticks=[ 0. ,  1.5,  3. ,  4.5,  6. ,  7.5,  9. , 10.5, 12. , 13.5, 15., 16.5, 18], \n",
    "         xticklabels=school_names[1::])#subset_schools_new)\n",
    "plt.setp(ax1.get_xticklabels(), \n",
    "         rotation=90, size = 13)\n",
    "\n",
    "\n",
    "ax1.minorticks_on()\n",
    "ax1.tick_params('both', length=4, width=1, which='major', left=1, bottom=1, top=0, right=0,labelsize = 13)\n",
    "plt.axhline(0.5, color='gray', linestyle='--', alpha = 0.5)\n",
    "\n",
    "w = 1.5\n",
    "width = 0.2\n",
    "\n",
    "ax1.bar(np.array(range(len(auc_record1[1::])))*w-0.4,auc_record1[1::], color = 'deepskyblue',# alpha = 0.5,\n",
    "       width = width, edgecolor = 'white')\n",
    "\n",
    "ax1.bar(np.array(range(len(auc_record2[1::])))*w-0.2,auc_record2[1::], color = 'blue', #alpha = 0.5,\n",
    "       width = width, edgecolor = 'white')\n",
    "\n",
    "ax1.bar(np.array(range(len(auc_record3[1::])))*w-0,auc_record3[1::], color = 'darkblue', #alpha = 0.5,\n",
    "       width = width, edgecolor = 'white')\n",
    "\n",
    "ax1.bar(np.array(range(len(auc_record[1::])))*w+0.2,auc_record[1::], color = 'black', #alpha = 0.5,\n",
    "       width = width, edgecolor = 'white')\n",
    "ax1.set_ylabel('AUC', size=13)\n",
    "\n",
    "ax1.set_ylim(0,1.02)\n",
    "plt.yticks(np.arange(0,1.02,0.1), size = 13)\n",
    "ax1.spines[\"right\"].set_visible(False)\n",
    "ax1.spines[\"top\"].set_visible(False)\n",
    "ax1.set_xlim(-1,17.5)\n",
    "#ax1.set_title(train_school)\n",
    "ax1.set_title(train_school, size = 10)\n",
    "\n",
    "\n",
    "if train_school=='MIT8.csv':\n",
    "    plt.title('MIT (FB100)',fontsize=14)\n",
    "\n",
    "if train_school=='Amherst41.csv':\n",
    "    plt.title('Amherst College (FB100)',fontsize=13)\n",
    "#plt.tight_layout()\n",
    "\n",
    "\n",
    "#if RF:\n",
    "#    if undersampling:\n",
    "#        pp = PdfPages('../figs/' + train_school + '_NEWAUC_across_RF_undersampling.pdf')\n",
    "#    else:\n",
    "#        pp = PdfPages('../figs/' + train_school + '_NEWAUC_across_RF.pdf')\n",
    "#pp.savefig()\n",
    "#pp.close()"
   ]
  },
  {
   "cell_type": "code",
   "execution_count": null,
   "metadata": {},
   "outputs": [],
   "source": [
    "df_results = pd.DataFrame({'test': school_names[1::],\n",
    "                           'refex-1': auc_record1[1::],\n",
    "                           'refex-2': auc_record2[1::],\n",
    "                           'refex-3': auc_record3[1::],\n",
    "                           'refex-max': auc_record[1::]\n",
    "                            })\n",
    "df_results.to_csv('NEWFBAcrossResultsICWSMRevision.csv',sep=',', index = False)"
   ]
  },
  {
   "cell_type": "code",
   "execution_count": null,
   "metadata": {},
   "outputs": [],
   "source": []
  },
  {
   "cell_type": "code",
   "execution_count": null,
   "metadata": {},
   "outputs": [],
   "source": []
  }
 ],
 "metadata": {
  "kernelspec": {
   "display_name": "Python 2",
   "language": "python",
   "name": "python2"
  },
  "language_info": {
   "codemirror_mode": {
    "name": "ipython",
    "version": 2
   },
   "file_extension": ".py",
   "mimetype": "text/x-python",
   "name": "python",
   "nbconvert_exporter": "python",
   "pygments_lexer": "ipython2",
   "version": "2.7.15"
  }
 },
 "nbformat": 4,
 "nbformat_minor": 4
}
