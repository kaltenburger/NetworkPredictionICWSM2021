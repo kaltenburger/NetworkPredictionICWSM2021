{
 "cells": [
  {
   "cell_type": "markdown",
   "metadata": {},
   "source": [
    "## About\n",
    "Set-up toy example of connected network (i.e. 1 connected component) and compare LINK vs. ReFeX performance as we recursively remove edges. This in part is motivated by the role of 'bridging actors' in the ideal points literature."
   ]
  },
  {
   "cell_type": "code",
   "execution_count": 1,
   "metadata": {},
   "outputs": [
    {
     "name": "stderr",
     "output_type": "stream",
     "text": [
      "/Users/kristen/anaconda3/lib/python3.6/site-packages/sklearn/externals/six.py:31: DeprecationWarning: The module is deprecated in version 0.21 and will be removed in version 0.23 since we've dropped support for Python 2.7. Please rely on the official version of six (https://pypi.org/project/six/).\n",
      "  \"(https://pypi.org/project/six/).\", DeprecationWarning)\n"
     ]
    }
   ],
   "source": [
    "from __future__ import division\n",
    "import community\n",
    "import os\n",
    "import re\n",
    "import itertools\n",
    "from datetime import datetime, timedelta\n",
    "from sklearn import preprocessing\n",
    "from sklearn.model_selection import GridSearchCV\n",
    "from sklearn.model_selection import RandomizedSearchCV\n",
    "folder_directory =os.getcwd()\n",
    "from sklearn.model_selection import ShuffleSplit\n",
    "os.chdir(folder_directory)\n",
    "exec(open('./functions/python_libraries.py').read())\n",
    "exec(open('./functions/LINK_revised.py').read())\n",
    "np.seterr(divide='ignore', invalid='ignore')\n",
    "from sklearn.ensemble import BaggingClassifier # needed for logforest\n",
    "#exec(open('./functions/LINK.py').read())\n",
    "exec(open('./functions/parsing.py').read())  # Sam Way's Code\n",
    "exec(open('./functions/mixing.py').read()) # Sam Way's Code\n",
    "exec(open('./functions/create_adjacency_matrix.py').read())\n",
    "np.seterr(divide='ignore', invalid='ignore')\n",
    "fb100_file = '/Users/kristen/Dropbox/gender_graph_data/FB_processing_pipeline/data/0_original/'\n",
    "import imblearn\n",
    "from imblearn.pipeline import Pipeline as imbPipeline\n",
    "from imblearn.over_sampling import SMOTE\n",
    "from imblearn.under_sampling import ClusterCentroids\n",
    "from imblearn.under_sampling import RandomUnderSampler"
   ]
  },
  {
   "cell_type": "code",
   "execution_count": 2,
   "metadata": {},
   "outputs": [],
   "source": [
    "adj_matrix_gender = np.load('../../data/AmherstAdj.npy')"
   ]
  },
  {
   "cell_type": "code",
   "execution_count": 3,
   "metadata": {},
   "outputs": [],
   "source": [
    "gender_y = np.load('../../data/Amherstgender.npy')"
   ]
  },
  {
   "cell_type": "code",
   "execution_count": 4,
   "metadata": {},
   "outputs": [
    {
     "data": {
      "text/plain": [
       "array([2, 1, 1, ..., 2, 2, 2])"
      ]
     },
     "execution_count": 4,
     "metadata": {},
     "output_type": "execute_result"
    }
   ],
   "source": [
    "gender_y"
   ]
  },
  {
   "cell_type": "code",
   "execution_count": 5,
   "metadata": {},
   "outputs": [
    {
     "data": {
      "text/plain": [
       "array([[0., 0., 0., ..., 0., 0., 0.],\n",
       "       [0., 0., 1., ..., 0., 0., 0.],\n",
       "       [0., 1., 0., ..., 0., 0., 0.],\n",
       "       ...,\n",
       "       [0., 0., 0., ..., 0., 0., 0.],\n",
       "       [0., 0., 0., ..., 0., 0., 0.],\n",
       "       [0., 0., 0., ..., 0., 0., 0.]])"
      ]
     },
     "execution_count": 5,
     "metadata": {},
     "output_type": "execute_result"
    }
   ],
   "source": [
    "adj_matrix_gender"
   ]
  },
  {
   "cell_type": "code",
   "execution_count": 6,
   "metadata": {},
   "outputs": [],
   "source": [
    "G = nx.from_numpy_matrix(adj_matrix_gender)"
   ]
  },
  {
   "cell_type": "code",
   "execution_count": 7,
   "metadata": {},
   "outputs": [],
   "source": [
    "adj_matrix_gender_remove = adj_matrix_gender.copy()"
   ]
  },
  {
   "cell_type": "code",
   "execution_count": 8,
   "metadata": {},
   "outputs": [
    {
     "name": "stdout",
     "output_type": "stream",
     "text": [
      "(56, 966)\n",
      "(60, 105)\n",
      "(132, 608)\n",
      "(138, 1978)\n",
      "(182, 239)\n",
      "(191, 391)\n",
      "(224, 1160)\n",
      "(243, 692)\n",
      "(270, 1280)\n",
      "(270, 2022)\n",
      "(369, 1043)\n",
      "(405, 1720)\n",
      "(566, 1702)\n",
      "(596, 1113)\n",
      "(648, 877)\n",
      "(721, 1258)\n",
      "(852, 1702)\n",
      "(894, 1800)\n",
      "(1005, 1953)\n",
      "(1301, 1592)\n",
      "(1467, 1791)\n"
     ]
    }
   ],
   "source": [
    "bridge_edge_locator = []\n",
    "for edge in nx.bridges(G):\n",
    "    print(edge)\n",
    "    adj_matrix_gender_remove[edge[0],edge[1]] = 0\n",
    "    adj_matrix_gender_remove[edge[1],edge[0]] = 0\n",
    "    #print(adj_matrix_gender[edge[0],edge[1]])\n",
    "    #print(adj_matrix_gender[edge[1],edge[0]])\n",
    "    #print('')\n",
    "    bridge_edge_locator.append(edge)"
   ]
  },
  {
   "cell_type": "code",
   "execution_count": 9,
   "metadata": {},
   "outputs": [],
   "source": [
    "# Compare LINK, and ReFeX\n",
    "percent_initially_unlabelled = [0.99,0.98,0.97,0.96,0.95,0.94,0.93,0.92,0.91,0.9,0.85,0.8,0.75]#,0.7,0.6,0.5,0.4,0.3,0.2,0.1,0.05,0.01]\n",
    "percent_initially_labelled = np.subtract(1, percent_initially_unlabelled)"
   ]
  },
  {
   "cell_type": "code",
   "execution_count": 13,
   "metadata": {},
   "outputs": [
    {
     "name": "stdout",
     "output_type": "stream",
     "text": [
      "0.99\n"
     ]
    },
    {
     "name": "stderr",
     "output_type": "stream",
     "text": [
      "/Users/kristen/anaconda3/lib/python3.6/site-packages/sklearn/metrics/classification.py:1437: UndefinedMetricWarning: F-score is ill-defined and being set to 0.0 in labels with no predicted samples.\n",
      "  'precision', 'predicted', average, warn_for)\n",
      "/Users/kristen/anaconda3/lib/python3.6/site-packages/sklearn/metrics/classification.py:1437: UndefinedMetricWarning: F-score is ill-defined and being set to 0.0 in labels with no predicted samples.\n",
      "  'precision', 'predicted', average, warn_for)\n",
      "/Users/kristen/anaconda3/lib/python3.6/site-packages/sklearn/metrics/classification.py:1437: UndefinedMetricWarning: F-score is ill-defined and being set to 0.0 in labels with no predicted samples.\n",
      "  'precision', 'predicted', average, warn_for)\n",
      "/Users/kristen/anaconda3/lib/python3.6/site-packages/sklearn/metrics/classification.py:1437: UndefinedMetricWarning: F-score is ill-defined and being set to 0.0 in labels with no predicted samples.\n",
      "  'precision', 'predicted', average, warn_for)\n",
      "/Users/kristen/anaconda3/lib/python3.6/site-packages/sklearn/metrics/classification.py:1437: UndefinedMetricWarning: F-score is ill-defined and being set to 0.0 in labels with no predicted samples.\n",
      "  'precision', 'predicted', average, warn_for)\n"
     ]
    },
    {
     "name": "stdout",
     "output_type": "stream",
     "text": [
      "0.98\n"
     ]
    },
    {
     "name": "stderr",
     "output_type": "stream",
     "text": [
      "/Users/kristen/anaconda3/lib/python3.6/site-packages/sklearn/metrics/classification.py:1437: UndefinedMetricWarning: F-score is ill-defined and being set to 0.0 in labels with no predicted samples.\n",
      "  'precision', 'predicted', average, warn_for)\n",
      "/Users/kristen/anaconda3/lib/python3.6/site-packages/sklearn/metrics/classification.py:1437: UndefinedMetricWarning: F-score is ill-defined and being set to 0.0 in labels with no predicted samples.\n",
      "  'precision', 'predicted', average, warn_for)\n",
      "/Users/kristen/anaconda3/lib/python3.6/site-packages/sklearn/metrics/classification.py:1437: UndefinedMetricWarning: F-score is ill-defined and being set to 0.0 in labels with no predicted samples.\n",
      "  'precision', 'predicted', average, warn_for)\n",
      "/Users/kristen/anaconda3/lib/python3.6/site-packages/sklearn/metrics/classification.py:1437: UndefinedMetricWarning: F-score is ill-defined and being set to 0.0 in labels with no predicted samples.\n",
      "  'precision', 'predicted', average, warn_for)\n"
     ]
    },
    {
     "name": "stdout",
     "output_type": "stream",
     "text": [
      "0.97\n"
     ]
    },
    {
     "name": "stderr",
     "output_type": "stream",
     "text": [
      "/Users/kristen/anaconda3/lib/python3.6/site-packages/sklearn/metrics/classification.py:1437: UndefinedMetricWarning: F-score is ill-defined and being set to 0.0 in labels with no predicted samples.\n",
      "  'precision', 'predicted', average, warn_for)\n",
      "/Users/kristen/anaconda3/lib/python3.6/site-packages/sklearn/metrics/classification.py:1437: UndefinedMetricWarning: F-score is ill-defined and being set to 0.0 in labels with no predicted samples.\n",
      "  'precision', 'predicted', average, warn_for)\n"
     ]
    },
    {
     "name": "stdout",
     "output_type": "stream",
     "text": [
      "0.96\n"
     ]
    },
    {
     "name": "stderr",
     "output_type": "stream",
     "text": [
      "/Users/kristen/anaconda3/lib/python3.6/site-packages/sklearn/metrics/classification.py:1437: UndefinedMetricWarning: F-score is ill-defined and being set to 0.0 in labels with no predicted samples.\n",
      "  'precision', 'predicted', average, warn_for)\n"
     ]
    },
    {
     "name": "stdout",
     "output_type": "stream",
     "text": [
      "0.95\n",
      "0.94\n",
      "0.93\n",
      "0.92\n",
      "0.91\n",
      "0.9\n",
      "0.85\n",
      "0.8\n",
      "0.75\n"
     ]
    }
   ],
   "source": [
    "from sklearn import linear_model\n",
    "from sklearn import metrics\n",
    "C_vals = [10**x for x in range(-10,100)]\n",
    "(mean_accuracy_amherst, se_accuracy_amherst, \n",
    " mean_micro_auc_amherst,se_micro_auc_amherst, mean_wt_auc_amherst_lbfgs,se_wt_auc_amherst)= LINK(percent_initially_unlabelled, ## note: mean_se_model assumes a vector of x% initially labeled\n",
    "                                                              np.array(gender_y), ## gender labels \n",
    "                                                              np.matrix(adj_matrix_gender_remove), ## adjacency matrix\n",
    "                                                              clf =linear_model.LogisticRegressionCV(\n",
    "                                                                    Cs = C_vals,\n",
    "                                                                    penalty='l2',\n",
    "                                                                    solver='lbfgs',\n",
    "                                                                    #class_weight='balanced',\n",
    "                                                                    cv = 5, max_iter = 1000),\n",
    "                                                                                                 num_iter=10) \n"
   ]
  },
  {
   "cell_type": "code",
   "execution_count": 14,
   "metadata": {},
   "outputs": [
    {
     "name": "stdout",
     "output_type": "stream",
     "text": [
      "0.99\n"
     ]
    },
    {
     "name": "stderr",
     "output_type": "stream",
     "text": [
      "/Users/kristen/anaconda3/lib/python3.6/site-packages/sklearn/metrics/classification.py:1437: UndefinedMetricWarning: F-score is ill-defined and being set to 0.0 in labels with no predicted samples.\n",
      "  'precision', 'predicted', average, warn_for)\n",
      "/Users/kristen/anaconda3/lib/python3.6/site-packages/sklearn/metrics/classification.py:1437: UndefinedMetricWarning: F-score is ill-defined and being set to 0.0 in labels with no predicted samples.\n",
      "  'precision', 'predicted', average, warn_for)\n",
      "/Users/kristen/anaconda3/lib/python3.6/site-packages/sklearn/metrics/classification.py:1437: UndefinedMetricWarning: F-score is ill-defined and being set to 0.0 in labels with no predicted samples.\n",
      "  'precision', 'predicted', average, warn_for)\n",
      "/Users/kristen/anaconda3/lib/python3.6/site-packages/sklearn/metrics/classification.py:1437: UndefinedMetricWarning: F-score is ill-defined and being set to 0.0 in labels with no predicted samples.\n",
      "  'precision', 'predicted', average, warn_for)\n",
      "/Users/kristen/anaconda3/lib/python3.6/site-packages/sklearn/metrics/classification.py:1437: UndefinedMetricWarning: F-score is ill-defined and being set to 0.0 in labels with no predicted samples.\n",
      "  'precision', 'predicted', average, warn_for)\n"
     ]
    },
    {
     "name": "stdout",
     "output_type": "stream",
     "text": [
      "0.98\n"
     ]
    },
    {
     "name": "stderr",
     "output_type": "stream",
     "text": [
      "/Users/kristen/anaconda3/lib/python3.6/site-packages/sklearn/metrics/classification.py:1437: UndefinedMetricWarning: F-score is ill-defined and being set to 0.0 in labels with no predicted samples.\n",
      "  'precision', 'predicted', average, warn_for)\n",
      "/Users/kristen/anaconda3/lib/python3.6/site-packages/sklearn/metrics/classification.py:1437: UndefinedMetricWarning: F-score is ill-defined and being set to 0.0 in labels with no predicted samples.\n",
      "  'precision', 'predicted', average, warn_for)\n",
      "/Users/kristen/anaconda3/lib/python3.6/site-packages/sklearn/metrics/classification.py:1437: UndefinedMetricWarning: F-score is ill-defined and being set to 0.0 in labels with no predicted samples.\n",
      "  'precision', 'predicted', average, warn_for)\n",
      "/Users/kristen/anaconda3/lib/python3.6/site-packages/sklearn/metrics/classification.py:1437: UndefinedMetricWarning: F-score is ill-defined and being set to 0.0 in labels with no predicted samples.\n",
      "  'precision', 'predicted', average, warn_for)\n"
     ]
    },
    {
     "name": "stdout",
     "output_type": "stream",
     "text": [
      "0.97\n"
     ]
    },
    {
     "name": "stderr",
     "output_type": "stream",
     "text": [
      "/Users/kristen/anaconda3/lib/python3.6/site-packages/sklearn/metrics/classification.py:1437: UndefinedMetricWarning: F-score is ill-defined and being set to 0.0 in labels with no predicted samples.\n",
      "  'precision', 'predicted', average, warn_for)\n",
      "/Users/kristen/anaconda3/lib/python3.6/site-packages/sklearn/metrics/classification.py:1437: UndefinedMetricWarning: F-score is ill-defined and being set to 0.0 in labels with no predicted samples.\n",
      "  'precision', 'predicted', average, warn_for)\n"
     ]
    },
    {
     "name": "stdout",
     "output_type": "stream",
     "text": [
      "0.96\n"
     ]
    },
    {
     "name": "stderr",
     "output_type": "stream",
     "text": [
      "/Users/kristen/anaconda3/lib/python3.6/site-packages/sklearn/metrics/classification.py:1437: UndefinedMetricWarning: F-score is ill-defined and being set to 0.0 in labels with no predicted samples.\n",
      "  'precision', 'predicted', average, warn_for)\n"
     ]
    },
    {
     "name": "stdout",
     "output_type": "stream",
     "text": [
      "0.95\n",
      "0.94\n",
      "0.93\n",
      "0.92\n",
      "0.91\n",
      "0.9\n",
      "0.85\n",
      "0.8\n",
      "0.75\n"
     ]
    }
   ],
   "source": [
    "(mean_accuracy_amherst_all, se_accuracy_amherst_all, \n",
    " mean_micro_auc_amherst_all,se_micro_auc_amherst_all, mean_wt_auc_amherst_lbfgs_all,se_wt_auc_amherst_all)= LINK(percent_initially_unlabelled, ## note: mean_se_model assumes a vector of x% initially labeled\n",
    "                                                              np.array(gender_y), ## gender labels \n",
    "                                                              np.matrix(adj_matrix_gender), ## adjacency matrix\n",
    "                                                              clf = linear_model.LogisticRegressionCV(\n",
    "                            Cs = C_vals,\n",
    "                            penalty='l2',\n",
    "                            solver='lbfgs',\n",
    "                            #class_weight='balanced',\n",
    "                            cv = 5, max_iter = 1000),\n",
    "                                                                                                 num_iter=10) \n",
    "\n"
   ]
  },
  {
   "cell_type": "code",
   "execution_count": null,
   "metadata": {},
   "outputs": [],
   "source": []
  },
  {
   "cell_type": "code",
   "execution_count": null,
   "metadata": {},
   "outputs": [],
   "source": []
  },
  {
   "cell_type": "markdown",
   "metadata": {},
   "source": [
    "### Try removing edges between communities. "
   ]
  },
  {
   "cell_type": "code",
   "execution_count": 15,
   "metadata": {},
   "outputs": [],
   "source": [
    "partition = community.best_partition(G)"
   ]
  },
  {
   "cell_type": "code",
   "execution_count": 16,
   "metadata": {},
   "outputs": [
    {
     "data": {
      "text/plain": [
       "(array([0, 1, 2, 3, 4, 5]), array([360, 273, 352, 380, 663,   4]))"
      ]
     },
     "execution_count": 16,
     "metadata": {},
     "output_type": "execute_result"
    }
   ],
   "source": [
    "np.unique(np.array(list(partition.values())), return_counts=True)"
   ]
  },
  {
   "cell_type": "code",
   "execution_count": 17,
   "metadata": {},
   "outputs": [
    {
     "data": {
      "text/plain": [
       "0.36515748031496065"
      ]
     },
     "execution_count": 17,
     "metadata": {},
     "output_type": "execute_result"
    }
   ],
   "source": [
    "742/2032"
   ]
  },
  {
   "cell_type": "code",
   "execution_count": 18,
   "metadata": {},
   "outputs": [],
   "source": [
    "community_df = pd.DataFrame({'keys':range(len(partition)),\n",
    "             'community': np.array(list(partition.values()))})"
   ]
  },
  {
   "cell_type": "code",
   "execution_count": 19,
   "metadata": {},
   "outputs": [
    {
     "data": {
      "text/plain": [
       "array([0, 1, 2, 3, 4, 5])"
      ]
     },
     "execution_count": 19,
     "metadata": {},
     "output_type": "execute_result"
    }
   ],
   "source": [
    "# get cross community edges\n",
    "np.unique(community_df.community)"
   ]
  },
  {
   "cell_type": "code",
   "execution_count": 20,
   "metadata": {},
   "outputs": [],
   "source": [
    "idx0 = np.where(community_df.community==0)\n",
    "idx0 = idx0[0]\n",
    "idx1 = np.where(community_df.community==1)\n",
    "idx1 = idx1[0]\n",
    "idx2 = np.where(community_df.community==2)\n",
    "idx2 = idx2[0]\n",
    "idx3 = np.where(community_df.community==3)\n",
    "idx3 = idx3[0]\n",
    "idx4 = np.where(community_df.community==4)\n",
    "idx4 = idx4[0]\n",
    "idx5 = np.where(community_df.community==5)\n",
    "idx5 = idx5[0]\n",
    "idx6 = np.where(community_df.community==6)\n",
    "idx6 = idx6[0]"
   ]
  },
  {
   "cell_type": "code",
   "execution_count": 21,
   "metadata": {},
   "outputs": [
    {
     "name": "stdout",
     "output_type": "stream",
     "text": [
      "(2032, 2032)\n",
      "(360, 273)\n"
     ]
    }
   ],
   "source": [
    "print(np.shape(adj_matrix_gender))\n",
    "print(np.shape(adj_matrix_gender[idx0,:][:,idx1]))"
   ]
  },
  {
   "cell_type": "code",
   "execution_count": null,
   "metadata": {},
   "outputs": [],
   "source": []
  },
  {
   "cell_type": "code",
   "execution_count": null,
   "metadata": {},
   "outputs": [],
   "source": []
  },
  {
   "cell_type": "code",
   "execution_count": null,
   "metadata": {},
   "outputs": [],
   "source": []
  },
  {
   "cell_type": "markdown",
   "metadata": {},
   "source": [
    "### Focus on Community 0 as Train Network and Community 1 as Test Network"
   ]
  },
  {
   "cell_type": "code",
   "execution_count": 22,
   "metadata": {},
   "outputs": [
    {
     "name": "stdout",
     "output_type": "stream",
     "text": [
      "0.0\n",
      "0.0\n"
     ]
    }
   ],
   "source": [
    "adj_matrix_gender_remove2 = adj_matrix_gender.copy()\n",
    "\n",
    "adj_matrix_gender_remove2[np.ix_(idx0, idx1)] = 0\n",
    "adj_matrix_gender_remove2[np.ix_(idx1, idx0)] = 0\n",
    "print(np.sum(adj_matrix_gender_remove2[np.ix_(idx0, idx1)]))\n",
    "print(np.sum(adj_matrix_gender_remove2[np.ix_(idx1, idx0)]))\n",
    "\n",
    "\n",
    "adj_matrix_gender_remove2[np.ix_(idx0, idx2)] = 0\n",
    "adj_matrix_gender_remove2[np.ix_(idx2, idx0)] = 0\n",
    "\n",
    "\n",
    "## decide whether to add here or not\n",
    "adj_matrix_gender_remove2[np.ix_(idx0, idx3)] = 0\n",
    "adj_matrix_gender_remove2[np.ix_(idx3, idx0)] = 0\n",
    "\n",
    "adj_matrix_gender_remove2[np.ix_(idx0, idx4)] = 0\n",
    "adj_matrix_gender_remove2[np.ix_(idx4, idx0)] = 0\n",
    "\n",
    "\n",
    "adj_matrix_gender_remove2[np.ix_(idx0, idx5)] = 0\n",
    "adj_matrix_gender_remove2[np.ix_(idx5, idx0)] = 0\n",
    "\n",
    "\n",
    "\n",
    "adj_matrix_gender_remove2[np.ix_(idx1, idx2)] = 0\n",
    "adj_matrix_gender_remove2[np.ix_(idx2, idx1)] = 0\n",
    "\n",
    "\n",
    "adj_matrix_gender_remove2[np.ix_(idx1, idx3)] = 0\n",
    "adj_matrix_gender_remove2[np.ix_(idx3, idx1)] = 0\n",
    "\n",
    "adj_matrix_gender_remove2[np.ix_(idx1, idx4)] = 0\n",
    "adj_matrix_gender_remove2[np.ix_(idx4, idx1)] = 0\n",
    "\n",
    "\n",
    "adj_matrix_gender_remove2[np.ix_(idx1, idx5)] = 0\n",
    "adj_matrix_gender_remove2[np.ix_(idx5, idx1)] = 0\n",
    "\n",
    "\n",
    "\n"
   ]
  },
  {
   "cell_type": "code",
   "execution_count": 24,
   "metadata": {},
   "outputs": [],
   "source": [
    "percent_initially_unlabelled = [0.95,0.9,0.8,0.7,0.6,0.5,0.4,0.3,0.2,0.1,0.05]\n",
    "percent_initially_labelled = np.subtract(1, percent_initially_unlabelled)"
   ]
  },
  {
   "cell_type": "code",
   "execution_count": 25,
   "metadata": {},
   "outputs": [
    {
     "name": "stdout",
     "output_type": "stream",
     "text": [
      "0.95\n"
     ]
    },
    {
     "name": "stderr",
     "output_type": "stream",
     "text": [
      "/Users/kristen/anaconda3/lib/python3.6/site-packages/sklearn/metrics/classification.py:1437: UndefinedMetricWarning: F-score is ill-defined and being set to 0.0 in labels with no predicted samples.\n",
      "  'precision', 'predicted', average, warn_for)\n"
     ]
    },
    {
     "name": "stdout",
     "output_type": "stream",
     "text": [
      "0.9\n"
     ]
    },
    {
     "name": "stderr",
     "output_type": "stream",
     "text": [
      "/Users/kristen/anaconda3/lib/python3.6/site-packages/sklearn/metrics/classification.py:1437: UndefinedMetricWarning: F-score is ill-defined and being set to 0.0 in labels with no predicted samples.\n",
      "  'precision', 'predicted', average, warn_for)\n"
     ]
    },
    {
     "name": "stdout",
     "output_type": "stream",
     "text": [
      "0.8\n",
      "0.7\n",
      "0.6\n",
      "0.5\n",
      "0.4\n",
      "0.3\n",
      "0.2\n",
      "0.1\n",
      "0.05\n"
     ]
    }
   ],
   "source": [
    "(mean_accuracy_amherst_sub, se_accuracy_amherst_sub, \n",
    " mean_micro_auc_amherst_sub,se_micro_auc_amherst_sub, mean_wt_auc_amherst_lbfgs_sub,se_wt_auc_amherst_sub)= LINK(percent_initially_unlabelled, ## note: mean_se_model assumes a vector of x% initially labeled\n",
    "                                                              np.array(gender_y), ## gender labels \n",
    "                                                              np.matrix(adj_matrix_gender_remove2), ## adjacency matrix\n",
    "                                                              clf = linear_model.LogisticRegressionCV(\n",
    "                            Cs = C_vals,\n",
    "                            penalty='l2',\n",
    "                            solver='lbfgs',\n",
    "                            #class_weight='balanced',\n",
    "                            cv = 5, max_iter = 1000),\n",
    "                                                                                                 num_iter=10) \n",
    "\n",
    "\n"
   ]
  },
  {
   "cell_type": "markdown",
   "metadata": {},
   "source": [
    "### train on one community, test on the other"
   ]
  },
  {
   "cell_type": "code",
   "execution_count": 27,
   "metadata": {},
   "outputs": [],
   "source": [
    "# try varying percent of nodes labeled in a community\n",
    "clf = linear_model.LogisticRegression(penalty='l2',\n",
    "                                    solver='lbfgs',\n",
    "                                    C=10e20)\n",
    "\n",
    "clf = linear_model.LogisticRegressionCV(\n",
    "                            Cs = C_vals,\n",
    "                            penalty='l2',\n",
    "                            solver='lbfgs',\n",
    "                            #class_weight='balanced',\n",
    "                            cv = 5, max_iter = 1000)"
   ]
  },
  {
   "cell_type": "code",
   "execution_count": 28,
   "metadata": {},
   "outputs": [
    {
     "data": {
      "text/plain": [
       "LogisticRegressionCV(Cs=[1e-10, 1e-09, 1e-08, 1e-07, 1e-06, 1e-05, 0.0001,\n",
       "                         0.001, 0.01, 0.1, 1, 10, 100, 1000, 10000, 100000,\n",
       "                         1000000, 10000000, 100000000, 1000000000, 10000000000,\n",
       "                         100000000000, 1000000000000, 10000000000000,\n",
       "                         100000000000000, 1000000000000000, 10000000000000000,\n",
       "                         100000000000000000, 1000000000000000000,\n",
       "                         10000000000000000000, ...],\n",
       "                     class_weight=None, cv=5, dual=False, fit_intercept=True,\n",
       "                     intercept_scaling=1.0, l1_ratios=None, max_iter=1000,\n",
       "                     multi_class='warn', n_jobs=None, penalty='l2',\n",
       "                     random_state=None, refit=True, scoring=None,\n",
       "                     solver='lbfgs', tol=0.0001, verbose=0)"
      ]
     },
     "execution_count": 28,
     "metadata": {},
     "output_type": "execute_result"
    }
   ],
   "source": [
    "# fit model on modified network removing cross-community edges\n",
    "clf.fit(adj_matrix_gender_remove2[idx0,:], np.ravel(np.array(gender_y)[idx0]))\n",
    "#clf.fit(feature_x[train], np.ravel(membership_y[train]))"
   ]
  },
  {
   "cell_type": "code",
   "execution_count": 29,
   "metadata": {},
   "outputs": [
    {
     "name": "stdout",
     "output_type": "stream",
     "text": [
      "0.5\n"
     ]
    }
   ],
   "source": [
    "# between- community edges removed\n",
    "test = idx1.copy()#np.array(range(len(gender_y)))[~np.in1d(np.array(range(len(gender_y))), idx0)]\n",
    "prob = clf.predict_proba(adj_matrix_gender_remove2[test])\n",
    "print(metrics.roc_auc_score(label_binarize(gender_y[test],np.unique(gender_y)),\n",
    "                                prob[:,1],average='weighted'))"
   ]
  },
  {
   "cell_type": "code",
   "execution_count": 30,
   "metadata": {},
   "outputs": [
    {
     "name": "stdout",
     "output_type": "stream",
     "text": [
      "0.7670857511283043\n"
     ]
    }
   ],
   "source": [
    "clf.fit(adj_matrix_gender[idx0,:], np.ravel(np.array(gender_y)[idx0]))\n",
    "\n",
    "test = idx1.copy() #np.array(range(len(gender_y)))[~np.in1d(np.array(range(len(gender_y))), idx0)]\n",
    "\n",
    "prob = clf.predict_proba(adj_matrix_gender[test])\n",
    "\n",
    "print(metrics.roc_auc_score(label_binarize(gender_y[test],np.unique(gender_y)),\n",
    "                                prob[:,1],average='weighted'))"
   ]
  },
  {
   "cell_type": "code",
   "execution_count": 31,
   "metadata": {},
   "outputs": [
    {
     "data": {
      "text/plain": [
       "(0, 95)"
      ]
     },
     "execution_count": 31,
     "metadata": {},
     "output_type": "execute_result"
    }
   ],
   "source": [
    "## find where there were connections across communities\n",
    "list(zip(*np.where(adj_matrix_gender[np.ix_(idx0, idx1)] ==1 )))[0]\n",
    "#list(zip(*np.where(adj_matrix_gender_remove2[np.ix_(idx0, idx1)] ==1 )))\n",
    "#pd.DataFrame(adj_matrix_gender).iloc[idx0, idx1]"
   ]
  },
  {
   "cell_type": "code",
   "execution_count": null,
   "metadata": {},
   "outputs": [],
   "source": []
  },
  {
   "cell_type": "code",
   "execution_count": null,
   "metadata": {},
   "outputs": [],
   "source": []
  },
  {
   "cell_type": "markdown",
   "metadata": {},
   "source": [
    "## Add back in direct community links"
   ]
  },
  {
   "cell_type": "code",
   "execution_count": 32,
   "metadata": {},
   "outputs": [],
   "source": [
    "clf = linear_model.LogisticRegression(penalty='l2',\n",
    "                                    solver='lbfgs',\n",
    "                                    C=10e20)\n",
    "\n",
    "clf = linear_model.LogisticRegressionCV(\n",
    "                            Cs = C_vals,\n",
    "                            penalty='l2',\n",
    "                            solver='lbfgs',\n",
    "                            #class_weight='balanced',\n",
    "                            cv = 5, max_iter = 1000)\n"
   ]
  },
  {
   "cell_type": "code",
   "execution_count": 33,
   "metadata": {},
   "outputs": [
    {
     "name": "stdout",
     "output_type": "stream",
     "text": [
      "*** 59\n",
      "*** 59\n",
      "*** 59\n",
      "*** 59\n",
      "*** 59\n",
      "*** 59\n",
      "*** 59\n",
      "*** 59\n",
      "*** 59\n",
      "*** 59\n",
      "*** 59\n",
      "*** 59\n",
      "*** 59\n",
      "*** 59\n",
      "*** 59\n",
      "*** 59\n",
      "*** 59\n",
      "*** 59\n",
      "*** 59\n",
      "*** 59\n",
      "*** 59\n",
      "*** 59\n",
      "*** 59\n",
      "*** 59\n",
      "*** 59\n",
      "*** 59\n",
      "*** 59\n",
      "*** 59\n",
      "*** 59\n",
      "*** 59\n",
      "*** 59\n",
      "*** 59\n",
      "*** 59\n",
      "*** 59\n",
      "*** 59\n",
      "*** 59\n",
      "*** 59\n",
      "*** 59\n",
      "*** 59\n",
      "*** 59\n",
      "*** 59\n",
      "*** 59\n",
      "*** 59\n",
      "*** 59\n",
      "*** 59\n",
      "*** 59\n",
      "*** 59\n",
      "*** 59\n",
      "*** 59\n",
      "*** 59\n"
     ]
    }
   ],
   "source": [
    "## recover edges and add back in\n",
    "## list of edges between community 0 \n",
    "auc_community_record_list = []\n",
    "for k in range(50):\n",
    "    auc_community_record = []\n",
    "\n",
    "    adj_matrix_gender_remove2_add_edges_back = adj_matrix_gender_remove2.copy()\n",
    "\n",
    "    counter = 0\n",
    "    for j in np.random.permutation(list(zip(*np.where(adj_matrix_gender[np.ix_(idx0, idx1)] ==1 )))):        \n",
    "            # randomly add edge back in\n",
    "            adj_matrix_gender_remove2_add_edges_back[(idx0[j[0]], idx1[j[1]])] = 1\n",
    "            adj_matrix_gender_remove2_add_edges_back[(idx1[j[1]], idx0[j[0]])] = 1\n",
    "\n",
    "            counter = counter + 1\n",
    "\n",
    "            if(counter % 50 == 0):\n",
    "                clf.fit(adj_matrix_gender_remove2_add_edges_back[idx0,:], np.ravel(np.array(gender_y)[idx0]))\n",
    "                test = idx1.copy()#np.array(range(len(gender_y)))[~np.in1d(np.array(range(len(gender_y))), idx0)]\n",
    "                prob = clf.predict_proba(adj_matrix_gender_remove2_add_edges_back[test])\n",
    "                #print(metrics.roc_auc_score(label_binarize(gender_y[test],np.unique(gender_y)),\n",
    "                #                                prob[:,1],average='weighted'))\n",
    "                auc_community_record.append(metrics.roc_auc_score(label_binarize(gender_y[test],np.unique(gender_y)),\n",
    "                                                prob[:,1],average='weighted'))\n",
    "\n",
    "    print('***',len(auc_community_record))\n",
    "    num_y = len(auc_community_record)\n",
    "    ## 2) explore adding edges back in via a more targeted approach\n",
    "\n",
    "    auc_community_record_list.append(auc_community_record)"
   ]
  },
  {
   "cell_type": "code",
   "execution_count": 34,
   "metadata": {},
   "outputs": [
    {
     "data": {
      "text/plain": [
       "array([0.55800344, 0.58496024, 0.58876854, 0.59403611, 0.60206748,\n",
       "       0.60731893, 0.61518805, 0.62343005, 0.63151515, 0.63595207,\n",
       "       0.64010531, 0.64343327, 0.6486052 , 0.64815173, 0.65461745,\n",
       "       0.65714593, 0.66198259, 0.6630346 , 0.66394692, 0.67167526,\n",
       "       0.67337417, 0.67700301, 0.67396733, 0.67449495, 0.67887062,\n",
       "       0.68022674, 0.67343005, 0.6747464 , 0.67773265, 0.67434129,\n",
       "       0.68086074, 0.6852407 , 0.69134859, 0.6931743 , 0.69156136,\n",
       "       0.69411348, 0.69076725, 0.69066086, 0.69345691, 0.69494735,\n",
       "       0.69727917, 0.69218354, 0.69560714, 0.69786267, 0.69746508,\n",
       "       0.69889104, 0.70314206, 0.70119923, 0.69959489, 0.7034193 ,\n",
       "       0.70236407, 0.70349882, 0.70616054, 0.70489469, 0.70267032,\n",
       "       0.70059424, 0.69989899, 0.7000634 , 0.69683   ])"
      ]
     },
     "execution_count": 34,
     "metadata": {},
     "output_type": "execute_result"
    }
   ],
   "source": [
    "orig = np.array(np.mean(np.matrix(auc_community_record_list), 0))[0]\n",
    "orig"
   ]
  },
  {
   "cell_type": "code",
   "execution_count": null,
   "metadata": {},
   "outputs": [],
   "source": []
  },
  {
   "cell_type": "code",
   "execution_count": null,
   "metadata": {},
   "outputs": [],
   "source": []
  },
  {
   "cell_type": "code",
   "execution_count": 37,
   "metadata": {},
   "outputs": [],
   "source": [
    " import matplotlib.pyplot as plt"
   ]
  },
  {
   "cell_type": "code",
   "execution_count": 38,
   "metadata": {},
   "outputs": [
    {
     "data": {
      "image/png": "[encoded data removed]",
      "text/plain": [
       "<Figure size 432x288 with 1 Axes>"
      ]
     },
     "metadata": {
      "needs_background": "light"
     },
     "output_type": "display_data"
    }
   ],
   "source": [
    "%matplotlib inline\n",
    "plt.scatter(range(len(auc_community_record)),\n",
    "           auc_community_record)\n",
    "plt.plot(range(len(auc_community_record)),\n",
    "           auc_community_record)\n",
    "\n",
    "\n",
    "#plt.axvline(num_y, color = 'gray')\n",
    "plt.xlabel('edges added')\n",
    "plt.show()"
   ]
  },
  {
   "cell_type": "code",
   "execution_count": 39,
   "metadata": {},
   "outputs": [
    {
     "name": "stdout",
     "output_type": "stream",
     "text": [
      "0.5\n"
     ]
    }
   ],
   "source": [
    "auc_community_record_alternative = []\n",
    "adj_matrix_gender_remove2_add_edges_back = adj_matrix_gender_remove2.copy()\n",
    "counter = 0\n",
    "\n",
    "## initial fit on community 0, print auc on community 1\n",
    "clf.fit(adj_matrix_gender_remove2_add_edges_back[idx0,:], np.ravel(np.array(gender_y)[idx0]))\n",
    "#test = np.array(range(len(gender_y)))[~np.in1d(np.array(range(len(gender_y))), idx0)]\n",
    "prob = clf.predict_proba(adj_matrix_gender_remove2_add_edges_back[idx1,:])\n",
    "#print(prob)\n",
    "print(metrics.roc_auc_score(label_binarize(gender_y[idx1],np.unique(gender_y)),\n",
    "                                prob[:,1],average='weighted'))"
   ]
  },
  {
   "cell_type": "code",
   "execution_count": 40,
   "metadata": {},
   "outputs": [
    {
     "data": {
      "image/png": "[encoded data removed]",
      "text/plain": [
       "<Figure size 432x288 with 1 Axes>"
      ]
     },
     "metadata": {
      "needs_background": "light"
     },
     "output_type": "display_data"
    }
   ],
   "source": [
    "%matplotlib inline\n",
    "plt.hist(clf.coef_[0], bins = 25)\n",
    "plt.show()"
   ]
  },
  {
   "cell_type": "code",
   "execution_count": 41,
   "metadata": {},
   "outputs": [],
   "source": [
    "## recover edges and add back in\n",
    "## list of edges between community 0 \n",
    "auc_community_record_alternative = []\n",
    "\n",
    "adj_matrix_gender_remove2_add_edges_back = adj_matrix_gender_remove2.copy()\n",
    "\n",
    "counter = 0\n",
    "\n",
    "## Option A: Randomly, and exhaustively Add all Edges\n",
    "idx0_permute = np.random.permutation(idx0)\n",
    "idx1_permute = np.random.permutation(idx1)\n",
    "\n",
    "#for j in idx0_permute:#zip(idx0, idx2):\n",
    "#    for i in idx1_permute:\n",
    "tmp = []\n",
    "for j in idx0_permute:\n",
    "    for i in idx1_permute:\n",
    "        tmp.append((j,i))\n",
    "\n",
    "tmp = np.random.permutation(tmp)\n",
    "for j in tmp:\n",
    "\n",
    "        adj_matrix_gender_remove2_add_edges_back[(j[0], j[1])] = 1\n",
    "        adj_matrix_gender_remove2_add_edges_back[(j[1], j[0])] = 1\n",
    "        counter = counter + 1\n",
    "        if(counter<5000):\n",
    "            if(counter % 50 == 0):\n",
    "                clf.fit(adj_matrix_gender_remove2_add_edges_back[idx0,:], np.ravel(np.array(gender_y)[idx0]))\n",
    "                #test = np.array(range(len(gender_y)))[~np.in1d(np.array(range(len(gender_y))), idx0)]\n",
    "                prob = clf.predict_proba(adj_matrix_gender_remove2_add_edges_back[idx1])\n",
    "                #print(metrics.roc_auc_score(label_binarize(gender_y[idx1],np.unique(gender_y)),\n",
    "                #                                prob[:,1],average='weighted'))\n",
    "                auc_community_record_alternative.append(metrics.roc_auc_score(label_binarize(gender_y[idx1],np.unique(gender_y)),\n",
    "                                                prob[:,1],average='weighted'))\n",
    "\n"
   ]
  },
  {
   "cell_type": "code",
   "execution_count": 42,
   "metadata": {},
   "outputs": [],
   "source": [
    "## recover edges and add back in\n",
    "## list of edges between community 0 \n",
    "auc_community_record_alternative_list = []\n",
    "for k in range(50):\n",
    "    auc_community_record_alternative = []\n",
    "\n",
    "    adj_matrix_gender_remove2_add_edges_back = adj_matrix_gender_remove2.copy()\n",
    "\n",
    "    counter = 0\n",
    "\n",
    "    ## Option A: Randomly, and exhaustively Add all Edges\n",
    "    idx0_permute = np.random.permutation(idx0)\n",
    "    idx1_permute = np.random.permutation(idx1)\n",
    "\n",
    "    #for j in idx0_permute:#zip(idx0, idx2):\n",
    "    #    for i in idx1_permute:\n",
    "    tmp = []\n",
    "    for j in idx0_permute:\n",
    "        for i in idx1_permute:\n",
    "            tmp.append((j,i))\n",
    "\n",
    "    tmp = np.random.permutation(tmp)\n",
    "    for j in tmp:\n",
    "\n",
    "            adj_matrix_gender_remove2_add_edges_back[(j[0], j[1])] = 1\n",
    "            adj_matrix_gender_remove2_add_edges_back[(j[1], j[0])] = 1\n",
    "            counter = counter + 1\n",
    "            if(counter<5000):\n",
    "                if(counter % 50 == 0):\n",
    "                    clf.fit(adj_matrix_gender_remove2_add_edges_back[idx0,:], np.ravel(np.array(gender_y)[idx0]))\n",
    "                    #test = np.array(range(len(gender_y)))[~np.in1d(np.array(range(len(gender_y))), idx0)]\n",
    "                    prob = clf.predict_proba(adj_matrix_gender_remove2_add_edges_back[idx1])\n",
    "                    #print(metrics.roc_auc_score(label_binarize(gender_y[idx1],np.unique(gender_y)),\n",
    "                    #                                prob[:,1],average='weighted'))\n",
    "                    auc_community_record_alternative.append(metrics.roc_auc_score(label_binarize(gender_y[idx1],np.unique(gender_y)),\n",
    "                                                    prob[:,1],average='weighted'))\n",
    "\n",
    "    auc_community_record_alternative_list.append(auc_community_record_alternative)"
   ]
  },
  {
   "cell_type": "code",
   "execution_count": 43,
   "metadata": {},
   "outputs": [
    {
     "data": {
      "text/plain": [
       "(50, 99)"
      ]
     },
     "execution_count": 43,
     "metadata": {},
     "output_type": "execute_result"
    }
   ],
   "source": [
    "np.shape(np.matrix(auc_community_record_alternative_list))"
   ]
  },
  {
   "cell_type": "code",
   "execution_count": 44,
   "metadata": {},
   "outputs": [
    {
     "data": {
      "text/plain": [
       "1"
      ]
     },
     "execution_count": 44,
     "metadata": {},
     "output_type": "execute_result"
    }
   ],
   "source": [
    "len(np.mean(np.matrix(auc_community_record_alternative_list), 0))"
   ]
  },
  {
   "cell_type": "code",
   "execution_count": null,
   "metadata": {},
   "outputs": [],
   "source": []
  },
  {
   "cell_type": "code",
   "execution_count": null,
   "metadata": {},
   "outputs": [],
   "source": []
  },
  {
   "cell_type": "code",
   "execution_count": 45,
   "metadata": {},
   "outputs": [],
   "source": [
    "alt = np.array(np.mean(np.matrix(auc_community_record_alternative_list), 0))[0]"
   ]
  },
  {
   "cell_type": "code",
   "execution_count": null,
   "metadata": {},
   "outputs": [],
   "source": []
  },
  {
   "cell_type": "code",
   "execution_count": 46,
   "metadata": {},
   "outputs": [],
   "source": [
    "from matplotlib.backends.backend_pdf import PdfPages\n",
    "\n"
   ]
  },
  {
   "cell_type": "code",
   "execution_count": null,
   "metadata": {},
   "outputs": [],
   "source": []
  },
  {
   "cell_type": "code",
   "execution_count": 62,
   "metadata": {},
   "outputs": [
    {
     "data": {
      "image/png": "[encoded data removed]",
      "text/plain": [
       "<Figure size 288x216 with 1 Axes>"
      ]
     },
     "metadata": {
      "needs_background": "light"
     },
     "output_type": "display_data"
    }
   ],
   "source": [
    "from matplotlib.backends.backend_pdf import PdfPages\n",
    "\n",
    "alpha_empirical = 0.4\n",
    "\n",
    "%matplotlib inline\n",
    "nbins = 45\n",
    "f, (ax1) = plt.subplots(1, 1, \n",
    "                             sharey=False, sharex=False,\n",
    "                            figsize=(4,3))\n",
    "#plt.setp(ax1, xticks=[ 0. ,  1.5,  3. ,  4.5])\n",
    "\n",
    "ax1.scatter(range(len(orig)),\n",
    "           orig, color = 'blue')\n",
    "ax1.plot(range(len(orig)),\n",
    "           orig, color = 'blue')\n",
    "\n",
    "ax1.scatter(range(len(alt)),\n",
    "           alt, color = 'red')\n",
    "ax1.plot(range(len(alt)),\n",
    "           alt, color = 'red')\n",
    "#ax1.axvline(50, color = 'blue')\n",
    "ax1.set_xlabel('edges added', size = 13)\n",
    "ax1.text(1,0.9, 'Empirical Edges Added', color = 'blue', size = 13)\n",
    "ax1.text(1,0.8, 'Random Edges Added', color = 'red', size = 13)\n",
    "ax1.set_ylabel('AUC', size = 13)\n",
    "ax1.spines[\"right\"].set_visible(False)\n",
    "ax1.spines[\"top\"].set_visible(False)\n",
    "ax1.axhline(0.5, color='gray', linestyle='--', alpha = 0.5)\n",
    "plt.ylim(0,1)\n",
    "plt.xlim(0,50)\n",
    "ax1.tick_params('both', length=4, width=1, which='major', left=1, bottom=1, top=0, right=0, labelsize = 13)\n",
    "ax1.set_yticks(np.arange(0,1.02,0.1))\n",
    "\n",
    "plt.tight_layout()\n",
    "pp = PdfPages('../../figs/ICWSM_Revise2020/simulation.pdf')\n",
    "pp.savefig()\n",
    "pp.close()"
   ]
  },
  {
   "cell_type": "code",
   "execution_count": null,
   "metadata": {},
   "outputs": [],
   "source": []
  },
  {
   "cell_type": "code",
   "execution_count": null,
   "metadata": {},
   "outputs": [],
   "source": []
  },
  {
   "cell_type": "code",
   "execution_count": 55,
   "metadata": {},
   "outputs": [
    {
     "data": {
      "image/png": "[encoded data removed]",
      "text/plain": [
       "<Figure size 432x288 with 1 Axes>"
      ]
     },
     "metadata": {
      "needs_background": "light"
     },
     "output_type": "display_data"
    }
   ],
   "source": [
    "%matplotlib inline\n",
    "plt.scatter(range(len(orig)),\n",
    "           orig, color = 'blue')\n",
    "plt.plot(range(len(orig)),\n",
    "           orig, color = 'blue')\n",
    "\n",
    "plt.scatter(range(len(alt)),\n",
    "           alt, color = 'red')\n",
    "plt.plot(range(len(alt)),\n",
    "           alt, color = 'red')\n",
    "plt.axvline(50, color = 'blue')\n",
    "plt.xlabel('edges added')\n",
    "plt.text(1,0.75, 'Empirical Edges Added', color = 'blue')\n",
    "plt.text(1,0.7, 'Random Edges Added', color = 'red')\n",
    "plt.ylabel('LINK AUC')\n",
    "\n",
    "plt.ylim(0.3,0.8)\n",
    "plt.xlim(0,45)\n",
    "#plt.show()\n",
    "pp = PdfPages('../../figs/AcrossToWithinSample.pdf')\n",
    "pp.savefig()\n",
    "pp.close()"
   ]
  },
  {
   "cell_type": "code",
   "execution_count": null,
   "metadata": {},
   "outputs": [],
   "source": []
  }
 ],
 "metadata": {
  "kernelspec": {
   "display_name": "Python 3",
   "language": "python",
   "name": "python3"
  },
  "language_info": {
   "codemirror_mode": {
    "name": "ipython",
    "version": 3
   },
   "file_extension": ".py",
   "mimetype": "text/x-python",
   "name": "python",
   "nbconvert_exporter": "python",
   "pygments_lexer": "ipython3",
   "version": "3.6.8"
  }
 },
 "nbformat": 4,
 "nbformat_minor": 2
}
