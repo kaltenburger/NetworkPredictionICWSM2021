{
 "cells": [
  {
   "cell_type": "markdown",
   "metadata": {},
   "source": [
    "09/12/2020\n",
    "\n",
    "# About\n",
    "Note, for all ReFeX features, we used the unionized features."
   ]
  },
  {
   "cell_type": "code",
   "execution_count": 1,
   "metadata": {},
   "outputs": [
    {
     "name": "stderr",
     "output_type": "stream",
     "text": [
      "/Users/kristen/anaconda3/envs/ipykernel_py2/lib/python2.7/site-packages/sklearn/ensemble/weight_boosting.py:29: DeprecationWarning: numpy.core.umath_tests is an internal NumPy module and should not be imported. It will be removed in a future NumPy release.\n",
      "  from numpy.core.umath_tests import inner1d\n"
     ]
    },
    {
     "data": {
      "text/plain": [
       "{'divide': 'warn', 'invalid': 'warn', 'over': 'warn', 'under': 'ignore'}"
      ]
     },
     "execution_count": 1,
     "metadata": {},
     "output_type": "execute_result"
    }
   ],
   "source": [
    "from __future__ import division\n",
    "import os\n",
    "import os\n",
    "import itertools\n",
    "#import community\n",
    "from datetime import datetime, timedelta\n",
    "from sklearn.model_selection import RandomizedSearchCV\n",
    "\n",
    "\n",
    "folder_directory =os.getcwd()\n",
    "os.chdir(folder_directory)\n",
    "execfile('python_libraries.py')\n",
    "execfile('parsing.py')  # Sam Way's Code\n",
    "execfile('mixing.py')   # Sam Way's Code\n",
    "execfile('create_adjacency_matrix.py')\n",
    "execfile('LINK.py')\n",
    "\n",
    "\n",
    "np.seterr(divide='ignore', invalid='ignore')"
   ]
  },
  {
   "cell_type": "code",
   "execution_count": 2,
   "metadata": {},
   "outputs": [],
   "source": [
    "from sklearn.preprocessing import MinMaxScaler\n",
    "scaler = MinMaxScaler(feature_range=(0,1))\n"
   ]
  },
  {
   "cell_type": "markdown",
   "metadata": {},
   "source": [
    "# Across-Network (Replicate RolX Results + Baseline)\n"
   ]
  },
  {
   "cell_type": "code",
   "execution_count": 3,
   "metadata": {},
   "outputs": [],
   "source": [
    "## 8/21/2018 - set up logforest model\n",
    "from sklearn.ensemble import BaggingClassifier"
   ]
  },
  {
   "cell_type": "code",
   "execution_count": null,
   "metadata": {},
   "outputs": [],
   "source": []
  },
  {
   "cell_type": "code",
   "execution_count": 4,
   "metadata": {},
   "outputs": [],
   "source": [
    "subset_dates = np.array(['7_2004.csv',\n",
    "                        '8_2004.csv',\n",
    "                        '9_2004.csv',\n",
    "                        '10_2004.csv',\n",
    "                        '11_2004.csv',\n",
    "                        '12_2004.csv',\n",
    "                        '1_2005.csv',\n",
    "                        '2_2005.csv',\n",
    "                        '3_2005.csv',\n",
    "                        '4_2005.csv',\n",
    "                        '5_2005.csv',\n",
    "                        '6_2005.csv'])"
   ]
  },
  {
   "cell_type": "markdown",
   "metadata": {},
   "source": [
    "### AUC"
   ]
  },
  {
   "cell_type": "code",
   "execution_count": 5,
   "metadata": {},
   "outputs": [],
   "source": [
    "from sklearn.model_selection import RandomizedSearchCV\n"
   ]
  },
  {
   "cell_type": "code",
   "execution_count": 6,
   "metadata": {},
   "outputs": [
    {
     "name": "stdout",
     "output_type": "stream",
     "text": [
      "iter:  100\n",
      "<type 'numpy.int64'>\n",
      "iter:  1\n",
      "<type 'numpy.int64'>\n",
      "(30, 6)\n",
      "(45, 6)\n",
      "(89, 6)\n",
      "(82, 6)\n",
      "(89, 6)\n",
      "(90, 6)\n",
      "(88, 6)\n",
      "(81, 6)\n",
      "(79, 6)\n",
      "(73, 6)\n",
      "(63, 6)\n",
      "iter:  2\n",
      "<type 'numpy.int64'>\n",
      "iter:  3\n",
      "<type 'numpy.int64'>\n"
     ]
    }
   ],
   "source": [
    "## redo\n",
    "y = pd.read_csv('../../data/RealityMining/convert_bluetooth_nw/by_month/labels.csv')\n",
    "\n",
    "class_type = 'sloan' # mlgrad sloan\n",
    "\n",
    "if class_type =='sloan':\n",
    "    y['y']=((y.affil_clean=='sloan') | (y.affil_clean=='sloan_2'))+0\n",
    "if class_type == 'mlgrad':\n",
    "    y['y']=((y.affil_clean=='mlgrad') | (y.affil_clean=='1styeargrad') | (y.affil_clean=='grad '))+0\n",
    "\n",
    "\n",
    "df_results = pd.DataFrame()\n",
    "undersample = False\n",
    "\n",
    "\n",
    "for iter_type in np.array([100,1,2,3]):\n",
    "    print 'iter: ', iter_type\n",
    "    print type(iter_type)\n",
    "    \n",
    "    ## accuracy\n",
    "    acc_generic = []\n",
    "    acc_generic_refex_predict = []\n",
    "\n",
    "    ## auc\n",
    "    auc_generic = []\n",
    "    auc_generic_refex_predict = []\n",
    "\n",
    "\n",
    "    \n",
    "\n",
    "    for j in range(len(subset_dates)-1):\n",
    "        if iter_type == 1:\n",
    "            x_train = pd.read_csv('../refex-rolx-master-1/RM-data/out_union_0.5_RealityMining_'+subset_dates[j]+'-featureValues.csv', header = -1)\n",
    "            print(np.shape(x_train))\n",
    "            x_test = pd.read_csv('../refex-rolx-master-1/RM-data/out_union_0.5_RealityMining_'+subset_dates[j+1]+'-featureValues.csv', header = -1)\n",
    "        if iter_type == 2:\n",
    "            x_train = pd.read_csv('../refex-rolx-master-2/RM-data/out_union_0.5_RealityMining_'+subset_dates[j]+'-featureValues.csv', header = -1)\n",
    "            x_test = pd.read_csv('../refex-rolx-master-2/RM-data/out_union_0.5_RealityMining_'+subset_dates[j+1]+'-featureValues.csv', header = -1)\n",
    "        if iter_type == 3:\n",
    "            x_train = pd.read_csv('../refex-rolx-master-3/RM-data/out_union_0.5_RealityMining_'+subset_dates[j]+'-featureValues.csv', header = -1)\n",
    "            x_test = pd.read_csv('../refex-rolx-master-3/RM-data/out_union_0.5_RealityMining_'+subset_dates[j+1]+'-featureValues.csv', header = -1)\n",
    "        if iter_type == 100:\n",
    "            x_train = pd.read_csv('../refex-rolx-master/RM-data/out_union_0.5_RealityMining_'+subset_dates[j]+'-featureValues.csv', header = -1)\n",
    "            x_test = pd.read_csv('../refex-rolx-master/RM-data/out_union_0.5_RealityMining_'+subset_dates[j+1]+'-featureValues.csv', header = -1)\n",
    " \n",
    "\n",
    "\n",
    "        \n",
    "        ##\n",
    "        ## Baseline Classifier -- based on relative training proportions\n",
    "        ## \n",
    "        \n",
    "        df_train = pd.DataFrame({'id':np.array(map(np.int,x_train[0]))})\n",
    "        df_test = pd.DataFrame({'id':np.array(map(np.int,x_test[0]))})\n",
    "\n",
    "        y_train = df_train.merge(y[['id','y']],\n",
    "                how = 'left',\n",
    "                on = 'id')\n",
    "\n",
    "        y_test = df_test.merge(y[['id','y']],\n",
    "            how = 'left',\n",
    "            on = 'id')\n",
    "\n",
    "        num1 = np.sum(y_train.y==1)\n",
    "        num0 = np.sum(y_train.y==0)\n",
    "        if num1 > num0:\n",
    "            label = 1\n",
    "        else:\n",
    "            label = 0\n",
    "\n",
    "\n",
    "        y_predict = np.repeat(label,len(y_test))\n",
    "        y_true = np.array(y_test.y)\n",
    "\n",
    "        acc_generic.append(np.mean(y_true == y_predict))\n",
    "        \n",
    "        \n",
    "        auc_generic.append(metrics.roc_auc_score(label_binarize(y_true,np.unique(y_true)),\n",
    "                                                                            y_predict,average='weighted'))\n",
    "\n",
    "        ## 1st column is an IDs column -- we drop\n",
    "        x_train = x_train.loc[:,1::]\n",
    "        x_test = x_test.loc[:,1::]\n",
    "        \n",
    "        \n",
    "        ## next we need to align columns -- want intersection set of columns that are in both training and test months\n",
    "        if iter_type == 100:\n",
    "            x_train_names = pd.read_csv('../refex-rolx-master/RM-data/union_unique_featureNames.csv')\n",
    "            x_test_names = pd.read_csv('../refex-rolx-master/RM-data/union_unique_featureNames.csv')\n",
    "\n",
    "        if iter_type == 1 or iter_type == 2 or iter_type ==3:\n",
    "            x_train_names = pd.read_csv('../refex-rolx-master-'+str(iter_type) +'/RM-data/union_unique_featureNames.csv')\n",
    "            x_test_names = pd.read_csv('../refex-rolx-master-'+str(iter_type) +'/RM-data/union_unique_featureNames.csv')\n",
    "\n",
    "\n",
    "        \n",
    "        scaler.fit(x_train)\n",
    "        x_train = scaler.transform(x_train)\n",
    "\n",
    "        scaler.fit(x_test)\n",
    "        x_test = scaler.transform(x_test)\n",
    "        \n",
    "        \n",
    "        x_train_m = pd.DataFrame(np.matrix(x_train))\n",
    "        x_test_m = pd.DataFrame(np.matrix(x_test))\n",
    "        x_train_m.columns = np.array(x_train_names.columns)\n",
    "        x_test_m.columns = np.array(x_test_names.columns)\n",
    "\n",
    "        arg_sort_idx = np.array(x_train_m.columns).argsort()\n",
    "        x_train_m = x_train_m.iloc[:,arg_sort_idx]\n",
    "        x_test_m = x_test_m.iloc[:,arg_sort_idx]\n",
    "        num_features = np.shape(x_train_m)[1]\n",
    "\n",
    "        C_vals = [10**x for x in range(-10,100)]\n",
    "        model = linear_model.LogisticRegressionCV(\n",
    "                                   Cs = C_vals,\n",
    "                                   penalty='l2',\n",
    "                                    solver='lbfgs',\n",
    "                                   cv = 5, max_iter = 5000)\n",
    "\n",
    "\n",
    "        model.fit(x_train_m,\n",
    "              y_train.y)\n",
    "\n",
    "        y_predict_refex = model.predict(x_test_m)\n",
    "        acc_generic_refex_predict.append(np.mean(y_true == y_predict_refex))\n",
    "\n",
    "        y_predict_refex = model.predict_proba(x_test_m)[:,1]\n",
    "        #print model.predict_proba(x_test_m)[:,1]\n",
    "        #print ''\n",
    "        auc_generic_refex_predict.append(metrics.roc_auc_score(label_binarize(y_true,np.unique(y_true)),\n",
    "                                                                            y_predict_refex,average='weighted'))\n",
    "\n",
    "\n",
    "    df_results['iter_type_'+str(iter_type)] = acc_generic_refex_predict\n",
    "    df_results['iter_type_auc_'+str(iter_type)] = auc_generic_refex_predict\n",
    "\n",
    "\n"
   ]
  },
  {
   "cell_type": "code",
   "execution_count": 7,
   "metadata": {},
   "outputs": [],
   "source": [
    "x_labels = np.array(['Jul-04',\n",
    "                        'Aug-04',\n",
    "                        'Sep-04',\n",
    "                        'Oct-04',\n",
    "                        'Nov-04',\n",
    "                        'Dec-04',\n",
    "                        'Jan-05',\n",
    "                        'Feb-05',\n",
    "                        'Mar-05',\n",
    "                        'Apr-05',\n",
    "                        'May-05',\n",
    "                        'June-05'])"
   ]
  },
  {
   "cell_type": "code",
   "execution_count": null,
   "metadata": {},
   "outputs": [],
   "source": []
  },
  {
   "cell_type": "code",
   "execution_count": null,
   "metadata": {},
   "outputs": [],
   "source": []
  },
  {
   "cell_type": "markdown",
   "metadata": {},
   "source": [
    "## Add in LINK results"
   ]
  },
  {
   "cell_type": "code",
   "execution_count": 8,
   "metadata": {},
   "outputs": [
    {
     "data": {
      "text/html": [
       "<div>\n",
       "<style>\n",
       "    .dataframe thead tr:only-child th {\n",
       "        text-align: right;\n",
       "    }\n",
       "\n",
       "    .dataframe thead th {\n",
       "        text-align: left;\n",
       "    }\n",
       "\n",
       "    .dataframe tbody tr th {\n",
       "        vertical-align: top;\n",
       "    }\n",
       "</style>\n",
       "<table border=\"1\" class=\"dataframe\">\n",
       "  <thead>\n",
       "    <tr style=\"text-align: right;\">\n",
       "      <th></th>\n",
       "      <th>2.0</th>\n",
       "      <th>3.0</th>\n",
       "      <th>4.0</th>\n",
       "      <th>5.0</th>\n",
       "      <th>6.0</th>\n",
       "      <th>7.0</th>\n",
       "      <th>8.0</th>\n",
       "      <th>9.0</th>\n",
       "      <th>10.0</th>\n",
       "      <th>11.0</th>\n",
       "      <th>...</th>\n",
       "      <th>95.0</th>\n",
       "      <th>96.0</th>\n",
       "      <th>97.0</th>\n",
       "      <th>98.0</th>\n",
       "      <th>99.0</th>\n",
       "      <th>100.0</th>\n",
       "      <th>101.0</th>\n",
       "      <th>102.0</th>\n",
       "      <th>103.0</th>\n",
       "      <th>105.0</th>\n",
       "    </tr>\n",
       "  </thead>\n",
       "  <tbody>\n",
       "    <tr>\n",
       "      <th>2.0</th>\n",
       "      <td>0</td>\n",
       "      <td>1</td>\n",
       "      <td>1</td>\n",
       "      <td>1</td>\n",
       "      <td>1</td>\n",
       "      <td>1</td>\n",
       "      <td>1</td>\n",
       "      <td>1</td>\n",
       "      <td>1</td>\n",
       "      <td>1</td>\n",
       "      <td>...</td>\n",
       "      <td>1</td>\n",
       "      <td>0</td>\n",
       "      <td>0</td>\n",
       "      <td>1</td>\n",
       "      <td>1</td>\n",
       "      <td>1</td>\n",
       "      <td>1</td>\n",
       "      <td>1</td>\n",
       "      <td>1</td>\n",
       "      <td>1</td>\n",
       "    </tr>\n",
       "    <tr>\n",
       "      <th>3.0</th>\n",
       "      <td>1</td>\n",
       "      <td>0</td>\n",
       "      <td>1</td>\n",
       "      <td>1</td>\n",
       "      <td>1</td>\n",
       "      <td>1</td>\n",
       "      <td>1</td>\n",
       "      <td>1</td>\n",
       "      <td>1</td>\n",
       "      <td>1</td>\n",
       "      <td>...</td>\n",
       "      <td>1</td>\n",
       "      <td>1</td>\n",
       "      <td>1</td>\n",
       "      <td>1</td>\n",
       "      <td>1</td>\n",
       "      <td>1</td>\n",
       "      <td>1</td>\n",
       "      <td>1</td>\n",
       "      <td>1</td>\n",
       "      <td>1</td>\n",
       "    </tr>\n",
       "    <tr>\n",
       "      <th>4.0</th>\n",
       "      <td>1</td>\n",
       "      <td>1</td>\n",
       "      <td>0</td>\n",
       "      <td>1</td>\n",
       "      <td>1</td>\n",
       "      <td>1</td>\n",
       "      <td>1</td>\n",
       "      <td>1</td>\n",
       "      <td>1</td>\n",
       "      <td>1</td>\n",
       "      <td>...</td>\n",
       "      <td>1</td>\n",
       "      <td>1</td>\n",
       "      <td>0</td>\n",
       "      <td>1</td>\n",
       "      <td>1</td>\n",
       "      <td>1</td>\n",
       "      <td>1</td>\n",
       "      <td>1</td>\n",
       "      <td>1</td>\n",
       "      <td>1</td>\n",
       "    </tr>\n",
       "    <tr>\n",
       "      <th>5.0</th>\n",
       "      <td>1</td>\n",
       "      <td>1</td>\n",
       "      <td>1</td>\n",
       "      <td>0</td>\n",
       "      <td>1</td>\n",
       "      <td>1</td>\n",
       "      <td>1</td>\n",
       "      <td>1</td>\n",
       "      <td>1</td>\n",
       "      <td>1</td>\n",
       "      <td>...</td>\n",
       "      <td>1</td>\n",
       "      <td>1</td>\n",
       "      <td>0</td>\n",
       "      <td>1</td>\n",
       "      <td>1</td>\n",
       "      <td>1</td>\n",
       "      <td>1</td>\n",
       "      <td>1</td>\n",
       "      <td>1</td>\n",
       "      <td>1</td>\n",
       "    </tr>\n",
       "    <tr>\n",
       "      <th>6.0</th>\n",
       "      <td>1</td>\n",
       "      <td>1</td>\n",
       "      <td>1</td>\n",
       "      <td>1</td>\n",
       "      <td>0</td>\n",
       "      <td>1</td>\n",
       "      <td>1</td>\n",
       "      <td>1</td>\n",
       "      <td>1</td>\n",
       "      <td>1</td>\n",
       "      <td>...</td>\n",
       "      <td>1</td>\n",
       "      <td>1</td>\n",
       "      <td>0</td>\n",
       "      <td>1</td>\n",
       "      <td>1</td>\n",
       "      <td>1</td>\n",
       "      <td>1</td>\n",
       "      <td>1</td>\n",
       "      <td>1</td>\n",
       "      <td>1</td>\n",
       "    </tr>\n",
       "  </tbody>\n",
       "</table>\n",
       "<p>5 rows × 93 columns</p>\n",
       "</div>"
      ],
      "text/plain": [
       "     2.0    3.0    4.0    5.0    6.0    7.0    8.0    9.0    10.0   11.0   \\\n",
       "2.0      0      1      1      1      1      1      1      1      1      1   \n",
       "3.0      1      0      1      1      1      1      1      1      1      1   \n",
       "4.0      1      1      0      1      1      1      1      1      1      1   \n",
       "5.0      1      1      1      0      1      1      1      1      1      1   \n",
       "6.0      1      1      1      1      0      1      1      1      1      1   \n",
       "\n",
       "     ...    95.0   96.0   97.0   98.0   99.0   100.0  101.0  102.0  103.0  \\\n",
       "2.0  ...        1      0      0      1      1      1      1      1      1   \n",
       "3.0  ...        1      1      1      1      1      1      1      1      1   \n",
       "4.0  ...        1      1      0      1      1      1      1      1      1   \n",
       "5.0  ...        1      1      0      1      1      1      1      1      1   \n",
       "6.0  ...        1      1      0      1      1      1      1      1      1   \n",
       "\n",
       "     105.0  \n",
       "2.0      1  \n",
       "3.0      1  \n",
       "4.0      1  \n",
       "5.0      1  \n",
       "6.0      1  \n",
       "\n",
       "[5 rows x 93 columns]"
      ]
     },
     "execution_count": 8,
     "metadata": {},
     "output_type": "execute_result"
    }
   ],
   "source": [
    "edges_setup = pd.read_csv('../../data/RealityMining/convert_bluetooth_nw/by_month/all_months_years.csv', header = -1)\n",
    "df = pd.crosstab(edges_setup[0], edges_setup[1])\n",
    "idx = df.columns.union(df.index)\n",
    "df = df.reindex(index = idx, columns=idx, fill_value=0)\n",
    "df.head()"
   ]
  },
  {
   "cell_type": "code",
   "execution_count": 9,
   "metadata": {},
   "outputs": [],
   "source": [
    "edges_setup.columns = ['source','target','link']\n"
   ]
  },
  {
   "cell_type": "code",
   "execution_count": 10,
   "metadata": {},
   "outputs": [
    {
     "name": "stdout",
     "output_type": "stream",
     "text": [
      "93\n"
     ]
    }
   ],
   "source": [
    "G = nx.from_pandas_edgelist(edges_setup,source='source', target='target',\n",
    "                           create_using = nx.Graph())\n",
    "\n",
    "\n",
    "adj_LINK = nx.adjacency_matrix(G, nodelist = G.nodes()).todense()\n",
    "tmp = pd.DataFrame(np.array(G.nodes())) # note ordering of adjacency matrix is produced by G.nodes()\n",
    "tmp.columns = ['keys']\n",
    "print(len(tmp))\n",
    "\n",
    "y_train_y = pd.read_csv('../../data/RealityMining/convert_bluetooth_nw/by_month/labels.csv')\n",
    "y_train_y.columns = ['keys','gender_y']\n",
    "\n",
    "tmp = tmp.merge(y_train_y[['keys','gender_y']],\n",
    "        how = 'left',\n",
    "        on = 'keys')\n"
   ]
  },
  {
   "cell_type": "code",
   "execution_count": 11,
   "metadata": {},
   "outputs": [],
   "source": [
    "total_keys = np.unique(tmp['keys'])"
   ]
  },
  {
   "cell_type": "code",
   "execution_count": 12,
   "metadata": {},
   "outputs": [
    {
     "name": "stdout",
     "output_type": "stream",
     "text": [
      "30\n"
     ]
    }
   ],
   "source": [
    "## TRAIN\n",
    "edges_setup = pd.read_csv('../../data/RealityMining/convert_bluetooth_nw/by_month/7_2004.csv', header = -1)\n",
    "df = pd.crosstab(edges_setup[0], edges_setup[1])\n",
    "idx = df.columns.union(df.index)\n",
    "df = df.reindex(index = idx, columns=idx, fill_value=0)\n",
    "df.head()\n",
    "edges_setup.columns = ['source','target','link']\n",
    "G = nx.from_pandas_edgelist(edges_setup,source='source', target='target',\n",
    "                           create_using = nx.Graph())\n",
    "\n",
    "\n",
    "adj_LINK = nx.adjacency_matrix(G, nodelist = G.nodes()).todense()\n",
    "tmp = pd.DataFrame(np.array(G.nodes())) # note ordering of adjacency matrix is produced by G.nodes()\n",
    "tmp.columns = ['keys']\n",
    "print(len(tmp))\n",
    "\n",
    "y_train_y = pd.read_csv('../../data/RealityMining/convert_bluetooth_nw/by_month/labels.csv')\n",
    "if class_type =='sloan':\n",
    "    y_train_y['gender_y']=((y_train_y.affil_clean=='sloan') | (y_train_y.affil_clean=='sloan_2'))+0\n",
    "\n",
    "\n",
    "y_train_y.columns = ['keys','affil_clean','gender_y']\n",
    "\n",
    "tmp = tmp.merge(y_train_y[['keys','gender_y']],\n",
    "        how = 'left',\n",
    "        on = 'keys')\n"
   ]
  },
  {
   "cell_type": "code",
   "execution_count": null,
   "metadata": {},
   "outputs": [],
   "source": []
  },
  {
   "cell_type": "code",
   "execution_count": 13,
   "metadata": {},
   "outputs": [
    {
     "name": "stdout",
     "output_type": "stream",
     "text": [
      "45\n",
      "   keys\n",
      "0   2.0\n",
      "1   3.0\n",
      "2   4.0\n",
      "3   5.0\n",
      "4   6.0\n"
     ]
    }
   ],
   "source": [
    "edges_calls = pd.read_csv('../../data/RealityMining/convert_bluetooth_nw/by_month/8_2004.csv',\n",
    "                   header = None)\n",
    "\n",
    "df_calls = pd.crosstab(edges_calls[0], edges_calls[1])\n",
    "idx = df_calls.columns.union(df_calls.index)\n",
    "df_calls = df_calls.reindex(index = idx, columns=idx, fill_value=0)\n",
    "\n",
    "\n",
    "edges_calls.columns = ['source','target','link']\n",
    "G = nx.from_pandas_edgelist(edges_calls,source='source', target='target')\n",
    "\n",
    "\n",
    "adj_LINK_calls = nx.adjacency_matrix(G).todense()\n",
    "tmp_calls = pd.DataFrame(np.array(G.nodes())) # note ordering of adjacency matrix is produced by G.nodes()\n",
    "tmp_calls.columns = ['keys']\n",
    "print(len(tmp_calls))\n",
    "print(tmp_calls.head())\n",
    "tmp_calls = tmp_calls.merge(y_train_y[['keys','gender_y']],\n",
    "        how = 'left',\n",
    "        on = 'keys')\n"
   ]
  },
  {
   "cell_type": "code",
   "execution_count": 14,
   "metadata": {},
   "outputs": [],
   "source": [
    "add_null = total_keys[~np.in1d(total_keys,np.array(tmp['keys']))]\n",
    "adj_LINK_total = np.concatenate((adj_LINK, np.zeros((len(tmp['keys']), len(add_null)))),\n",
    "               axis = 1)\n",
    "\n",
    "idx_col = np.argsort(np.concatenate((np.array(tmp['keys']), add_null)))\n",
    "adj_LINK_total = adj_LINK_total[:,idx_col]"
   ]
  },
  {
   "cell_type": "code",
   "execution_count": null,
   "metadata": {},
   "outputs": [],
   "source": []
  },
  {
   "cell_type": "code",
   "execution_count": 15,
   "metadata": {},
   "outputs": [],
   "source": [
    "add_null = total_keys[~np.in1d(total_keys,np.array(tmp_calls['keys']))]\n",
    "\n",
    "\n",
    "adj_LINK_calls_total = np.concatenate((adj_LINK_calls, np.zeros((len(tmp_calls['keys']), len(add_null)))),\n",
    "               axis = 1)"
   ]
  },
  {
   "cell_type": "code",
   "execution_count": 16,
   "metadata": {},
   "outputs": [],
   "source": [
    "idx_col = np.argsort(np.concatenate((np.array(tmp_calls['keys']), add_null)))\n",
    "\n",
    "adj_LINK_calls_total = adj_LINK_calls_total[:,idx_col]"
   ]
  },
  {
   "cell_type": "code",
   "execution_count": 17,
   "metadata": {},
   "outputs": [
    {
     "name": "stdout",
     "output_type": "stream",
     "text": [
      "('auc: ', 0.9590336134453782)\n"
     ]
    }
   ],
   "source": [
    "C_vals = [10**x for x in range(-10,100)]\n",
    "model = linear_model.LogisticRegressionCV(\n",
    "                                   Cs = C_vals,\n",
    "                                   penalty='l2',\n",
    "                                    solver='lbfgs',\n",
    "                                   cv = 5, max_iter = 5000)\n",
    "\n",
    "model.fit(adj_LINK_total,\n",
    "              tmp.gender_y)\n",
    "\n",
    "\n",
    "y_predict_refex = model.predict_proba(adj_LINK_calls_total)[:,1]\n",
    "print('auc: ',metrics.roc_auc_score(label_binarize(tmp_calls.gender_y,np.unique(tmp_calls.gender_y)),\n",
    "                                 y_predict_refex,average='weighted'))\n",
    "\n"
   ]
  },
  {
   "cell_type": "markdown",
   "metadata": {},
   "source": [
    "## Iterate through"
   ]
  },
  {
   "cell_type": "code",
   "execution_count": 18,
   "metadata": {},
   "outputs": [
    {
     "name": "stdout",
     "output_type": "stream",
     "text": [
      "8_2004.csv\n",
      "30\n",
      "('auc: ', 0.9590336134453782)\n",
      "9_2004.csv\n",
      "45\n",
      "('auc: ', 0.9285714285714286)\n",
      "10_2004.csv\n",
      "89\n",
      "('auc: ', 0.9985261606484893)\n",
      "11_2004.csv\n",
      "82\n",
      "('auc: ', 1.0)\n",
      "12_2004.csv\n",
      "89\n",
      "('auc: ', 0.9993846153846154)\n",
      "1_2005.csv\n",
      "90\n",
      "('auc: ', 0.9986622073578596)\n",
      "2_2005.csv\n",
      "88\n",
      "('auc: ', 1.0)\n",
      "3_2005.csv\n",
      "81\n",
      "('auc: ', 0.9975369458128078)\n",
      "4_2005.csv\n",
      "79\n",
      "('auc: ', 0.9941520467836257)\n",
      "5_2005.csv\n",
      "73\n",
      "('auc: ', 0.9925925925925926)\n",
      "6_2005.csv\n",
      "63\n",
      "('auc: ', 1.0)\n"
     ]
    }
   ],
   "source": [
    "auc_link = []\n",
    "for j in range(len(subset_dates)-1):\n",
    "    print(subset_dates[j+1])\n",
    "    \n",
    "  ## TRAIN\n",
    "    edges_setup = pd.read_csv('../../data/RealityMining/convert_bluetooth_nw/by_month/'+subset_dates[j], header = -1)\n",
    "    df = pd.crosstab(edges_setup[0], edges_setup[1])\n",
    "    idx = df.columns.union(df.index)\n",
    "    df = df.reindex(index = idx, columns=idx, fill_value=0)\n",
    "    edges_setup.columns = ['source','target','link']\n",
    "    G = nx.from_pandas_edgelist(edges_setup,source='source', target='target',\n",
    "                               create_using = nx.Graph())\n",
    "\n",
    "\n",
    "    adj_LINK = nx.adjacency_matrix(G, nodelist = G.nodes()).todense()\n",
    "    tmp = pd.DataFrame(np.array(G.nodes())) # note ordering of adjacency matrix is produced by G.nodes()\n",
    "    tmp.columns = ['keys']\n",
    "    print(len(tmp))\n",
    "\n",
    "    y_train_y = pd.read_csv('../../data/RealityMining/convert_bluetooth_nw/by_month/labels.csv')\n",
    "    if class_type =='sloan':\n",
    "        y_train_y['gender_y']=((y_train_y.affil_clean=='sloan') | (y_train_y.affil_clean=='sloan_2'))+0\n",
    "\n",
    "\n",
    "    y_train_y.columns = ['keys','affil_clean','gender_y']\n",
    "\n",
    "    tmp = tmp.merge(y_train_y[['keys','gender_y']],\n",
    "            how = 'left',\n",
    "            on = 'keys')\n",
    "    \n",
    "    #Test\n",
    "    edges_calls = pd.read_csv('../../data/RealityMining/convert_bluetooth_nw/by_month/'+subset_dates[j+1],\n",
    "                   header = None)\n",
    "\n",
    "    df_calls = pd.crosstab(edges_calls[0], edges_calls[1])\n",
    "    idx = df_calls.columns.union(df_calls.index)\n",
    "    df_calls = df_calls.reindex(index = idx, columns=idx, fill_value=0)\n",
    "\n",
    "\n",
    "    edges_calls.columns = ['source','target','link']\n",
    "    G = nx.from_pandas_edgelist(edges_calls,source='source', target='target')\n",
    "\n",
    "\n",
    "    adj_LINK_calls = nx.adjacency_matrix(G).todense()\n",
    "    tmp_calls = pd.DataFrame(np.array(G.nodes())) # note ordering of adjacency matrix is produced by G.nodes()\n",
    "    tmp_calls.columns = ['keys']\n",
    "\n",
    "    tmp_calls = tmp_calls.merge(y_train_y[['keys','gender_y']],\n",
    "            how = 'left',\n",
    "            on = 'keys')\n",
    "    add_null = total_keys[~np.in1d(total_keys,np.array(tmp['keys']))]\n",
    "    adj_LINK_total = np.concatenate((adj_LINK, np.zeros((len(tmp['keys']), len(add_null)))),\n",
    "                   axis = 1)\n",
    "\n",
    "    idx_col = np.argsort(np.concatenate((np.array(tmp['keys']), add_null)))\n",
    "    adj_LINK_total = adj_LINK_total[:,idx_col]\n",
    "    \n",
    "    add_null = total_keys[~np.in1d(total_keys,np.array(tmp_calls['keys']))]\n",
    "\n",
    "\n",
    "    adj_LINK_calls_total = np.concatenate((adj_LINK_calls, np.zeros((len(tmp_calls['keys']), len(add_null)))),\n",
    "               axis = 1)\n",
    "    \n",
    "    idx_col = np.argsort(np.concatenate((np.array(tmp_calls['keys']), add_null)))\n",
    "\n",
    "    adj_LINK_calls_total = adj_LINK_calls_total[:,idx_col]\n",
    "    \n",
    "    C_vals = [10**x for x in range(-10,100)]\n",
    "    model = linear_model.LogisticRegressionCV(\n",
    "                                       Cs = C_vals,\n",
    "                                       penalty='l2',\n",
    "                                        solver='lbfgs',\n",
    "                                       cv = 5, max_iter = 5000)\n",
    "\n",
    "    model.fit(adj_LINK_total,\n",
    "                  tmp.gender_y)\n",
    "\n",
    "\n",
    "    y_predict_refex = model.predict_proba(adj_LINK_calls_total)[:,1]\n",
    "    print('auc: ',metrics.roc_auc_score(label_binarize(tmp_calls.gender_y,np.unique(tmp_calls.gender_y)),\n",
    "                                     y_predict_refex,average='weighted'))\n",
    "\n",
    "    auc_link.append(metrics.roc_auc_score(label_binarize(tmp_calls.gender_y,np.unique(tmp_calls.gender_y)),\n",
    "                                     y_predict_refex,average='weighted'))"
   ]
  },
  {
   "cell_type": "code",
   "execution_count": null,
   "metadata": {},
   "outputs": [],
   "source": []
  },
  {
   "cell_type": "code",
   "execution_count": null,
   "metadata": {},
   "outputs": [],
   "source": []
  },
  {
   "cell_type": "code",
   "execution_count": null,
   "metadata": {},
   "outputs": [],
   "source": []
  },
  {
   "cell_type": "code",
   "execution_count": null,
   "metadata": {},
   "outputs": [],
   "source": []
  },
  {
   "cell_type": "code",
   "execution_count": 21,
   "metadata": {},
   "outputs": [
    {
     "data": {
      "text/plain": [
       "array(['Jul-04', 'Aug-04', 'Sep-04', 'Oct-04', 'Nov-04', 'Dec-04',\n",
       "       'Jan-05', 'Feb-05', 'Mar-05', 'Apr-05', 'May-05', 'June-05'],\n",
       "      dtype='|S7')"
      ]
     },
     "execution_count": 21,
     "metadata": {},
     "output_type": "execute_result"
    }
   ],
   "source": [
    "x_labels"
   ]
  },
  {
   "cell_type": "code",
   "execution_count": 19,
   "metadata": {},
   "outputs": [
    {
     "data": {
      "image/png": "[encoded data removed]",
      "text/plain": [
       "<Figure size 288x216 with 1 Axes>"
      ]
     },
     "metadata": {
      "needs_background": "light"
     },
     "output_type": "display_data"
    }
   ],
   "source": [
    "from matplotlib.backends.backend_pdf import PdfPages\n",
    "\n",
    "alpha_empirical = 0.4\n",
    "\n",
    "%matplotlib inline\n",
    "nbins = 45\n",
    "f, (ax1) = plt.subplots(1, 1, \n",
    "                             sharey=False, sharex=False,\n",
    "                            figsize=(4,3))\n",
    "plt.setp(ax1, xticks=[ 0. ,  1.5,  3. ,  4.5,  6. ,  7.5,  9. , 10.5, 12. , 13.5, 15. ], \n",
    "         xticklabels=x_labels)\n",
    "plt.setp(ax1.get_xticklabels(), rotation=90,\n",
    "        size =13)\n",
    "\n",
    "#ax1.set_xticks([0,0.25, 0.5, 0.75, 1])\n",
    "ax1.minorticks_on()\n",
    "ax1.tick_params('both', length=4, width=1, which='major', left=1, bottom=1, top=0, right=0, labelsize = 11)\n",
    "plt.axhline(0.5, color='gray', linestyle='--', alpha = 0.5)\n",
    "\n",
    "\n",
    "w = 1.5\n",
    "width = 0.2\n",
    "#ax1.bar(np.array(range(len(acc_generic)))*w+0.4,auc_generic, color = 'red', #alpha = 0.5,\n",
    "#        #align = 'right',\n",
    "#       width = width, edgecolor = 'white')\n",
    "#\n",
    "ax1.bar(np.array(range(len(df_results)))*w-0.4,df_results.iter_type_auc_1, color = 'deepskyblue',# alpha = 0.5,\n",
    "       # align = 'center',\n",
    "       width = width, edgecolor = 'white')\n",
    "ax1.bar(np.array(range(len(df_results)))*w-0.2,df_results.iter_type_auc_2, color = 'blue', #alpha = 0.5,\n",
    "       # align = 'center',\n",
    "       width = width, edgecolor = 'white')\n",
    "ax1.bar(np.array(range(len(df_results)))*w-0,df_results.iter_type_auc_3, color = 'darkblue', #alpha = 0.5,\n",
    "       # align = 'center',\n",
    "       width = width, edgecolor = 'white')\n",
    "ax1.bar(np.array(range(len(df_results)))*w+0.2,df_results.iter_type_auc_100, color = 'black', #alpha = 0.5,\n",
    "       # align = 'center',\n",
    "       width = width, edgecolor = 'white')\n",
    "ax1.bar(np.array(range(len(auc_link)))*w+0.4,auc_link, color = 'gray', #alpha = 0.5,\n",
    "       # align = 'center',\n",
    "       width = width, edgecolor = 'white')\n",
    "\n",
    "ax1.set_ylabel('AUC', size = 13)\n",
    "\n",
    "ax1.set_xlim(-1.5,np.max(np.array(range(len(acc_generic)))*w)+1.5)\n",
    "ax1.set_ylim(0,1.02)\n",
    "plt.yticks(np.arange(0,1.02,0.1), size = 13)\n",
    "ax1.spines[\"right\"].set_visible(False)\n",
    "ax1.spines[\"top\"].set_visible(False)\n",
    "ax1.set_xlim(-1,16)\n",
    "\n",
    "\n",
    "if class_type == 'sloan':\n",
    "    plt.title('Sloan (RealityMining)', size = 13)\n",
    "\n",
    "plt.axhline(0.5, color='gray', linestyle='--', alpha = 0.5)\n",
    "\n",
    "plt.tight_layout()\n",
    "\n",
    "\n",
    "#if class_type == 'sloan':\n",
    "#    if undersample:\n",
    "#        pp = PdfPages('../../figs/NEWsloan_refex_AUC_undersample_simods.pdf')\n",
    "#    else:\n",
    "#        pp = PdfPages('../../figs/NEWsloan_refex_AUC_final_simods.pdf')\n",
    "#pp.savefig()\n",
    "#pp.close()"
   ]
  },
  {
   "cell_type": "code",
   "execution_count": 27,
   "metadata": {},
   "outputs": [
    {
     "data": {
      "text/plain": [
       "array(['Jul-04', 'Aug-04', 'Sep-04', 'Oct-04', 'Nov-04', 'Dec-04',\n",
       "       'Jan-05', 'Feb-05', 'Mar-05', 'Apr-05', 'May-05'], dtype='|S7')"
      ]
     },
     "execution_count": 27,
     "metadata": {},
     "output_type": "execute_result"
    }
   ],
   "source": [
    "x_labels[0:11]"
   ]
  },
  {
   "cell_type": "code",
   "execution_count": 28,
   "metadata": {},
   "outputs": [],
   "source": [
    "df_results = pd.DataFrame({'test': x_labels[0:11],\n",
    "                           'refex-1': df_results.iter_type_auc_1,\n",
    "                           'refex-2': df_results.iter_type_auc_2,\n",
    "                           'refex-3': df_results.iter_type_auc_3,\n",
    "                           'refex-max': df_results.iter_type_auc_100,\n",
    "                           'auc_LINK': auc_link,\n",
    "                            })\n",
    "df_results.to_csv('NEWRMAcrossResultsICWSMRevision.csv',sep=',', index = False)"
   ]
  },
  {
   "cell_type": "code",
   "execution_count": null,
   "metadata": {},
   "outputs": [],
   "source": []
  },
  {
   "cell_type": "code",
   "execution_count": null,
   "metadata": {},
   "outputs": [],
   "source": []
  },
  {
   "cell_type": "code",
   "execution_count": null,
   "metadata": {},
   "outputs": [],
   "source": []
  },
  {
   "cell_type": "code",
   "execution_count": null,
   "metadata": {},
   "outputs": [],
   "source": []
  },
  {
   "cell_type": "code",
   "execution_count": null,
   "metadata": {},
   "outputs": [],
   "source": []
  },
  {
   "cell_type": "code",
   "execution_count": null,
   "metadata": {},
   "outputs": [],
   "source": []
  },
  {
   "cell_type": "code",
   "execution_count": null,
   "metadata": {},
   "outputs": [],
   "source": []
  },
  {
   "cell_type": "code",
   "execution_count": null,
   "metadata": {},
   "outputs": [],
   "source": []
  },
  {
   "cell_type": "markdown",
   "metadata": {},
   "source": [
    "### Accuracy"
   ]
  },
  {
   "cell_type": "code",
   "execution_count": 14,
   "metadata": {},
   "outputs": [
    {
     "data": {
      "image/png": "[encoded data removed]",
      "text/plain": [
       "<Figure size 360x288 with 1 Axes>"
      ]
     },
     "metadata": {
      "needs_background": "light"
     },
     "output_type": "display_data"
    },
    {
     "name": "stdout",
     "output_type": "stream",
     "text": [
      "sloan\n",
      "undersample:  False\n"
     ]
    }
   ],
   "source": [
    "from matplotlib.backends.backend_pdf import PdfPages\n",
    "\n",
    "alpha_empirical = 0.4\n",
    "\n",
    "%matplotlib inline\n",
    "nbins = 45\n",
    "f, (ax1) = plt.subplots(1, 1, \n",
    "                             sharey=False, sharex=False,\n",
    "                            figsize=(5, 4))\n",
    "plt.setp(ax1, xticks=[ 0. ,  1.5,  3. ,  4.5,  6. ,  7.5,  9. , 10.5, 12. , 13.5, 15. ], \n",
    "         xticklabels=x_labels)\n",
    "plt.setp(ax1.get_xticklabels(), rotation=90)\n",
    "\n",
    "#ax1.set_xticks([0,0.25, 0.5, 0.75, 1])\n",
    "ax1.minorticks_on()\n",
    "ax1.tick_params('both', length=4, width=1, which='major', left=1, bottom=1, top=0, right=0)\n",
    "\n",
    "w = 1.5\n",
    "width = 0.15\n",
    "#ax1.bar(np.array(range(len(acc_generic)))*w+0.4,acc_generic, color = 'red', #alpha = 0.5,\n",
    "#        #align = 'right',\n",
    "#       width = width, edgecolor = 'white')\n",
    "\n",
    "ax1.bar(np.array(range(len(df_results)))*w-0.4,df_results.iter_type_1, color = 'deepskyblue',# alpha = 0.5,\n",
    "       # align = 'center',\n",
    "       width = width, edgecolor = 'white')\n",
    "ax1.bar(np.array(range(len(df_results)))*w-0.2,df_results.iter_type_2, color = 'blue', #alpha = 0.5,\n",
    "       # align = 'center',\n",
    "       width = width, edgecolor = 'white')\n",
    "ax1.bar(np.array(range(len(df_results)))*w-0,df_results.iter_type_3, color = 'darkblue', #alpha = 0.5,\n",
    "       # align = 'center',\n",
    "       width = width, edgecolor = 'white')\n",
    "ax1.bar(np.array(range(len(df_results)))*w+0.2,df_results.iter_type_100, color = 'black', #alpha = 0.5,\n",
    "       # align = 'center',\n",
    "       width = width, edgecolor = 'white')\n",
    "ax1.set_ylabel('Accuracy')\n",
    "ax1.set_xlim(-1,np.max(np.array(range(len(acc_generic)))*w)+1)\n",
    "ax1.set_ylim(0,1.05)\n",
    "plt.yticks(np.arange(0,1.1,0.1))\n",
    "ax1.spines[\"right\"].set_visible(False)\n",
    "ax1.spines[\"top\"].set_visible(False)\n",
    "ax1.set_xlim(-1,16)\n",
    "\n",
    "\n",
    "ax1.annotate('ReFeX 1x', xy=(-0.5,1.02), \n",
    "                 color='deepskyblue', alpha=1, size=10)\n",
    "ax1.annotate('ReFeX 2x', xy=(-0.5,1.02-0.04), \n",
    "                 color='blue', alpha=1, size=10)\n",
    "ax1.annotate('ReFeX 3x', xy=(-0.5,1.02-0.04*2), \n",
    "                 color='darkblue', alpha=1, size=10)\n",
    "ax1.annotate('ReFeX max', xy=(-0.5,1.02-0.04*3), \n",
    "                 color='black', alpha=1, size=10)\n",
    "#ax1.annotate('Baseline', xy=(2.5,1.02), \n",
    "#                 color='red', alpha=1, size=7)\n",
    "plt.tight_layout()\n",
    "plt.axhline(0.5, color='gray', linestyle='--', alpha = 0.5)\n",
    "\n",
    "\n",
    "plt.title('Reality Mining')\n",
    "plt.show()\n",
    "print class_type\n",
    "print 'undersample: ', undersample"
   ]
  },
  {
   "cell_type": "code",
   "execution_count": null,
   "metadata": {},
   "outputs": [],
   "source": []
  },
  {
   "cell_type": "markdown",
   "metadata": {},
   "source": [
    "# Within-Network "
   ]
  },
  {
   "cell_type": "markdown",
   "metadata": {},
   "source": [
    "See other notebook."
   ]
  }
 ],
 "metadata": {
  "kernelspec": {
   "display_name": "Python 2",
   "language": "python",
   "name": "python2"
  },
  "language_info": {
   "codemirror_mode": {
    "name": "ipython",
    "version": 2
   },
   "file_extension": ".py",
   "mimetype": "text/x-python",
   "name": "python",
   "nbconvert_exporter": "python",
   "pygments_lexer": "ipython2",
   "version": "2.7.15"
  }
 },
 "nbformat": 4,
 "nbformat_minor": 2
}
